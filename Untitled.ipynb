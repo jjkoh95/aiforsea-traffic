{
 "cells": [
  {
   "cell_type": "code",
   "execution_count": 1,
   "metadata": {},
   "outputs": [],
   "source": [
    "import numpy as np\n",
    "import pandas as pd\n",
    "import geohash\n",
    "import gc\n",
    "from geopy import distance\n",
    "from tqdm import tqdm_notebook as tqdm\n",
    "import time\n",
    "import matplotlib.pyplot as plt\n",
    "from IPython.display import clear_output\n",
    "from matplotlib.pyplot import figure\n"
   ]
  },
  {
   "cell_type": "code",
   "execution_count": 2,
   "metadata": {},
   "outputs": [],
   "source": [
    "df = pd.read_csv('data/formatted_data.csv')"
   ]
  },
  {
   "cell_type": "code",
   "execution_count": 3,
   "metadata": {},
   "outputs": [],
   "source": [
    "df['lat'] = df.geohash6.apply(lambda x: geohash.decode(x)[0])\n",
    "df['long'] = df.geohash6.apply(lambda x: geohash.decode(x)[1])"
   ]
  },
  {
   "cell_type": "code",
   "execution_count": 4,
   "metadata": {},
   "outputs": [
    {
     "data": {
      "text/html": [
       "<div>\n",
       "<style scoped>\n",
       "    .dataframe tbody tr th:only-of-type {\n",
       "        vertical-align: middle;\n",
       "    }\n",
       "\n",
       "    .dataframe tbody tr th {\n",
       "        vertical-align: top;\n",
       "    }\n",
       "\n",
       "    .dataframe thead th {\n",
       "        text-align: right;\n",
       "    }\n",
       "</style>\n",
       "<table border=\"1\" class=\"dataframe\">\n",
       "  <thead>\n",
       "    <tr style=\"text-align: right;\">\n",
       "      <th></th>\n",
       "      <th>order</th>\n",
       "      <th>geohash6</th>\n",
       "      <th>hour</th>\n",
       "      <th>demand</th>\n",
       "      <th>lat</th>\n",
       "      <th>long</th>\n",
       "    </tr>\n",
       "  </thead>\n",
       "  <tbody>\n",
       "    <tr>\n",
       "      <th>0</th>\n",
       "      <td>0</td>\n",
       "      <td>qp03wc</td>\n",
       "      <td>0</td>\n",
       "      <td>0.054858</td>\n",
       "      <td>-5.353088</td>\n",
       "      <td>90.653687</td>\n",
       "    </tr>\n",
       "    <tr>\n",
       "      <th>1</th>\n",
       "      <td>1</td>\n",
       "      <td>qp03wc</td>\n",
       "      <td>0</td>\n",
       "      <td>0.086209</td>\n",
       "      <td>-5.353088</td>\n",
       "      <td>90.653687</td>\n",
       "    </tr>\n",
       "    <tr>\n",
       "      <th>2</th>\n",
       "      <td>2</td>\n",
       "      <td>qp03wc</td>\n",
       "      <td>0</td>\n",
       "      <td>0.050739</td>\n",
       "      <td>-5.353088</td>\n",
       "      <td>90.653687</td>\n",
       "    </tr>\n",
       "    <tr>\n",
       "      <th>3</th>\n",
       "      <td>3</td>\n",
       "      <td>qp03wc</td>\n",
       "      <td>0</td>\n",
       "      <td>0.075174</td>\n",
       "      <td>-5.353088</td>\n",
       "      <td>90.653687</td>\n",
       "    </tr>\n",
       "    <tr>\n",
       "      <th>4</th>\n",
       "      <td>4</td>\n",
       "      <td>qp03wc</td>\n",
       "      <td>1</td>\n",
       "      <td>0.062867</td>\n",
       "      <td>-5.353088</td>\n",
       "      <td>90.653687</td>\n",
       "    </tr>\n",
       "  </tbody>\n",
       "</table>\n",
       "</div>"
      ],
      "text/plain": [
       "   order geohash6  hour    demand       lat       long\n",
       "0      0   qp03wc     0  0.054858 -5.353088  90.653687\n",
       "1      1   qp03wc     0  0.086209 -5.353088  90.653687\n",
       "2      2   qp03wc     0  0.050739 -5.353088  90.653687\n",
       "3      3   qp03wc     0  0.075174 -5.353088  90.653687\n",
       "4      4   qp03wc     1  0.062867 -5.353088  90.653687"
      ]
     },
     "execution_count": 4,
     "metadata": {},
     "output_type": "execute_result"
    }
   ],
   "source": [
    "df.head()"
   ]
  },
  {
   "cell_type": "code",
   "execution_count": 5,
   "metadata": {},
   "outputs": [
    {
     "data": {
      "text/plain": [
       "5856"
      ]
     },
     "execution_count": 5,
     "metadata": {},
     "output_type": "execute_result"
    }
   ],
   "source": [
    "len(df.order.unique())"
   ]
  },
  {
   "cell_type": "code",
   "execution_count": 23,
   "metadata": {},
   "outputs": [],
   "source": [
    "for order in range(11,12):\n",
    "    temp_df = df[df.order == order]\n",
    "    figure(num=None, figsize=(8, 6))\n",
    "    plt.scatter(temp_df.lat.values, temp_df.long.values, c=temp_df.demand.values)\n",
    "    plt.colorbar()\n",
    "    plt.savefig('./order/{0}.png'.format(order))\n",
    "#     plt.show()\n",
    "#     time.sleep(0.5)\n",
    "    clear_output()"
   ]
  },
  {
   "cell_type": "code",
   "execution_count": 15,
   "metadata": {},
   "outputs": [],
   "source": [
    "df['day'] = df.order.apply(lambda x: x//96)"
   ]
  },
  {
   "cell_type": "code",
   "execution_count": 16,
   "metadata": {},
   "outputs": [
    {
     "data": {
      "text/plain": [
       "(60, 0)"
      ]
     },
     "execution_count": 16,
     "metadata": {},
     "output_type": "execute_result"
    }
   ],
   "source": [
    "np.max(df.day.unique()), np.min(df.day.unique())"
   ]
  },
  {
   "cell_type": "code",
   "execution_count": 24,
   "metadata": {},
   "outputs": [],
   "source": [
    "# for d in range(61):\n",
    "#     temp_df = df[df.day == d]\n",
    "#     temp_df = temp_df.groupby('geohash6').mean()\n",
    "#     figure(num=None, figsize=(8, 6))\n",
    "#     plt.scatter(temp_df.lat.values, temp_df.long.values, c=temp_df.demand.values)\n",
    "#     plt.colorbar()\n",
    "#     plt.savefig('./day/{0}.png'.format(d))\n",
    "# #     plt.show()\n",
    "# #     time.sleep(0.5)"
   ]
  },
  {
   "cell_type": "code",
   "execution_count": 20,
   "metadata": {},
   "outputs": [],
   "source": [
    "df['time'] = df.order.apply(lambda x: x % 96)"
   ]
  },
  {
   "cell_type": "code",
   "execution_count": 21,
   "metadata": {},
   "outputs": [
    {
     "data": {
      "text/plain": [
       "(95, 0)"
      ]
     },
     "execution_count": 21,
     "metadata": {},
     "output_type": "execute_result"
    }
   ],
   "source": [
    "np.max(df.time.unique()), np.min(df.time.unique())"
   ]
  },
  {
   "cell_type": "code",
   "execution_count": 29,
   "metadata": {},
   "outputs": [],
   "source": [
    "for t in range(96):\n",
    "    temp_df = df[df.time == t]\n",
    "    temp_df = temp_df.groupby('geohash6').mean()\n",
    "    figure(num=None, figsize=(8, 6))\n",
    "    plt.scatter(temp_df.lat.values, temp_df.long.values, c=temp_df.demand.values)\n",
    "    plt.colorbar()\n",
    "    plt.savefig('./time/{0}.png'.format(t))\n",
    "#     plt.show()\n",
    "#     time.sleep(0.5)"
   ]
  },
  {
   "cell_type": "code",
   "execution_count": 27,
   "metadata": {},
   "outputs": [
    {
     "data": {
      "text/plain": [
       "(23, 0)"
      ]
     },
     "execution_count": 27,
     "metadata": {},
     "output_type": "execute_result"
    }
   ],
   "source": [
    "np.max(df.hour.unique()), np.min(df.hour.unique())"
   ]
  },
  {
   "cell_type": "code",
   "execution_count": 30,
   "metadata": {},
   "outputs": [],
   "source": [
    "for h in range(24):\n",
    "    temp_df = df[df.time == h]\n",
    "    temp_df = temp_df.groupby('geohash6').mean()\n",
    "    figure(num=None, figsize=(8, 6))\n",
    "    plt.scatter(temp_df.lat.values, temp_df.long.values, c=temp_df.demand.values)\n",
    "    plt.colorbar()\n",
    "    plt.savefig('./hour/{0}.png'.format(h))\n",
    "#     plt.show()\n",
    "#     time.sleep(0.5)"
   ]
  },
  {
   "cell_type": "code",
   "execution_count": 2,
   "metadata": {
    "scrolled": true
   },
   "outputs": [],
   "source": [
    "for order in range(1):\n",
    "    temp_df = df[df.order == order]\n",
    "    lat = []\n",
    "    long = []\n",
    "    demand = []\n",
    "    for k in df.geohash6.unique():\n",
    "        temp_lat, temp_long = geohash.decode(k)\n",
    "        lat.append(temp_lat)\n",
    "        long.append(temp_long)\n",
    "        demand.append(df[df.geohash6 == k].demand)\n",
    "    plt.scatter(lat, long, c=demand)\n",
    "    plt.colorbar()\n",
    "    plt.show()\n",
    "#     time.sleep(2)"
   ]
  },
  {
   "cell_type": "code",
   "execution_count": 22,
   "metadata": {},
   "outputs": [],
   "source": [
    "# df[df.order == 0]"
   ]
  },
  {
   "cell_type": "code",
   "execution_count": null,
   "metadata": {},
   "outputs": [],
   "source": []
  },
  {
   "cell_type": "code",
   "execution_count": 48,
   "metadata": {},
   "outputs": [
    {
     "data": {
      "text/html": [
       "<div>\n",
       "<style scoped>\n",
       "    .dataframe tbody tr th:only-of-type {\n",
       "        vertical-align: middle;\n",
       "    }\n",
       "\n",
       "    .dataframe tbody tr th {\n",
       "        vertical-align: top;\n",
       "    }\n",
       "\n",
       "    .dataframe thead th {\n",
       "        text-align: right;\n",
       "    }\n",
       "</style>\n",
       "<table border=\"1\" class=\"dataframe\">\n",
       "  <thead>\n",
       "    <tr style=\"text-align: right;\">\n",
       "      <th></th>\n",
       "      <th>order</th>\n",
       "      <th>geohash6</th>\n",
       "      <th>hour</th>\n",
       "      <th>demand</th>\n",
       "    </tr>\n",
       "  </thead>\n",
       "  <tbody>\n",
       "    <tr>\n",
       "      <th>0</th>\n",
       "      <td>0</td>\n",
       "      <td>qp03wc</td>\n",
       "      <td>0</td>\n",
       "      <td>0.054858</td>\n",
       "    </tr>\n",
       "    <tr>\n",
       "      <th>1</th>\n",
       "      <td>1</td>\n",
       "      <td>qp03wc</td>\n",
       "      <td>0</td>\n",
       "      <td>0.086209</td>\n",
       "    </tr>\n",
       "    <tr>\n",
       "      <th>2</th>\n",
       "      <td>2</td>\n",
       "      <td>qp03wc</td>\n",
       "      <td>0</td>\n",
       "      <td>0.050739</td>\n",
       "    </tr>\n",
       "    <tr>\n",
       "      <th>3</th>\n",
       "      <td>3</td>\n",
       "      <td>qp03wc</td>\n",
       "      <td>0</td>\n",
       "      <td>0.075174</td>\n",
       "    </tr>\n",
       "    <tr>\n",
       "      <th>4</th>\n",
       "      <td>4</td>\n",
       "      <td>qp03wc</td>\n",
       "      <td>1</td>\n",
       "      <td>0.062867</td>\n",
       "    </tr>\n",
       "  </tbody>\n",
       "</table>\n",
       "</div>"
      ],
      "text/plain": [
       "   order geohash6  hour    demand\n",
       "0      0   qp03wc     0  0.054858\n",
       "1      1   qp03wc     0  0.086209\n",
       "2      2   qp03wc     0  0.050739\n",
       "3      3   qp03wc     0  0.075174\n",
       "4      4   qp03wc     1  0.062867"
      ]
     },
     "execution_count": 48,
     "metadata": {},
     "output_type": "execute_result"
    }
   ],
   "source": [
    "df.head()"
   ]
  },
  {
   "cell_type": "code",
   "execution_count": 49,
   "metadata": {},
   "outputs": [
    {
     "data": {
      "text/plain": [
       "(7782624, 4)"
      ]
     },
     "execution_count": 49,
     "metadata": {},
     "output_type": "execute_result"
    }
   ],
   "source": [
    "df.shape"
   ]
  },
  {
   "cell_type": "code",
   "execution_count": 49,
   "metadata": {},
   "outputs": [],
   "source": [
    "test_df = df[df.hour == 15]"
   ]
  },
  {
   "cell_type": "code",
   "execution_count": 10,
   "metadata": {},
   "outputs": [],
   "source": [
    "agg_data = df.groupby('geohash6').mean()"
   ]
  },
  {
   "cell_type": "code",
   "execution_count": 11,
   "metadata": {},
   "outputs": [],
   "source": [
    "geohash_dict = {}"
   ]
  },
  {
   "cell_type": "code",
   "execution_count": 12,
   "metadata": {},
   "outputs": [],
   "source": [
    "for gh in list(agg_data.index):\n",
    "    geohash_dict[gh] = agg_data[agg_data.index == gh].demand.values[0]"
   ]
  },
  {
   "cell_type": "code",
   "execution_count": 40,
   "metadata": {},
   "outputs": [],
   "source": [
    "lat = []\n",
    "long = []\n",
    "demand = []\n",
    "for k in geohash_dict.keys():\n",
    "    temp_lat, temp_long = geohash.decode(k)\n",
    "    lat.append(temp_lat)\n",
    "    long.append(temp_long)\n",
    "    demand.append(geohash_dict[k])"
   ]
  },
  {
   "cell_type": "code",
   "execution_count": 41,
   "metadata": {},
   "outputs": [
    {
     "data": {
      "image/png": "[encoded data removed]",
      "text/plain": [
       "<Figure size 576x432 with 2 Axes>"
      ]
     },
     "metadata": {
      "needs_background": "light"
     },
     "output_type": "display_data"
    }
   ],
   "source": [
    "# import matplotlib.pyplot as plt\n",
    "figure(num=None, figsize=(8, 6))\n",
    "plt.scatter(lat, long, c=demand)\n",
    "plt.colorbar()\n",
    "plt.savefig('./mean.png')\n",
    "# plt.show()"
   ]
  },
  {
   "cell_type": "code",
   "execution_count": 42,
   "metadata": {},
   "outputs": [
    {
     "data": {
      "text/plain": [
       "(array([ 634,  635,  641,  643,  787,  788,  793,  796,  822,  839, 1117]),)"
      ]
     },
     "execution_count": 42,
     "metadata": {},
     "output_type": "execute_result"
    }
   ],
   "source": [
    "np.where((np.array(demand) > 0.5) & (np.array(demand) < 0.8) & (np.array(lat) > -5.37) & (np.array(long) > 90.8))"
   ]
  },
  {
   "cell_type": "code",
   "execution_count": 21,
   "metadata": {},
   "outputs": [
    {
     "data": {
      "text/plain": [
       "794"
      ]
     },
     "execution_count": 21,
     "metadata": {},
     "output_type": "execute_result"
    }
   ],
   "source": [
    "np.argmax(np.array(demand))"
   ]
  },
  {
   "cell_type": "code",
   "execution_count": 47,
   "metadata": {},
   "outputs": [
    {
     "data": {
      "text/plain": [
       "(-5.35858154296875, 90.8184814453125)"
      ]
     },
     "execution_count": 47,
     "metadata": {},
     "output_type": "execute_result"
    }
   ],
   "source": [
    "lat[793], long[793]"
   ]
  },
  {
   "cell_type": "code",
   "execution_count": 46,
   "metadata": {},
   "outputs": [
    {
     "data": {
      "text/plain": [
       "(array([787, 793]),)"
      ]
     },
     "execution_count": 46,
     "metadata": {},
     "output_type": "execute_result"
    }
   ],
   "source": [
    "np.where((np.array(lat) == -5.35858154296875) & (np.array(demand) > 0.5) & (np.array(demand) < 0.8))"
   ]
  },
  {
   "cell_type": "code",
   "execution_count": 33,
   "metadata": {},
   "outputs": [
    {
     "data": {
      "text/plain": [
       "171"
      ]
     },
     "execution_count": 33,
     "metadata": {},
     "output_type": "execute_result"
    }
   ],
   "source": [
    "np.argmin(np.abs(np.array(lat) - lat[794]))"
   ]
  },
  {
   "cell_type": "code",
   "execution_count": 34,
   "metadata": {},
   "outputs": [
    {
     "data": {
      "text/plain": [
       "(-5.35308837890625, 90.5877685546875)"
      ]
     },
     "execution_count": 34,
     "metadata": {},
     "output_type": "execute_result"
    }
   ],
   "source": [
    "lat[171], long[171]"
   ]
  },
  {
   "cell_type": "code",
   "execution_count": 107,
   "metadata": {},
   "outputs": [
    {
     "data": {
      "image/png": "[encoded data removed]",
      "text/plain": [
       "<Figure size 432x288 with 2 Axes>"
      ]
     },
     "metadata": {
      "needs_background": "light"
     },
     "output_type": "display_data"
    }
   ],
   "source": [
    "plt.scatter(lat, long, c=demand)\n",
    "plt.colorbar()\n",
    "plt.show()"
   ]
  },
  {
   "cell_type": "code",
   "execution_count": 108,
   "metadata": {},
   "outputs": [
    {
     "data": {
      "image/png": "[encoded data removed]",
      "text/plain": [
       "<Figure size 432x288 with 2 Axes>"
      ]
     },
     "metadata": {
      "needs_background": "light"
     },
     "output_type": "display_data"
    }
   ],
   "source": [
    "plt.scatter(lat, long, c=demand)\n",
    "plt.colorbar()\n",
    "plt.show()"
   ]
  },
  {
   "cell_type": "code",
   "execution_count": 129,
   "metadata": {},
   "outputs": [
    {
     "data": {
      "text/plain": [
       "794"
      ]
     },
     "execution_count": 129,
     "metadata": {},
     "output_type": "execute_result"
    }
   ],
   "source": [
    "np.argmax(demand)"
   ]
  },
  {
   "cell_type": "code",
   "execution_count": 109,
   "metadata": {},
   "outputs": [
    {
     "data": {
      "text/plain": [
       "(array([1117]),)"
      ]
     },
     "execution_count": 109,
     "metadata": {},
     "output_type": "execute_result"
    }
   ],
   "source": [
    "np.where((np.array(demand) > 0.5) & (np.array(lat) > -5.30) & (np.array(long) > 90.9))"
   ]
  },
  {
   "cell_type": "code",
   "execution_count": 155,
   "metadata": {},
   "outputs": [
    {
     "data": {
      "text/plain": [
       "(0.5143093896450747, -5.28167724609375, 90.9173583984375)"
      ]
     },
     "execution_count": 155,
     "metadata": {},
     "output_type": "execute_result"
    }
   ],
   "source": [
    "demand[1117], lat[1117], long[1117]"
   ]
  },
  {
   "cell_type": "code",
   "execution_count": 111,
   "metadata": {},
   "outputs": [
    {
     "data": {
      "text/plain": [
       "(array([ 30,  33, 571]),)"
      ]
     },
     "execution_count": 111,
     "metadata": {},
     "output_type": "execute_result"
    }
   ],
   "source": [
    "np.where((np.array(demand) > 0.3) & (np.array(lat) < -5.40))"
   ]
  },
  {
   "cell_type": "code",
   "execution_count": 112,
   "metadata": {},
   "outputs": [
    {
     "data": {
      "text/plain": [
       "(0.49152112417207616,\n",
       " -5.45745849609375,\n",
       " 90.6866455078125,\n",
       " 0.45099771417333734,\n",
       " -5.45196533203125,\n",
       " 90.6976318359375)"
      ]
     },
     "execution_count": 112,
     "metadata": {},
     "output_type": "execute_result"
    }
   ],
   "source": [
    "demand[30], lat[30], long[30], demand[33], lat[33], long[33]"
   ]
  },
  {
   "cell_type": "code",
   "execution_count": 140,
   "metadata": {},
   "outputs": [
    {
     "data": {
      "text/plain": [
       "(array([210, 215, 232, 252, 261, 262, 275, 634, 641, 787, 793, 794, 822]),)"
      ]
     },
     "execution_count": 140,
     "metadata": {},
     "output_type": "execute_result"
    }
   ],
   "source": [
    "np.where(np.array(demand) > 0.6)"
   ]
  },
  {
   "cell_type": "code",
   "execution_count": 160,
   "metadata": {},
   "outputs": [],
   "source": [
    "lat2 = []\n",
    "long2 = []\n",
    "demand2 = []\n",
    "for i in list(np.where(np.array(demand) > 0.3))[0]:\n",
    "    lat2.append(lat[i])\n",
    "    long2.append(long[i])\n",
    "    demand2.append(demand[i])"
   ]
  },
  {
   "cell_type": "code",
   "execution_count": 161,
   "metadata": {},
   "outputs": [
    {
     "data": {
      "image/png": "[encoded data removed]",
      "text/plain": [
       "<Figure size 432x288 with 2 Axes>"
      ]
     },
     "metadata": {
      "needs_background": "light"
     },
     "output_type": "display_data"
    }
   ],
   "source": [
    "plt.scatter(lat2, long2, c=demand2)\n",
    "plt.colorbar()\n",
    "plt.show()"
   ]
  },
  {
   "cell_type": "code",
   "execution_count": 145,
   "metadata": {},
   "outputs": [
    {
     "data": {
      "image/png": "[encoded data removed]",
      "text/plain": [
       "<Figure size 432x288 with 2 Axes>"
      ]
     },
     "metadata": {
      "needs_background": "light"
     },
     "output_type": "display_data"
    }
   ],
   "source": [
    "lat2 = []\n",
    "long2 = []\n",
    "demand2 = []\n",
    "for i in list(np.where(np.array(demand) > 0.2))[0]:\n",
    "    lat2.append(lat[i])\n",
    "    long2.append(long[i])\n",
    "    demand2.append(demand[i])\n",
    "\n",
    "plt.scatter(lat2, long2, c=demand2)\n",
    "plt.colorbar()\n",
    "plt.show()"
   ]
  },
  {
   "cell_type": "code",
   "execution_count": 134,
   "metadata": {},
   "outputs": [
    {
     "data": {
      "text/plain": [
       "(array([210, 215]),)"
      ]
     },
     "execution_count": 134,
     "metadata": {},
     "output_type": "execute_result"
    }
   ],
   "source": [
    "np.where((np.array(demand) > 0.5) & (np.array(lat) < -5.34) & (np.array(lat) > -5.36) & (np.array(long) < 90.67))"
   ]
  },
  {
   "cell_type": "code",
   "execution_count": 135,
   "metadata": {},
   "outputs": [
    {
     "data": {
      "text/plain": [
       "(0.6209225655243553,\n",
       " -5.35308837890625,\n",
       " 90.6427001953125,\n",
       " 0.6254645851267949,\n",
       " -5.34759521484375,\n",
       " 90.6536865234375)"
      ]
     },
     "execution_count": 135,
     "metadata": {},
     "output_type": "execute_result"
    }
   ],
   "source": [
    "demand[210], lat[210], long[210], demand[215], lat[215], long[215]"
   ]
  },
  {
   "cell_type": "code",
   "execution_count": 48,
   "metadata": {},
   "outputs": [],
   "source": [
    "# POI = [794, 262, 1117, 30, 215]\n",
    "POI = [793, 262, 215]"
   ]
  },
  {
   "cell_type": "code",
   "execution_count": 49,
   "metadata": {},
   "outputs": [],
   "source": [
    "POI_DEMAND = []\n",
    "POI_LAT = []\n",
    "POI_LONG = []"
   ]
  },
  {
   "cell_type": "code",
   "execution_count": 50,
   "metadata": {},
   "outputs": [],
   "source": [
    "for k in POI:\n",
    "    POI_DEMAND.append(demand[k])\n",
    "    POI_LAT.append(lat[k])\n",
    "    POI_LONG.append(long[k])"
   ]
  },
  {
   "cell_type": "code",
   "execution_count": 51,
   "metadata": {},
   "outputs": [
    {
     "data": {
      "image/png": "[encoded data removed]",
      "text/plain": [
       "<Figure size 432x288 with 2 Axes>"
      ]
     },
     "metadata": {
      "needs_background": "light"
     },
     "output_type": "display_data"
    }
   ],
   "source": [
    "plt.scatter(POI_LAT, POI_LONG, c=POI_DEMAND)\n",
    "plt.colorbar()\n",
    "plt.show()"
   ]
  },
  {
   "cell_type": "code",
   "execution_count": 95,
   "metadata": {},
   "outputs": [
    {
     "data": {
      "text/plain": [
       "([-5.34759521484375, -5.32012939453125, -5.28167724609375, -5.45745849609375],\n",
       " [90.8184814453125, 90.6866455078125, 90.9173583984375, 90.6866455078125])"
      ]
     },
     "execution_count": 95,
     "metadata": {},
     "output_type": "execute_result"
    }
   ],
   "source": [
    "POI_LAT, POI_LONG"
   ]
  },
  {
   "cell_type": "code",
   "execution_count": 53,
   "metadata": {},
   "outputs": [],
   "source": [
    "geohash_list = list(geohash_dict.keys())"
   ]
  },
  {
   "cell_type": "code",
   "execution_count": 54,
   "metadata": {},
   "outputs": [
    {
     "name": "stdout",
     "output_type": "stream",
     "text": [
      "qp09d8 (-5.35858154296875, 90.8184814453125)\n",
      "qp03xx (-5.32012939453125, 90.6866455078125)\n",
      "qp03wf (-5.34759521484375, 90.6536865234375)\n"
     ]
    }
   ],
   "source": [
    "# for i in [797, 262, 1117, 30]:\n",
    "for i in [793, 262, 215]:\n",
    "    print(geohash_list[i], geohash.decode(geohash_list[i]))"
   ]
  },
  {
   "cell_type": "code",
   "execution_count": 57,
   "metadata": {},
   "outputs": [],
   "source": [
    "POI_GEOHASH = ['qp09dd', 'qp03xx', 'qp09uy', 'qp02zw']"
   ]
  },
  {
   "cell_type": "code",
   "execution_count": 163,
   "metadata": {},
   "outputs": [],
   "source": [
    "POI_GEOHASH = ['qp09d9', 'qp03xx', 'qp03wf']"
   ]
  },
  {
   "cell_type": "code",
   "execution_count": 77,
   "metadata": {},
   "outputs": [
    {
     "data": {
      "text/plain": [
       "(array([261, 262, 794, 822]),)"
      ]
     },
     "execution_count": 77,
     "metadata": {},
     "output_type": "execute_result"
    }
   ],
   "source": [
    "np.where(np.array(demand) > 0.7)"
   ]
  },
  {
   "cell_type": "code",
   "execution_count": null,
   "metadata": {},
   "outputs": [],
   "source": [
    "lat[262], long[262]"
   ]
  },
  {
   "cell_type": "code",
   "execution_count": 111,
   "metadata": {},
   "outputs": [],
   "source": [
    "def geohash6_to_lat(gh):\n",
    "    return geohash.decode(gh)[0]\n",
    "\n",
    "def geohash6_to_long(gh):\n",
    "    return geohash.decode(gh)[1]"
   ]
  },
  {
   "cell_type": "code",
   "execution_count": 113,
   "metadata": {},
   "outputs": [],
   "source": [
    "df['lat'] = df.geohash6.apply(geohash6_to_lat)\n",
    "df['long'] = df.geohash6.apply(geohash6_to_long)"
   ]
  },
  {
   "cell_type": "code",
   "execution_count": 114,
   "metadata": {},
   "outputs": [
    {
     "data": {
      "text/html": [
       "<div>\n",
       "<style scoped>\n",
       "    .dataframe tbody tr th:only-of-type {\n",
       "        vertical-align: middle;\n",
       "    }\n",
       "\n",
       "    .dataframe tbody tr th {\n",
       "        vertical-align: top;\n",
       "    }\n",
       "\n",
       "    .dataframe thead th {\n",
       "        text-align: right;\n",
       "    }\n",
       "</style>\n",
       "<table border=\"1\" class=\"dataframe\">\n",
       "  <thead>\n",
       "    <tr style=\"text-align: right;\">\n",
       "      <th></th>\n",
       "      <th>order</th>\n",
       "      <th>geohash6</th>\n",
       "      <th>hour</th>\n",
       "      <th>demand</th>\n",
       "      <th>lat</th>\n",
       "      <th>long</th>\n",
       "    </tr>\n",
       "  </thead>\n",
       "  <tbody>\n",
       "    <tr>\n",
       "      <th>0</th>\n",
       "      <td>0</td>\n",
       "      <td>qp03wc</td>\n",
       "      <td>0</td>\n",
       "      <td>0.054858</td>\n",
       "      <td>-5.353088</td>\n",
       "      <td>90.653687</td>\n",
       "    </tr>\n",
       "    <tr>\n",
       "      <th>1</th>\n",
       "      <td>1</td>\n",
       "      <td>qp03wc</td>\n",
       "      <td>0</td>\n",
       "      <td>0.086209</td>\n",
       "      <td>-5.353088</td>\n",
       "      <td>90.653687</td>\n",
       "    </tr>\n",
       "    <tr>\n",
       "      <th>2</th>\n",
       "      <td>2</td>\n",
       "      <td>qp03wc</td>\n",
       "      <td>0</td>\n",
       "      <td>0.050739</td>\n",
       "      <td>-5.353088</td>\n",
       "      <td>90.653687</td>\n",
       "    </tr>\n",
       "    <tr>\n",
       "      <th>3</th>\n",
       "      <td>3</td>\n",
       "      <td>qp03wc</td>\n",
       "      <td>0</td>\n",
       "      <td>0.075174</td>\n",
       "      <td>-5.353088</td>\n",
       "      <td>90.653687</td>\n",
       "    </tr>\n",
       "    <tr>\n",
       "      <th>4</th>\n",
       "      <td>4</td>\n",
       "      <td>qp03wc</td>\n",
       "      <td>1</td>\n",
       "      <td>0.062867</td>\n",
       "      <td>-5.353088</td>\n",
       "      <td>90.653687</td>\n",
       "    </tr>\n",
       "  </tbody>\n",
       "</table>\n",
       "</div>"
      ],
      "text/plain": [
       "   order geohash6  hour    demand       lat       long\n",
       "0      0   qp03wc     0  0.054858 -5.353088  90.653687\n",
       "1      1   qp03wc     0  0.086209 -5.353088  90.653687\n",
       "2      2   qp03wc     0  0.050739 -5.353088  90.653687\n",
       "3      3   qp03wc     0  0.075174 -5.353088  90.653687\n",
       "4      4   qp03wc     1  0.062867 -5.353088  90.653687"
      ]
     },
     "execution_count": 114,
     "metadata": {},
     "output_type": "execute_result"
    }
   ],
   "source": [
    "df.head()"
   ]
  },
  {
   "cell_type": "code",
   "execution_count": 169,
   "metadata": {},
   "outputs": [
    {
     "data": {
      "text/plain": [
       "(18.265410998732754, 5.160406678632209)"
      ]
     },
     "execution_count": 169,
     "metadata": {},
     "output_type": "execute_result"
    }
   ],
   "source": [
    "get_distance_from_poi('qp03wc')"
   ]
  },
  {
   "cell_type": "code",
   "execution_count": null,
   "metadata": {},
   "outputs": [],
   "source": [
    "POI = [794, 262, 215]"
   ]
  },
  {
   "cell_type": "code",
   "execution_count": 3,
   "metadata": {},
   "outputs": [],
   "source": [
    "df = pd.read_csv('data/formatted_data.csv')\n",
    "\n",
    "MAX_ORDER = 5856\n",
    "GEOHASH_LIST = df.geohash6.unique()\n",
    "\n",
    "PREV_DAY = 7 # use previous 7 days data\n",
    "PREV_DAY_PRE_OFFSET = 7 # 2 hours\n",
    "PREV_DAY_POST_OFFSET = 8 # 2 hours\n",
    "\n",
    "RNN_OFFSET = 11 # 3 hours gap\n",
    "\n",
    "LABELS_OFFSET = 5 # (T+5)\n",
    "\n",
    "MIN_ORDER_VAL = PREV_DAY_PRE_OFFSET + PREV_DAY*96\n",
    "\n",
    "MAX_ORDER_VAL = MAX_ORDER - LABELS_OFFSET\n",
    "\n",
    "POI_GEOHASH = ['qp09d8', 'qp03xx', 'qp03wf']"
   ]
  },
  {
   "cell_type": "code",
   "execution_count": 5,
   "metadata": {},
   "outputs": [],
   "source": [
    "def get_distance_by_gh(gh1, gh2):\n",
    "    coor1 = geohash.decode(gh1)\n",
    "    coor2 = geohash.decode(gh2)\n",
    "    return distance.distance(coor1, coor2).km"
   ]
  },
  {
   "cell_type": "code",
   "execution_count": 4,
   "metadata": {},
   "outputs": [],
   "source": [
    "POI_GEOHASH = ['qp09d8', 'qp03xx', 'qp03wf']\n",
    "POI_DF = {}\n",
    "for k in POI_GEOHASH:\n",
    "    POI_DF[k] = df[df.geohash6 == k].set_index('order').demand.values"
   ]
  },
  {
   "cell_type": "code",
   "execution_count": 11,
   "metadata": {},
   "outputs": [],
   "source": []
  },
  {
   "cell_type": "code",
   "execution_count": 14,
   "metadata": {},
   "outputs": [],
   "source": []
  },
  {
   "cell_type": "code",
   "execution_count": 15,
   "metadata": {},
   "outputs": [
    {
     "data": {
      "text/plain": [
       "1"
      ]
     },
     "execution_count": 15,
     "metadata": {},
     "output_type": "execute_result"
    }
   ],
   "source": []
  },
  {
   "cell_type": "code",
   "execution_count": 5,
   "metadata": {},
   "outputs": [
    {
     "data": {
      "application/vnd.jupyter.widget-view+json": {
       "model_id": "8c13eb5e671744dea409f5c353153c44",
       "version_major": 2,
       "version_minor": 0
      },
      "text/plain": [
       "HBox(children=(IntProgress(value=0, max=1329), HTML(value='')))"
      ]
     },
     "metadata": {},
     "output_type": "display_data"
    },
    {
     "name": "stdout",
     "output_type": "stream",
     "text": [
      "\n"
     ]
    }
   ],
   "source": [
    "csv_file = open('./data/formatted_time_series_2.csv', 'w')\n",
    "\n",
    "headers = ['order', 'geohash6', 'hour']\n",
    "\n",
    "for day in range(1, PREV_DAY + 1):\n",
    "    for cnn_off in range(PREV_DAY_PRE_OFFSET, -1, -1):\n",
    "        headers.append('demand@({0}-{1})'.format(day, cnn_off))\n",
    "\n",
    "    for cnn_off in range(1, LABELS_OFFSET + PREV_DAY_POST_OFFSET + 1):\n",
    "        headers.append('demand@({0}+{1})'.format(day, cnn_off))\n",
    "\n",
    "for day in range(1): # day = 0\n",
    "    for rnn_off in range(RNN_OFFSET, -1, -1):\n",
    "        headers.append('demand@({0}-{1})'.format(day, rnn_off))\n",
    "        for poi_gh in POI_GEOHASH:\n",
    "            headers.append('demand@({0}-{1}-{2})'.format(day, rnn_off, poi_gh))\n",
    "\n",
    "    for out_off in range(1, LABELS_OFFSET+1):\n",
    "        headers.append('demand@({0}+{1})'.format(day, out_off))\n",
    "        \n",
    "        \n",
    "csv_file.write(','.join(headers))\n",
    "csv_file.write('\\n')\n",
    "\n",
    "formatted_dict = {}\n",
    "index = 0\n",
    "for ind in tqdm(range(len(GEOHASH_LIST))):\n",
    "    i = ind\n",
    "    gh = GEOHASH_LIST[i]\n",
    "    temp_df = df[df.geohash6 == gh]\n",
    "    temp_df.set_index('order', inplace=True)\n",
    "    temp_dict = temp_df.to_dict('index')\n",
    "#     distance_poi1, distance_poi2, distance_poi3, distance_poi4 = get_distance_from_poi(gh)\n",
    "#     min_distance_from_poi = min([distance_poi1, distance_poi2, distance_poi3, distance_poi4])\n",
    "    \n",
    "#     poi_gh_dict = {}\n",
    "#     for poi_gh in POI_GEOHASH:\n",
    "#         poi_gh_dict[poi_gh] = get_distance_by_gh(poi_gh, gh)\n",
    "    \n",
    "#     min_distance = min(poi_gh_dict.values())\n",
    "    \n",
    "    for order in range(MIN_ORDER_VAL, MAX_ORDER_VAL):\n",
    "\n",
    "#         formatted_dict[index] = {}\n",
    "        csv_row = []\n",
    "        \n",
    "#         formatted_dict[index]['order'] = order\n",
    "        csv_row.append(str(order))\n",
    "        \n",
    "#         formatted_dict[index]['geohash6'] = gh\n",
    "        csv_row.append(str(gh))\n",
    "                \n",
    "#         formatted_dict[index]['hour'] = temp_dict[order]['hour'] # please one-hot encode this\n",
    "        csv_row.append(str(temp_dict[order]['hour']))\n",
    "        \n",
    "#         for poi_gh in POI_GEOHASH:\n",
    "#             formatted_dict[index]['distance_from_{0}'.format(poi_gh)] = poi_gh_dict[poi_gh]\n",
    "        \n",
    "#         formatted_dict[index]['min_distance_poi'] = min_distance\n",
    "        \n",
    "        for day in range(1, PREV_DAY + 1):\n",
    "            \n",
    "            for cnn_off in range(PREV_DAY_PRE_OFFSET, -1, -1):\n",
    "#                 formatted_dict[index] \\\n",
    "#                     ['demand@({0}-{1})'.format(day, cnn_off)] = temp_dict[order-cnn_off-day*96]['demand']\n",
    "                csv_row.append(str(temp_dict[order-cnn_off-day*96]['demand']))\n",
    "                            \n",
    "            for cnn_off in range(1, LABELS_OFFSET + PREV_DAY_POST_OFFSET + 1):\n",
    "#                 formatted_dict[index] \\\n",
    "#                     ['demand@({0}+{1})'.format(day, cnn_off)] = temp_dict[order+cnn_off-day*96]['demand']\n",
    "                csv_row.append(str(temp_dict[order+cnn_off-day*96]['demand']))\n",
    "                \n",
    "        for day in range(1): # day = 0\n",
    "            for rnn_off in range(RNN_OFFSET, -1, -1):\n",
    "#                 formatted_dict[index] \\\n",
    "#                     ['demand@({0}-{1})'.format(day, rnn_off)] = temp_dict[order-rnn_off-day*96]['demand']\n",
    "                csv_row.append(str(temp_dict[order-rnn_off-day*96]['demand']))\n",
    "                for poi_gh in POI_GEOHASH:\n",
    "#                     formatted_dict[index] \\\n",
    "#                         ['demand@({0}-{1}-{2})'.format(day, rnn_off, poi_gh)] = POI_DF[poi_gh][order-rnn_off-day*96]\n",
    "                    csv_row.append(str(POI_DF[poi_gh][order-rnn_off-day*96]))\n",
    "                    \n",
    "\n",
    "            for out_off in range(1, LABELS_OFFSET+1):\n",
    "#                 formatted_dict[index] \\\n",
    "#                     ['demand@({0}+{1})'.format(day, out_off)] = temp_dict[order+out_off-day*96]['demand']\n",
    "                csv_row.append(str(temp_dict[order+out_off-day*96]['demand']))\n",
    "            \n",
    "        csv_file.write(','.join(csv_row))\n",
    "        \n",
    "#         index += 1\n",
    "        csv_file.write('\\n')\n",
    "    del temp_df\n",
    "    del temp_dict\n",
    "    gc.collect()\n",
    "    \n",
    "csv_file.close()"
   ]
  },
  {
   "cell_type": "code",
   "execution_count": 18,
   "metadata": {},
   "outputs": [],
   "source": []
  },
  {
   "cell_type": "code",
   "execution_count": null,
   "metadata": {},
   "outputs": [],
   "source": [
    "# formatted_dict = {}\n",
    "# index = 0\n",
    "# for ind in tqdm(range(len(GEOHASH_LIST))):\n",
    "#     i = ind\n",
    "#     gh = GEOHASH_LIST[i]\n",
    "#     temp_df = formatted_df[formatted_df.geohash6 == gh]\n",
    "#     temp_df.set_index('order', inplace=True)\n",
    "#     temp_dict = temp_df.to_dict('index')\n",
    "#     distance_poi1, distance_poi2 = get_distance_from_poi(gh)\n",
    "#     for order in range(MIN_ORDER_VAL, MAX_ORDER_VAL):\n",
    "#         # how should each column look like?\n",
    "#         # index:\n",
    "#         # geohash6, hour\n",
    "#         # day-7 : (T-INPUT_OFFSET-7*96) (T-(INPUT_OFFSET-1)-7*96) ... (T+5-7*96)\n",
    "#         # day-x : (T-INPUT_OFFSET-x*96) ...\n",
    "#         # day-0 : (T-INPUT_OFFSET) (T-INPUT_OFFSET+1) ... (T+5)\n",
    "#         formatted_dict[index] = {}\n",
    "        \n",
    "#         formatted_dict[index]['order'] = order\n",
    "        \n",
    "#         formatted_dict[index]['geohash6'] = gh\n",
    "                \n",
    "#         formatted_dict[index]['hour'] = temp_dict[order]['hour']\n",
    "        \n",
    "#         formatted_dict[index]['distance_poi1'] = distance_poi1\n",
    "        \n",
    "#         formatted_dict[index]['distance_poi2'] = distance_poi2\n",
    "        \n",
    "#         for day in range(PREV_DAY + 1):\n",
    "#             for in_off in range(INPUT_OFFSET):\n",
    "#                 formatted_dict[index] \\\n",
    "#                     ['demand@({0}-{1})'.format(day, in_off)] = temp_dict[order-in_off-day*96]['demand']\n",
    "#             for out_off in range(1, OUTPUT_OFFSET+1):\n",
    "#                 formatted_dict[index] \\\n",
    "#                     ['demand@({0}+{1})'.format(day, out_off)] = temp_dict[order+out_off-day*96]['demand']\n",
    "\n",
    "#         index += 1\n",
    "        \n",
    "#     del temp_df    \n",
    "#     del temp_dict\n",
    "#     gc.collect()"
   ]
  },
  {
   "cell_type": "code",
   "execution_count": null,
   "metadata": {},
   "outputs": [],
   "source": [
    "csv_file = open('data/formatted_time_series_data.csv', 'w')\n",
    "\n",
    "headers = formatted_dict[0].keys()\n",
    "\n",
    "csv_file.write(','.join(headers))\n",
    "csv_file.write('\\n')\n",
    "\n",
    "# for ind in tqdm(range(len(formatted_dict.keys()))):\n",
    "#     i = formatted_dict[formatted_dict.keys()[ind]]\n",
    "\n",
    "for i in formatted_dict:\n",
    "    temp_list = []\n",
    "    for h in headers:\n",
    "        temp_list.append(str(formatted_dict[i][h]))\n",
    "    csv_file.write(','.join(temp_list))\n",
    "    csv_file.write('\\n')\n",
    "\n",
    "csv_file.close()"
   ]
  },
  {
   "cell_type": "code",
   "execution_count": null,
   "metadata": {},
   "outputs": [],
   "source": [
    "del formatted_df\n",
    "del formatted_dict\n",
    "gc.collect()"
   ]
  },
  {
   "cell_type": "code",
   "execution_count": null,
   "metadata": {},
   "outputs": [],
   "source": [
    "df = pd.read_csv('data/formatted_time_series_data.csv')"
   ]
  },
  {
   "cell_type": "code",
   "execution_count": null,
   "metadata": {},
   "outputs": [],
   "source": [
    "# day > 50 as our validation set\n",
    "df[df.order <= 50*96].to_csv('data/train_formatted_time_series_data.csv', index=False)\n",
    "df[df.order > 50*96].to_csv('data/eval_formatted_time_series_data.csv', index=False)"
   ]
  },
  {
   "cell_type": "code",
   "execution_count": 18,
   "metadata": {},
   "outputs": [
    {
     "data": {
      "text/html": [
       "<div>\n",
       "<style scoped>\n",
       "    .dataframe tbody tr th:only-of-type {\n",
       "        vertical-align: middle;\n",
       "    }\n",
       "\n",
       "    .dataframe tbody tr th {\n",
       "        vertical-align: top;\n",
       "    }\n",
       "\n",
       "    .dataframe thead th {\n",
       "        text-align: right;\n",
       "    }\n",
       "</style>\n",
       "<table border=\"1\" class=\"dataframe\">\n",
       "  <thead>\n",
       "    <tr style=\"text-align: right;\">\n",
       "      <th></th>\n",
       "      <th>order</th>\n",
       "      <th>geohash6</th>\n",
       "      <th>hour</th>\n",
       "      <th>distance_poi1</th>\n",
       "      <th>distance_poi2</th>\n",
       "      <th>demand@(0-0)</th>\n",
       "      <th>demand@(0-1)</th>\n",
       "      <th>demand@(0-2)</th>\n",
       "      <th>demand@(0-3)</th>\n",
       "      <th>demand@(0-4)</th>\n",
       "      <th>...</th>\n",
       "      <th>demand@(7-3)</th>\n",
       "      <th>demand@(7-4)</th>\n",
       "      <th>demand@(7-5)</th>\n",
       "      <th>demand@(7-6)</th>\n",
       "      <th>demand@(7-7)</th>\n",
       "      <th>demand@(7+1)</th>\n",
       "      <th>demand@(7+2)</th>\n",
       "      <th>demand@(7+3)</th>\n",
       "      <th>demand@(7+4)</th>\n",
       "      <th>demand@(7+5)</th>\n",
       "    </tr>\n",
       "  </thead>\n",
       "  <tbody>\n",
       "    <tr>\n",
       "      <th>0</th>\n",
       "      <td>680</td>\n",
       "      <td>qp03wc</td>\n",
       "      <td>2</td>\n",
       "      <td>18.265411</td>\n",
       "      <td>5.160407</td>\n",
       "      <td>0.265987</td>\n",
       "      <td>0.220413</td>\n",
       "      <td>0.245218</td>\n",
       "      <td>0.228526</td>\n",
       "      <td>0.196503</td>\n",
       "      <td>...</td>\n",
       "      <td>0.056765</td>\n",
       "      <td>0.062867</td>\n",
       "      <td>0.075174</td>\n",
       "      <td>0.050739</td>\n",
       "      <td>0.086209</td>\n",
       "      <td>0.115955</td>\n",
       "      <td>0.150357</td>\n",
       "      <td>0.138743</td>\n",
       "      <td>0.199822</td>\n",
       "      <td>0.241169</td>\n",
       "    </tr>\n",
       "    <tr>\n",
       "      <th>1</th>\n",
       "      <td>681</td>\n",
       "      <td>qp03wc</td>\n",
       "      <td>2</td>\n",
       "      <td>18.265411</td>\n",
       "      <td>5.160407</td>\n",
       "      <td>0.218560</td>\n",
       "      <td>0.265987</td>\n",
       "      <td>0.220413</td>\n",
       "      <td>0.245218</td>\n",
       "      <td>0.228526</td>\n",
       "      <td>...</td>\n",
       "      <td>0.069417</td>\n",
       "      <td>0.056765</td>\n",
       "      <td>0.062867</td>\n",
       "      <td>0.075174</td>\n",
       "      <td>0.050739</td>\n",
       "      <td>0.150357</td>\n",
       "      <td>0.138743</td>\n",
       "      <td>0.199822</td>\n",
       "      <td>0.241169</td>\n",
       "      <td>0.187321</td>\n",
       "    </tr>\n",
       "    <tr>\n",
       "      <th>2</th>\n",
       "      <td>682</td>\n",
       "      <td>qp03wc</td>\n",
       "      <td>2</td>\n",
       "      <td>18.265411</td>\n",
       "      <td>5.160407</td>\n",
       "      <td>0.265296</td>\n",
       "      <td>0.218560</td>\n",
       "      <td>0.265987</td>\n",
       "      <td>0.220413</td>\n",
       "      <td>0.245218</td>\n",
       "      <td>...</td>\n",
       "      <td>0.079853</td>\n",
       "      <td>0.069417</td>\n",
       "      <td>0.056765</td>\n",
       "      <td>0.062867</td>\n",
       "      <td>0.075174</td>\n",
       "      <td>0.138743</td>\n",
       "      <td>0.199822</td>\n",
       "      <td>0.241169</td>\n",
       "      <td>0.187321</td>\n",
       "      <td>0.193693</td>\n",
       "    </tr>\n",
       "    <tr>\n",
       "      <th>3</th>\n",
       "      <td>683</td>\n",
       "      <td>qp03wc</td>\n",
       "      <td>2</td>\n",
       "      <td>18.265411</td>\n",
       "      <td>5.160407</td>\n",
       "      <td>0.252746</td>\n",
       "      <td>0.265296</td>\n",
       "      <td>0.218560</td>\n",
       "      <td>0.265987</td>\n",
       "      <td>0.220413</td>\n",
       "      <td>...</td>\n",
       "      <td>0.119192</td>\n",
       "      <td>0.079853</td>\n",
       "      <td>0.069417</td>\n",
       "      <td>0.056765</td>\n",
       "      <td>0.062867</td>\n",
       "      <td>0.199822</td>\n",
       "      <td>0.241169</td>\n",
       "      <td>0.187321</td>\n",
       "      <td>0.193693</td>\n",
       "      <td>0.267803</td>\n",
       "    </tr>\n",
       "    <tr>\n",
       "      <th>4</th>\n",
       "      <td>684</td>\n",
       "      <td>qp03wc</td>\n",
       "      <td>3</td>\n",
       "      <td>18.265411</td>\n",
       "      <td>5.160407</td>\n",
       "      <td>0.257119</td>\n",
       "      <td>0.252746</td>\n",
       "      <td>0.265296</td>\n",
       "      <td>0.218560</td>\n",
       "      <td>0.265987</td>\n",
       "      <td>...</td>\n",
       "      <td>0.115955</td>\n",
       "      <td>0.119192</td>\n",
       "      <td>0.079853</td>\n",
       "      <td>0.069417</td>\n",
       "      <td>0.056765</td>\n",
       "      <td>0.241169</td>\n",
       "      <td>0.187321</td>\n",
       "      <td>0.193693</td>\n",
       "      <td>0.267803</td>\n",
       "      <td>0.272623</td>\n",
       "    </tr>\n",
       "  </tbody>\n",
       "</table>\n",
       "<p>5 rows × 109 columns</p>\n",
       "</div>"
      ],
      "text/plain": [
       "   order geohash6  hour  distance_poi1  distance_poi2  demand@(0-0)  \\\n",
       "0    680   qp03wc     2      18.265411       5.160407      0.265987   \n",
       "1    681   qp03wc     2      18.265411       5.160407      0.218560   \n",
       "2    682   qp03wc     2      18.265411       5.160407      0.265296   \n",
       "3    683   qp03wc     2      18.265411       5.160407      0.252746   \n",
       "4    684   qp03wc     3      18.265411       5.160407      0.257119   \n",
       "\n",
       "   demand@(0-1)  demand@(0-2)  demand@(0-3)  demand@(0-4)      ...       \\\n",
       "0      0.220413      0.245218      0.228526      0.196503      ...        \n",
       "1      0.265987      0.220413      0.245218      0.228526      ...        \n",
       "2      0.218560      0.265987      0.220413      0.245218      ...        \n",
       "3      0.265296      0.218560      0.265987      0.220413      ...        \n",
       "4      0.252746      0.265296      0.218560      0.265987      ...        \n",
       "\n",
       "   demand@(7-3)  demand@(7-4)  demand@(7-5)  demand@(7-6)  demand@(7-7)  \\\n",
       "0      0.056765      0.062867      0.075174      0.050739      0.086209   \n",
       "1      0.069417      0.056765      0.062867      0.075174      0.050739   \n",
       "2      0.079853      0.069417      0.056765      0.062867      0.075174   \n",
       "3      0.119192      0.079853      0.069417      0.056765      0.062867   \n",
       "4      0.115955      0.119192      0.079853      0.069417      0.056765   \n",
       "\n",
       "   demand@(7+1)  demand@(7+2)  demand@(7+3)  demand@(7+4)  demand@(7+5)  \n",
       "0      0.115955      0.150357      0.138743      0.199822      0.241169  \n",
       "1      0.150357      0.138743      0.199822      0.241169      0.187321  \n",
       "2      0.138743      0.199822      0.241169      0.187321      0.193693  \n",
       "3      0.199822      0.241169      0.187321      0.193693      0.267803  \n",
       "4      0.241169      0.187321      0.193693      0.267803      0.272623  \n",
       "\n",
       "[5 rows x 109 columns]"
      ]
     },
     "execution_count": 18,
     "metadata": {},
     "output_type": "execute_result"
    }
   ],
   "source": [
    "df.head()"
   ]
  },
  {
   "cell_type": "code",
   "execution_count": 19,
   "metadata": {},
   "outputs": [
    {
     "data": {
      "text/plain": [
       "(6872259, 109)"
      ]
     },
     "execution_count": 19,
     "metadata": {},
     "output_type": "execute_result"
    }
   ],
   "source": [
    "df.shape"
   ]
  },
  {
   "cell_type": "code",
   "execution_count": null,
   "metadata": {},
   "outputs": [],
   "source": []
  },
  {
   "cell_type": "code",
   "execution_count": null,
   "metadata": {},
   "outputs": [],
   "source": []
  },
  {
   "cell_type": "code",
   "execution_count": null,
   "metadata": {},
   "outputs": [],
   "source": []
  },
  {
   "cell_type": "code",
   "execution_count": null,
   "metadata": {},
   "outputs": [],
   "source": []
  },
  {
   "cell_type": "code",
   "execution_count": null,
   "metadata": {},
   "outputs": [],
   "source": []
  },
  {
   "cell_type": "code",
   "execution_count": null,
   "metadata": {},
   "outputs": [],
   "source": []
  },
  {
   "cell_type": "code",
   "execution_count": null,
   "metadata": {},
   "outputs": [],
   "source": []
  },
  {
   "cell_type": "code",
   "execution_count": null,
   "metadata": {},
   "outputs": [],
   "source": []
  },
  {
   "cell_type": "code",
   "execution_count": null,
   "metadata": {},
   "outputs": [],
   "source": []
  },
  {
   "cell_type": "code",
   "execution_count": null,
   "metadata": {},
   "outputs": [],
   "source": []
  },
  {
   "cell_type": "code",
   "execution_count": null,
   "metadata": {},
   "outputs": [],
   "source": []
  },
  {
   "cell_type": "code",
   "execution_count": null,
   "metadata": {},
   "outputs": [],
   "source": []
  },
  {
   "cell_type": "code",
   "execution_count": null,
   "metadata": {},
   "outputs": [],
   "source": []
  },
  {
   "cell_type": "code",
   "execution_count": null,
   "metadata": {},
   "outputs": [],
   "source": []
  },
  {
   "cell_type": "code",
   "execution_count": null,
   "metadata": {},
   "outputs": [],
   "source": []
  },
  {
   "cell_type": "code",
   "execution_count": null,
   "metadata": {},
   "outputs": [],
   "source": []
  },
  {
   "cell_type": "code",
   "execution_count": null,
   "metadata": {},
   "outputs": [],
   "source": []
  },
  {
   "cell_type": "code",
   "execution_count": null,
   "metadata": {},
   "outputs": [],
   "source": []
  },
  {
   "cell_type": "code",
   "execution_count": null,
   "metadata": {},
   "outputs": [],
   "source": []
  },
  {
   "cell_type": "code",
   "execution_count": null,
   "metadata": {},
   "outputs": [],
   "source": []
  },
  {
   "cell_type": "code",
   "execution_count": null,
   "metadata": {},
   "outputs": [],
   "source": []
  },
  {
   "cell_type": "code",
   "execution_count": null,
   "metadata": {},
   "outputs": [],
   "source": []
  },
  {
   "cell_type": "code",
   "execution_count": null,
   "metadata": {},
   "outputs": [],
   "source": []
  },
  {
   "cell_type": "code",
   "execution_count": 2,
   "metadata": {},
   "outputs": [],
   "source": [
    "import pandas as pd\n",
    "import numpy as np"
   ]
  },
  {
   "cell_type": "code",
   "execution_count": 3,
   "metadata": {},
   "outputs": [],
   "source": [
    "train_df = pd.read_csv('data/d1/2_train_formatted_time_series_data.csv')\n",
    "eval_df = pd.read_csv('data/d1/2_eval_formatted_time_series_data.csv')"
   ]
  },
  {
   "cell_type": "code",
   "execution_count": 4,
   "metadata": {},
   "outputs": [
    {
     "data": {
      "text/plain": [
       "Index(['order', 'geohash6', 'hour', 'distance_poi1', 'distance_poi2',\n",
       "       'demand@(0-0)', 'demand@(0-1)', 'demand@(0-2)', 'demand@(0-3)',\n",
       "       'demand@(0-4)',\n",
       "       ...\n",
       "       'demand@(7-3)', 'demand@(7-4)', 'demand@(7-5)', 'demand@(7-6)',\n",
       "       'demand@(7-7)', 'demand@(7+1)', 'demand@(7+2)', 'demand@(7+3)',\n",
       "       'demand@(7+4)', 'demand@(7+5)'],\n",
       "      dtype='object', length=109)"
      ]
     },
     "execution_count": 4,
     "metadata": {},
     "output_type": "execute_result"
    }
   ],
   "source": [
    "eval_df.columns"
   ]
  },
  {
   "cell_type": "code",
   "execution_count": 5,
   "metadata": {},
   "outputs": [],
   "source": [
    "MAX_ORDER = 5856\n",
    "PREV_DAY = 7 # use previous 7 days data\n",
    "INPUT_OFFSET = 8 # (T-x); x = 7\n",
    "OUTPUT_OFFSET = 5 # (T+5)"
   ]
  },
  {
   "cell_type": "code",
   "execution_count": 6,
   "metadata": {},
   "outputs": [],
   "source": [
    "cnn_features = []\n",
    "for day in range(1, PREV_DAY+1):\n",
    "    for in_off in range(INPUT_OFFSET):\n",
    "        cnn_features.append('demand@({0}-{1})'.format(day, in_off))\n",
    "    for out_off in range(1, OUTPUT_OFFSET+1):\n",
    "        cnn_features.append('demand@({0}+{1})'.format(day, out_off))"
   ]
  },
  {
   "cell_type": "code",
   "execution_count": 7,
   "metadata": {},
   "outputs": [],
   "source": [
    "X_cnn_train = train_df[cnn_features]\n",
    "X_cnn_eval = eval_df[cnn_features]"
   ]
  },
  {
   "cell_type": "code",
   "execution_count": 8,
   "metadata": {},
   "outputs": [],
   "source": [
    "dnn_features = ['hour', 'distance_poi1', 'distance_poi2']"
   ]
  },
  {
   "cell_type": "code",
   "execution_count": 9,
   "metadata": {},
   "outputs": [],
   "source": [
    "X_dnn_train = train_df[dnn_features]\n",
    "X_dnn_eval = eval_df[dnn_features]"
   ]
  },
  {
   "cell_type": "code",
   "execution_count": 10,
   "metadata": {},
   "outputs": [],
   "source": [
    "rnn_features = []\n",
    "day = 0\n",
    "for in_off in range(INPUT_OFFSET):\n",
    "    rnn_features.append('demand@({0}-{1})'.format(day, in_off))"
   ]
  },
  {
   "cell_type": "code",
   "execution_count": 11,
   "metadata": {},
   "outputs": [],
   "source": [
    "X_rnn_train = train_df[rnn_features]\n",
    "X_rnn_eval = eval_df[rnn_features]"
   ]
  },
  {
   "cell_type": "code",
   "execution_count": 12,
   "metadata": {},
   "outputs": [],
   "source": [
    "target_labels = []\n",
    "day = 0\n",
    "for out_off in range(1, OUTPUT_OFFSET+1):\n",
    "    target_labels.append('demand@({0}+{1})'.format(day, out_off))"
   ]
  },
  {
   "cell_type": "code",
   "execution_count": 13,
   "metadata": {},
   "outputs": [],
   "source": [
    "Y_train = train_df[target_labels]\n",
    "Y_eval = eval_df[target_labels]"
   ]
  },
  {
   "cell_type": "code",
   "execution_count": null,
   "metadata": {},
   "outputs": [],
   "source": []
  },
  {
   "cell_type": "code",
   "execution_count": null,
   "metadata": {},
   "outputs": [],
   "source": []
  },
  {
   "cell_type": "code",
   "execution_count": null,
   "metadata": {},
   "outputs": [],
   "source": []
  },
  {
   "cell_type": "code",
   "execution_count": 14,
   "metadata": {},
   "outputs": [
    {
     "name": "stderr",
     "output_type": "stream",
     "text": [
      "Using TensorFlow backend.\n"
     ]
    }
   ],
   "source": [
    "from keras.models import Model\n",
    "from keras.layers import *\n",
    "from keras.activations import *\n",
    "from keras.optimizers import Adagrad\n",
    "from keras.losses import (\n",
    "    mean_absolute_percentage_error,\n",
    "    mean_squared_error,\n",
    ")"
   ]
  },
  {
   "cell_type": "code",
   "execution_count": 15,
   "metadata": {},
   "outputs": [
    {
     "data": {
      "text/plain": [
       "'1.14.1-dev20190607'"
      ]
     },
     "execution_count": 15,
     "metadata": {},
     "output_type": "execute_result"
    }
   ],
   "source": [
    "import tensorflow as tf\n",
    "tf.__version__"
   ]
  },
  {
   "cell_type": "code",
   "execution_count": 42,
   "metadata": {},
   "outputs": [],
   "source": [
    "# TF 1.13 and python 3.7 are having troubles with batchnorm and dropout\n",
    "\n",
    "cnn_inputs = Input(shape=(len(cnn_features),))\n",
    "dnn_inputs = Input(shape=(len(dnn_features),))\n",
    "rnn_inputs = Input(shape=(len(rnn_features),))\n",
    "\n",
    "cnn = Reshape((PREV_DAY, INPUT_OFFSET+OUTPUT_OFFSET, ))(cnn_inputs)\n",
    "cnn = Conv1D(16, 2)(cnn)\n",
    "cnn = MaxPool1D(2)(cnn)\n",
    "cnn = Conv1D(8, 2)(cnn)\n",
    "cnn = MaxPool1D(2)(cnn)\n",
    "cnn = Flatten()(cnn)\n",
    "cnn = Model(inputs=cnn_inputs, outputs=cnn)\n",
    "\n",
    "dnn = BatchNormalization()(dnn_inputs)\n",
    "dnn = Dropout(rate=0.3)(dnn)\n",
    "dnn = Dense(32, activation=relu)(dnn_inputs)\n",
    "dnn = Dropout(rate=0.2)(dnn)\n",
    "dnn = Dense(16, activation=relu)(dnn)\n",
    "dnn = Model(inputs=dnn_inputs, outputs=dnn)\n",
    "\n",
    "rnn = Reshape((len(rnn_features), 1, ))(rnn_inputs)\n",
    "rnn = GRU(32, return_sequences=True)(rnn)\n",
    "rnn = GRU(16)(rnn)\n",
    "rnn = Model(inputs=rnn_inputs, outputs=rnn)\n",
    "\n",
    "stacked = concatenate([cnn.output, dnn.output, rnn.output])\n",
    "\n",
    "stacked = BatchNormalization()(stacked)\n",
    "stacked = Dense(64, activation=relu)(stacked)\n",
    "stacked = Dropout(rate=0.5)(stacked)\n",
    "stacked = Dense(32, activation=relu)(stacked)\n",
    "stacked = Dense(16, activation=relu)(stacked)\n",
    "stacked = Dense(5, activation=sigmoid)(stacked)\n",
    "\n",
    "stacked = Model(inputs=[cnn.input, dnn.input, rnn.input], outputs=stacked)"
   ]
  },
  {
   "cell_type": "code",
   "execution_count": 43,
   "metadata": {},
   "outputs": [
    {
     "name": "stdout",
     "output_type": "stream",
     "text": [
      "__________________________________________________________________________________________________\n",
      "Layer (type)                    Output Shape         Param #     Connected to                     \n",
      "==================================================================================================\n",
      "input_25 (InputLayer)           (None, 91)           0                                            \n",
      "__________________________________________________________________________________________________\n",
      "reshape_16 (Reshape)            (None, 7, 13)        0           input_25[0][0]                   \n",
      "__________________________________________________________________________________________________\n",
      "conv1d_17 (Conv1D)              (None, 6, 16)        432         reshape_16[0][0]                 \n",
      "__________________________________________________________________________________________________\n",
      "max_pooling1d_17 (MaxPooling1D) (None, 3, 16)        0           conv1d_17[0][0]                  \n",
      "__________________________________________________________________________________________________\n",
      "input_26 (InputLayer)           (None, 3)            0                                            \n",
      "__________________________________________________________________________________________________\n",
      "input_27 (InputLayer)           (None, 8)            0                                            \n",
      "__________________________________________________________________________________________________\n",
      "conv1d_18 (Conv1D)              (None, 2, 8)         264         max_pooling1d_17[0][0]           \n",
      "__________________________________________________________________________________________________\n",
      "dense_37 (Dense)                (None, 32)           128         input_26[0][0]                   \n",
      "__________________________________________________________________________________________________\n",
      "reshape_17 (Reshape)            (None, 8, 1)         0           input_27[0][0]                   \n",
      "__________________________________________________________________________________________________\n",
      "max_pooling1d_18 (MaxPooling1D) (None, 1, 8)         0           conv1d_18[0][0]                  \n",
      "__________________________________________________________________________________________________\n",
      "dropout_12 (Dropout)            (None, 32)           0           dense_37[0][0]                   \n",
      "__________________________________________________________________________________________________\n",
      "gru_15 (GRU)                    (None, 8, 32)        3264        reshape_17[0][0]                 \n",
      "__________________________________________________________________________________________________\n",
      "flatten_9 (Flatten)             (None, 8)            0           max_pooling1d_18[0][0]           \n",
      "__________________________________________________________________________________________________\n",
      "dense_38 (Dense)                (None, 16)           528         dropout_12[0][0]                 \n",
      "__________________________________________________________________________________________________\n",
      "gru_16 (GRU)                    (None, 16)           2352        gru_15[0][0]                     \n",
      "__________________________________________________________________________________________________\n",
      "concatenate_8 (Concatenate)     (None, 40)           0           flatten_9[0][0]                  \n",
      "                                                                 dense_38[0][0]                   \n",
      "                                                                 gru_16[0][0]                     \n",
      "__________________________________________________________________________________________________\n",
      "batch_normalization_14 (BatchNo (None, 40)           160         concatenate_8[0][0]              \n",
      "__________________________________________________________________________________________________\n",
      "dense_39 (Dense)                (None, 64)           2624        batch_normalization_14[0][0]     \n",
      "__________________________________________________________________________________________________\n",
      "dropout_13 (Dropout)            (None, 64)           0           dense_39[0][0]                   \n",
      "__________________________________________________________________________________________________\n",
      "dense_40 (Dense)                (None, 32)           2080        dropout_13[0][0]                 \n",
      "__________________________________________________________________________________________________\n",
      "dense_41 (Dense)                (None, 5)            165         dense_40[0][0]                   \n",
      "==================================================================================================\n",
      "Total params: 11,997\n",
      "Trainable params: 11,917\n",
      "Non-trainable params: 80\n",
      "__________________________________________________________________________________________________\n"
     ]
    }
   ],
   "source": [
    "stacked.summary()"
   ]
  },
  {
   "cell_type": "code",
   "execution_count": 44,
   "metadata": {},
   "outputs": [],
   "source": [
    "stacked.compile(\n",
    "    optimizer=Adagrad(lr=0.03),\n",
    "    loss=mean_squared_error,\n",
    "    metrics=[mean_absolute_percentage_error],\n",
    ")"
   ]
  },
  {
   "cell_type": "code",
   "execution_count": 45,
   "metadata": {},
   "outputs": [
    {
     "name": "stdout",
     "output_type": "stream",
     "text": [
      "Train on 5476809 samples, validate on 1395450 samples\n",
      "Epoch 1/16\n",
      "5476809/5476809 [==============================] - 378s 69us/step - loss: 0.0012 - mean_absolute_percentage_error: 2031719.4548 - val_loss: 0.0015 - val_mean_absolute_percentage_error: 1120497.0712\n",
      "Epoch 2/16\n",
      "5476809/5476809 [==============================] - 408s 75us/step - loss: 9.5088e-04 - mean_absolute_percentage_error: 1652879.2805 - val_loss: 0.0025 - val_mean_absolute_percentage_error: 1590883.3298\n",
      "Epoch 3/16\n",
      "5476809/5476809 [==============================] - 417s 76us/step - loss: 9.1949e-04 - mean_absolute_percentage_error: 1582728.8792 - val_loss: 0.0022 - val_mean_absolute_percentage_error: 748521.4637\n",
      "Epoch 4/16\n",
      "5476809/5476809 [==============================] - 422s 77us/step - loss: 9.0210e-04 - mean_absolute_percentage_error: 1539661.6601 - val_loss: 0.0020 - val_mean_absolute_percentage_error: 258112.4799\n",
      "Epoch 5/16\n",
      "5476809/5476809 [==============================] - 438s 80us/step - loss: 8.8965e-04 - mean_absolute_percentage_error: 1516918.2499 - val_loss: 0.0031 - val_mean_absolute_percentage_error: 3073853.9990\n",
      "Epoch 6/16\n",
      "5476809/5476809 [==============================] - 457s 83us/step - loss: 8.8290e-04 - mean_absolute_percentage_error: 1499640.7650 - val_loss: 0.0031 - val_mean_absolute_percentage_error: 2459265.8320\n",
      "Epoch 7/16\n",
      "5476809/5476809 [==============================] - 460s 84us/step - loss: 8.7615e-04 - mean_absolute_percentage_error: 1485921.8636 - val_loss: 0.0037 - val_mean_absolute_percentage_error: 2737844.1237\n",
      "Epoch 8/16\n",
      "5476809/5476809 [==============================] - 514s 94us/step - loss: 8.7041e-04 - mean_absolute_percentage_error: 1469657.0462 - val_loss: 0.0026 - val_mean_absolute_percentage_error: 990303.1582\n",
      "Epoch 9/16\n",
      "5476809/5476809 [==============================] - 550s 100us/step - loss: 8.6696e-04 - mean_absolute_percentage_error: 1460723.3118 - val_loss: 0.0039 - val_mean_absolute_percentage_error: 4974998.3433\n",
      "Epoch 10/16\n",
      "5476809/5476809 [==============================] - 514s 94us/step - loss: 8.6345e-04 - mean_absolute_percentage_error: 1455394.5920 - val_loss: 0.0029 - val_mean_absolute_percentage_error: 1551806.8080\n",
      "Epoch 11/16\n",
      "5476809/5476809 [==============================] - 566s 103us/step - loss: 8.5980e-04 - mean_absolute_percentage_error: 1447114.3149 - val_loss: 0.0031 - val_mean_absolute_percentage_error: 2079657.4997\n",
      "Epoch 12/16\n",
      "5476809/5476809 [==============================] - 618s 113us/step - loss: 8.5686e-04 - mean_absolute_percentage_error: 1441986.5425 - val_loss: 0.0029 - val_mean_absolute_percentage_error: 1859375.3992\n",
      "Epoch 13/16\n",
      "5476809/5476809 [==============================] - 568s 104us/step - loss: 8.5383e-04 - mean_absolute_percentage_error: 1440009.2042 - val_loss: 0.0040 - val_mean_absolute_percentage_error: 5193957.9505\n",
      "Epoch 14/16\n",
      "5476809/5476809 [==============================] - 591s 108us/step - loss: 8.4981e-04 - mean_absolute_percentage_error: 1436573.6398 - val_loss: 0.0033 - val_mean_absolute_percentage_error: 2369308.1903\n",
      "Epoch 15/16\n",
      "5476809/5476809 [==============================] - 632s 115us/step - loss: 8.4995e-04 - mean_absolute_percentage_error: 1430894.9187 - val_loss: 0.0038 - val_mean_absolute_percentage_error: 5261452.3886\n",
      "Epoch 16/16\n",
      "5476809/5476809 [==============================] - 494s 90us/step - loss: 8.4630e-04 - mean_absolute_percentage_error: 1428567.1108 - val_loss: 0.0032 - val_mean_absolute_percentage_error: 1714891.8055\n"
     ]
    },
    {
     "data": {
      "text/plain": [
       "<keras.callbacks.History at 0x21124c128>"
      ]
     },
     "execution_count": 45,
     "metadata": {},
     "output_type": "execute_result"
    }
   ],
   "source": [
    "stacked.fit(\n",
    "    [X_cnn_train, X_dnn_train, X_rnn_train],\n",
    "    Y_train,\n",
    "    batch_size=256,\n",
    "    epochs=16,\n",
    "    validation_data=([X_cnn_eval, X_dnn_eval, X_rnn_eval], Y_eval)\n",
    ")"
   ]
  },
  {
   "cell_type": "code",
   "execution_count": 46,
   "metadata": {},
   "outputs": [],
   "source": [
    "stacked.save(\"cnn_dnn_rnn_stacked_08_06_2019.h5\")"
   ]
  },
  {
   "cell_type": "code",
   "execution_count": null,
   "metadata": {},
   "outputs": [],
   "source": []
  },
  {
   "cell_type": "code",
   "execution_count": null,
   "metadata": {},
   "outputs": [],
   "source": []
  },
  {
   "cell_type": "code",
   "execution_count": null,
   "metadata": {},
   "outputs": [],
   "source": []
  },
  {
   "cell_type": "code",
   "execution_count": 86,
   "metadata": {},
   "outputs": [],
   "source": [
    "X_raw_dnn_train = train_df[dnn_features + rnn_features + cnn_features]\n",
    "X_raw_dnn_eval = eval_df[dnn_features + rnn_features + cnn_features]"
   ]
  },
  {
   "cell_type": "code",
   "execution_count": 87,
   "metadata": {},
   "outputs": [],
   "source": [
    "raw_dnn_inputs = Input(shape=(len(dnn_features)+len(rnn_features)+len(cnn_features),))\n",
    "\n",
    "stacked = Dense(128, activation=relu)(raw_dnn_inputs)\n",
    "# stacked = Dropout(0.2)(stacked)\n",
    "stacked = Dense(64, activation=relu)(stacked)\n",
    "stacked = Dense(32, activation=relu)(stacked)\n",
    "stacked = Dense(5, activation=sigmoid)(stacked)\n",
    "\n",
    "stacked = Model(inputs=raw_dnn_inputs, outputs=stacked)"
   ]
  },
  {
   "cell_type": "code",
   "execution_count": 88,
   "metadata": {},
   "outputs": [
    {
     "name": "stdout",
     "output_type": "stream",
     "text": [
      "_________________________________________________________________\n",
      "Layer (type)                 Output Shape              Param #   \n",
      "=================================================================\n",
      "input_44 (InputLayer)        (None, 102)               0         \n",
      "_________________________________________________________________\n",
      "dense_51 (Dense)             (None, 128)               13184     \n",
      "_________________________________________________________________\n",
      "dense_52 (Dense)             (None, 64)                8256      \n",
      "_________________________________________________________________\n",
      "dense_53 (Dense)             (None, 32)                2080      \n",
      "_________________________________________________________________\n",
      "dense_54 (Dense)             (None, 5)                 165       \n",
      "=================================================================\n",
      "Total params: 23,685\n",
      "Trainable params: 23,685\n",
      "Non-trainable params: 0\n",
      "_________________________________________________________________\n"
     ]
    }
   ],
   "source": [
    "stacked.summary()"
   ]
  },
  {
   "cell_type": "code",
   "execution_count": 89,
   "metadata": {},
   "outputs": [],
   "source": [
    "stacked.compile(\n",
    "    optimizer=Adagrad(lr=0.03),\n",
    "    loss=mean_squared_error,\n",
    "    metrics=[mean_absolute_percentage_error],\n",
    ")"
   ]
  },
  {
   "cell_type": "code",
   "execution_count": 90,
   "metadata": {},
   "outputs": [
    {
     "name": "stdout",
     "output_type": "stream",
     "text": [
      "Train on 5476809 samples, validate on 1395450 samples\n",
      "Epoch 1/1\n",
      "5476809/5476809 [==============================] - 77s 14us/step - loss: 0.0189 - mean_absolute_percentage_error: 16178.1796 - val_loss: 0.0233 - val_mean_absolute_percentage_error: 57.0488\n"
     ]
    },
    {
     "data": {
      "text/plain": [
       "<keras.callbacks.History at 0x169ed0400>"
      ]
     },
     "execution_count": 90,
     "metadata": {},
     "output_type": "execute_result"
    }
   ],
   "source": [
    "stacked.fit(\n",
    "    X_raw_dnn_train,\n",
    "    Y_train,\n",
    "    batch_size=256,\n",
    "    epochs=1,\n",
    "    validation_data=(X_raw_dnn_eval, Y_eval)\n",
    ")"
   ]
  },
  {
   "cell_type": "code",
   "execution_count": null,
   "metadata": {},
   "outputs": [],
   "source": []
  },
  {
   "cell_type": "code",
   "execution_count": null,
   "metadata": {},
   "outputs": [],
   "source": []
  },
  {
   "cell_type": "code",
   "execution_count": null,
   "metadata": {},
   "outputs": [],
   "source": []
  },
  {
   "cell_type": "code",
   "execution_count": null,
   "metadata": {},
   "outputs": [],
   "source": []
  },
  {
   "cell_type": "code",
   "execution_count": null,
   "metadata": {},
   "outputs": [],
   "source": []
  },
  {
   "cell_type": "code",
   "execution_count": 51,
   "metadata": {},
   "outputs": [],
   "source": [
    "stacked.save(\"cnn_dnn_stacked_07_06_2019.h5\")"
   ]
  },
  {
   "cell_type": "code",
   "execution_count": 39,
   "metadata": {},
   "outputs": [],
   "source": [
    "preds = stacked.predict([X_cnn_eval, X_dnn_eval])"
   ]
  },
  {
   "cell_type": "code",
   "execution_count": 40,
   "metadata": {},
   "outputs": [
    {
     "data": {
      "text/plain": [
       "(1395450, 5)"
      ]
     },
     "execution_count": 40,
     "metadata": {},
     "output_type": "execute_result"
    }
   ],
   "source": [
    "preds.shape"
   ]
  },
  {
   "cell_type": "code",
   "execution_count": 42,
   "metadata": {},
   "outputs": [
    {
     "data": {
      "text/plain": [
       "(1395450, 5)"
      ]
     },
     "execution_count": 42,
     "metadata": {},
     "output_type": "execute_result"
    }
   ],
   "source": [
    "Y_eval.shape"
   ]
  },
  {
   "cell_type": "code",
   "execution_count": 50,
   "metadata": {},
   "outputs": [
    {
     "data": {
      "text/plain": [
       "array([[0.2101048 , 0.22818479, 0.22061086, 0.24883032, 0.24589425],\n",
       "       [0.22175893, 0.24191386, 0.23595694, 0.26343194, 0.2619503 ],\n",
       "       [0.23415118, 0.25130135, 0.24263093, 0.26685667, 0.26254362],\n",
       "       [0.2378572 , 0.24775392, 0.23169446, 0.25342745, 0.24514061],\n",
       "       [0.23342663, 0.23944372, 0.2194373 , 0.23562348, 0.22893503]],\n",
       "      dtype=float32)"
      ]
     },
     "execution_count": 50,
     "metadata": {},
     "output_type": "execute_result"
    }
   ],
   "source": [
    "preds[:5]"
   ]
  },
  {
   "cell_type": "code",
   "execution_count": 49,
   "metadata": {},
   "outputs": [
    {
     "data": {
      "text/html": [
       "<div>\n",
       "<style scoped>\n",
       "    .dataframe tbody tr th:only-of-type {\n",
       "        vertical-align: middle;\n",
       "    }\n",
       "\n",
       "    .dataframe tbody tr th {\n",
       "        vertical-align: top;\n",
       "    }\n",
       "\n",
       "    .dataframe thead th {\n",
       "        text-align: right;\n",
       "    }\n",
       "</style>\n",
       "<table border=\"1\" class=\"dataframe\">\n",
       "  <thead>\n",
       "    <tr style=\"text-align: right;\">\n",
       "      <th></th>\n",
       "      <th>demand@(0+1)</th>\n",
       "      <th>demand@(0+2)</th>\n",
       "      <th>demand@(0+3)</th>\n",
       "      <th>demand@(0+4)</th>\n",
       "      <th>demand@(0+5)</th>\n",
       "    </tr>\n",
       "  </thead>\n",
       "  <tbody>\n",
       "    <tr>\n",
       "      <th>0</th>\n",
       "      <td>0.184645</td>\n",
       "      <td>0.206627</td>\n",
       "      <td>0.232386</td>\n",
       "      <td>0.255655</td>\n",
       "      <td>0.247960</td>\n",
       "    </tr>\n",
       "    <tr>\n",
       "      <th>1</th>\n",
       "      <td>0.206627</td>\n",
       "      <td>0.232386</td>\n",
       "      <td>0.255655</td>\n",
       "      <td>0.247960</td>\n",
       "      <td>0.275323</td>\n",
       "    </tr>\n",
       "    <tr>\n",
       "      <th>2</th>\n",
       "      <td>0.232386</td>\n",
       "      <td>0.255655</td>\n",
       "      <td>0.247960</td>\n",
       "      <td>0.275323</td>\n",
       "      <td>0.238671</td>\n",
       "    </tr>\n",
       "    <tr>\n",
       "      <th>3</th>\n",
       "      <td>0.255655</td>\n",
       "      <td>0.247960</td>\n",
       "      <td>0.275323</td>\n",
       "      <td>0.238671</td>\n",
       "      <td>0.179991</td>\n",
       "    </tr>\n",
       "    <tr>\n",
       "      <th>4</th>\n",
       "      <td>0.247960</td>\n",
       "      <td>0.275323</td>\n",
       "      <td>0.238671</td>\n",
       "      <td>0.179991</td>\n",
       "      <td>0.191984</td>\n",
       "    </tr>\n",
       "  </tbody>\n",
       "</table>\n",
       "</div>"
      ],
      "text/plain": [
       "   demand@(0+1)  demand@(0+2)  demand@(0+3)  demand@(0+4)  demand@(0+5)\n",
       "0      0.184645      0.206627      0.232386      0.255655      0.247960\n",
       "1      0.206627      0.232386      0.255655      0.247960      0.275323\n",
       "2      0.232386      0.255655      0.247960      0.275323      0.238671\n",
       "3      0.255655      0.247960      0.275323      0.238671      0.179991\n",
       "4      0.247960      0.275323      0.238671      0.179991      0.191984"
      ]
     },
     "execution_count": 49,
     "metadata": {},
     "output_type": "execute_result"
    }
   ],
   "source": [
    "Y_eval.head(5)"
   ]
  },
  {
   "cell_type": "code",
   "execution_count": null,
   "metadata": {},
   "outputs": [],
   "source": []
  }
 ],
 "metadata": {
  "kernelspec": {
   "display_name": "Python 3",
   "language": "python",
   "name": "python3"
  },
  "language_info": {
   "codemirror_mode": {
    "name": "ipython",
    "version": 3
   },
   "file_extension": ".py",
   "mimetype": "text/x-python",
   "name": "python",
   "nbconvert_exporter": "python",
   "pygments_lexer": "ipython3",
   "version": "3.7.3"
  }
 },
 "nbformat": 4,
 "nbformat_minor": 2
}
