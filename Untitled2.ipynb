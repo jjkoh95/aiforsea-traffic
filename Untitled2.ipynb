{
 "cells": [
  {
   "cell_type": "code",
   "execution_count": 4,
   "metadata": {},
   "outputs": [],
   "source": [
    "import numpy as np\n",
    "import pandas as pd\n",
    "import geohash\n",
    "import gc\n",
    "from geopy import distance\n",
    "from tqdm import tqdm_notebook as tqdm"
   ]
  },
  {
   "cell_type": "code",
   "execution_count": 152,
   "metadata": {},
   "outputs": [],
   "source": [
    "df = pd.read_csv('data/formatted_data.csv')"
   ]
  },
  {
   "cell_type": "code",
   "execution_count": 3,
   "metadata": {},
   "outputs": [],
   "source": [
    "def get_distance_from_poi(gh):\n",
    "    POI1 = (-5.35308837890625, 90.8184814453125)\n",
    "    POI2 = (-5.32012939453125, 90.6866455078125)\n",
    "    POI3 = (-5.28167724609375, 90.9173583984375)\n",
    "    POI4 = (-5.45745849609375, 90.6866455078125)\n",
    "    coor = geohash.decode(gh)\n",
    "    return (\n",
    "        distance.distance(POI1, coor).km, \n",
    "        distance.distance(POI2, coor).km,\n",
    "        distance.distance(POI3, coor).km,\n",
    "        distance.distance(POI4, coor).km,\n",
    "    )"
   ]
  },
  {
   "cell_type": "code",
   "execution_count": 4,
   "metadata": {},
   "outputs": [],
   "source": [
    "MAX_ORDER = 5856\n",
    "GEOHASH_LIST = df.geohash6.unique()\n",
    "\n",
    "PREV_DAY = 7 # use previous 7 days data\n",
    "CNN_OFFSET = 8\n",
    "\n",
    "RNN_OFFSET = 11 # 3 hours gap\n",
    "\n",
    "LABELS_OFFSET = 5 # (T+5)\n",
    "\n",
    "MIN_ORDER_VAL = CNN_OFFSET + PREV_DAY*96\n",
    "\n",
    "MAX_ORDER_VAL = MAX_ORDER - LABELS_OFFSET"
   ]
  },
  {
   "cell_type": "code",
   "execution_count": 5,
   "metadata": {},
   "outputs": [
    {
     "data": {
      "application/vnd.jupyter.widget-view+json": {
       "model_id": "7bf73d817198471fbb7cdae01b871ded",
       "version_major": 2,
       "version_minor": 0
      },
      "text/plain": [
       "HBox(children=(IntProgress(value=0, max=1329), HTML(value='')))"
      ]
     },
     "metadata": {},
     "output_type": "display_data"
    },
    {
     "name": "stdout",
     "output_type": "stream",
     "text": [
      "\n"
     ]
    }
   ],
   "source": [
    "formatted_dict = {}\n",
    "index = 0\n",
    "for ind in tqdm(range(len(GEOHASH_LIST))):\n",
    "    \n",
    "    i = ind\n",
    "    gh = GEOHASH_LIST[i]\n",
    "    temp_df = df[df.geohash6 == gh]\n",
    "    temp_df.set_index('order', inplace=True)\n",
    "    temp_dict = temp_df.to_dict('index')\n",
    "    distance_poi1, distance_poi2, distance_poi3, distance_poi4 = get_distance_from_poi(gh)\n",
    "    min_distance_from_poi = min([distance_poi1, distance_poi2, distance_poi3, distance_poi4])\n",
    "    for order in range(MIN_ORDER_VAL, MAX_ORDER_VAL):\n",
    "\n",
    "        formatted_dict[index] = {}\n",
    "        \n",
    "        formatted_dict[index]['order'] = order\n",
    "        \n",
    "        formatted_dict[index]['geohash6'] = gh\n",
    "                \n",
    "        formatted_dict[index]['hour'] = temp_dict[order]['hour'] # please one-hot encode this\n",
    "        \n",
    "        formatted_dict[index]['distance_poi1'] = distance_poi1\n",
    "        \n",
    "        formatted_dict[index]['distance_poi2'] = distance_poi2\n",
    "        \n",
    "        formatted_dict[index]['distance_poi3'] = distance_poi3\n",
    "        \n",
    "        formatted_dict[index]['distance_poi4'] = distance_poi4\n",
    "        \n",
    "        formatted_dict[index]['min_distance_poi'] = min_distance_from_poi\n",
    "        \n",
    "        for day in range(1, PREV_DAY + 1):\n",
    "            \n",
    "            for cnn_off in range(CNN_OFFSET, 0, -1):\n",
    "                formatted_dict[index] \\\n",
    "                    ['demand@({0}-{1})'.format(day, cnn_off)] = temp_dict[order-cnn_off-day*96]['demand']\n",
    "                \n",
    "            formatted_dict[index]['demand@({0}0)'.format(day)] = temp_dict[order-day*96]['demand']\n",
    "            \n",
    "            for cnn_off in range(1, CNN_OFFSET + 1):\n",
    "                formatted_dict[index] \\\n",
    "                    ['demand@({0}+{1})'.format(day, cnn_off)] = temp_dict[order+cnn_off-day*96]['demand']\n",
    "                \n",
    "        day = 0\n",
    "        for rnn_off in range(RNN_OFFSET, -1, -1):\n",
    "            formatted_dict[index] \\\n",
    "                ['demand@({0}-{1})'.format(day, rnn_off)] = temp_dict[order-rnn_off-day*96]['demand']\n",
    "            \n",
    "        for out_off in range(1, LABELS_OFFSET+1):\n",
    "            formatted_dict[index] \\\n",
    "                ['demand@({0}+{1})'.format(day, out_off)] = temp_dict[order+out_off-day*96]['demand']\n",
    "            \n",
    "        index += 1\n",
    "        \n",
    "    del temp_df\n",
    "    del temp_dict\n",
    "    gc.collect()"
   ]
  },
  {
   "cell_type": "code",
   "execution_count": 6,
   "metadata": {
    "scrolled": true
   },
   "outputs": [
    {
     "name": "stdout",
     "output_type": "stream",
     "text": [
      "0\n",
      "100000\n",
      "200000\n",
      "300000\n",
      "400000\n",
      "500000\n",
      "600000\n",
      "700000\n",
      "800000\n",
      "900000\n",
      "1000000\n",
      "1100000\n",
      "1200000\n",
      "1300000\n",
      "1400000\n",
      "1500000\n",
      "1600000\n",
      "1700000\n",
      "1800000\n",
      "1900000\n",
      "2000000\n",
      "2100000\n",
      "2200000\n",
      "2300000\n",
      "2400000\n",
      "2500000\n",
      "2600000\n",
      "2700000\n",
      "2800000\n",
      "2900000\n",
      "3000000\n",
      "3100000\n",
      "3200000\n",
      "3300000\n",
      "3400000\n",
      "3500000\n",
      "3600000\n",
      "3700000\n",
      "3800000\n",
      "3900000\n",
      "4000000\n",
      "4100000\n",
      "4200000\n",
      "4300000\n",
      "4400000\n",
      "4500000\n",
      "4600000\n",
      "4700000\n",
      "4800000\n",
      "4900000\n",
      "5000000\n",
      "5100000\n",
      "5200000\n",
      "5300000\n",
      "5400000\n",
      "5500000\n",
      "5600000\n",
      "5700000\n",
      "5800000\n",
      "5900000\n",
      "6000000\n",
      "6100000\n",
      "6200000\n",
      "6300000\n",
      "6400000\n",
      "6500000\n",
      "6600000\n",
      "6700000\n",
      "6800000\n"
     ]
    }
   ],
   "source": [
    "csv_file = open('data/d2/123_formatted_time_series_data_with_order.csv', 'w')\n",
    "\n",
    "headers = formatted_dict[0].keys()\n",
    "\n",
    "csv_file.write(','.join(headers))\n",
    "csv_file.write('\\n')\n",
    "\n",
    "# for ind in tqdm(range(len(formatted_dict.keys()))):\n",
    "#     i = formatted_dict[formatted_dict.keys()[ind]]\n",
    "\n",
    "for i in formatted_dict:\n",
    "    if i % 100_000 == 0:\n",
    "        print(i)\n",
    "    temp_list = []\n",
    "    for h in headers:\n",
    "        temp_list.append(str(formatted_dict[i][h]))\n",
    "    csv_file.write(','.join(temp_list))\n",
    "    csv_file.write('\\n')\n",
    "\n",
    "csv_file.close()"
   ]
  },
  {
   "cell_type": "code",
   "execution_count": 7,
   "metadata": {},
   "outputs": [
    {
     "data": {
      "text/plain": [
       "47"
      ]
     },
     "execution_count": 7,
     "metadata": {},
     "output_type": "execute_result"
    }
   ],
   "source": [
    "del df\n",
    "del formatted_dict\n",
    "gc.collect()"
   ]
  },
  {
   "cell_type": "code",
   "execution_count": 2,
   "metadata": {},
   "outputs": [],
   "source": [
    "df = pd.read_csv('data/d2/123_formatted_time_series_data_with_order.csv')"
   ]
  },
  {
   "cell_type": "code",
   "execution_count": 3,
   "metadata": {},
   "outputs": [],
   "source": [
    "# day > 50 as our validation set\n",
    "df[df.order <= 50*96].to_csv('data/d2/123_train_formatted_time_series_data.csv', index=False)\n",
    "df[df.order > 50*96].to_csv('data/d2/123_eval_formatted_time_series_data.csv', index=False)"
   ]
  },
  {
   "cell_type": "code",
   "execution_count": null,
   "metadata": {},
   "outputs": [],
   "source": [
    "del df\n",
    "gc.collect()"
   ]
  },
  {
   "cell_type": "code",
   "execution_count": null,
   "metadata": {},
   "outputs": [],
   "source": []
  },
  {
   "cell_type": "code",
   "execution_count": null,
   "metadata": {},
   "outputs": [],
   "source": []
  },
  {
   "cell_type": "code",
   "execution_count": null,
   "metadata": {},
   "outputs": [],
   "source": []
  },
  {
   "cell_type": "code",
   "execution_count": 5,
   "metadata": {},
   "outputs": [],
   "source": [
    "train_df = pd.read_csv('data/d2/123_train_formatted_time_series_data.csv')\n",
    "eval_df = pd.read_csv('data/d2/123_eval_formatted_time_series_data.csv')"
   ]
  },
  {
   "cell_type": "code",
   "execution_count": 6,
   "metadata": {},
   "outputs": [],
   "source": [
    "one_hot = pd.get_dummies(train_df['hour'], prefix='hour')\n",
    "train_df = train_df.drop('hour',axis = 1)\n",
    "train_df = train_df.join(one_hot)"
   ]
  },
  {
   "cell_type": "code",
   "execution_count": 7,
   "metadata": {},
   "outputs": [],
   "source": [
    "one_hot = pd.get_dummies(eval_df['hour'], prefix='hour')\n",
    "eval_df = eval_df.drop('hour',axis = 1)\n",
    "eval_df = eval_df.join(one_hot)"
   ]
  },
  {
   "cell_type": "code",
   "execution_count": 12,
   "metadata": {},
   "outputs": [],
   "source": [
    "# train_df.to_csv('data/d2/123_ohe_train_formatted_time_series_data.csv', index=False)\n",
    "# eval_df.to_csv('data/d2/123_ohe_eval_formatted_time_series_data.csv', index=False)"
   ]
  },
  {
   "cell_type": "code",
   "execution_count": 8,
   "metadata": {},
   "outputs": [],
   "source": [
    "MAX_ORDER = 5856\n",
    "GEOHASH_LIST = train_df.geohash6.unique()\n",
    "\n",
    "PREV_DAY = 7 # use previous 7 days data\n",
    "CNN_OFFSET = 8\n",
    "\n",
    "RNN_OFFSET = 11 # 3 hours gap\n",
    "\n",
    "LABELS_OFFSET = 5 # (T+5)\n",
    "\n",
    "MIN_ORDER_VAL = CNN_OFFSET + PREV_DAY*96\n",
    "\n",
    "MAX_ORDER_VAL = MAX_ORDER - LABELS_OFFSET"
   ]
  },
  {
   "cell_type": "code",
   "execution_count": 9,
   "metadata": {},
   "outputs": [],
   "source": [
    "target_labels = []\n",
    "day = 0\n",
    "for out_off in range(1, LABELS_OFFSET+1):\n",
    "    target_labels.append('demand@({0}+{1})'.format(day, out_off))\n",
    "Y_train = train_df[target_labels]\n",
    "Y_eval = eval_df[target_labels]"
   ]
  },
  {
   "cell_type": "code",
   "execution_count": 187,
   "metadata": {},
   "outputs": [],
   "source": [
    "cnn_features = []\n",
    "for day in range(1, PREV_DAY+1):\n",
    "    for cnn_off in range(CNN_OFFSET, 0, -1):\n",
    "        cnn_features.append('demand@({0}-{1})'.format(day, cnn_off))\n",
    "        \n",
    "    cnn_features.append('demand@({0}0)'.format(day))\n",
    "    \n",
    "    for cnn_off in range(1, CNN_OFFSET+1):\n",
    "        cnn_features.append('demand@({0}+{1})'.format(day, cnn_off))\n",
    "        \n",
    "X_cnn_train = train_df[cnn_features]\n",
    "X_cnn_eval = eval_df[cnn_features]"
   ]
  },
  {
   "cell_type": "code",
   "execution_count": 11,
   "metadata": {},
   "outputs": [],
   "source": [
    "dnn_features = ['distance_poi1', 'distance_poi2', 'distance_poi3', 'distance_poi4', 'min_distance_poi']\n",
    "for i in range(24):\n",
    "    dnn_features.append('hour_{0}'.format(i))\n",
    "X_dnn_train = train_df[dnn_features]\n",
    "X_dnn_eval = eval_df[dnn_features]"
   ]
  },
  {
   "cell_type": "code",
   "execution_count": 12,
   "metadata": {},
   "outputs": [],
   "source": [
    "rnn_features = []\n",
    "day = 0\n",
    "for rnn_off in range(RNN_OFFSET, -1, -1):\n",
    "    rnn_features.append('demand@({0}-{1})'.format(day, rnn_off))\n",
    "X_rnn_train = train_df[rnn_features]\n",
    "X_rnn_eval = eval_df[rnn_features]"
   ]
  },
  {
   "cell_type": "code",
   "execution_count": 2,
   "metadata": {},
   "outputs": [],
   "source": [
    "# import pickle\n",
    "# with open('./data/d2/123_train.pickle', 'rb') as handle:\n",
    "#     train_dict = pickle.load(handle)\n",
    "    \n",
    "# with open('./data/d2/123_eval.pickle', 'rb') as handle:\n",
    "#     eval_dict = pickle.load(handle)"
   ]
  },
  {
   "cell_type": "code",
   "execution_count": 13,
   "metadata": {},
   "outputs": [
    {
     "name": "stderr",
     "output_type": "stream",
     "text": [
      "Using TensorFlow backend.\n"
     ]
    },
    {
     "name": "stdout",
     "output_type": "stream",
     "text": [
      "1.14.1-dev20190607\n"
     ]
    }
   ],
   "source": [
    "from keras.models import (\n",
    "    Model,\n",
    "    load_model,\n",
    ")\n",
    "from keras.layers import *\n",
    "from keras.activations import *\n",
    "from keras.optimizers import *\n",
    "from keras.losses import (\n",
    "    mean_absolute_percentage_error,\n",
    "    mean_squared_error,\n",
    ")\n",
    "import tensorflow as tf\n",
    "print(tf.__version__)"
   ]
  },
  {
   "cell_type": "code",
   "execution_count": 12,
   "metadata": {},
   "outputs": [],
   "source": [
    "def clipped_relu(x):\n",
    "    return relu(x, max_value=1.0)"
   ]
  },
  {
   "cell_type": "code",
   "execution_count": 207,
   "metadata": {},
   "outputs": [
    {
     "data": {
      "text/plain": [
       "383"
      ]
     },
     "execution_count": 207,
     "metadata": {},
     "output_type": "execute_result"
    }
   ],
   "source": [
    "del cnn_inputs, dnn_inputs, rnn_inputs\n",
    "del cnn, dnn, rnn\n",
    "del stacked\n",
    "gc.collect()"
   ]
  },
  {
   "cell_type": "code",
   "execution_count": 208,
   "metadata": {},
   "outputs": [],
   "source": [
    "cnn_inputs = Input(shape=(len(cnn_features),))\n",
    "dnn_inputs = Input(shape=(len(dnn_features),))\n",
    "rnn_inputs = Input(shape=(len(rnn_features),))\n",
    "\n",
    "cnn = Reshape((PREV_DAY, CNN_OFFSET*2+1, ))(cnn_inputs)\n",
    "'''depending on how you view your data, i prefer it to be (batch, steps, features)'''\n",
    "cnn = Conv1D(16, 5, activation=relu, padding='same')(cnn)\n",
    "cnn = MaxPool1D(2, 2, padding='same')(cnn)\n",
    "cnn = Conv1D(8, 3, activation=relu, padding='same')(cnn)\n",
    "cnn = MaxPool1D(2, 2, padding='same')(cnn)\n",
    "cnn = Flatten()(cnn)\n",
    "cnn = Model(inputs=cnn_inputs, outputs=cnn)\n",
    "\n",
    "rnn2 = Reshape((PREV_DAY, CNN_OFFSET*2 + 1, ))(cnn_inputs)\n",
    "rnn2 = GRU(32, return_sequences=True)(rnn2)\n",
    "rnn2 = GRU(16)(rnn2)\n",
    "rnn2 = Model(inputs=cnn_inputs, outputs=rnn2)\n",
    "\n",
    "dnn = Dense(32, activation=relu)(dnn_inputs)\n",
    "# dnn = Dropout(rate=0.2)(dnn)\n",
    "dnn = Dense(16, activation=relu)(dnn)\n",
    "dnn = Model(inputs=dnn_inputs, outputs=dnn)\n",
    "\n",
    "rnn = Reshape((len(rnn_features), 1, ))(rnn_inputs) # i have only one feature to feed into RNN\n",
    "rnn = GRU(32, return_sequences=True)(rnn)\n",
    "rnn = GRU(16)(rnn)\n",
    "rnn = Model(inputs=rnn_inputs, outputs=rnn)\n",
    "\n",
    "stacked = concatenate([cnn.output, dnn.output, rnn.output, rnn2.output])\n",
    "\n",
    "# stacked = BatchNormalization()(stacked)\n",
    "stacked = Dense(64, activation=relu)(stacked)\n",
    "# stacked = Dropout(rate=0.4)(stacked)\n",
    "stacked = Dense(32, activation=relu)(stacked)\n",
    "# stacked = Dropout(rate=0.3)(stacked)\n",
    "stacked = Dense(16, activation=relu)(stacked)\n",
    "\n",
    "'''Linear vs clipped relu vs sigmoid vs hard_sigmoid'''\n",
    "# stacked = Dense(5, activation=linear)(stacked)\n",
    "# this is nice, it is linear clipped, but i don't know how to make it work\n",
    "# stacked = Dense(5, activation=clipped_relu)(stacked)\n",
    "# stacked = Dense(5, activation=sigmoid)(stacked)\n",
    "stacked = Dense(5, activation=hard_sigmoid)(stacked)\n",
    "\n",
    "stacked = Model(inputs=[cnn.input, dnn.input, rnn.input], outputs=stacked)"
   ]
  },
  {
   "cell_type": "code",
   "execution_count": 209,
   "metadata": {},
   "outputs": [
    {
     "name": "stdout",
     "output_type": "stream",
     "text": [
      "__________________________________________________________________________________________________\n",
      "Layer (type)                    Output Shape         Param #     Connected to                     \n",
      "==================================================================================================\n",
      "input_80 (InputLayer)           (None, 119)          0                                            \n",
      "__________________________________________________________________________________________________\n",
      "reshape_64 (Reshape)            (None, 7, 17)        0           input_80[0][0]                   \n",
      "__________________________________________________________________________________________________\n",
      "conv1d_57 (Conv1D)              (None, 7, 16)        1376        reshape_64[0][0]                 \n",
      "__________________________________________________________________________________________________\n",
      "max_pooling1d_33 (MaxPooling1D) (None, 4, 16)        0           conv1d_57[0][0]                  \n",
      "__________________________________________________________________________________________________\n",
      "input_82 (InputLayer)           (None, 12)           0                                            \n",
      "__________________________________________________________________________________________________\n",
      "conv1d_58 (Conv1D)              (None, 4, 16)        784         max_pooling1d_33[0][0]           \n",
      "__________________________________________________________________________________________________\n",
      "input_81 (InputLayer)           (None, 29)           0                                            \n",
      "__________________________________________________________________________________________________\n",
      "reshape_66 (Reshape)            (None, 12, 1)        0           input_82[0][0]                   \n",
      "__________________________________________________________________________________________________\n",
      "reshape_65 (Reshape)            (None, 7, 17)        0           input_80[0][0]                   \n",
      "__________________________________________________________________________________________________\n",
      "max_pooling1d_34 (MaxPooling1D) (None, 2, 16)        0           conv1d_58[0][0]                  \n",
      "__________________________________________________________________________________________________\n",
      "dense_173 (Dense)               (None, 32)           960         input_81[0][0]                   \n",
      "__________________________________________________________________________________________________\n",
      "gru_81 (GRU)                    (None, 12, 32)       3264        reshape_66[0][0]                 \n",
      "__________________________________________________________________________________________________\n",
      "gru_79 (GRU)                    (None, 7, 32)        4800        reshape_65[0][0]                 \n",
      "__________________________________________________________________________________________________\n",
      "flatten_25 (Flatten)            (None, 32)           0           max_pooling1d_34[0][0]           \n",
      "__________________________________________________________________________________________________\n",
      "dense_174 (Dense)               (None, 16)           528         dense_173[0][0]                  \n",
      "__________________________________________________________________________________________________\n",
      "gru_82 (GRU)                    (None, 16)           2352        gru_81[0][0]                     \n",
      "__________________________________________________________________________________________________\n",
      "gru_80 (GRU)                    (None, 16)           2352        gru_79[0][0]                     \n",
      "__________________________________________________________________________________________________\n",
      "concatenate_24 (Concatenate)    (None, 80)           0           flatten_25[0][0]                 \n",
      "                                                                 dense_174[0][0]                  \n",
      "                                                                 gru_82[0][0]                     \n",
      "                                                                 gru_80[0][0]                     \n",
      "__________________________________________________________________________________________________\n",
      "dense_175 (Dense)               (None, 128)          10368       concatenate_24[0][0]             \n",
      "__________________________________________________________________________________________________\n",
      "dense_176 (Dense)               (None, 64)           8256        dense_175[0][0]                  \n",
      "__________________________________________________________________________________________________\n",
      "dense_177 (Dense)               (None, 16)           1040        dense_176[0][0]                  \n",
      "__________________________________________________________________________________________________\n",
      "dense_178 (Dense)               (None, 5)            85          dense_177[0][0]                  \n",
      "==================================================================================================\n",
      "Total params: 36,165\n",
      "Trainable params: 36,165\n",
      "Non-trainable params: 0\n",
      "__________________________________________________________________________________________________\n"
     ]
    }
   ],
   "source": [
    "stacked.summary()"
   ]
  },
  {
   "cell_type": "code",
   "execution_count": 210,
   "metadata": {},
   "outputs": [
    {
     "name": "stdout",
     "output_type": "stream",
     "text": [
      "Train on 5476809 samples, validate on 1395450 samples\n",
      "Epoch 1/1\n",
      "5476809/5476809 [==============================] - 605s 111us/step - loss: 8.6854e-04 - mean_absolute_percentage_error: 1060591.9298 - val_loss: 9.1284e-04 - val_mean_absolute_percentage_error: 823919.6063\n",
      "Train on 5476809 samples, validate on 1395450 samples\n",
      "Epoch 1/1\n",
      "5476809/5476809 [==============================] - 592s 108us/step - loss: 7.6123e-04 - mean_absolute_percentage_error: 1080574.1413 - val_loss: 8.9766e-04 - val_mean_absolute_percentage_error: 987618.5114\n",
      "Train on 5476809 samples, validate on 1395450 samples\n",
      "Epoch 1/2\n",
      "5476809/5476809 [==============================] - 568s 104us/step - loss: 7.6462e-04 - mean_absolute_percentage_error: 1064960.2346 - val_loss: 8.8614e-04 - val_mean_absolute_percentage_error: 995185.2383\n",
      "Epoch 2/2\n",
      "5476809/5476809 [==============================] - 545s 99us/step - loss: 7.4507e-04 - mean_absolute_percentage_error: 1091514.6028 - val_loss: 8.8410e-04 - val_mean_absolute_percentage_error: 1069800.2558\n",
      "Train on 5476809 samples, validate on 1395450 samples\n",
      "Epoch 1/4\n",
      "5476809/5476809 [==============================] - 587s 107us/step - loss: 7.3934e-04 - mean_absolute_percentage_error: 1105263.4757 - val_loss: 8.8207e-04 - val_mean_absolute_percentage_error: 858747.2699\n",
      "Epoch 2/4\n",
      "5476809/5476809 [==============================] - 549s 100us/step - loss: 7.3668e-04 - mean_absolute_percentage_error: 1112057.8703 - val_loss: 8.7949e-04 - val_mean_absolute_percentage_error: 890244.0582\n",
      "Epoch 3/4\n",
      "5476809/5476809 [==============================] - 538s 98us/step - loss: 7.3561e-04 - mean_absolute_percentage_error: 1113594.6995 - val_loss: 8.7811e-04 - val_mean_absolute_percentage_error: 1014750.7254\n",
      "Epoch 4/4\n",
      "5476809/5476809 [==============================] - 537s 98us/step - loss: 7.3488e-04 - mean_absolute_percentage_error: 1116147.6044 - val_loss: 8.7752e-04 - val_mean_absolute_percentage_error: 929842.3970\n",
      "Train on 5476809 samples, validate on 1395450 samples\n",
      "Epoch 1/2\n",
      "5476809/5476809 [==============================] - 576s 105us/step - loss: 7.3437e-04 - mean_absolute_percentage_error: 1114571.2783 - val_loss: 8.7603e-04 - val_mean_absolute_percentage_error: 1020479.3099\n",
      "Epoch 2/2\n",
      "5476809/5476809 [==============================] - 555s 101us/step - loss: 7.3322e-04 - mean_absolute_percentage_error: 1118688.6846 - val_loss: 8.7642e-04 - val_mean_absolute_percentage_error: 950824.3608\n",
      "Train on 5476809 samples, validate on 1395450 samples\n",
      "Epoch 1/2\n",
      "5476809/5476809 [==============================] - 610s 111us/step - loss: 7.3271e-04 - mean_absolute_percentage_error: 1117819.5827 - val_loss: 8.7543e-04 - val_mean_absolute_percentage_error: 1035883.7914\n",
      "Epoch 2/2\n",
      "5476809/5476809 [==============================] - 580s 106us/step - loss: 7.3243e-04 - mean_absolute_percentage_error: 1120350.6542 - val_loss: 8.7575e-04 - val_mean_absolute_percentage_error: 930160.9419\n"
     ]
    }
   ],
   "source": [
    "hp = [\n",
    "    (0.01, 1),\n",
    "    (0.001, 1),\n",
    "    (0.005, 2),\n",
    "    (0.001, 4),\n",
    "    (0.0005, 2),\n",
    "    (0.0001, 2),\n",
    "]\n",
    "\n",
    "for lr, ep in hp:\n",
    "    stacked.compile(\n",
    "        optimizer=Adagrad(lr=lr),\n",
    "        loss=mean_squared_error,\n",
    "        metrics=[mean_absolute_percentage_error],\n",
    "    )\n",
    "    \n",
    "    stacked.fit(\n",
    "        [X_cnn_train, X_dnn_train, X_rnn_train],\n",
    "        Y_train,\n",
    "        batch_size=256,\n",
    "        epochs=ep,\n",
    "        validation_data=([X_cnn_eval, X_dnn_eval, X_rnn_eval], Y_eval),\n",
    "    )"
   ]
  },
  {
   "cell_type": "code",
   "execution_count": null,
   "metadata": {},
   "outputs": [],
   "source": []
  },
  {
   "cell_type": "code",
   "execution_count": null,
   "metadata": {},
   "outputs": [],
   "source": []
  },
  {
   "cell_type": "code",
   "execution_count": null,
   "metadata": {},
   "outputs": [],
   "source": []
  },
  {
   "cell_type": "code",
   "execution_count": 109,
   "metadata": {},
   "outputs": [],
   "source": [
    "stacked.save(\"cnn_rnn_dnn_rnn_stacked_10_06_2019.h5\")"
   ]
  },
  {
   "cell_type": "code",
   "execution_count": null,
   "metadata": {},
   "outputs": [],
   "source": []
  },
  {
   "cell_type": "code",
   "execution_count": 63,
   "metadata": {},
   "outputs": [],
   "source": [
    "stacked.compile(\n",
    "    optimizer=Adagrad(lr=0.03),\n",
    "    loss=mean_squared_error,\n",
    "    metrics=[mean_absolute_percentage_error],\n",
    ")"
   ]
  },
  {
   "cell_type": "code",
   "execution_count": 60,
   "metadata": {},
   "outputs": [
    {
     "name": "stdout",
     "output_type": "stream",
     "text": [
      "Train on 5476809 samples, validate on 1395450 samples\n",
      "Epoch 1/1\n",
      "5476809/5476809 [==============================] - 558s 102us/step - loss: 8.3085e-04 - mean_absolute_percentage_error: 2108729.8814 - val_loss: 8.8738e-04 - val_mean_absolute_percentage_error: 1580275.5121\n"
     ]
    },
    {
     "data": {
      "text/plain": [
       "<keras.callbacks.History at 0x1637eccc0>"
      ]
     },
     "execution_count": 60,
     "metadata": {},
     "output_type": "execute_result"
    }
   ],
   "source": [
    "stacked.fit(\n",
    "    [X_cnn_train, X_dnn_train, X_rnn_train],\n",
    "    Y_train,\n",
    "    batch_size=256,\n",
    "    epochs=,\n",
    "    validation_data=([X_cnn_eval, X_dnn_eval, X_rnn_eval], Y_eval)\n",
    ")"
   ]
  },
  {
   "cell_type": "code",
   "execution_count": null,
   "metadata": {},
   "outputs": [],
   "source": [
    "stacked.save(\"cnn_dnn_rnn_stacked_09_06_2019_4.h5\")"
   ]
  },
  {
   "cell_type": "code",
   "execution_count": 20,
   "metadata": {},
   "outputs": [
    {
     "name": "stdout",
     "output_type": "stream",
     "text": [
      "1395450/1395450 [==============================] - 38s 27us/step\n"
     ]
    },
    {
     "data": {
      "text/plain": [
       "[0.0008501009462406551, 1172591.7531496603]"
      ]
     },
     "execution_count": 20,
     "metadata": {},
     "output_type": "execute_result"
    }
   ],
   "source": [
    "loss_and_metrics = stacked.evaluate([X_cnn_eval, X_dnn_eval, X_rnn_eval], Y_eval, batch_size=256)\n",
    "loss_and_metrics"
   ]
  },
  {
   "cell_type": "code",
   "execution_count": 12,
   "metadata": {},
   "outputs": [],
   "source": [
    "train_dict = {\n",
    "    'cnn': X_cnn_train,\n",
    "    'dnn': X_dnn_train,\n",
    "    'rnn': X_rnn_train,\n",
    "    'label': Y_train,\n",
    "}\n",
    "\n",
    "eval_dict = {\n",
    "    'cnn': X_cnn_eval,\n",
    "    'dnn': X_dnn_eval,\n",
    "    'rnn': X_rnn_eval,\n",
    "    'label': Y_eval,\n",
    "}\n",
    "\n",
    "with open('./data/d2/123_train.pickle', 'wb') as handle:\n",
    "    pickle.dump(train_dict, handle, protocol=pickle.HIGHEST_PROTOCOL)\n",
    "    \n",
    "with open('./data/d2/123_eval.pickle', 'wb') as handle:\n",
    "    pickle.dump(eval_dict, handle, protocol=pickle.HIGHEST_PROTOCOL)"
   ]
  },
  {
   "cell_type": "code",
   "execution_count": 102,
   "metadata": {},
   "outputs": [],
   "source": [
    "stacked = load_model('cnn_dnn_rnn_stacked_09_06_2019_3.h5')"
   ]
  },
  {
   "cell_type": "code",
   "execution_count": 211,
   "metadata": {},
   "outputs": [
    {
     "data": {
      "text/plain": [
       "array([[0.2541865 , 0.2676375 , 0.27181014, 0.28884757, 0.30760366],\n",
       "       [0.27643868, 0.2872815 , 0.29412508, 0.30842525, 0.3240075 ],\n",
       "       [0.24497917, 0.25971454, 0.2709876 , 0.29159304, 0.31121558],\n",
       "       [0.29200315, 0.30243778, 0.3147701 , 0.32960176, 0.3446563 ],\n",
       "       [0.30414212, 0.31174782, 0.32292545, 0.33544898, 0.34540173],\n",
       "       [0.32780027, 0.3327244 , 0.34020096, 0.34676278, 0.35551935],\n",
       "       [0.38001123, 0.38249725, 0.3894377 , 0.3905192 , 0.39882237],\n",
       "       [0.3552199 , 0.36558527, 0.37793422, 0.390386  , 0.40778542],\n",
       "       [0.3427139 , 0.35851282, 0.37506768, 0.39656383, 0.4190245 ],\n",
       "       [0.37691975, 0.39161086, 0.41168392, 0.4321497 , 0.453538  ]],\n",
       "      dtype=float32)"
      ]
     },
     "execution_count": 211,
     "metadata": {},
     "output_type": "execute_result"
    }
   ],
   "source": [
    "stacked.predict([X_cnn_eval[300:310], X_dnn_eval[300:310], X_rnn_eval[300:310]])"
   ]
  },
  {
   "cell_type": "code",
   "execution_count": 212,
   "metadata": {},
   "outputs": [
    {
     "data": {
      "text/html": [
       "<div>\n",
       "<style scoped>\n",
       "    .dataframe tbody tr th:only-of-type {\n",
       "        vertical-align: middle;\n",
       "    }\n",
       "\n",
       "    .dataframe tbody tr th {\n",
       "        vertical-align: top;\n",
       "    }\n",
       "\n",
       "    .dataframe thead th {\n",
       "        text-align: right;\n",
       "    }\n",
       "</style>\n",
       "<table border=\"1\" class=\"dataframe\">\n",
       "  <thead>\n",
       "    <tr style=\"text-align: right;\">\n",
       "      <th></th>\n",
       "      <th>demand@(0+1)</th>\n",
       "      <th>demand@(0+2)</th>\n",
       "      <th>demand@(0+3)</th>\n",
       "      <th>demand@(0+4)</th>\n",
       "      <th>demand@(0+5)</th>\n",
       "    </tr>\n",
       "  </thead>\n",
       "  <tbody>\n",
       "    <tr>\n",
       "      <th>300</th>\n",
       "      <td>0.269682</td>\n",
       "      <td>0.189206</td>\n",
       "      <td>0.293670</td>\n",
       "      <td>0.292639</td>\n",
       "      <td>0.326831</td>\n",
       "    </tr>\n",
       "    <tr>\n",
       "      <th>301</th>\n",
       "      <td>0.189206</td>\n",
       "      <td>0.293670</td>\n",
       "      <td>0.292639</td>\n",
       "      <td>0.326831</td>\n",
       "      <td>0.406706</td>\n",
       "    </tr>\n",
       "    <tr>\n",
       "      <th>302</th>\n",
       "      <td>0.293670</td>\n",
       "      <td>0.292639</td>\n",
       "      <td>0.326831</td>\n",
       "      <td>0.406706</td>\n",
       "      <td>0.352528</td>\n",
       "    </tr>\n",
       "    <tr>\n",
       "      <th>303</th>\n",
       "      <td>0.292639</td>\n",
       "      <td>0.326831</td>\n",
       "      <td>0.406706</td>\n",
       "      <td>0.352528</td>\n",
       "      <td>0.322895</td>\n",
       "    </tr>\n",
       "    <tr>\n",
       "      <th>304</th>\n",
       "      <td>0.326831</td>\n",
       "      <td>0.406706</td>\n",
       "      <td>0.352528</td>\n",
       "      <td>0.322895</td>\n",
       "      <td>0.370209</td>\n",
       "    </tr>\n",
       "    <tr>\n",
       "      <th>305</th>\n",
       "      <td>0.406706</td>\n",
       "      <td>0.352528</td>\n",
       "      <td>0.322895</td>\n",
       "      <td>0.370209</td>\n",
       "      <td>0.381067</td>\n",
       "    </tr>\n",
       "    <tr>\n",
       "      <th>306</th>\n",
       "      <td>0.352528</td>\n",
       "      <td>0.322895</td>\n",
       "      <td>0.370209</td>\n",
       "      <td>0.381067</td>\n",
       "      <td>0.459268</td>\n",
       "    </tr>\n",
       "    <tr>\n",
       "      <th>307</th>\n",
       "      <td>0.322895</td>\n",
       "      <td>0.370209</td>\n",
       "      <td>0.381067</td>\n",
       "      <td>0.459268</td>\n",
       "      <td>0.465589</td>\n",
       "    </tr>\n",
       "    <tr>\n",
       "      <th>308</th>\n",
       "      <td>0.370209</td>\n",
       "      <td>0.381067</td>\n",
       "      <td>0.459268</td>\n",
       "      <td>0.465589</td>\n",
       "      <td>0.487954</td>\n",
       "    </tr>\n",
       "    <tr>\n",
       "      <th>309</th>\n",
       "      <td>0.381067</td>\n",
       "      <td>0.459268</td>\n",
       "      <td>0.465589</td>\n",
       "      <td>0.487954</td>\n",
       "      <td>0.493344</td>\n",
       "    </tr>\n",
       "  </tbody>\n",
       "</table>\n",
       "</div>"
      ],
      "text/plain": [
       "     demand@(0+1)  demand@(0+2)  demand@(0+3)  demand@(0+4)  demand@(0+5)\n",
       "300      0.269682      0.189206      0.293670      0.292639      0.326831\n",
       "301      0.189206      0.293670      0.292639      0.326831      0.406706\n",
       "302      0.293670      0.292639      0.326831      0.406706      0.352528\n",
       "303      0.292639      0.326831      0.406706      0.352528      0.322895\n",
       "304      0.326831      0.406706      0.352528      0.322895      0.370209\n",
       "305      0.406706      0.352528      0.322895      0.370209      0.381067\n",
       "306      0.352528      0.322895      0.370209      0.381067      0.459268\n",
       "307      0.322895      0.370209      0.381067      0.459268      0.465589\n",
       "308      0.370209      0.381067      0.459268      0.465589      0.487954\n",
       "309      0.381067      0.459268      0.465589      0.487954      0.493344"
      ]
     },
     "execution_count": 212,
     "metadata": {},
     "output_type": "execute_result"
    }
   ],
   "source": [
    "Y_eval.iloc[300:310]"
   ]
  },
  {
   "cell_type": "code",
   "execution_count": 213,
   "metadata": {},
   "outputs": [
    {
     "data": {
      "text/plain": [
       "demand@(0-11)    0.318613\n",
       "demand@(0-10)    0.293713\n",
       "demand@(0-9)     0.277147\n",
       "demand@(0-8)     0.329102\n",
       "demand@(0-7)     0.308377\n",
       "demand@(0-6)     0.368274\n",
       "demand@(0-5)     0.387573\n",
       "demand@(0-4)     0.332232\n",
       "demand@(0-3)     0.307907\n",
       "demand@(0-2)     0.389075\n",
       "demand@(0-1)     0.345528\n",
       "demand@(0-0)     0.411676\n",
       "Name: 29, dtype: float64"
      ]
     },
     "execution_count": 213,
     "metadata": {},
     "output_type": "execute_result"
    }
   ],
   "source": [
    "X_rnn_eval.iloc[29]"
   ]
  },
  {
   "cell_type": "code",
   "execution_count": 214,
   "metadata": {},
   "outputs": [
    {
     "data": {
      "text/html": [
       "<div>\n",
       "<style scoped>\n",
       "    .dataframe tbody tr th:only-of-type {\n",
       "        vertical-align: middle;\n",
       "    }\n",
       "\n",
       "    .dataframe tbody tr th {\n",
       "        vertical-align: top;\n",
       "    }\n",
       "\n",
       "    .dataframe thead th {\n",
       "        text-align: right;\n",
       "    }\n",
       "</style>\n",
       "<table border=\"1\" class=\"dataframe\">\n",
       "  <thead>\n",
       "    <tr style=\"text-align: right;\">\n",
       "      <th></th>\n",
       "      <th>demand@(1-8)</th>\n",
       "      <th>demand@(1-7)</th>\n",
       "      <th>demand@(1-6)</th>\n",
       "      <th>demand@(1-5)</th>\n",
       "      <th>demand@(1-4)</th>\n",
       "      <th>demand@(1-3)</th>\n",
       "      <th>demand@(1-2)</th>\n",
       "      <th>demand@(1-1)</th>\n",
       "      <th>demand@(10)</th>\n",
       "      <th>demand@(1+1)</th>\n",
       "      <th>...</th>\n",
       "      <th>demand@(7-1)</th>\n",
       "      <th>demand@(70)</th>\n",
       "      <th>demand@(7+1)</th>\n",
       "      <th>demand@(7+2)</th>\n",
       "      <th>demand@(7+3)</th>\n",
       "      <th>demand@(7+4)</th>\n",
       "      <th>demand@(7+5)</th>\n",
       "      <th>demand@(7+6)</th>\n",
       "      <th>demand@(7+7)</th>\n",
       "      <th>demand@(7+8)</th>\n",
       "    </tr>\n",
       "  </thead>\n",
       "  <tbody>\n",
       "    <tr>\n",
       "      <th>25</th>\n",
       "      <td>0.261218</td>\n",
       "      <td>0.280608</td>\n",
       "      <td>0.309196</td>\n",
       "      <td>0.375059</td>\n",
       "      <td>0.347046</td>\n",
       "      <td>0.322985</td>\n",
       "      <td>0.340132</td>\n",
       "      <td>0.392787</td>\n",
       "      <td>0.427632</td>\n",
       "      <td>0.419994</td>\n",
       "      <td>...</td>\n",
       "      <td>0.296093</td>\n",
       "      <td>0.314590</td>\n",
       "      <td>0.373960</td>\n",
       "      <td>0.348863</td>\n",
       "      <td>0.312148</td>\n",
       "      <td>0.311417</td>\n",
       "      <td>0.308947</td>\n",
       "      <td>0.406285</td>\n",
       "      <td>0.373670</td>\n",
       "      <td>0.406333</td>\n",
       "    </tr>\n",
       "    <tr>\n",
       "      <th>26</th>\n",
       "      <td>0.280608</td>\n",
       "      <td>0.309196</td>\n",
       "      <td>0.375059</td>\n",
       "      <td>0.347046</td>\n",
       "      <td>0.322985</td>\n",
       "      <td>0.340132</td>\n",
       "      <td>0.392787</td>\n",
       "      <td>0.427632</td>\n",
       "      <td>0.419994</td>\n",
       "      <td>0.399908</td>\n",
       "      <td>...</td>\n",
       "      <td>0.314590</td>\n",
       "      <td>0.373960</td>\n",
       "      <td>0.348863</td>\n",
       "      <td>0.312148</td>\n",
       "      <td>0.311417</td>\n",
       "      <td>0.308947</td>\n",
       "      <td>0.406285</td>\n",
       "      <td>0.373670</td>\n",
       "      <td>0.406333</td>\n",
       "      <td>0.549123</td>\n",
       "    </tr>\n",
       "    <tr>\n",
       "      <th>27</th>\n",
       "      <td>0.309196</td>\n",
       "      <td>0.375059</td>\n",
       "      <td>0.347046</td>\n",
       "      <td>0.322985</td>\n",
       "      <td>0.340132</td>\n",
       "      <td>0.392787</td>\n",
       "      <td>0.427632</td>\n",
       "      <td>0.419994</td>\n",
       "      <td>0.399908</td>\n",
       "      <td>0.363887</td>\n",
       "      <td>...</td>\n",
       "      <td>0.373960</td>\n",
       "      <td>0.348863</td>\n",
       "      <td>0.312148</td>\n",
       "      <td>0.311417</td>\n",
       "      <td>0.308947</td>\n",
       "      <td>0.406285</td>\n",
       "      <td>0.373670</td>\n",
       "      <td>0.406333</td>\n",
       "      <td>0.549123</td>\n",
       "      <td>0.661163</td>\n",
       "    </tr>\n",
       "    <tr>\n",
       "      <th>28</th>\n",
       "      <td>0.375059</td>\n",
       "      <td>0.347046</td>\n",
       "      <td>0.322985</td>\n",
       "      <td>0.340132</td>\n",
       "      <td>0.392787</td>\n",
       "      <td>0.427632</td>\n",
       "      <td>0.419994</td>\n",
       "      <td>0.399908</td>\n",
       "      <td>0.363887</td>\n",
       "      <td>0.376743</td>\n",
       "      <td>...</td>\n",
       "      <td>0.348863</td>\n",
       "      <td>0.312148</td>\n",
       "      <td>0.311417</td>\n",
       "      <td>0.308947</td>\n",
       "      <td>0.406285</td>\n",
       "      <td>0.373670</td>\n",
       "      <td>0.406333</td>\n",
       "      <td>0.549123</td>\n",
       "      <td>0.661163</td>\n",
       "      <td>0.671647</td>\n",
       "    </tr>\n",
       "    <tr>\n",
       "      <th>29</th>\n",
       "      <td>0.347046</td>\n",
       "      <td>0.322985</td>\n",
       "      <td>0.340132</td>\n",
       "      <td>0.392787</td>\n",
       "      <td>0.427632</td>\n",
       "      <td>0.419994</td>\n",
       "      <td>0.399908</td>\n",
       "      <td>0.363887</td>\n",
       "      <td>0.376743</td>\n",
       "      <td>0.411826</td>\n",
       "      <td>...</td>\n",
       "      <td>0.312148</td>\n",
       "      <td>0.311417</td>\n",
       "      <td>0.308947</td>\n",
       "      <td>0.406285</td>\n",
       "      <td>0.373670</td>\n",
       "      <td>0.406333</td>\n",
       "      <td>0.549123</td>\n",
       "      <td>0.661163</td>\n",
       "      <td>0.671647</td>\n",
       "      <td>0.646513</td>\n",
       "    </tr>\n",
       "  </tbody>\n",
       "</table>\n",
       "<p>5 rows × 119 columns</p>\n",
       "</div>"
      ],
      "text/plain": [
       "    demand@(1-8)  demand@(1-7)  demand@(1-6)  demand@(1-5)  demand@(1-4)  \\\n",
       "25      0.261218      0.280608      0.309196      0.375059      0.347046   \n",
       "26      0.280608      0.309196      0.375059      0.347046      0.322985   \n",
       "27      0.309196      0.375059      0.347046      0.322985      0.340132   \n",
       "28      0.375059      0.347046      0.322985      0.340132      0.392787   \n",
       "29      0.347046      0.322985      0.340132      0.392787      0.427632   \n",
       "\n",
       "    demand@(1-3)  demand@(1-2)  demand@(1-1)  demand@(10)  demand@(1+1)  ...  \\\n",
       "25      0.322985      0.340132      0.392787     0.427632      0.419994  ...   \n",
       "26      0.340132      0.392787      0.427632     0.419994      0.399908  ...   \n",
       "27      0.392787      0.427632      0.419994     0.399908      0.363887  ...   \n",
       "28      0.427632      0.419994      0.399908     0.363887      0.376743  ...   \n",
       "29      0.419994      0.399908      0.363887     0.376743      0.411826  ...   \n",
       "\n",
       "    demand@(7-1)  demand@(70)  demand@(7+1)  demand@(7+2)  demand@(7+3)  \\\n",
       "25      0.296093     0.314590      0.373960      0.348863      0.312148   \n",
       "26      0.314590     0.373960      0.348863      0.312148      0.311417   \n",
       "27      0.373960     0.348863      0.312148      0.311417      0.308947   \n",
       "28      0.348863     0.312148      0.311417      0.308947      0.406285   \n",
       "29      0.312148     0.311417      0.308947      0.406285      0.373670   \n",
       "\n",
       "    demand@(7+4)  demand@(7+5)  demand@(7+6)  demand@(7+7)  demand@(7+8)  \n",
       "25      0.311417      0.308947      0.406285      0.373670      0.406333  \n",
       "26      0.308947      0.406285      0.373670      0.406333      0.549123  \n",
       "27      0.406285      0.373670      0.406333      0.549123      0.661163  \n",
       "28      0.373670      0.406333      0.549123      0.661163      0.671647  \n",
       "29      0.406333      0.549123      0.661163      0.671647      0.646513  \n",
       "\n",
       "[5 rows x 119 columns]"
      ]
     },
     "execution_count": 214,
     "metadata": {},
     "output_type": "execute_result"
    }
   ],
   "source": [
    "X_cnn_eval[25:30]"
   ]
  },
  {
   "cell_type": "code",
   "execution_count": 215,
   "metadata": {},
   "outputs": [
    {
     "data": {
      "text/plain": [
       "array([[0.3739043 , 0.37927967, 0.39023626, 0.3994818 , 0.40683833],\n",
       "       [0.35253328, 0.3610596 , 0.37091228, 0.38203496, 0.39531517],\n",
       "       [0.39285436, 0.40234578, 0.41778904, 0.43090335, 0.44566423],\n",
       "       [0.37204707, 0.38743484, 0.4099395 , 0.43080065, 0.45383987],\n",
       "       [0.41780695, 0.43502188, 0.46457615, 0.4901215 , 0.5133593 ]],\n",
       "      dtype=float32)"
      ]
     },
     "execution_count": 215,
     "metadata": {},
     "output_type": "execute_result"
    }
   ],
   "source": [
    "stacked.predict([X_cnn_eval[25:30], X_dnn_eval[25:30], X_rnn_eval[25:30]])"
   ]
  },
  {
   "cell_type": "code",
   "execution_count": 216,
   "metadata": {},
   "outputs": [
    {
     "data": {
      "text/html": [
       "<div>\n",
       "<style scoped>\n",
       "    .dataframe tbody tr th:only-of-type {\n",
       "        vertical-align: middle;\n",
       "    }\n",
       "\n",
       "    .dataframe tbody tr th {\n",
       "        vertical-align: top;\n",
       "    }\n",
       "\n",
       "    .dataframe thead th {\n",
       "        text-align: right;\n",
       "    }\n",
       "</style>\n",
       "<table border=\"1\" class=\"dataframe\">\n",
       "  <thead>\n",
       "    <tr style=\"text-align: right;\">\n",
       "      <th></th>\n",
       "      <th>demand@(0+1)</th>\n",
       "      <th>demand@(0+2)</th>\n",
       "      <th>demand@(0+3)</th>\n",
       "      <th>demand@(0+4)</th>\n",
       "      <th>demand@(0+5)</th>\n",
       "    </tr>\n",
       "  </thead>\n",
       "  <tbody>\n",
       "    <tr>\n",
       "      <th>25</th>\n",
       "      <td>0.307907</td>\n",
       "      <td>0.389075</td>\n",
       "      <td>0.345528</td>\n",
       "      <td>0.411676</td>\n",
       "      <td>0.494835</td>\n",
       "    </tr>\n",
       "    <tr>\n",
       "      <th>26</th>\n",
       "      <td>0.389075</td>\n",
       "      <td>0.345528</td>\n",
       "      <td>0.411676</td>\n",
       "      <td>0.494835</td>\n",
       "      <td>0.483818</td>\n",
       "    </tr>\n",
       "    <tr>\n",
       "      <th>27</th>\n",
       "      <td>0.345528</td>\n",
       "      <td>0.411676</td>\n",
       "      <td>0.494835</td>\n",
       "      <td>0.483818</td>\n",
       "      <td>0.658671</td>\n",
       "    </tr>\n",
       "    <tr>\n",
       "      <th>28</th>\n",
       "      <td>0.411676</td>\n",
       "      <td>0.494835</td>\n",
       "      <td>0.483818</td>\n",
       "      <td>0.658671</td>\n",
       "      <td>0.740603</td>\n",
       "    </tr>\n",
       "    <tr>\n",
       "      <th>29</th>\n",
       "      <td>0.494835</td>\n",
       "      <td>0.483818</td>\n",
       "      <td>0.658671</td>\n",
       "      <td>0.740603</td>\n",
       "      <td>0.843992</td>\n",
       "    </tr>\n",
       "  </tbody>\n",
       "</table>\n",
       "</div>"
      ],
      "text/plain": [
       "    demand@(0+1)  demand@(0+2)  demand@(0+3)  demand@(0+4)  demand@(0+5)\n",
       "25      0.307907      0.389075      0.345528      0.411676      0.494835\n",
       "26      0.389075      0.345528      0.411676      0.494835      0.483818\n",
       "27      0.345528      0.411676      0.494835      0.483818      0.658671\n",
       "28      0.411676      0.494835      0.483818      0.658671      0.740603\n",
       "29      0.494835      0.483818      0.658671      0.740603      0.843992"
      ]
     },
     "execution_count": 216,
     "metadata": {},
     "output_type": "execute_result"
    }
   ],
   "source": [
    "Y_eval.iloc[25:30]"
   ]
  },
  {
   "cell_type": "code",
   "execution_count": 217,
   "metadata": {},
   "outputs": [
    {
     "data": {
      "text/plain": [
       "array([[0.5240963 , 0.54302776, 0.5796855 , 0.6072405 , 0.62893593],\n",
       "       [0.5523381 , 0.5709355 , 0.60726094, 0.63434434, 0.65402985],\n",
       "       [0.56316113, 0.5815647 , 0.6155863 , 0.64071435, 0.6612387 ],\n",
       "       [0.5930171 , 0.6110299 , 0.64555275, 0.6690184 , 0.68900305],\n",
       "       [0.62114555, 0.63863915, 0.66990227, 0.6903484 , 0.71029437],\n",
       "       [0.67731756, 0.69916046, 0.7271508 , 0.7510941 , 0.7744848 ],\n",
       "       [0.74033266, 0.7661967 , 0.79947734, 0.828082  , 0.85329926],\n",
       "       [0.8318206 , 0.8489542 , 0.88036513, 0.8959981 , 0.9085451 ],\n",
       "       [0.96503365, 0.96415144, 1.        , 0.99633217, 0.9833094 ],\n",
       "       [1.        , 0.99386895, 1.        , 1.        , 1.        ]],\n",
       "      dtype=float32)"
      ]
     },
     "execution_count": 217,
     "metadata": {},
     "output_type": "execute_result"
    }
   ],
   "source": [
    "stacked.predict([X_cnn_eval[125:135], X_dnn_eval[125:135], X_rnn_eval[125:135]])"
   ]
  },
  {
   "cell_type": "code",
   "execution_count": 218,
   "metadata": {},
   "outputs": [
    {
     "data": {
      "text/html": [
       "<div>\n",
       "<style scoped>\n",
       "    .dataframe tbody tr th:only-of-type {\n",
       "        vertical-align: middle;\n",
       "    }\n",
       "\n",
       "    .dataframe tbody tr th {\n",
       "        vertical-align: top;\n",
       "    }\n",
       "\n",
       "    .dataframe thead th {\n",
       "        text-align: right;\n",
       "    }\n",
       "</style>\n",
       "<table border=\"1\" class=\"dataframe\">\n",
       "  <thead>\n",
       "    <tr style=\"text-align: right;\">\n",
       "      <th></th>\n",
       "      <th>demand@(0+1)</th>\n",
       "      <th>demand@(0+2)</th>\n",
       "      <th>demand@(0+3)</th>\n",
       "      <th>demand@(0+4)</th>\n",
       "      <th>demand@(0+5)</th>\n",
       "    </tr>\n",
       "  </thead>\n",
       "  <tbody>\n",
       "    <tr>\n",
       "      <th>125</th>\n",
       "      <td>0.540479</td>\n",
       "      <td>0.523461</td>\n",
       "      <td>0.548006</td>\n",
       "      <td>0.588167</td>\n",
       "      <td>0.663514</td>\n",
       "    </tr>\n",
       "    <tr>\n",
       "      <th>126</th>\n",
       "      <td>0.523461</td>\n",
       "      <td>0.548006</td>\n",
       "      <td>0.588167</td>\n",
       "      <td>0.663514</td>\n",
       "      <td>0.739084</td>\n",
       "    </tr>\n",
       "    <tr>\n",
       "      <th>127</th>\n",
       "      <td>0.548006</td>\n",
       "      <td>0.588167</td>\n",
       "      <td>0.663514</td>\n",
       "      <td>0.739084</td>\n",
       "      <td>0.840679</td>\n",
       "    </tr>\n",
       "    <tr>\n",
       "      <th>128</th>\n",
       "      <td>0.588167</td>\n",
       "      <td>0.663514</td>\n",
       "      <td>0.739084</td>\n",
       "      <td>0.840679</td>\n",
       "      <td>1.000000</td>\n",
       "    </tr>\n",
       "    <tr>\n",
       "      <th>129</th>\n",
       "      <td>0.663514</td>\n",
       "      <td>0.739084</td>\n",
       "      <td>0.840679</td>\n",
       "      <td>1.000000</td>\n",
       "      <td>1.000000</td>\n",
       "    </tr>\n",
       "    <tr>\n",
       "      <th>130</th>\n",
       "      <td>0.739084</td>\n",
       "      <td>0.840679</td>\n",
       "      <td>1.000000</td>\n",
       "      <td>1.000000</td>\n",
       "      <td>1.000000</td>\n",
       "    </tr>\n",
       "    <tr>\n",
       "      <th>131</th>\n",
       "      <td>0.840679</td>\n",
       "      <td>1.000000</td>\n",
       "      <td>1.000000</td>\n",
       "      <td>1.000000</td>\n",
       "      <td>1.000000</td>\n",
       "    </tr>\n",
       "    <tr>\n",
       "      <th>132</th>\n",
       "      <td>1.000000</td>\n",
       "      <td>1.000000</td>\n",
       "      <td>1.000000</td>\n",
       "      <td>1.000000</td>\n",
       "      <td>1.000000</td>\n",
       "    </tr>\n",
       "    <tr>\n",
       "      <th>133</th>\n",
       "      <td>1.000000</td>\n",
       "      <td>1.000000</td>\n",
       "      <td>1.000000</td>\n",
       "      <td>1.000000</td>\n",
       "      <td>1.000000</td>\n",
       "    </tr>\n",
       "    <tr>\n",
       "      <th>134</th>\n",
       "      <td>1.000000</td>\n",
       "      <td>1.000000</td>\n",
       "      <td>1.000000</td>\n",
       "      <td>1.000000</td>\n",
       "      <td>1.000000</td>\n",
       "    </tr>\n",
       "  </tbody>\n",
       "</table>\n",
       "</div>"
      ],
      "text/plain": [
       "     demand@(0+1)  demand@(0+2)  demand@(0+3)  demand@(0+4)  demand@(0+5)\n",
       "125      0.540479      0.523461      0.548006      0.588167      0.663514\n",
       "126      0.523461      0.548006      0.588167      0.663514      0.739084\n",
       "127      0.548006      0.588167      0.663514      0.739084      0.840679\n",
       "128      0.588167      0.663514      0.739084      0.840679      1.000000\n",
       "129      0.663514      0.739084      0.840679      1.000000      1.000000\n",
       "130      0.739084      0.840679      1.000000      1.000000      1.000000\n",
       "131      0.840679      1.000000      1.000000      1.000000      1.000000\n",
       "132      1.000000      1.000000      1.000000      1.000000      1.000000\n",
       "133      1.000000      1.000000      1.000000      1.000000      1.000000\n",
       "134      1.000000      1.000000      1.000000      1.000000      1.000000"
      ]
     },
     "execution_count": 218,
     "metadata": {},
     "output_type": "execute_result"
    }
   ],
   "source": [
    "Y_eval.iloc[125:135]"
   ]
  },
  {
   "cell_type": "code",
   "execution_count": 219,
   "metadata": {},
   "outputs": [
    {
     "data": {
      "text/plain": [
       "array([[0., 0., 0., 0., 0.],\n",
       "       [0., 0., 0., 0., 0.],\n",
       "       [0., 0., 0., 0., 0.],\n",
       "       [0., 0., 0., 0., 0.],\n",
       "       [0., 0., 0., 0., 0.],\n",
       "       [0., 0., 0., 0., 0.],\n",
       "       [0., 0., 0., 0., 0.],\n",
       "       [0., 0., 0., 0., 0.],\n",
       "       [0., 0., 0., 0., 0.],\n",
       "       [0., 0., 0., 0., 0.]], dtype=float32)"
      ]
     },
     "execution_count": 219,
     "metadata": {},
     "output_type": "execute_result"
    }
   ],
   "source": [
    "stacked.predict([X_cnn_eval[-10:], X_dnn_eval[-10:], X_rnn_eval[-10:]])"
   ]
  },
  {
   "cell_type": "code",
   "execution_count": 220,
   "metadata": {},
   "outputs": [
    {
     "data": {
      "text/html": [
       "<div>\n",
       "<style scoped>\n",
       "    .dataframe tbody tr th:only-of-type {\n",
       "        vertical-align: middle;\n",
       "    }\n",
       "\n",
       "    .dataframe tbody tr th {\n",
       "        vertical-align: top;\n",
       "    }\n",
       "\n",
       "    .dataframe thead th {\n",
       "        text-align: right;\n",
       "    }\n",
       "</style>\n",
       "<table border=\"1\" class=\"dataframe\">\n",
       "  <thead>\n",
       "    <tr style=\"text-align: right;\">\n",
       "      <th></th>\n",
       "      <th>demand@(0+1)</th>\n",
       "      <th>demand@(0+2)</th>\n",
       "      <th>demand@(0+3)</th>\n",
       "      <th>demand@(0+4)</th>\n",
       "      <th>demand@(0+5)</th>\n",
       "    </tr>\n",
       "  </thead>\n",
       "  <tbody>\n",
       "    <tr>\n",
       "      <th>1395440</th>\n",
       "      <td>0.0</td>\n",
       "      <td>0.0</td>\n",
       "      <td>0.0</td>\n",
       "      <td>0.0</td>\n",
       "      <td>0.0</td>\n",
       "    </tr>\n",
       "    <tr>\n",
       "      <th>1395441</th>\n",
       "      <td>0.0</td>\n",
       "      <td>0.0</td>\n",
       "      <td>0.0</td>\n",
       "      <td>0.0</td>\n",
       "      <td>0.0</td>\n",
       "    </tr>\n",
       "    <tr>\n",
       "      <th>1395442</th>\n",
       "      <td>0.0</td>\n",
       "      <td>0.0</td>\n",
       "      <td>0.0</td>\n",
       "      <td>0.0</td>\n",
       "      <td>0.0</td>\n",
       "    </tr>\n",
       "    <tr>\n",
       "      <th>1395443</th>\n",
       "      <td>0.0</td>\n",
       "      <td>0.0</td>\n",
       "      <td>0.0</td>\n",
       "      <td>0.0</td>\n",
       "      <td>0.0</td>\n",
       "    </tr>\n",
       "    <tr>\n",
       "      <th>1395444</th>\n",
       "      <td>0.0</td>\n",
       "      <td>0.0</td>\n",
       "      <td>0.0</td>\n",
       "      <td>0.0</td>\n",
       "      <td>0.0</td>\n",
       "    </tr>\n",
       "    <tr>\n",
       "      <th>1395445</th>\n",
       "      <td>0.0</td>\n",
       "      <td>0.0</td>\n",
       "      <td>0.0</td>\n",
       "      <td>0.0</td>\n",
       "      <td>0.0</td>\n",
       "    </tr>\n",
       "    <tr>\n",
       "      <th>1395446</th>\n",
       "      <td>0.0</td>\n",
       "      <td>0.0</td>\n",
       "      <td>0.0</td>\n",
       "      <td>0.0</td>\n",
       "      <td>0.0</td>\n",
       "    </tr>\n",
       "    <tr>\n",
       "      <th>1395447</th>\n",
       "      <td>0.0</td>\n",
       "      <td>0.0</td>\n",
       "      <td>0.0</td>\n",
       "      <td>0.0</td>\n",
       "      <td>0.0</td>\n",
       "    </tr>\n",
       "    <tr>\n",
       "      <th>1395448</th>\n",
       "      <td>0.0</td>\n",
       "      <td>0.0</td>\n",
       "      <td>0.0</td>\n",
       "      <td>0.0</td>\n",
       "      <td>0.0</td>\n",
       "    </tr>\n",
       "    <tr>\n",
       "      <th>1395449</th>\n",
       "      <td>0.0</td>\n",
       "      <td>0.0</td>\n",
       "      <td>0.0</td>\n",
       "      <td>0.0</td>\n",
       "      <td>0.0</td>\n",
       "    </tr>\n",
       "  </tbody>\n",
       "</table>\n",
       "</div>"
      ],
      "text/plain": [
       "         demand@(0+1)  demand@(0+2)  demand@(0+3)  demand@(0+4)  demand@(0+5)\n",
       "1395440           0.0           0.0           0.0           0.0           0.0\n",
       "1395441           0.0           0.0           0.0           0.0           0.0\n",
       "1395442           0.0           0.0           0.0           0.0           0.0\n",
       "1395443           0.0           0.0           0.0           0.0           0.0\n",
       "1395444           0.0           0.0           0.0           0.0           0.0\n",
       "1395445           0.0           0.0           0.0           0.0           0.0\n",
       "1395446           0.0           0.0           0.0           0.0           0.0\n",
       "1395447           0.0           0.0           0.0           0.0           0.0\n",
       "1395448           0.0           0.0           0.0           0.0           0.0\n",
       "1395449           0.0           0.0           0.0           0.0           0.0"
      ]
     },
     "execution_count": 220,
     "metadata": {},
     "output_type": "execute_result"
    }
   ],
   "source": [
    "Y_eval.tail(10)"
   ]
  },
  {
   "cell_type": "code",
   "execution_count": 221,
   "metadata": {},
   "outputs": [
    {
     "data": {
      "text/plain": [
       "array([[0.2184219 , 0.22323072, 0.24155346, 0.25602198, 0.25786874],\n",
       "       [0.21673015, 0.2197353 , 0.23252597, 0.24192938, 0.24345204],\n",
       "       [0.22830278, 0.22634163, 0.23209286, 0.2343044 , 0.2292926 ],\n",
       "       [0.23349893, 0.23066747, 0.23215142, 0.23120135, 0.22652161],\n",
       "       [0.24018976, 0.23645833, 0.23218372, 0.22796145, 0.22334662]],\n",
       "      dtype=float32)"
      ]
     },
     "execution_count": 221,
     "metadata": {},
     "output_type": "execute_result"
    }
   ],
   "source": [
    "stacked.predict([X_cnn_eval[:5], X_dnn_eval[:5], X_rnn_eval[:5]])"
   ]
  },
  {
   "cell_type": "code",
   "execution_count": 222,
   "metadata": {},
   "outputs": [
    {
     "data": {
      "text/html": [
       "<div>\n",
       "<style scoped>\n",
       "    .dataframe tbody tr th:only-of-type {\n",
       "        vertical-align: middle;\n",
       "    }\n",
       "\n",
       "    .dataframe tbody tr th {\n",
       "        vertical-align: top;\n",
       "    }\n",
       "\n",
       "    .dataframe thead th {\n",
       "        text-align: right;\n",
       "    }\n",
       "</style>\n",
       "<table border=\"1\" class=\"dataframe\">\n",
       "  <thead>\n",
       "    <tr style=\"text-align: right;\">\n",
       "      <th></th>\n",
       "      <th>demand@(0+1)</th>\n",
       "      <th>demand@(0+2)</th>\n",
       "      <th>demand@(0+3)</th>\n",
       "      <th>demand@(0+4)</th>\n",
       "      <th>demand@(0+5)</th>\n",
       "    </tr>\n",
       "  </thead>\n",
       "  <tbody>\n",
       "    <tr>\n",
       "      <th>0</th>\n",
       "      <td>0.184645</td>\n",
       "      <td>0.206627</td>\n",
       "      <td>0.232386</td>\n",
       "      <td>0.255655</td>\n",
       "      <td>0.247960</td>\n",
       "    </tr>\n",
       "    <tr>\n",
       "      <th>1</th>\n",
       "      <td>0.206627</td>\n",
       "      <td>0.232386</td>\n",
       "      <td>0.255655</td>\n",
       "      <td>0.247960</td>\n",
       "      <td>0.275323</td>\n",
       "    </tr>\n",
       "    <tr>\n",
       "      <th>2</th>\n",
       "      <td>0.232386</td>\n",
       "      <td>0.255655</td>\n",
       "      <td>0.247960</td>\n",
       "      <td>0.275323</td>\n",
       "      <td>0.238671</td>\n",
       "    </tr>\n",
       "    <tr>\n",
       "      <th>3</th>\n",
       "      <td>0.255655</td>\n",
       "      <td>0.247960</td>\n",
       "      <td>0.275323</td>\n",
       "      <td>0.238671</td>\n",
       "      <td>0.179991</td>\n",
       "    </tr>\n",
       "    <tr>\n",
       "      <th>4</th>\n",
       "      <td>0.247960</td>\n",
       "      <td>0.275323</td>\n",
       "      <td>0.238671</td>\n",
       "      <td>0.179991</td>\n",
       "      <td>0.191984</td>\n",
       "    </tr>\n",
       "  </tbody>\n",
       "</table>\n",
       "</div>"
      ],
      "text/plain": [
       "   demand@(0+1)  demand@(0+2)  demand@(0+3)  demand@(0+4)  demand@(0+5)\n",
       "0      0.184645      0.206627      0.232386      0.255655      0.247960\n",
       "1      0.206627      0.232386      0.255655      0.247960      0.275323\n",
       "2      0.232386      0.255655      0.247960      0.275323      0.238671\n",
       "3      0.255655      0.247960      0.275323      0.238671      0.179991\n",
       "4      0.247960      0.275323      0.238671      0.179991      0.191984"
      ]
     },
     "execution_count": 222,
     "metadata": {},
     "output_type": "execute_result"
    }
   ],
   "source": [
    "Y_eval.head()"
   ]
  },
  {
   "cell_type": "code",
   "execution_count": 223,
   "metadata": {},
   "outputs": [
    {
     "data": {
      "text/plain": [
       "demand@(0+1)    0.024055\n",
       "demand@(0+2)    0.027821\n",
       "demand@(0+3)    0.030030\n",
       "demand@(0+4)    0.031813\n",
       "demand@(0+5)    0.033351\n",
       "dtype: float64"
      ]
     },
     "execution_count": 223,
     "metadata": {},
     "output_type": "execute_result"
    }
   ],
   "source": [
    "preds = stacked.predict([X_cnn_eval, X_dnn_eval, X_rnn_eval])\n",
    "count_rmse(preds, Y_eval)"
   ]
  },
  {
   "cell_type": "code",
   "execution_count": 52,
   "metadata": {},
   "outputs": [],
   "source": [
    "# qp03wc\n",
    "# qp03wc_train_df = train_df[train_df.geohash6 == 'qp03wc']\n",
    "qp03wc_eval_df = eval_df[eval_df.geohash6 == 'qp03wc']"
   ]
  },
  {
   "cell_type": "code",
   "execution_count": 54,
   "metadata": {},
   "outputs": [
    {
     "data": {
      "text/plain": [
       "Index(['order', 'geohash6', 'distance_poi1', 'distance_poi2', 'distance_poi3',\n",
       "       'distance_poi4', 'min_distance_poi', 'demand@(1-8)', 'demand@(1-7)',\n",
       "       'demand@(1-6)',\n",
       "       ...\n",
       "       'hour_14', 'hour_15', 'hour_16', 'hour_17', 'hour_18', 'hour_19',\n",
       "       'hour_20', 'hour_21', 'hour_22', 'hour_23'],\n",
       "      dtype='object', length=167)"
      ]
     },
     "execution_count": 54,
     "metadata": {},
     "output_type": "execute_result"
    }
   ],
   "source": [
    "qp03wc_eval_df.columns"
   ]
  },
  {
   "cell_type": "code",
   "execution_count": null,
   "metadata": {},
   "outputs": [],
   "source": []
  },
  {
   "cell_type": "code",
   "execution_count": null,
   "metadata": {},
   "outputs": [],
   "source": []
  },
  {
   "cell_type": "code",
   "execution_count": null,
   "metadata": {},
   "outputs": [],
   "source": []
  },
  {
   "cell_type": "code",
   "execution_count": null,
   "metadata": {},
   "outputs": [],
   "source": []
  },
  {
   "cell_type": "code",
   "execution_count": null,
   "metadata": {},
   "outputs": [],
   "source": []
  },
  {
   "cell_type": "code",
   "execution_count": null,
   "metadata": {},
   "outputs": [],
   "source": []
  },
  {
   "cell_type": "code",
   "execution_count": null,
   "metadata": {},
   "outputs": [],
   "source": []
  },
  {
   "cell_type": "code",
   "execution_count": null,
   "metadata": {},
   "outputs": [],
   "source": []
  },
  {
   "cell_type": "code",
   "execution_count": null,
   "metadata": {},
   "outputs": [],
   "source": []
  },
  {
   "cell_type": "code",
   "execution_count": null,
   "metadata": {},
   "outputs": [],
   "source": []
  },
  {
   "cell_type": "code",
   "execution_count": null,
   "metadata": {},
   "outputs": [],
   "source": []
  },
  {
   "cell_type": "code",
   "execution_count": null,
   "metadata": {},
   "outputs": [],
   "source": []
  },
  {
   "cell_type": "code",
   "execution_count": null,
   "metadata": {},
   "outputs": [],
   "source": []
  },
  {
   "cell_type": "code",
   "execution_count": null,
   "metadata": {},
   "outputs": [],
   "source": []
  },
  {
   "cell_type": "code",
   "execution_count": 115,
   "metadata": {},
   "outputs": [
    {
     "data": {
      "text/plain": [
       "(['demand@(1-8)',\n",
       "  'demand@(1-7)',\n",
       "  'demand@(1-6)',\n",
       "  'demand@(1-5)',\n",
       "  'demand@(1-4)',\n",
       "  'demand@(1-3)',\n",
       "  'demand@(1-2)',\n",
       "  'demand@(1-1)',\n",
       "  'demand@(10)',\n",
       "  'demand@(1+8)',\n",
       "  'demand@(1+7)',\n",
       "  'demand@(1+6)',\n",
       "  'demand@(1+5)',\n",
       "  'demand@(1+4)',\n",
       "  'demand@(1+3)',\n",
       "  'demand@(1+2)',\n",
       "  'demand@(1+1)',\n",
       "  'demand@(2-8)',\n",
       "  'demand@(2-7)',\n",
       "  'demand@(2-6)',\n",
       "  'demand@(2-5)',\n",
       "  'demand@(2-4)',\n",
       "  'demand@(2-3)',\n",
       "  'demand@(2-2)',\n",
       "  'demand@(2-1)',\n",
       "  'demand@(20)',\n",
       "  'demand@(2+8)',\n",
       "  'demand@(2+7)',\n",
       "  'demand@(2+6)',\n",
       "  'demand@(2+5)',\n",
       "  'demand@(2+4)',\n",
       "  'demand@(2+3)',\n",
       "  'demand@(2+2)',\n",
       "  'demand@(2+1)',\n",
       "  'demand@(3-8)',\n",
       "  'demand@(3-7)',\n",
       "  'demand@(3-6)',\n",
       "  'demand@(3-5)',\n",
       "  'demand@(3-4)',\n",
       "  'demand@(3-3)',\n",
       "  'demand@(3-2)',\n",
       "  'demand@(3-1)',\n",
       "  'demand@(30)',\n",
       "  'demand@(3+8)',\n",
       "  'demand@(3+7)',\n",
       "  'demand@(3+6)',\n",
       "  'demand@(3+5)',\n",
       "  'demand@(3+4)',\n",
       "  'demand@(3+3)',\n",
       "  'demand@(3+2)',\n",
       "  'demand@(3+1)',\n",
       "  'demand@(4-8)',\n",
       "  'demand@(4-7)',\n",
       "  'demand@(4-6)',\n",
       "  'demand@(4-5)',\n",
       "  'demand@(4-4)',\n",
       "  'demand@(4-3)',\n",
       "  'demand@(4-2)',\n",
       "  'demand@(4-1)',\n",
       "  'demand@(40)',\n",
       "  'demand@(4+8)',\n",
       "  'demand@(4+7)',\n",
       "  'demand@(4+6)',\n",
       "  'demand@(4+5)',\n",
       "  'demand@(4+4)',\n",
       "  'demand@(4+3)',\n",
       "  'demand@(4+2)',\n",
       "  'demand@(4+1)',\n",
       "  'demand@(5-8)',\n",
       "  'demand@(5-7)',\n",
       "  'demand@(5-6)',\n",
       "  'demand@(5-5)',\n",
       "  'demand@(5-4)',\n",
       "  'demand@(5-3)',\n",
       "  'demand@(5-2)',\n",
       "  'demand@(5-1)',\n",
       "  'demand@(50)',\n",
       "  'demand@(5+8)',\n",
       "  'demand@(5+7)',\n",
       "  'demand@(5+6)',\n",
       "  'demand@(5+5)',\n",
       "  'demand@(5+4)',\n",
       "  'demand@(5+3)',\n",
       "  'demand@(5+2)',\n",
       "  'demand@(5+1)',\n",
       "  'demand@(6-8)',\n",
       "  'demand@(6-7)',\n",
       "  'demand@(6-6)',\n",
       "  'demand@(6-5)',\n",
       "  'demand@(6-4)',\n",
       "  'demand@(6-3)',\n",
       "  'demand@(6-2)',\n",
       "  'demand@(6-1)',\n",
       "  'demand@(60)',\n",
       "  'demand@(6+8)',\n",
       "  'demand@(6+7)',\n",
       "  'demand@(6+6)',\n",
       "  'demand@(6+5)',\n",
       "  'demand@(6+4)',\n",
       "  'demand@(6+3)',\n",
       "  'demand@(6+2)',\n",
       "  'demand@(6+1)',\n",
       "  'demand@(7-8)',\n",
       "  'demand@(7-7)',\n",
       "  'demand@(7-6)',\n",
       "  'demand@(7-5)',\n",
       "  'demand@(7-4)',\n",
       "  'demand@(7-3)',\n",
       "  'demand@(7-2)',\n",
       "  'demand@(7-1)',\n",
       "  'demand@(70)',\n",
       "  'demand@(7+8)',\n",
       "  'demand@(7+7)',\n",
       "  'demand@(7+6)',\n",
       "  'demand@(7+5)',\n",
       "  'demand@(7+4)',\n",
       "  'demand@(7+3)',\n",
       "  'demand@(7+2)',\n",
       "  'demand@(7+1)'],\n",
       " ['distance_poi1',\n",
       "  'distance_poi2',\n",
       "  'distance_poi3',\n",
       "  'distance_poi4',\n",
       "  'min_distance_poi',\n",
       "  'hour_0',\n",
       "  'hour_1',\n",
       "  'hour_2',\n",
       "  'hour_3',\n",
       "  'hour_4',\n",
       "  'hour_5',\n",
       "  'hour_6',\n",
       "  'hour_7',\n",
       "  'hour_8',\n",
       "  'hour_9',\n",
       "  'hour_10',\n",
       "  'hour_11',\n",
       "  'hour_12',\n",
       "  'hour_13',\n",
       "  'hour_14',\n",
       "  'hour_15',\n",
       "  'hour_16',\n",
       "  'hour_17',\n",
       "  'hour_18',\n",
       "  'hour_19',\n",
       "  'hour_20',\n",
       "  'hour_21',\n",
       "  'hour_22',\n",
       "  'hour_23'],\n",
       " ['demand@(0-11)',\n",
       "  'demand@(0-10)',\n",
       "  'demand@(0-9)',\n",
       "  'demand@(0-8)',\n",
       "  'demand@(0-7)',\n",
       "  'demand@(0-6)',\n",
       "  'demand@(0-5)',\n",
       "  'demand@(0-4)',\n",
       "  'demand@(0-3)',\n",
       "  'demand@(0-2)',\n",
       "  'demand@(0-1)',\n",
       "  'demand@(0-0)'])"
      ]
     },
     "execution_count": 115,
     "metadata": {},
     "output_type": "execute_result"
    }
   ],
   "source": [
    "cnn_features, dnn_features, rnn_features"
   ]
  },
  {
   "cell_type": "code",
   "execution_count": 117,
   "metadata": {},
   "outputs": [],
   "source": [
    "cnn_inputs = Input(shape=(len(cnn_features),))\n",
    "dnn_inputs = Input(shape=(len(dnn_features),))\n",
    "rnn_inputs = Input(shape=(len(rnn_features),))\n",
    "\n",
    "cnn = Reshape((PREV_DAY, CNN_OFFSET*2+1, ))(cnn_inputs)\n",
    "'''depending on how you view your data, i prefer it to be (batch, steps, channels/features)'''\n",
    "cnn = Conv1D(16, 5, activation=relu, padding='same')(cnn)\n",
    "cnn = Conv1D(16, 3, activation=relu, padding='same')(cnn)\n",
    "cnn = MaxPool1D(2, 2, padding='same')(cnn)\n",
    "cnn = Conv1D(32, 3, activation=relu, padding='same')(cnn)\n",
    "cnn = Conv1D(32, 2, activation=relu, padding='same')(cnn)\n",
    "cnn = MaxPool1D(2, 2, padding='same')(cnn)\n",
    "cnn = Conv1D(32, 3, activation=relu, padding='same')(cnn)\n",
    "cnn = Conv1D(32, 2, activation=relu, padding='same')(cnn)\n",
    "cnn = MaxPool1D(2, 2, padding='same')(cnn)\n",
    "cnn = Flatten()(cnn)\n",
    "cnn = Dropout(0.4)(cnn)\n",
    "cnn = Dense(128, activation=relu)(cnn)\n",
    "cnn = Dense(16, activation=relu)(cnn)\n",
    "cnn = Model(inputs=cnn_inputs, outputs=cnn)\n",
    "\n",
    "rnn2 = Reshape((PREV_DAY, CNN_OFFSET*2 + 1, ))(cnn_inputs)\n",
    "rnn2 = GRU(32, return_sequences=True)(rnn2)\n",
    "rnn2 = GRU(16)(rnn2)\n",
    "rnn2 = Dropout(0.4)(rnn2)\n",
    "rnn2 = Dense(128, activation=relu)(rnn2)\n",
    "rnn2 = Dense(16, activation=relu)(rnn2)\n",
    "rnn2 = Model(inputs=cnn_inputs, outputs=rnn2)\n",
    "\n",
    "dnn = Dense(128, activation=relu)(dnn_inputs)\n",
    "dnn = Dropout(rate=0.2)(dnn)\n",
    "dnn = Dense(16, activation=relu)(dnn)\n",
    "dnn = Model(inputs=dnn_inputs, outputs=dnn)\n",
    "\n",
    "rnn = Reshape((len(rnn_features), 1, ))(rnn_inputs) # i have only one feature to feed into RNN\n",
    "rnn = GRU(32, return_sequences=True)(rnn)\n",
    "rnn = GRU(16)(rnn)\n",
    "rnn = Dropout(0.4)(rnn)\n",
    "rnn = Dense(128, activation=relu)(rnn)\n",
    "rnn = Dense(16, activation=relu)(rnn)\n",
    "rnn = Model(inputs=rnn_inputs, outputs=rnn)\n",
    "\n",
    "stacked = concatenate([cnn.output, dnn.output, rnn.output, rnn2.output])\n",
    "\n",
    "stacked = BatchNormalization()(stacked)\n",
    "stacked = Dropout(0.5)(stacked)\n",
    "stacked = Dense(512, activation=relu)(stacked)\n",
    "stacked = Dropout(rate=0.4)(stacked)\n",
    "stacked = Dense(128, activation=relu)(stacked)\n",
    "# stacked = Dropout(rate=0.3)(stacked)\n",
    "stacked = Dense(16, activation=relu)(stacked)\n",
    "\n",
    "'''Linear vs clipped relu vs sigmoid vs hard_sigmoid'''\n",
    "# stacked = Dense(5, activation=linear)(stacked)\n",
    "# this is nice, it is linear clipped, but i don't know how to make it work\n",
    "# stacked = Dense(5, activation=clipped_relu)(stacked)\n",
    "# stacked = Dense(5, activation=sigmoid)(stacked)\n",
    "stacked = Dense(5, activation=hard_sigmoid)(stacked)\n",
    "\n",
    "stacked = Model(inputs=[cnn.input, dnn.input, rnn.input], outputs=stacked)"
   ]
  },
  {
   "cell_type": "code",
   "execution_count": 118,
   "metadata": {},
   "outputs": [
    {
     "name": "stdout",
     "output_type": "stream",
     "text": [
      "__________________________________________________________________________________________________\n",
      "Layer (type)                    Output Shape         Param #     Connected to                     \n",
      "==================================================================================================\n",
      "input_49 (InputLayer)           (None, 119)          0                                            \n",
      "__________________________________________________________________________________________________\n",
      "reshape_33 (Reshape)            (None, 7, 17)        0           input_49[0][0]                   \n",
      "__________________________________________________________________________________________________\n",
      "conv1d_25 (Conv1D)              (None, 7, 16)        1376        reshape_33[0][0]                 \n",
      "__________________________________________________________________________________________________\n",
      "conv1d_26 (Conv1D)              (None, 7, 16)        784         conv1d_25[0][0]                  \n",
      "__________________________________________________________________________________________________\n",
      "max_pooling1d_4 (MaxPooling1D)  (None, 4, 16)        0           conv1d_26[0][0]                  \n",
      "__________________________________________________________________________________________________\n",
      "conv1d_27 (Conv1D)              (None, 4, 32)        1568        max_pooling1d_4[0][0]            \n",
      "__________________________________________________________________________________________________\n",
      "conv1d_28 (Conv1D)              (None, 4, 32)        2080        conv1d_27[0][0]                  \n",
      "__________________________________________________________________________________________________\n",
      "max_pooling1d_5 (MaxPooling1D)  (None, 2, 32)        0           conv1d_28[0][0]                  \n",
      "__________________________________________________________________________________________________\n",
      "conv1d_29 (Conv1D)              (None, 2, 32)        3104        max_pooling1d_5[0][0]            \n",
      "__________________________________________________________________________________________________\n",
      "input_51 (InputLayer)           (None, 12)           0                                            \n",
      "__________________________________________________________________________________________________\n",
      "conv1d_30 (Conv1D)              (None, 2, 32)        2080        conv1d_29[0][0]                  \n",
      "__________________________________________________________________________________________________\n",
      "reshape_35 (Reshape)            (None, 12, 1)        0           input_51[0][0]                   \n",
      "__________________________________________________________________________________________________\n",
      "reshape_34 (Reshape)            (None, 7, 17)        0           input_49[0][0]                   \n",
      "__________________________________________________________________________________________________\n",
      "max_pooling1d_6 (MaxPooling1D)  (None, 1, 32)        0           conv1d_30[0][0]                  \n",
      "__________________________________________________________________________________________________\n",
      "gru_47 (GRU)                    (None, 12, 32)       3264        reshape_35[0][0]                 \n",
      "__________________________________________________________________________________________________\n",
      "gru_45 (GRU)                    (None, 7, 32)        4800        reshape_34[0][0]                 \n",
      "__________________________________________________________________________________________________\n",
      "flatten_11 (Flatten)            (None, 32)           0           max_pooling1d_6[0][0]            \n",
      "__________________________________________________________________________________________________\n",
      "input_50 (InputLayer)           (None, 29)           0                                            \n",
      "__________________________________________________________________________________________________\n",
      "gru_48 (GRU)                    (None, 16)           2352        gru_47[0][0]                     \n",
      "__________________________________________________________________________________________________\n",
      "gru_46 (GRU)                    (None, 16)           2352        gru_45[0][0]                     \n",
      "__________________________________________________________________________________________________\n",
      "dropout_6 (Dropout)             (None, 32)           0           flatten_11[0][0]                 \n",
      "__________________________________________________________________________________________________\n",
      "dense_98 (Dense)                (None, 128)          3840        input_50[0][0]                   \n",
      "__________________________________________________________________________________________________\n",
      "dropout_9 (Dropout)             (None, 16)           0           gru_48[0][0]                     \n",
      "__________________________________________________________________________________________________\n",
      "dropout_7 (Dropout)             (None, 16)           0           gru_46[0][0]                     \n",
      "__________________________________________________________________________________________________\n",
      "dense_94 (Dense)                (None, 128)          4224        dropout_6[0][0]                  \n",
      "__________________________________________________________________________________________________\n",
      "dropout_8 (Dropout)             (None, 128)          0           dense_98[0][0]                   \n",
      "__________________________________________________________________________________________________\n",
      "dense_100 (Dense)               (None, 128)          2176        dropout_9[0][0]                  \n",
      "__________________________________________________________________________________________________\n",
      "dense_96 (Dense)                (None, 128)          2176        dropout_7[0][0]                  \n",
      "__________________________________________________________________________________________________\n",
      "dense_95 (Dense)                (None, 16)           2064        dense_94[0][0]                   \n",
      "__________________________________________________________________________________________________\n",
      "dense_99 (Dense)                (None, 16)           2064        dropout_8[0][0]                  \n",
      "__________________________________________________________________________________________________\n",
      "dense_101 (Dense)               (None, 16)           2064        dense_100[0][0]                  \n",
      "__________________________________________________________________________________________________\n",
      "dense_97 (Dense)                (None, 16)           2064        dense_96[0][0]                   \n",
      "__________________________________________________________________________________________________\n",
      "concatenate_16 (Concatenate)    (None, 64)           0           dense_95[0][0]                   \n",
      "                                                                 dense_99[0][0]                   \n",
      "                                                                 dense_101[0][0]                  \n",
      "                                                                 dense_97[0][0]                   \n",
      "__________________________________________________________________________________________________\n",
      "batch_normalization_2 (BatchNor (None, 64)           256         concatenate_16[0][0]             \n",
      "__________________________________________________________________________________________________\n",
      "dropout_10 (Dropout)            (None, 64)           0           batch_normalization_2[0][0]      \n",
      "__________________________________________________________________________________________________\n",
      "dense_102 (Dense)               (None, 512)          33280       dropout_10[0][0]                 \n",
      "__________________________________________________________________________________________________\n",
      "dropout_11 (Dropout)            (None, 512)          0           dense_102[0][0]                  \n",
      "__________________________________________________________________________________________________\n",
      "dense_103 (Dense)               (None, 128)          65664       dropout_11[0][0]                 \n",
      "__________________________________________________________________________________________________\n",
      "dense_104 (Dense)               (None, 16)           2064        dense_103[0][0]                  \n",
      "__________________________________________________________________________________________________\n",
      "dense_105 (Dense)               (None, 5)            85          dense_104[0][0]                  \n",
      "==================================================================================================\n",
      "Total params: 145,781\n",
      "Trainable params: 145,653\n",
      "Non-trainable params: 128\n",
      "__________________________________________________________________________________________________\n"
     ]
    }
   ],
   "source": [
    "stacked.summary()"
   ]
  },
  {
   "cell_type": "code",
   "execution_count": 119,
   "metadata": {},
   "outputs": [
    {
     "name": "stdout",
     "output_type": "stream",
     "text": [
      "Train on 5476809 samples, validate on 1395450 samples\n",
      "Epoch 1/1\n",
      " 405248/5476809 [=>............................] - ETA: 25:48 - loss: 0.0190 - mean_absolute_percentage_error: 134576.8789"
     ]
    },
    {
     "name": "stderr",
     "output_type": "stream",
     "text": [
      "E0610 20:12:10.476016 4441658816 ultratb.py:149] Internal Python error in the inspect module.\n",
      "Below is the traceback from this internal error.\n",
      "\n"
     ]
    },
    {
     "name": "stdout",
     "output_type": "stream",
     "text": [
      "Traceback (most recent call last):\n",
      "  File \"/anaconda3/envs/grab/lib/python3.7/site-packages/IPython/core/interactiveshell.py\", line 3296, in run_code\n",
      "    exec(code_obj, self.user_global_ns, self.user_ns)\n",
      "  File \"<ipython-input-119-c88c95d98cf3>\", line 23, in <module>\n",
      "    validation_data=([X_cnn_eval, X_dnn_eval, X_rnn_eval], Y_eval),\n",
      "  File \"/anaconda3/envs/grab/lib/python3.7/site-packages/keras/engine/training.py\", line 1039, in fit\n",
      "    validation_steps=validation_steps)\n",
      "  File \"/anaconda3/envs/grab/lib/python3.7/site-packages/keras/engine/training_arrays.py\", line 199, in fit_loop\n",
      "    outs = f(ins_batch)\n",
      "  File \"/anaconda3/envs/grab/lib/python3.7/site-packages/keras/backend/tensorflow_backend.py\", line 2715, in __call__\n",
      "    return self._call(inputs)\n",
      "  File \"/anaconda3/envs/grab/lib/python3.7/site-packages/keras/backend/tensorflow_backend.py\", line 2675, in _call\n",
      "    fetched = self._callable_fn(*array_vals)\n",
      "  File \"/anaconda3/envs/grab/lib/python3.7/site-packages/tensorflow/python/client/session.py\", line 1458, in __call__\n",
      "    run_metadata_ptr)\n",
      "KeyboardInterrupt\n",
      "\n",
      "During handling of the above exception, another exception occurred:\n",
      "\n",
      "Traceback (most recent call last):\n",
      "  File \"/anaconda3/envs/grab/lib/python3.7/site-packages/IPython/core/interactiveshell.py\", line 2033, in showtraceback\n",
      "    stb = value._render_traceback_()\n",
      "AttributeError: 'KeyboardInterrupt' object has no attribute '_render_traceback_'\n",
      "\n",
      "During handling of the above exception, another exception occurred:\n",
      "\n",
      "Traceback (most recent call last):\n",
      "  File \"/anaconda3/envs/grab/lib/python3.7/site-packages/IPython/core/ultratb.py\", line 1095, in get_records\n",
      "    return _fixed_getinnerframes(etb, number_of_lines_of_context, tb_offset)\n",
      "  File \"/anaconda3/envs/grab/lib/python3.7/site-packages/IPython/core/ultratb.py\", line 313, in wrapped\n",
      "    return f(*args, **kwargs)\n",
      "  File \"/anaconda3/envs/grab/lib/python3.7/site-packages/IPython/core/ultratb.py\", line 347, in _fixed_getinnerframes\n",
      "    records = fix_frame_records_filenames(inspect.getinnerframes(etb, context))\n",
      "  File \"/anaconda3/envs/grab/lib/python3.7/inspect.py\", line 1502, in getinnerframes\n",
      "    frameinfo = (tb.tb_frame,) + getframeinfo(tb, context)\n",
      "  File \"/anaconda3/envs/grab/lib/python3.7/inspect.py\", line 1460, in getframeinfo\n",
      "    filename = getsourcefile(frame) or getfile(frame)\n",
      "  File \"/anaconda3/envs/grab/lib/python3.7/inspect.py\", line 696, in getsourcefile\n",
      "    if getattr(getmodule(object, filename), '__loader__', None) is not None:\n",
      "  File \"/anaconda3/envs/grab/lib/python3.7/inspect.py\", line 733, in getmodule\n",
      "    if ismodule(module) and hasattr(module, '__file__'):\n",
      "  File \"/anaconda3/envs/grab/lib/python3.7/inspect.py\", line 63, in ismodule\n",
      "    def ismodule(object):\n",
      "KeyboardInterrupt\n"
     ]
    },
    {
     "ename": "KeyboardInterrupt",
     "evalue": "",
     "output_type": "error",
     "traceback": [
      "\u001b[0;31m---------------------------------------------------------------------------\u001b[0m"
     ]
    }
   ],
   "source": [
    "# BEST LEARNING RATE  ABOUT 0.01 to 0.0001\n",
    "hp = [\n",
    "    (0.03, 1),\n",
    "    (0.001, 1),\n",
    "    (0.005, 2),\n",
    "    (0.001, 4),\n",
    "    (0.0005, 2),\n",
    "    (0.0001, 2),\n",
    "]\n",
    "\n",
    "for lr, ep in hp:\n",
    "    stacked.compile(\n",
    "        optimizer=Adagrad(lr=lr),\n",
    "        loss=mean_squared_error,\n",
    "        metrics=[mean_absolute_percentage_error],\n",
    "    )\n",
    "    \n",
    "    stacked.fit(\n",
    "        [X_cnn_train, X_dnn_train, X_rnn_train],\n",
    "        Y_train,\n",
    "        batch_size=256,\n",
    "        epochs=ep,\n",
    "        validation_data=([X_cnn_eval, X_dnn_eval, X_rnn_eval], Y_eval),\n",
    "    )"
   ]
  },
  {
   "cell_type": "code",
   "execution_count": null,
   "metadata": {},
   "outputs": [],
   "source": []
  },
  {
   "cell_type": "code",
   "execution_count": null,
   "metadata": {},
   "outputs": [],
   "source": [
    "del cnn_inputs, dnn_inputs, rnn_inputs\n",
    "del cnn, dnn, rnn\n",
    "del stacked\n",
    "gc.collect()"
   ]
  },
  {
   "cell_type": "code",
   "execution_count": 142,
   "metadata": {},
   "outputs": [],
   "source": [
    "cnn_inputs = Input(shape=(len(cnn_features),))\n",
    "dnn_inputs = Input(shape=(len(dnn_features),))\n",
    "rnn_inputs = Input(shape=(len(rnn_features),))\n",
    "\n",
    "cnn = Reshape((PREV_DAY, CNN_OFFSET*2+1, ))(cnn_inputs)\n",
    "'''depending on how you view your data, i prefer it to be (batch, steps, features)'''\n",
    "cnn = Conv1D(16, 5, activation='relu', padding='same')(cnn)\n",
    "cnn = MaxPool1D(2, 2, padding='same')(cnn)\n",
    "cnn = Conv1D(8, 3, activation='relu', padding='same')(cnn)\n",
    "cnn = MaxPool1D(2, 2, padding='same')(cnn)\n",
    "cnn = Flatten()(cnn)\n",
    "cnn = Model(inputs=cnn_inputs, outputs=cnn)\n",
    "\n",
    "rnn2 = Reshape((PREV_DAY, CNN_OFFSET*2 + 1, ))(cnn_inputs)\n",
    "rnn2 = GRU(32, return_sequences=True)(rnn2)\n",
    "rnn2 = GRU(16)(rnn2)\n",
    "rnn2 = Model(inputs=cnn_inputs, outputs=rnn2)\n",
    "\n",
    "dnn = Dense(32, activation=relu)(dnn_inputs)\n",
    "# dnn = Dropout(rate=0.2)(dnn)\n",
    "dnn = Dense(16, activation=relu)(dnn)\n",
    "dnn = Model(inputs=dnn_inputs, outputs=dnn)\n",
    "\n",
    "rnn = Reshape((len(rnn_features), 1, ))(rnn_inputs) # i have only one feature to feed into RNN\n",
    "rnn = GRU(32, return_sequences=True)(rnn)\n",
    "rnn = GRU(16)(rnn)\n",
    "rnn = Model(inputs=rnn_inputs, outputs=rnn)\n",
    "\n",
    "stacked = concatenate([cnn.output, dnn.output, rnn.output, rnn2.output])\n",
    "\n",
    "# stacked = BatchNormalization()(stacked)\n",
    "stacked = Dense(64, activation=relu)(stacked)\n",
    "# stacked = Dropout(rate=0.4)(stacked)\n",
    "stacked = Dense(32, activation=relu)(stacked)\n",
    "# stacked = Dropout(rate=0.3)(stacked)\n",
    "stacked = Dense(16, activation=relu)(stacked)\n",
    "\n",
    "'''Linear vs clipped relu vs sigmoid vs hard_sigmoid'''\n",
    "# stacked = Dense(5, activation=linear)(stacked)\n",
    "# this is nice, it is linear clipped, but i don't know how to make it work\n",
    "# stacked = Dense(5, activation=clipped_relu)(stacked)\n",
    "# stacked = Dense(5, activation=sigmoid)(stacked)\n",
    "stacked = Dense(5, activation=hard_sigmoid)(stacked)\n",
    "\n",
    "stacked = Model(inputs=[cnn.input, dnn.input, rnn.input], outputs=stacked)"
   ]
  },
  {
   "cell_type": "code",
   "execution_count": 143,
   "metadata": {},
   "outputs": [
    {
     "name": "stdout",
     "output_type": "stream",
     "text": [
      "__________________________________________________________________________________________________\n",
      "Layer (type)                    Output Shape         Param #     Connected to                     \n",
      "==================================================================================================\n",
      "input_55 (InputLayer)           (None, 119)          0                                            \n",
      "__________________________________________________________________________________________________\n",
      "reshape_39 (Reshape)            (None, 7, 17)        0           input_55[0][0]                   \n",
      "__________________________________________________________________________________________________\n",
      "conv1d_33 (Conv1D)              (None, 7, 16)        1376        reshape_39[0][0]                 \n",
      "__________________________________________________________________________________________________\n",
      "max_pooling1d_9 (MaxPooling1D)  (None, 4, 16)        0           conv1d_33[0][0]                  \n",
      "__________________________________________________________________________________________________\n",
      "input_57 (InputLayer)           (None, 12)           0                                            \n",
      "__________________________________________________________________________________________________\n",
      "conv1d_34 (Conv1D)              (None, 4, 8)         392         max_pooling1d_9[0][0]            \n",
      "__________________________________________________________________________________________________\n",
      "input_56 (InputLayer)           (None, 29)           0                                            \n",
      "__________________________________________________________________________________________________\n",
      "reshape_41 (Reshape)            (None, 12, 1)        0           input_57[0][0]                   \n",
      "__________________________________________________________________________________________________\n",
      "reshape_40 (Reshape)            (None, 7, 17)        0           input_55[0][0]                   \n",
      "__________________________________________________________________________________________________\n",
      "max_pooling1d_10 (MaxPooling1D) (None, 2, 8)         0           conv1d_34[0][0]                  \n",
      "__________________________________________________________________________________________________\n",
      "dense_112 (Dense)               (None, 32)           960         input_56[0][0]                   \n",
      "__________________________________________________________________________________________________\n",
      "gru_55 (GRU)                    (None, 12, 32)       3264        reshape_41[0][0]                 \n",
      "__________________________________________________________________________________________________\n",
      "gru_53 (GRU)                    (None, 7, 32)        4800        reshape_40[0][0]                 \n",
      "__________________________________________________________________________________________________\n",
      "flatten_13 (Flatten)            (None, 16)           0           max_pooling1d_10[0][0]           \n",
      "__________________________________________________________________________________________________\n",
      "dense_113 (Dense)               (None, 16)           528         dense_112[0][0]                  \n",
      "__________________________________________________________________________________________________\n",
      "gru_56 (GRU)                    (None, 16)           2352        gru_55[0][0]                     \n",
      "__________________________________________________________________________________________________\n",
      "gru_54 (GRU)                    (None, 16)           2352        gru_53[0][0]                     \n",
      "__________________________________________________________________________________________________\n",
      "concatenate_18 (Concatenate)    (None, 64)           0           flatten_13[0][0]                 \n",
      "                                                                 dense_113[0][0]                  \n",
      "                                                                 gru_56[0][0]                     \n",
      "                                                                 gru_54[0][0]                     \n",
      "__________________________________________________________________________________________________\n",
      "dense_114 (Dense)               (None, 64)           4160        concatenate_18[0][0]             \n",
      "__________________________________________________________________________________________________\n",
      "dense_115 (Dense)               (None, 32)           2080        dense_114[0][0]                  \n",
      "__________________________________________________________________________________________________\n",
      "dense_116 (Dense)               (None, 16)           528         dense_115[0][0]                  \n",
      "__________________________________________________________________________________________________\n",
      "dense_117 (Dense)               (None, 5)            85          dense_116[0][0]                  \n",
      "==================================================================================================\n",
      "Total params: 22,877\n",
      "Trainable params: 22,877\n",
      "Non-trainable params: 0\n",
      "__________________________________________________________________________________________________\n"
     ]
    }
   ],
   "source": [
    "stacked.summary()"
   ]
  },
  {
   "cell_type": "code",
   "execution_count": 144,
   "metadata": {},
   "outputs": [],
   "source": [
    "from keras import backend as K\n",
    "\n",
    "def root_mean_squared_error(y_true, y_pred):\n",
    "    return K.sqrt(K.mean(K.square(y_pred - y_true))) "
   ]
  },
  {
   "cell_type": "code",
   "execution_count": 145,
   "metadata": {},
   "outputs": [
    {
     "name": "stdout",
     "output_type": "stream",
     "text": [
      "Train on 5476809 samples, validate on 1395450 samples\n",
      "Epoch 1/1\n",
      " 703232/5476809 [==>...........................] - ETA: 10:15 - loss: 0.1357 - mean_absolute_percentage_error: 167736.5576"
     ]
    },
    {
     "ename": "KeyboardInterrupt",
     "evalue": "",
     "output_type": "error",
     "traceback": [
      "\u001b[0;31m---------------------------------------------------------------------------\u001b[0m",
      "\u001b[0;31mKeyboardInterrupt\u001b[0m                         Traceback (most recent call last)",
      "\u001b[0;32m<ipython-input-145-e042d646f852>\u001b[0m in \u001b[0;36m<module>\u001b[0;34m\u001b[0m\n\u001b[1;32m     21\u001b[0m         \u001b[0mbatch_size\u001b[0m\u001b[0;34m=\u001b[0m\u001b[0;36m256\u001b[0m\u001b[0;34m,\u001b[0m\u001b[0;34m\u001b[0m\u001b[0;34m\u001b[0m\u001b[0m\n\u001b[1;32m     22\u001b[0m         \u001b[0mepochs\u001b[0m\u001b[0;34m=\u001b[0m\u001b[0mep\u001b[0m\u001b[0;34m,\u001b[0m\u001b[0;34m\u001b[0m\u001b[0;34m\u001b[0m\u001b[0m\n\u001b[0;32m---> 23\u001b[0;31m         \u001b[0mvalidation_data\u001b[0m\u001b[0;34m=\u001b[0m\u001b[0;34m(\u001b[0m\u001b[0;34m[\u001b[0m\u001b[0mX_cnn_eval\u001b[0m\u001b[0;34m,\u001b[0m \u001b[0mX_dnn_eval\u001b[0m\u001b[0;34m,\u001b[0m \u001b[0mX_rnn_eval\u001b[0m\u001b[0;34m]\u001b[0m\u001b[0;34m,\u001b[0m \u001b[0mY_eval\u001b[0m\u001b[0;34m)\u001b[0m\u001b[0;34m,\u001b[0m\u001b[0;34m\u001b[0m\u001b[0;34m\u001b[0m\u001b[0m\n\u001b[0m\u001b[1;32m     24\u001b[0m     )\n",
      "\u001b[0;32m/anaconda3/envs/grab/lib/python3.7/site-packages/keras/engine/training.py\u001b[0m in \u001b[0;36mfit\u001b[0;34m(self, x, y, batch_size, epochs, verbose, callbacks, validation_split, validation_data, shuffle, class_weight, sample_weight, initial_epoch, steps_per_epoch, validation_steps, **kwargs)\u001b[0m\n\u001b[1;32m   1037\u001b[0m                                         \u001b[0minitial_epoch\u001b[0m\u001b[0;34m=\u001b[0m\u001b[0minitial_epoch\u001b[0m\u001b[0;34m,\u001b[0m\u001b[0;34m\u001b[0m\u001b[0;34m\u001b[0m\u001b[0m\n\u001b[1;32m   1038\u001b[0m                                         \u001b[0msteps_per_epoch\u001b[0m\u001b[0;34m=\u001b[0m\u001b[0msteps_per_epoch\u001b[0m\u001b[0;34m,\u001b[0m\u001b[0;34m\u001b[0m\u001b[0;34m\u001b[0m\u001b[0m\n\u001b[0;32m-> 1039\u001b[0;31m                                         validation_steps=validation_steps)\n\u001b[0m\u001b[1;32m   1040\u001b[0m \u001b[0;34m\u001b[0m\u001b[0m\n\u001b[1;32m   1041\u001b[0m     def evaluate(self, x=None, y=None,\n",
      "\u001b[0;32m/anaconda3/envs/grab/lib/python3.7/site-packages/keras/engine/training_arrays.py\u001b[0m in \u001b[0;36mfit_loop\u001b[0;34m(model, f, ins, out_labels, batch_size, epochs, verbose, callbacks, val_f, val_ins, shuffle, callback_metrics, initial_epoch, steps_per_epoch, validation_steps)\u001b[0m\n\u001b[1;32m    197\u001b[0m                     \u001b[0mins_batch\u001b[0m\u001b[0;34m[\u001b[0m\u001b[0mi\u001b[0m\u001b[0;34m]\u001b[0m \u001b[0;34m=\u001b[0m \u001b[0mins_batch\u001b[0m\u001b[0;34m[\u001b[0m\u001b[0mi\u001b[0m\u001b[0;34m]\u001b[0m\u001b[0;34m.\u001b[0m\u001b[0mtoarray\u001b[0m\u001b[0;34m(\u001b[0m\u001b[0;34m)\u001b[0m\u001b[0;34m\u001b[0m\u001b[0;34m\u001b[0m\u001b[0m\n\u001b[1;32m    198\u001b[0m \u001b[0;34m\u001b[0m\u001b[0m\n\u001b[0;32m--> 199\u001b[0;31m                 \u001b[0mouts\u001b[0m \u001b[0;34m=\u001b[0m \u001b[0mf\u001b[0m\u001b[0;34m(\u001b[0m\u001b[0mins_batch\u001b[0m\u001b[0;34m)\u001b[0m\u001b[0;34m\u001b[0m\u001b[0;34m\u001b[0m\u001b[0m\n\u001b[0m\u001b[1;32m    200\u001b[0m                 \u001b[0mouts\u001b[0m \u001b[0;34m=\u001b[0m \u001b[0mto_list\u001b[0m\u001b[0;34m(\u001b[0m\u001b[0mouts\u001b[0m\u001b[0;34m)\u001b[0m\u001b[0;34m\u001b[0m\u001b[0;34m\u001b[0m\u001b[0m\n\u001b[1;32m    201\u001b[0m                 \u001b[0;32mfor\u001b[0m \u001b[0ml\u001b[0m\u001b[0;34m,\u001b[0m \u001b[0mo\u001b[0m \u001b[0;32min\u001b[0m \u001b[0mzip\u001b[0m\u001b[0;34m(\u001b[0m\u001b[0mout_labels\u001b[0m\u001b[0;34m,\u001b[0m \u001b[0mouts\u001b[0m\u001b[0;34m)\u001b[0m\u001b[0;34m:\u001b[0m\u001b[0;34m\u001b[0m\u001b[0;34m\u001b[0m\u001b[0m\n",
      "\u001b[0;32m/anaconda3/envs/grab/lib/python3.7/site-packages/keras/backend/tensorflow_backend.py\u001b[0m in \u001b[0;36m__call__\u001b[0;34m(self, inputs)\u001b[0m\n\u001b[1;32m   2713\u001b[0m                 \u001b[0;32mreturn\u001b[0m \u001b[0mself\u001b[0m\u001b[0;34m.\u001b[0m\u001b[0m_legacy_call\u001b[0m\u001b[0;34m(\u001b[0m\u001b[0minputs\u001b[0m\u001b[0;34m)\u001b[0m\u001b[0;34m\u001b[0m\u001b[0;34m\u001b[0m\u001b[0m\n\u001b[1;32m   2714\u001b[0m \u001b[0;34m\u001b[0m\u001b[0m\n\u001b[0;32m-> 2715\u001b[0;31m             \u001b[0;32mreturn\u001b[0m \u001b[0mself\u001b[0m\u001b[0;34m.\u001b[0m\u001b[0m_call\u001b[0m\u001b[0;34m(\u001b[0m\u001b[0minputs\u001b[0m\u001b[0;34m)\u001b[0m\u001b[0;34m\u001b[0m\u001b[0;34m\u001b[0m\u001b[0m\n\u001b[0m\u001b[1;32m   2716\u001b[0m         \u001b[0;32melse\u001b[0m\u001b[0;34m:\u001b[0m\u001b[0;34m\u001b[0m\u001b[0;34m\u001b[0m\u001b[0m\n\u001b[1;32m   2717\u001b[0m             \u001b[0;32mif\u001b[0m \u001b[0mpy_any\u001b[0m\u001b[0;34m(\u001b[0m\u001b[0mis_tensor\u001b[0m\u001b[0;34m(\u001b[0m\u001b[0mx\u001b[0m\u001b[0;34m)\u001b[0m \u001b[0;32mfor\u001b[0m \u001b[0mx\u001b[0m \u001b[0;32min\u001b[0m \u001b[0minputs\u001b[0m\u001b[0;34m)\u001b[0m\u001b[0;34m:\u001b[0m\u001b[0;34m\u001b[0m\u001b[0;34m\u001b[0m\u001b[0m\n",
      "\u001b[0;32m/anaconda3/envs/grab/lib/python3.7/site-packages/keras/backend/tensorflow_backend.py\u001b[0m in \u001b[0;36m_call\u001b[0;34m(self, inputs)\u001b[0m\n\u001b[1;32m   2673\u001b[0m             \u001b[0mfetched\u001b[0m \u001b[0;34m=\u001b[0m \u001b[0mself\u001b[0m\u001b[0;34m.\u001b[0m\u001b[0m_callable_fn\u001b[0m\u001b[0;34m(\u001b[0m\u001b[0;34m*\u001b[0m\u001b[0marray_vals\u001b[0m\u001b[0;34m,\u001b[0m \u001b[0mrun_metadata\u001b[0m\u001b[0;34m=\u001b[0m\u001b[0mself\u001b[0m\u001b[0;34m.\u001b[0m\u001b[0mrun_metadata\u001b[0m\u001b[0;34m)\u001b[0m\u001b[0;34m\u001b[0m\u001b[0;34m\u001b[0m\u001b[0m\n\u001b[1;32m   2674\u001b[0m         \u001b[0;32melse\u001b[0m\u001b[0;34m:\u001b[0m\u001b[0;34m\u001b[0m\u001b[0;34m\u001b[0m\u001b[0m\n\u001b[0;32m-> 2675\u001b[0;31m             \u001b[0mfetched\u001b[0m \u001b[0;34m=\u001b[0m \u001b[0mself\u001b[0m\u001b[0;34m.\u001b[0m\u001b[0m_callable_fn\u001b[0m\u001b[0;34m(\u001b[0m\u001b[0;34m*\u001b[0m\u001b[0marray_vals\u001b[0m\u001b[0;34m)\u001b[0m\u001b[0;34m\u001b[0m\u001b[0;34m\u001b[0m\u001b[0m\n\u001b[0m\u001b[1;32m   2676\u001b[0m         \u001b[0;32mreturn\u001b[0m \u001b[0mfetched\u001b[0m\u001b[0;34m[\u001b[0m\u001b[0;34m:\u001b[0m\u001b[0mlen\u001b[0m\u001b[0;34m(\u001b[0m\u001b[0mself\u001b[0m\u001b[0;34m.\u001b[0m\u001b[0moutputs\u001b[0m\u001b[0;34m)\u001b[0m\u001b[0;34m]\u001b[0m\u001b[0;34m\u001b[0m\u001b[0;34m\u001b[0m\u001b[0m\n\u001b[1;32m   2677\u001b[0m \u001b[0;34m\u001b[0m\u001b[0m\n",
      "\u001b[0;32m/anaconda3/envs/grab/lib/python3.7/site-packages/tensorflow/python/client/session.py\u001b[0m in \u001b[0;36m__call__\u001b[0;34m(self, *args, **kwargs)\u001b[0m\n\u001b[1;32m   1456\u001b[0m         ret = tf_session.TF_SessionRunCallable(self._session._session,\n\u001b[1;32m   1457\u001b[0m                                                \u001b[0mself\u001b[0m\u001b[0;34m.\u001b[0m\u001b[0m_handle\u001b[0m\u001b[0;34m,\u001b[0m \u001b[0margs\u001b[0m\u001b[0;34m,\u001b[0m\u001b[0;34m\u001b[0m\u001b[0;34m\u001b[0m\u001b[0m\n\u001b[0;32m-> 1458\u001b[0;31m                                                run_metadata_ptr)\n\u001b[0m\u001b[1;32m   1459\u001b[0m         \u001b[0;32mif\u001b[0m \u001b[0mrun_metadata\u001b[0m\u001b[0;34m:\u001b[0m\u001b[0;34m\u001b[0m\u001b[0;34m\u001b[0m\u001b[0m\n\u001b[1;32m   1460\u001b[0m           \u001b[0mproto_data\u001b[0m \u001b[0;34m=\u001b[0m \u001b[0mtf_session\u001b[0m\u001b[0;34m.\u001b[0m\u001b[0mTF_GetBuffer\u001b[0m\u001b[0;34m(\u001b[0m\u001b[0mrun_metadata_ptr\u001b[0m\u001b[0;34m)\u001b[0m\u001b[0;34m\u001b[0m\u001b[0;34m\u001b[0m\u001b[0m\n",
      "\u001b[0;31mKeyboardInterrupt\u001b[0m: "
     ]
    }
   ],
   "source": [
    "# BEST LEARNING RATE  ABOUT 0.01 to 0.0001\n",
    "hp = [\n",
    "    (0.03, 1),\n",
    "    (0.001, 1),\n",
    "    (0.005, 2),\n",
    "    (0.001, 4),\n",
    "    (0.0005, 2),\n",
    "    (0.0001, 2),\n",
    "]\n",
    "\n",
    "for lr, ep in hp:\n",
    "    stacked.compile(\n",
    "        optimizer=RMSprop(lr=lr),\n",
    "        loss=root_mean_squared_error,\n",
    "        metrics=[mean_absolute_percentage_error],\n",
    "    )\n",
    "    \n",
    "    stacked.fit(\n",
    "        [X_cnn_train, X_dnn_train, X_rnn_train],\n",
    "        Y_train,\n",
    "        batch_size=256,\n",
    "        epochs=ep,\n",
    "        validation_data=([X_cnn_eval, X_dnn_eval, X_rnn_eval], Y_eval),\n",
    "    )"
   ]
  },
  {
   "cell_type": "code",
   "execution_count": 149,
   "metadata": {},
   "outputs": [],
   "source": [
    "stacked = load_model('./cnn_rnn_dnn_rnn_stacked_10_06_2019.h5')"
   ]
  },
  {
   "cell_type": "code",
   "execution_count": 124,
   "metadata": {},
   "outputs": [],
   "source": [
    "def count_rmse(predictions, targets):\n",
    "    return np.sqrt(np.mean((predictions-targets)**2))"
   ]
  },
  {
   "cell_type": "code",
   "execution_count": 150,
   "metadata": {},
   "outputs": [],
   "source": [
    "preds = stacked.predict([X_cnn_eval, X_dnn_eval, X_rnn_eval])"
   ]
  },
  {
   "cell_type": "code",
   "execution_count": 151,
   "metadata": {},
   "outputs": [
    {
     "data": {
      "text/plain": [
       "demand@(0+1)    0.023942\n",
       "demand@(0+2)    0.027729\n",
       "demand@(0+3)    0.029978\n",
       "demand@(0+4)    0.031624\n",
       "demand@(0+5)    0.033216\n",
       "dtype: float64"
      ]
     },
     "execution_count": 151,
     "metadata": {},
     "output_type": "execute_result"
    }
   ],
   "source": [
    "count_rmse(preds, Y_eval)"
   ]
  },
  {
   "cell_type": "code",
   "execution_count": 157,
   "metadata": {},
   "outputs": [
    {
     "data": {
      "text/plain": [
       "(119, 29, 12)"
      ]
     },
     "execution_count": 157,
     "metadata": {},
     "output_type": "execute_result"
    }
   ],
   "source": [
    "len(cnn_features),len(dnn_features),len(rnn_features)"
   ]
  },
  {
   "cell_type": "code",
   "execution_count": 167,
   "metadata": {},
   "outputs": [
    {
     "data": {
      "text/plain": [
       "171"
      ]
     },
     "execution_count": 167,
     "metadata": {},
     "output_type": "execute_result"
    }
   ],
   "source": [
    "del cnn\n",
    "gc.collect()"
   ]
  },
  {
   "cell_type": "code",
   "execution_count": 174,
   "metadata": {},
   "outputs": [],
   "source": [
    "cnn_inputs = Input(shape=(len(cnn_features),))\n",
    "\n",
    "cnn = Reshape((PREV_DAY, CNN_OFFSET*2 + 1, ))(cnn_inputs)\n",
    "cnn = GRU(32, return_sequences=True)(cnn)\n",
    "cnn = GRU(16)(cnn)\n",
    "\n",
    "cnn = Dense(64, activation=relu)(cnn)\n",
    "cnn = Dense(32, activation=relu)(cnn)\n",
    "cnn = Dense(16, activation=relu)(cnn)\n",
    "cnn = Dense(5, activation=hard_sigmoid)(cnn)\n",
    "\n",
    "cnn = Model(inputs=cnn_inputs, outputs=cnn)"
   ]
  },
  {
   "cell_type": "code",
   "execution_count": 175,
   "metadata": {},
   "outputs": [
    {
     "name": "stdout",
     "output_type": "stream",
     "text": [
      "Train on 5476809 samples, validate on 1395450 samples\n",
      "Epoch 1/1\n",
      " 736256/5476809 [===>..........................] - ETA: 5:37 - loss: 0.1253 - mean_absolute_percentage_error: 174960898.5007"
     ]
    },
    {
     "ename": "KeyboardInterrupt",
     "evalue": "",
     "output_type": "error",
     "traceback": [
      "\u001b[0;31m---------------------------------------------------------------------------\u001b[0m",
      "\u001b[0;31mKeyboardInterrupt\u001b[0m                         Traceback (most recent call last)",
      "\u001b[0;32m<ipython-input-175-dd515beb2c43>\u001b[0m in \u001b[0;36m<module>\u001b[0;34m\u001b[0m\n\u001b[1;32m     10\u001b[0m     \u001b[0mbatch_size\u001b[0m\u001b[0;34m=\u001b[0m\u001b[0;36m256\u001b[0m\u001b[0;34m,\u001b[0m\u001b[0;34m\u001b[0m\u001b[0;34m\u001b[0m\u001b[0m\n\u001b[1;32m     11\u001b[0m     \u001b[0mepochs\u001b[0m\u001b[0;34m=\u001b[0m\u001b[0;36m1\u001b[0m\u001b[0;34m,\u001b[0m\u001b[0;34m\u001b[0m\u001b[0;34m\u001b[0m\u001b[0m\n\u001b[0;32m---> 12\u001b[0;31m     \u001b[0mvalidation_data\u001b[0m\u001b[0;34m=\u001b[0m\u001b[0;34m(\u001b[0m\u001b[0mX_cnn_eval\u001b[0m\u001b[0;34m,\u001b[0m \u001b[0mY_eval\u001b[0m\u001b[0;34m)\u001b[0m\u001b[0;34m,\u001b[0m\u001b[0;34m\u001b[0m\u001b[0;34m\u001b[0m\u001b[0m\n\u001b[0m\u001b[1;32m     13\u001b[0m )\n",
      "\u001b[0;32m/anaconda3/envs/grab/lib/python3.7/site-packages/keras/engine/training.py\u001b[0m in \u001b[0;36mfit\u001b[0;34m(self, x, y, batch_size, epochs, verbose, callbacks, validation_split, validation_data, shuffle, class_weight, sample_weight, initial_epoch, steps_per_epoch, validation_steps, **kwargs)\u001b[0m\n\u001b[1;32m   1037\u001b[0m                                         \u001b[0minitial_epoch\u001b[0m\u001b[0;34m=\u001b[0m\u001b[0minitial_epoch\u001b[0m\u001b[0;34m,\u001b[0m\u001b[0;34m\u001b[0m\u001b[0;34m\u001b[0m\u001b[0m\n\u001b[1;32m   1038\u001b[0m                                         \u001b[0msteps_per_epoch\u001b[0m\u001b[0;34m=\u001b[0m\u001b[0msteps_per_epoch\u001b[0m\u001b[0;34m,\u001b[0m\u001b[0;34m\u001b[0m\u001b[0;34m\u001b[0m\u001b[0m\n\u001b[0;32m-> 1039\u001b[0;31m                                         validation_steps=validation_steps)\n\u001b[0m\u001b[1;32m   1040\u001b[0m \u001b[0;34m\u001b[0m\u001b[0m\n\u001b[1;32m   1041\u001b[0m     def evaluate(self, x=None, y=None,\n",
      "\u001b[0;32m/anaconda3/envs/grab/lib/python3.7/site-packages/keras/engine/training_arrays.py\u001b[0m in \u001b[0;36mfit_loop\u001b[0;34m(model, f, ins, out_labels, batch_size, epochs, verbose, callbacks, val_f, val_ins, shuffle, callback_metrics, initial_epoch, steps_per_epoch, validation_steps)\u001b[0m\n\u001b[1;32m    197\u001b[0m                     \u001b[0mins_batch\u001b[0m\u001b[0;34m[\u001b[0m\u001b[0mi\u001b[0m\u001b[0;34m]\u001b[0m \u001b[0;34m=\u001b[0m \u001b[0mins_batch\u001b[0m\u001b[0;34m[\u001b[0m\u001b[0mi\u001b[0m\u001b[0;34m]\u001b[0m\u001b[0;34m.\u001b[0m\u001b[0mtoarray\u001b[0m\u001b[0;34m(\u001b[0m\u001b[0;34m)\u001b[0m\u001b[0;34m\u001b[0m\u001b[0;34m\u001b[0m\u001b[0m\n\u001b[1;32m    198\u001b[0m \u001b[0;34m\u001b[0m\u001b[0m\n\u001b[0;32m--> 199\u001b[0;31m                 \u001b[0mouts\u001b[0m \u001b[0;34m=\u001b[0m \u001b[0mf\u001b[0m\u001b[0;34m(\u001b[0m\u001b[0mins_batch\u001b[0m\u001b[0;34m)\u001b[0m\u001b[0;34m\u001b[0m\u001b[0;34m\u001b[0m\u001b[0m\n\u001b[0m\u001b[1;32m    200\u001b[0m                 \u001b[0mouts\u001b[0m \u001b[0;34m=\u001b[0m \u001b[0mto_list\u001b[0m\u001b[0;34m(\u001b[0m\u001b[0mouts\u001b[0m\u001b[0;34m)\u001b[0m\u001b[0;34m\u001b[0m\u001b[0;34m\u001b[0m\u001b[0m\n\u001b[1;32m    201\u001b[0m                 \u001b[0;32mfor\u001b[0m \u001b[0ml\u001b[0m\u001b[0;34m,\u001b[0m \u001b[0mo\u001b[0m \u001b[0;32min\u001b[0m \u001b[0mzip\u001b[0m\u001b[0;34m(\u001b[0m\u001b[0mout_labels\u001b[0m\u001b[0;34m,\u001b[0m \u001b[0mouts\u001b[0m\u001b[0;34m)\u001b[0m\u001b[0;34m:\u001b[0m\u001b[0;34m\u001b[0m\u001b[0;34m\u001b[0m\u001b[0m\n",
      "\u001b[0;32m/anaconda3/envs/grab/lib/python3.7/site-packages/keras/backend/tensorflow_backend.py\u001b[0m in \u001b[0;36m__call__\u001b[0;34m(self, inputs)\u001b[0m\n\u001b[1;32m   2713\u001b[0m                 \u001b[0;32mreturn\u001b[0m \u001b[0mself\u001b[0m\u001b[0;34m.\u001b[0m\u001b[0m_legacy_call\u001b[0m\u001b[0;34m(\u001b[0m\u001b[0minputs\u001b[0m\u001b[0;34m)\u001b[0m\u001b[0;34m\u001b[0m\u001b[0;34m\u001b[0m\u001b[0m\n\u001b[1;32m   2714\u001b[0m \u001b[0;34m\u001b[0m\u001b[0m\n\u001b[0;32m-> 2715\u001b[0;31m             \u001b[0;32mreturn\u001b[0m \u001b[0mself\u001b[0m\u001b[0;34m.\u001b[0m\u001b[0m_call\u001b[0m\u001b[0;34m(\u001b[0m\u001b[0minputs\u001b[0m\u001b[0;34m)\u001b[0m\u001b[0;34m\u001b[0m\u001b[0;34m\u001b[0m\u001b[0m\n\u001b[0m\u001b[1;32m   2716\u001b[0m         \u001b[0;32melse\u001b[0m\u001b[0;34m:\u001b[0m\u001b[0;34m\u001b[0m\u001b[0;34m\u001b[0m\u001b[0m\n\u001b[1;32m   2717\u001b[0m             \u001b[0;32mif\u001b[0m \u001b[0mpy_any\u001b[0m\u001b[0;34m(\u001b[0m\u001b[0mis_tensor\u001b[0m\u001b[0;34m(\u001b[0m\u001b[0mx\u001b[0m\u001b[0;34m)\u001b[0m \u001b[0;32mfor\u001b[0m \u001b[0mx\u001b[0m \u001b[0;32min\u001b[0m \u001b[0minputs\u001b[0m\u001b[0;34m)\u001b[0m\u001b[0;34m:\u001b[0m\u001b[0;34m\u001b[0m\u001b[0;34m\u001b[0m\u001b[0m\n",
      "\u001b[0;32m/anaconda3/envs/grab/lib/python3.7/site-packages/keras/backend/tensorflow_backend.py\u001b[0m in \u001b[0;36m_call\u001b[0;34m(self, inputs)\u001b[0m\n\u001b[1;32m   2673\u001b[0m             \u001b[0mfetched\u001b[0m \u001b[0;34m=\u001b[0m \u001b[0mself\u001b[0m\u001b[0;34m.\u001b[0m\u001b[0m_callable_fn\u001b[0m\u001b[0;34m(\u001b[0m\u001b[0;34m*\u001b[0m\u001b[0marray_vals\u001b[0m\u001b[0;34m,\u001b[0m \u001b[0mrun_metadata\u001b[0m\u001b[0;34m=\u001b[0m\u001b[0mself\u001b[0m\u001b[0;34m.\u001b[0m\u001b[0mrun_metadata\u001b[0m\u001b[0;34m)\u001b[0m\u001b[0;34m\u001b[0m\u001b[0;34m\u001b[0m\u001b[0m\n\u001b[1;32m   2674\u001b[0m         \u001b[0;32melse\u001b[0m\u001b[0;34m:\u001b[0m\u001b[0;34m\u001b[0m\u001b[0;34m\u001b[0m\u001b[0m\n\u001b[0;32m-> 2675\u001b[0;31m             \u001b[0mfetched\u001b[0m \u001b[0;34m=\u001b[0m \u001b[0mself\u001b[0m\u001b[0;34m.\u001b[0m\u001b[0m_callable_fn\u001b[0m\u001b[0;34m(\u001b[0m\u001b[0;34m*\u001b[0m\u001b[0marray_vals\u001b[0m\u001b[0;34m)\u001b[0m\u001b[0;34m\u001b[0m\u001b[0;34m\u001b[0m\u001b[0m\n\u001b[0m\u001b[1;32m   2676\u001b[0m         \u001b[0;32mreturn\u001b[0m \u001b[0mfetched\u001b[0m\u001b[0;34m[\u001b[0m\u001b[0;34m:\u001b[0m\u001b[0mlen\u001b[0m\u001b[0;34m(\u001b[0m\u001b[0mself\u001b[0m\u001b[0;34m.\u001b[0m\u001b[0moutputs\u001b[0m\u001b[0;34m)\u001b[0m\u001b[0;34m]\u001b[0m\u001b[0;34m\u001b[0m\u001b[0;34m\u001b[0m\u001b[0m\n\u001b[1;32m   2677\u001b[0m \u001b[0;34m\u001b[0m\u001b[0m\n",
      "\u001b[0;32m/anaconda3/envs/grab/lib/python3.7/site-packages/tensorflow/python/client/session.py\u001b[0m in \u001b[0;36m__call__\u001b[0;34m(self, *args, **kwargs)\u001b[0m\n\u001b[1;32m   1456\u001b[0m         ret = tf_session.TF_SessionRunCallable(self._session._session,\n\u001b[1;32m   1457\u001b[0m                                                \u001b[0mself\u001b[0m\u001b[0;34m.\u001b[0m\u001b[0m_handle\u001b[0m\u001b[0;34m,\u001b[0m \u001b[0margs\u001b[0m\u001b[0;34m,\u001b[0m\u001b[0;34m\u001b[0m\u001b[0;34m\u001b[0m\u001b[0m\n\u001b[0;32m-> 1458\u001b[0;31m                                                run_metadata_ptr)\n\u001b[0m\u001b[1;32m   1459\u001b[0m         \u001b[0;32mif\u001b[0m \u001b[0mrun_metadata\u001b[0m\u001b[0;34m:\u001b[0m\u001b[0;34m\u001b[0m\u001b[0;34m\u001b[0m\u001b[0m\n\u001b[1;32m   1460\u001b[0m           \u001b[0mproto_data\u001b[0m \u001b[0;34m=\u001b[0m \u001b[0mtf_session\u001b[0m\u001b[0;34m.\u001b[0m\u001b[0mTF_GetBuffer\u001b[0m\u001b[0;34m(\u001b[0m\u001b[0mrun_metadata_ptr\u001b[0m\u001b[0;34m)\u001b[0m\u001b[0;34m\u001b[0m\u001b[0;34m\u001b[0m\u001b[0m\n",
      "\u001b[0;31mKeyboardInterrupt\u001b[0m: "
     ]
    }
   ],
   "source": [
    "cnn.compile(\n",
    "    optimizer=Adagrad(lr=0.0003),\n",
    "    loss=mean_squared_error,\n",
    "    metrics=[mean_absolute_percentage_error],\n",
    ")\n",
    "\n",
    "cnn.fit(\n",
    "    X_cnn_train,\n",
    "    Y_train,\n",
    "    batch_size=256,\n",
    "    epochs=1,\n",
    "    validation_data=(X_cnn_eval, Y_eval),\n",
    ")"
   ]
  },
  {
   "cell_type": "code",
   "execution_count": 176,
   "metadata": {},
   "outputs": [],
   "source": [
    "preds = cnn.predict(X_cnn_eval.iloc[:5000])"
   ]
  },
  {
   "cell_type": "code",
   "execution_count": 177,
   "metadata": {},
   "outputs": [
    {
     "data": {
      "text/plain": [
       "array([[0.        , 0.        , 0.01658908, 0.        , 0.        ],\n",
       "       [0.        , 0.        , 0.01594695, 0.        , 0.        ],\n",
       "       [0.        , 0.        , 0.01508364, 0.        , 0.        ],\n",
       "       ...,\n",
       "       [0.06107077, 0.08459067, 0.11330804, 0.        , 0.        ],\n",
       "       [0.05485138, 0.07905954, 0.10699213, 0.        , 0.        ],\n",
       "       [0.0517309 , 0.07629088, 0.10326871, 0.        , 0.        ]],\n",
       "      dtype=float32)"
      ]
     },
     "execution_count": 177,
     "metadata": {},
     "output_type": "execute_result"
    }
   ],
   "source": [
    "preds"
   ]
  },
  {
   "cell_type": "code",
   "execution_count": null,
   "metadata": {},
   "outputs": [],
   "source": []
  },
  {
   "cell_type": "code",
   "execution_count": null,
   "metadata": {},
   "outputs": [],
   "source": []
  },
  {
   "cell_type": "code",
   "execution_count": null,
   "metadata": {},
   "outputs": [],
   "source": []
  },
  {
   "cell_type": "code",
   "execution_count": 153,
   "metadata": {},
   "outputs": [
    {
     "data": {
      "text/html": [
       "<div>\n",
       "<style scoped>\n",
       "    .dataframe tbody tr th:only-of-type {\n",
       "        vertical-align: middle;\n",
       "    }\n",
       "\n",
       "    .dataframe tbody tr th {\n",
       "        vertical-align: top;\n",
       "    }\n",
       "\n",
       "    .dataframe thead th {\n",
       "        text-align: right;\n",
       "    }\n",
       "</style>\n",
       "<table border=\"1\" class=\"dataframe\">\n",
       "  <thead>\n",
       "    <tr style=\"text-align: right;\">\n",
       "      <th></th>\n",
       "      <th>order</th>\n",
       "      <th>geohash6</th>\n",
       "      <th>hour</th>\n",
       "      <th>demand</th>\n",
       "    </tr>\n",
       "  </thead>\n",
       "  <tbody>\n",
       "    <tr>\n",
       "      <th>0</th>\n",
       "      <td>0</td>\n",
       "      <td>qp03wc</td>\n",
       "      <td>0</td>\n",
       "      <td>0.054858</td>\n",
       "    </tr>\n",
       "    <tr>\n",
       "      <th>1</th>\n",
       "      <td>1</td>\n",
       "      <td>qp03wc</td>\n",
       "      <td>0</td>\n",
       "      <td>0.086209</td>\n",
       "    </tr>\n",
       "    <tr>\n",
       "      <th>2</th>\n",
       "      <td>2</td>\n",
       "      <td>qp03wc</td>\n",
       "      <td>0</td>\n",
       "      <td>0.050739</td>\n",
       "    </tr>\n",
       "    <tr>\n",
       "      <th>3</th>\n",
       "      <td>3</td>\n",
       "      <td>qp03wc</td>\n",
       "      <td>0</td>\n",
       "      <td>0.075174</td>\n",
       "    </tr>\n",
       "    <tr>\n",
       "      <th>4</th>\n",
       "      <td>4</td>\n",
       "      <td>qp03wc</td>\n",
       "      <td>1</td>\n",
       "      <td>0.062867</td>\n",
       "    </tr>\n",
       "  </tbody>\n",
       "</table>\n",
       "</div>"
      ],
      "text/plain": [
       "   order geohash6  hour    demand\n",
       "0      0   qp03wc     0  0.054858\n",
       "1      1   qp03wc     0  0.086209\n",
       "2      2   qp03wc     0  0.050739\n",
       "3      3   qp03wc     0  0.075174\n",
       "4      4   qp03wc     1  0.062867"
      ]
     },
     "execution_count": 153,
     "metadata": {},
     "output_type": "execute_result"
    }
   ],
   "source": [
    "df.head()"
   ]
  },
  {
   "cell_type": "code",
   "execution_count": 155,
   "metadata": {},
   "outputs": [],
   "source": [
    "df[df.order > 50*96].drop(columns=['order']).to_csv('data/test_raw.csv', index=False)"
   ]
  },
  {
   "cell_type": "code",
   "execution_count": null,
   "metadata": {},
   "outputs": [],
   "source": []
  }
 ],
 "metadata": {
  "kernelspec": {
   "display_name": "Python 3",
   "language": "python",
   "name": "python3"
  },
  "language_info": {
   "codemirror_mode": {
    "name": "ipython",
    "version": 3
   },
   "file_extension": ".py",
   "mimetype": "text/x-python",
   "name": "python",
   "nbconvert_exporter": "python",
   "pygments_lexer": "ipython3",
   "version": "3.7.3"
  }
 },
 "nbformat": 4,
 "nbformat_minor": 2
}
