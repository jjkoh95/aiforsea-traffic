{
 "cells": [
  {
   "cell_type": "code",
   "execution_count": 1,
   "metadata": {},
   "outputs": [],
   "source": [
    "import numpy as np\n",
    "import pandas as pd"
   ]
  },
  {
   "cell_type": "code",
   "execution_count": 3,
   "metadata": {},
   "outputs": [],
   "source": [
    "DATA_LOC = './data/training.csv'\n",
    "df = pd.read_csv(DATA_LOC)"
   ]
  },
  {
   "cell_type": "code",
   "execution_count": 5,
   "metadata": {},
   "outputs": [
    {
     "data": {
      "text/plain": [
       "array(['qp03wc', 'qp03pn', 'qp09sw', ..., 'qp03yn', 'qp09v9', 'qp0d45'],\n",
       "      dtype=object)"
      ]
     },
     "execution_count": 5,
     "metadata": {},
     "output_type": "execute_result"
    }
   ],
   "source": [
    "df.geohash6.unique()"
   ]
  },
  {
   "cell_type": "code",
   "execution_count": 9,
   "metadata": {},
   "outputs": [
    {
     "data": {
      "text/plain": [
       "array(['20:0', '14:30', '6:15', '5:0', '4:0', '12:15', '3:30', '20:45',\n",
       "       '22:15', '9:15', '11:45', '14:45', '2:30', '23:45', '11:30',\n",
       "       '10:0', '11:0', '18:30', '6:0', '13:0', '4:30', '15:30', '4:15',\n",
       "       '9:0', '0:15', '21:15', '4:45', '12:30', '12:0', '14:15', '9:30',\n",
       "       '5:15', '3:15', '16:30', '8:0', '11:15', '18:45', '16:0', '2:15',\n",
       "       '7:0', '18:0', '3:0', '15:0', '22:45', '20:30', '0:30', '13:30',\n",
       "       '22:0', '5:30', '9:45', '10:30', '17:0', '5:45', '6:30', '23:30',\n",
       "       '1:15', '0:45', '1:30', '13:45', '12:45', '2:45', '19:15', '14:0',\n",
       "       '13:15', '15:45', '8:45', '23:15', '16:15', '19:30', '21:30',\n",
       "       '10:45', '7:15', '7:30', '16:45', '17:15', '23:0', '6:45', '18:15',\n",
       "       '1:0', '8:15', '17:45', '22:30', '2:0', '1:45', '7:45', '10:15',\n",
       "       '3:45', '8:30', '15:15', '21:0', '21:45', '19:45', '19:0', '0:0',\n",
       "       '17:30', '20:15'], dtype=object)"
      ]
     },
     "execution_count": 9,
     "metadata": {},
     "output_type": "execute_result"
    }
   ],
   "source": [
    "df.timestamp.unique()"
   ]
  },
  {
   "cell_type": "code",
   "execution_count": 12,
   "metadata": {},
   "outputs": [],
   "source": [
    "def get_timestamp_order(ts):\n",
    "    ts = ts.split(':')\n",
    "    return int(ts[0])*4 + int(ts[1])//15"
   ]
  },
  {
   "cell_type": "code",
   "execution_count": 24,
   "metadata": {},
   "outputs": [
    {
     "data": {
      "text/html": [
       "<div>\n",
       "<style scoped>\n",
       "    .dataframe tbody tr th:only-of-type {\n",
       "        vertical-align: middle;\n",
       "    }\n",
       "\n",
       "    .dataframe tbody tr th {\n",
       "        vertical-align: top;\n",
       "    }\n",
       "\n",
       "    .dataframe thead th {\n",
       "        text-align: right;\n",
       "    }\n",
       "</style>\n",
       "<table border=\"1\" class=\"dataframe\">\n",
       "  <thead>\n",
       "    <tr style=\"text-align: right;\">\n",
       "      <th></th>\n",
       "      <th>geohash6</th>\n",
       "      <th>day</th>\n",
       "      <th>timestamp</th>\n",
       "      <th>demand</th>\n",
       "    </tr>\n",
       "  </thead>\n",
       "  <tbody>\n",
       "    <tr>\n",
       "      <th>0</th>\n",
       "      <td>qp03wc</td>\n",
       "      <td>18</td>\n",
       "      <td>20:0</td>\n",
       "      <td>0.020072</td>\n",
       "    </tr>\n",
       "    <tr>\n",
       "      <th>1</th>\n",
       "      <td>qp03pn</td>\n",
       "      <td>10</td>\n",
       "      <td>14:30</td>\n",
       "      <td>0.024721</td>\n",
       "    </tr>\n",
       "    <tr>\n",
       "      <th>2</th>\n",
       "      <td>qp09sw</td>\n",
       "      <td>9</td>\n",
       "      <td>6:15</td>\n",
       "      <td>0.102821</td>\n",
       "    </tr>\n",
       "    <tr>\n",
       "      <th>3</th>\n",
       "      <td>qp0991</td>\n",
       "      <td>32</td>\n",
       "      <td>5:0</td>\n",
       "      <td>0.088755</td>\n",
       "    </tr>\n",
       "    <tr>\n",
       "      <th>4</th>\n",
       "      <td>qp090q</td>\n",
       "      <td>15</td>\n",
       "      <td>4:0</td>\n",
       "      <td>0.074468</td>\n",
       "    </tr>\n",
       "  </tbody>\n",
       "</table>\n",
       "</div>"
      ],
      "text/plain": [
       "  geohash6  day timestamp    demand\n",
       "0   qp03wc   18      20:0  0.020072\n",
       "1   qp03pn   10     14:30  0.024721\n",
       "2   qp09sw    9      6:15  0.102821\n",
       "3   qp0991   32       5:0  0.088755\n",
       "4   qp090q   15       4:0  0.074468"
      ]
     },
     "execution_count": 24,
     "metadata": {},
     "output_type": "execute_result"
    }
   ],
   "source": [
    "df.head()"
   ]
  },
  {
   "cell_type": "code",
   "execution_count": 33,
   "metadata": {},
   "outputs": [],
   "source": [
    "def format_order(row):\n",
    "    return row['day']*96 + get_timestamp_order(row['timestamp'])"
   ]
  },
  {
   "cell_type": "code",
   "execution_count": 36,
   "metadata": {},
   "outputs": [],
   "source": [
    "df['order'] = df.apply(format_order, axis=1)"
   ]
  },
  {
   "cell_type": "code",
   "execution_count": 37,
   "metadata": {},
   "outputs": [
    {
     "data": {
      "text/html": [
       "<div>\n",
       "<style scoped>\n",
       "    .dataframe tbody tr th:only-of-type {\n",
       "        vertical-align: middle;\n",
       "    }\n",
       "\n",
       "    .dataframe tbody tr th {\n",
       "        vertical-align: top;\n",
       "    }\n",
       "\n",
       "    .dataframe thead th {\n",
       "        text-align: right;\n",
       "    }\n",
       "</style>\n",
       "<table border=\"1\" class=\"dataframe\">\n",
       "  <thead>\n",
       "    <tr style=\"text-align: right;\">\n",
       "      <th></th>\n",
       "      <th>geohash6</th>\n",
       "      <th>day</th>\n",
       "      <th>timestamp</th>\n",
       "      <th>demand</th>\n",
       "      <th>order</th>\n",
       "    </tr>\n",
       "  </thead>\n",
       "  <tbody>\n",
       "    <tr>\n",
       "      <th>0</th>\n",
       "      <td>qp03wc</td>\n",
       "      <td>18</td>\n",
       "      <td>20:0</td>\n",
       "      <td>0.020072</td>\n",
       "      <td>1808</td>\n",
       "    </tr>\n",
       "    <tr>\n",
       "      <th>1</th>\n",
       "      <td>qp03pn</td>\n",
       "      <td>10</td>\n",
       "      <td>14:30</td>\n",
       "      <td>0.024721</td>\n",
       "      <td>1018</td>\n",
       "    </tr>\n",
       "    <tr>\n",
       "      <th>2</th>\n",
       "      <td>qp09sw</td>\n",
       "      <td>9</td>\n",
       "      <td>6:15</td>\n",
       "      <td>0.102821</td>\n",
       "      <td>889</td>\n",
       "    </tr>\n",
       "    <tr>\n",
       "      <th>3</th>\n",
       "      <td>qp0991</td>\n",
       "      <td>32</td>\n",
       "      <td>5:0</td>\n",
       "      <td>0.088755</td>\n",
       "      <td>3092</td>\n",
       "    </tr>\n",
       "    <tr>\n",
       "      <th>4</th>\n",
       "      <td>qp090q</td>\n",
       "      <td>15</td>\n",
       "      <td>4:0</td>\n",
       "      <td>0.074468</td>\n",
       "      <td>1456</td>\n",
       "    </tr>\n",
       "  </tbody>\n",
       "</table>\n",
       "</div>"
      ],
      "text/plain": [
       "  geohash6  day timestamp    demand  order\n",
       "0   qp03wc   18      20:0  0.020072   1808\n",
       "1   qp03pn   10     14:30  0.024721   1018\n",
       "2   qp09sw    9      6:15  0.102821    889\n",
       "3   qp0991   32       5:0  0.088755   3092\n",
       "4   qp090q   15       4:0  0.074468   1456"
      ]
     },
     "execution_count": 37,
     "metadata": {},
     "output_type": "execute_result"
    }
   ],
   "source": [
    "df.head()"
   ]
  },
  {
   "cell_type": "code",
   "execution_count": 39,
   "metadata": {},
   "outputs": [],
   "source": [
    "t_df = df[df.geohash6 == 'qp03wc']"
   ]
  },
  {
   "cell_type": "code",
   "execution_count": 43,
   "metadata": {},
   "outputs": [
    {
     "data": {
      "text/plain": [
       "(5815, (5815, 5))"
      ]
     },
     "execution_count": 43,
     "metadata": {},
     "output_type": "execute_result"
    }
   ],
   "source": [
    "len(t_df.order.unique()), t_df.shape"
   ]
  },
  {
   "cell_type": "code",
   "execution_count": 46,
   "metadata": {},
   "outputs": [
    {
     "data": {
      "text/plain": [
       "(5951, 96)"
      ]
     },
     "execution_count": 46,
     "metadata": {},
     "output_type": "execute_result"
    }
   ],
   "source": [
    "np.max(df.order.unique()), np.min(df.order.unique()) # day starts at 1 instead of 0, so we get a weird 96"
   ]
  },
  {
   "cell_type": "code",
   "execution_count": 47,
   "metadata": {},
   "outputs": [],
   "source": [
    "df.order = df.order - 96"
   ]
  },
  {
   "cell_type": "code",
   "execution_count": 51,
   "metadata": {},
   "outputs": [
    {
     "data": {
      "text/plain": [
       "(5847, 5855, 0)"
      ]
     },
     "execution_count": 51,
     "metadata": {},
     "output_type": "execute_result"
    }
   ],
   "source": [
    "len(df.order.unique()), np.max(df.order.unique()), np.min(df.order.unique())"
   ]
  },
  {
   "cell_type": "code",
   "execution_count": 49,
   "metadata": {},
   "outputs": [
    {
     "data": {
      "text/plain": [
       "61"
      ]
     },
     "execution_count": 49,
     "metadata": {},
     "output_type": "execute_result"
    }
   ],
   "source": [
    "np.max(df.day)"
   ]
  },
  {
   "cell_type": "code",
   "execution_count": 52,
   "metadata": {},
   "outputs": [
    {
     "data": {
      "text/plain": [
       "5856"
      ]
     },
     "execution_count": 52,
     "metadata": {},
     "output_type": "execute_result"
    }
   ],
   "source": [
    "61 * 96"
   ]
  },
  {
   "cell_type": "code",
   "execution_count": 59,
   "metadata": {},
   "outputs": [
    {
     "data": {
      "text/plain": [
       "<matplotlib.axes._subplots.AxesSubplot at 0x11be28470>"
      ]
     },
     "execution_count": 59,
     "metadata": {},
     "output_type": "execute_result"
    },
    {
     "data": {
      "image/png": "[encoded data removed]",
      "text/plain": [
       "<Figure size 432x288 with 1 Axes>"
      ]
     },
     "metadata": {
      "needs_background": "light"
     },
     "output_type": "display_data"
    }
   ],
   "source": [
    "t_df[t_df.day == 1].sort_values(by=['order']).plot(x='order', y='demand')"
   ]
  },
  {
   "cell_type": "code",
   "execution_count": 66,
   "metadata": {},
   "outputs": [
    {
     "data": {
      "text/plain": [
       "<matplotlib.axes._subplots.AxesSubplot at 0x11ca2a668>"
      ]
     },
     "execution_count": 66,
     "metadata": {},
     "output_type": "execute_result"
    },
    {
     "data": {
      "image/png": "[encoded data removed]",
      "text/plain": [
       "<Figure size 432x288 with 1 Axes>"
      ]
     },
     "metadata": {
      "needs_background": "light"
     },
     "output_type": "display_data"
    }
   ],
   "source": [
    "t_df[t_df.day == 41].sort_values(by=['order']).plot(x='order', y='demand')"
   ]
  },
  {
   "cell_type": "code",
   "execution_count": 67,
   "metadata": {},
   "outputs": [
    {
     "data": {
      "text/plain": [
       "<matplotlib.axes._subplots.AxesSubplot at 0x11cae8208>"
      ]
     },
     "execution_count": 67,
     "metadata": {},
     "output_type": "execute_result"
    },
    {
     "data": {
      "image/png": "[encoded data removed]",
      "text/plain": [
       "<Figure size 432x288 with 1 Axes>"
      ]
     },
     "metadata": {
      "needs_background": "light"
     },
     "output_type": "display_data"
    }
   ],
   "source": [
    "t_df[t_df.day == 55].sort_values(by=['order']).plot(x='order', y='demand')"
   ]
  },
  {
   "cell_type": "code",
   "execution_count": 8,
   "metadata": {},
   "outputs": [
    {
     "name": "stdout",
     "output_type": "stream",
     "text": [
      "qp09bq\n",
      "qp0dhu\n",
      "qp09ev\n",
      "qp0d56\n",
      "qp0djv\n",
      "qp09cp\n",
      "qp09vw\n",
      "qp03z3\n",
      "qp09ef\n",
      "qp09vz\n",
      "qp0d4f\n",
      "qp09md\n",
      "qp0d0g\n",
      "qp09eu\n",
      "qp09dw\n",
      "qp09dv\n",
      "qp09t1\n",
      "qp09wp\n",
      "qp09jn\n",
      "qp0934\n",
      "qp03pu\n",
      "qp091n\n",
      "qp0d0b\n",
      "qp0d5e\n",
      "qp0d4d\n",
      "qp06nu\n",
      "qp0dhy\n",
      "qp0djn\n",
      "qp0d42\n",
      "qp093m\n",
      "qp09jf\n",
      "qp08b5\n",
      "qp0djc\n",
      "qp08gj\n",
      "qp097m\n",
      "qp08g4\n",
      "qp09ch\n",
      "qp091k\n",
      "qp09mz\n",
      "qp09kd\n",
      "qp09jz\n",
      "qp0d5c\n",
      "qp099n\n",
      "qp03vf\n",
      "qp09du\n",
      "qp09ec\n",
      "qp08fn\n",
      "qp09ve\n",
      "qp09jm\n",
      "qp094e\n",
      "qp08c5\n",
      "qp09vs\n",
      "qp09s1\n",
      "qp08bg\n",
      "qp0dn5\n",
      "qp09v8\n",
      "qp0dhf\n",
      "qp08fj\n",
      "qp09jk\n",
      "qp03qp\n",
      "qp09je\n",
      "qp03vd\n",
      "qp08cv\n",
      "qp09tb\n",
      "qp02zf\n",
      "qp09mj\n",
      "qp0dh1\n",
      "qp0dhd\n",
      "qp090v\n",
      "qp0937\n",
      "qp08g7\n",
      "qp08fh\n",
      "qp0d55\n",
      "qp09cz\n",
      "qp08cu\n",
      "qp09hz\n",
      "qp08be\n",
      "qp095g\n",
      "qp09cb\n",
      "qp0938\n",
      "qp0djb\n",
      "qp09jx\n",
      "qp090y\n",
      "qp09c2\n",
      "qp0dhm\n",
      "qp08bu\n",
      "qp02yf\n",
      "qp0dn1\n",
      "qp09qj\n",
      "qp09km\n",
      "qp09ty\n",
      "qp09v3\n",
      "qp09he\n",
      "qp0965\n",
      "qp0967\n",
      "qp09m8\n",
      "qp02z4\n",
      "qp097p\n",
      "qp091e\n",
      "qp09m3\n",
      "qp08b1\n",
      "qp092z\n",
      "qp097q\n",
      "qp0d5h\n",
      "qp08fp\n",
      "qp0955\n",
      "qp03zy\n",
      "qp09y4\n",
      "qp09y0\n",
      "qp09np\n",
      "qp02z3\n",
      "qp08fz\n",
      "qp03pg\n",
      "qp09mf\n",
      "qp093n\n",
      "qp03nn\n",
      "qp09kq\n",
      "qp09q0\n",
      "qp0d5j\n",
      "qp0943\n",
      "qp0djg\n",
      "qp08bt\n",
      "qp09qn\n",
      "qp03p5\n",
      "qp09vh\n",
      "qp095h\n",
      "qp08cj\n",
      "qp09mb\n",
      "qp0d57\n",
      "qp09j9\n",
      "qp09k5\n",
      "qp0d1v\n",
      "qp08bs\n",
      "qp09bx\n",
      "qp03qt\n",
      "qp09j5\n",
      "qp09te\n",
      "qp0dju\n",
      "qp0d5t\n",
      "qp09s4\n",
      "qp0942\n",
      "qp09cs\n",
      "qp09jr\n",
      "qp09jc\n",
      "qp08gk\n",
      "qp08g6\n",
      "qp03v2\n",
      "qp093j\n",
      "qp094d\n",
      "qp09mm\n",
      "qp06ny\n",
      "qp02yy\n",
      "qp09v7\n",
      "qp03tr\n",
      "qp03y4\n",
      "qp097n\n",
      "qp0dhj\n",
      "qp03zx\n",
      "qp09vf\n",
      "qp08up\n",
      "qp09m9\n",
      "qp095f\n",
      "qp0956\n",
      "qp0dnn\n",
      "qp0d0s\n",
      "qp0dn0\n",
      "qp098b\n",
      "qp09jd\n",
      "qp097j\n",
      "qp0d5u\n",
      "qp03vc\n",
      "qp0d5d\n",
      "qp08ch\n",
      "qp09tu\n",
      "qp09jg\n",
      "qp08gs\n",
      "qp0dn4\n",
      "qp091p\n",
      "qp09ts\n",
      "qp09h1\n",
      "qp09qh\n",
      "qp09k7\n",
      "qp09jy\n",
      "qp08fr\n",
      "qp09ju\n",
      "qp0966\n",
      "qp03yr\n",
      "qp0d1s\n",
      "qp091d\n",
      "qp0djf\n",
      "qp09mc\n",
      "qp09h6\n",
      "qp09bv\n",
      "qp03v3\n",
      "qp09d0\n",
      "qp09q1\n",
      "qp0d1u\n",
      "qp09jb\n",
      "qp098v\n",
      "qp09tv\n",
      "qp093k\n",
      "qp0dnh\n",
      "qp09js\n",
      "qp091f\n",
      "qp090z\n",
      "qp0d5q\n",
      "qp09h3\n",
      "qp0d1t\n",
      "qp0d0u\n",
      "qp09wh\n",
      "qp03yh\n",
      "qp09n4\n",
      "qp09q4\n",
      "qp08uj\n",
      "qp0d4j\n",
      "qp09fc\n",
      "qp09v5\n",
      "qp08ft\n",
      "qp08gu\n",
      "qp09vc\n",
      "qp0964\n",
      "qp097r\n",
      "qp0d44\n",
      "qp09wn\n",
      "qp08fu\n",
      "qp09w0\n",
      "qp03pj\n",
      "qp09t3\n",
      "qp091h\n",
      "qp09tg\n",
      "qp0d5n\n",
      "qp09w4\n",
      "qp09m6\n",
      "qp08gh\n",
      "qp0d4h\n",
      "qp09vb\n",
      "qp09jj\n",
      "qp0917\n",
      "qp09jw\n",
      "qp0939\n",
      "qp0935\n",
      "qp09gd\n",
      "qp06nw\n",
      "qp08fq\n",
      "qp0d08\n",
      "qp09t7\n",
      "qp09eg\n",
      "qp0d43\n",
      "qp0931\n",
      "qp09n1\n",
      "qp03y5\n",
      "qp02yv\n",
      "qp09mv\n",
      "qp09by\n",
      "qp09n0\n",
      "qp09my\n",
      "qp08g5\n",
      "qp02yu\n",
      "qp09dy\n",
      "qp0d5k\n",
      "qp0d5s\n",
      "qp09kg\n",
      "qp09m7\n",
      "qp09s0\n",
      "qp09n5\n",
      "qp09w1\n",
      "qp09nj\n",
      "qp09dz\n",
      "qp093h\n",
      "qp08fs\n",
      "qp0919\n",
      "qp091j\n",
      "qp09s5\n",
      "qp092b\n",
      "qp0d4m\n",
      "qp03yn\n",
      "qp09v9\n",
      "qp0d45\n"
     ]
    }
   ],
   "source": [
    "for loc in df.geohash6.unique():\n",
    "    loc_df = df[df.geohash6 == loc]\n",
    "    if len(loc_df.day.unique()) != 61:\n",
    "        print(loc)"
   ]
  },
  {
   "cell_type": "code",
   "execution_count": null,
   "metadata": {},
   "outputs": [],
   "source": []
  }
 ],
 "metadata": {
  "kernelspec": {
   "display_name": "Python 3",
   "language": "python",
   "name": "python3"
  },
  "language_info": {
   "codemirror_mode": {
    "name": "ipython",
    "version": 3
   },
   "file_extension": ".py",
   "mimetype": "text/x-python",
   "name": "python",
   "nbconvert_exporter": "python",
   "pygments_lexer": "ipython3",
   "version": "3.7.1"
  }
 },
 "nbformat": 4,
 "nbformat_minor": 2
}
