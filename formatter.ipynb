{
 "cells": [
  {
   "cell_type": "code",
   "execution_count": 1,
   "metadata": {},
   "outputs": [],
   "source": [
    "import numpy as np\n",
    "import pandas as pd"
   ]
  },
  {
   "cell_type": "code",
   "execution_count": 24,
   "metadata": {},
   "outputs": [],
   "source": [
    "DATA_LOC = './data/training.csv'\n",
    "df = pd.read_csv(DATA_LOC)"
   ]
  },
  {
   "cell_type": "code",
   "execution_count": 25,
   "metadata": {},
   "outputs": [
    {
     "data": {
      "text/plain": [
       "array(['qp03wc', 'qp03pn', 'qp09sw', ..., 'qp03yn', 'qp09v9', 'qp0d45'],\n",
       "      dtype=object)"
      ]
     },
     "execution_count": 25,
     "metadata": {},
     "output_type": "execute_result"
    }
   ],
   "source": [
    "df.geohash6.unique()"
   ]
  },
  {
   "cell_type": "code",
   "execution_count": 26,
   "metadata": {},
   "outputs": [
    {
     "data": {
      "text/plain": [
       "array(['20:0', '14:30', '6:15', '5:0', '4:0', '12:15', '3:30', '20:45',\n",
       "       '22:15', '9:15', '11:45', '14:45', '2:30', '23:45', '11:30',\n",
       "       '10:0', '11:0', '18:30', '6:0', '13:0', '4:30', '15:30', '4:15',\n",
       "       '9:0', '0:15', '21:15', '4:45', '12:30', '12:0', '14:15', '9:30',\n",
       "       '5:15', '3:15', '16:30', '8:0', '11:15', '18:45', '16:0', '2:15',\n",
       "       '7:0', '18:0', '3:0', '15:0', '22:45', '20:30', '0:30', '13:30',\n",
       "       '22:0', '5:30', '9:45', '10:30', '17:0', '5:45', '6:30', '23:30',\n",
       "       '1:15', '0:45', '1:30', '13:45', '12:45', '2:45', '19:15', '14:0',\n",
       "       '13:15', '15:45', '8:45', '23:15', '16:15', '19:30', '21:30',\n",
       "       '10:45', '7:15', '7:30', '16:45', '17:15', '23:0', '6:45', '18:15',\n",
       "       '1:0', '8:15', '17:45', '22:30', '2:0', '1:45', '7:45', '10:15',\n",
       "       '3:45', '8:30', '15:15', '21:0', '21:45', '19:45', '19:0', '0:0',\n",
       "       '17:30', '20:15'], dtype=object)"
      ]
     },
     "execution_count": 26,
     "metadata": {},
     "output_type": "execute_result"
    }
   ],
   "source": [
    "df.timestamp.unique()"
   ]
  },
  {
   "cell_type": "code",
   "execution_count": 27,
   "metadata": {},
   "outputs": [],
   "source": [
    "def get_timestamp_order(ts):\n",
    "    ts = ts.split(':')\n",
    "    return int(ts[0])*4 + int(ts[1])//15"
   ]
  },
  {
   "cell_type": "code",
   "execution_count": 28,
   "metadata": {},
   "outputs": [
    {
     "data": {
      "text/html": [
       "<div>\n",
       "<style scoped>\n",
       "    .dataframe tbody tr th:only-of-type {\n",
       "        vertical-align: middle;\n",
       "    }\n",
       "\n",
       "    .dataframe tbody tr th {\n",
       "        vertical-align: top;\n",
       "    }\n",
       "\n",
       "    .dataframe thead th {\n",
       "        text-align: right;\n",
       "    }\n",
       "</style>\n",
       "<table border=\"1\" class=\"dataframe\">\n",
       "  <thead>\n",
       "    <tr style=\"text-align: right;\">\n",
       "      <th></th>\n",
       "      <th>geohash6</th>\n",
       "      <th>day</th>\n",
       "      <th>timestamp</th>\n",
       "      <th>demand</th>\n",
       "    </tr>\n",
       "  </thead>\n",
       "  <tbody>\n",
       "    <tr>\n",
       "      <th>0</th>\n",
       "      <td>qp03wc</td>\n",
       "      <td>18</td>\n",
       "      <td>20:0</td>\n",
       "      <td>0.020072</td>\n",
       "    </tr>\n",
       "    <tr>\n",
       "      <th>1</th>\n",
       "      <td>qp03pn</td>\n",
       "      <td>10</td>\n",
       "      <td>14:30</td>\n",
       "      <td>0.024721</td>\n",
       "    </tr>\n",
       "    <tr>\n",
       "      <th>2</th>\n",
       "      <td>qp09sw</td>\n",
       "      <td>9</td>\n",
       "      <td>6:15</td>\n",
       "      <td>0.102821</td>\n",
       "    </tr>\n",
       "    <tr>\n",
       "      <th>3</th>\n",
       "      <td>qp0991</td>\n",
       "      <td>32</td>\n",
       "      <td>5:0</td>\n",
       "      <td>0.088755</td>\n",
       "    </tr>\n",
       "    <tr>\n",
       "      <th>4</th>\n",
       "      <td>qp090q</td>\n",
       "      <td>15</td>\n",
       "      <td>4:0</td>\n",
       "      <td>0.074468</td>\n",
       "    </tr>\n",
       "  </tbody>\n",
       "</table>\n",
       "</div>"
      ],
      "text/plain": [
       "  geohash6  day timestamp    demand\n",
       "0   qp03wc   18      20:0  0.020072\n",
       "1   qp03pn   10     14:30  0.024721\n",
       "2   qp09sw    9      6:15  0.102821\n",
       "3   qp0991   32       5:0  0.088755\n",
       "4   qp090q   15       4:0  0.074468"
      ]
     },
     "execution_count": 28,
     "metadata": {},
     "output_type": "execute_result"
    }
   ],
   "source": [
    "df.head()"
   ]
  },
  {
   "cell_type": "code",
   "execution_count": 29,
   "metadata": {},
   "outputs": [],
   "source": [
    "def format_order(row):\n",
    "    return row['day']*96 + get_timestamp_order(row['timestamp'])"
   ]
  },
  {
   "cell_type": "code",
   "execution_count": 30,
   "metadata": {},
   "outputs": [],
   "source": [
    "df['order'] = df.apply(format_order, axis=1)"
   ]
  },
  {
   "cell_type": "code",
   "execution_count": 31,
   "metadata": {},
   "outputs": [
    {
     "data": {
      "text/html": [
       "<div>\n",
       "<style scoped>\n",
       "    .dataframe tbody tr th:only-of-type {\n",
       "        vertical-align: middle;\n",
       "    }\n",
       "\n",
       "    .dataframe tbody tr th {\n",
       "        vertical-align: top;\n",
       "    }\n",
       "\n",
       "    .dataframe thead th {\n",
       "        text-align: right;\n",
       "    }\n",
       "</style>\n",
       "<table border=\"1\" class=\"dataframe\">\n",
       "  <thead>\n",
       "    <tr style=\"text-align: right;\">\n",
       "      <th></th>\n",
       "      <th>geohash6</th>\n",
       "      <th>day</th>\n",
       "      <th>timestamp</th>\n",
       "      <th>demand</th>\n",
       "      <th>order</th>\n",
       "    </tr>\n",
       "  </thead>\n",
       "  <tbody>\n",
       "    <tr>\n",
       "      <th>0</th>\n",
       "      <td>qp03wc</td>\n",
       "      <td>18</td>\n",
       "      <td>20:0</td>\n",
       "      <td>0.020072</td>\n",
       "      <td>1808</td>\n",
       "    </tr>\n",
       "    <tr>\n",
       "      <th>1</th>\n",
       "      <td>qp03pn</td>\n",
       "      <td>10</td>\n",
       "      <td>14:30</td>\n",
       "      <td>0.024721</td>\n",
       "      <td>1018</td>\n",
       "    </tr>\n",
       "    <tr>\n",
       "      <th>2</th>\n",
       "      <td>qp09sw</td>\n",
       "      <td>9</td>\n",
       "      <td>6:15</td>\n",
       "      <td>0.102821</td>\n",
       "      <td>889</td>\n",
       "    </tr>\n",
       "    <tr>\n",
       "      <th>3</th>\n",
       "      <td>qp0991</td>\n",
       "      <td>32</td>\n",
       "      <td>5:0</td>\n",
       "      <td>0.088755</td>\n",
       "      <td>3092</td>\n",
       "    </tr>\n",
       "    <tr>\n",
       "      <th>4</th>\n",
       "      <td>qp090q</td>\n",
       "      <td>15</td>\n",
       "      <td>4:0</td>\n",
       "      <td>0.074468</td>\n",
       "      <td>1456</td>\n",
       "    </tr>\n",
       "  </tbody>\n",
       "</table>\n",
       "</div>"
      ],
      "text/plain": [
       "  geohash6  day timestamp    demand  order\n",
       "0   qp03wc   18      20:0  0.020072   1808\n",
       "1   qp03pn   10     14:30  0.024721   1018\n",
       "2   qp09sw    9      6:15  0.102821    889\n",
       "3   qp0991   32       5:0  0.088755   3092\n",
       "4   qp090q   15       4:0  0.074468   1456"
      ]
     },
     "execution_count": 31,
     "metadata": {},
     "output_type": "execute_result"
    }
   ],
   "source": [
    "df.head()"
   ]
  },
  {
   "cell_type": "code",
   "execution_count": 32,
   "metadata": {},
   "outputs": [],
   "source": [
    "t_df = df[df.geohash6 == 'qp03wc']"
   ]
  },
  {
   "cell_type": "code",
   "execution_count": 33,
   "metadata": {},
   "outputs": [
    {
     "data": {
      "text/plain": [
       "(5815, (5815, 5))"
      ]
     },
     "execution_count": 33,
     "metadata": {},
     "output_type": "execute_result"
    }
   ],
   "source": [
    "len(t_df.order.unique()), t_df.shape"
   ]
  },
  {
   "cell_type": "code",
   "execution_count": 34,
   "metadata": {},
   "outputs": [
    {
     "data": {
      "text/plain": [
       "(5951, 96)"
      ]
     },
     "execution_count": 34,
     "metadata": {},
     "output_type": "execute_result"
    }
   ],
   "source": [
    "np.max(df.order.unique()), np.min(df.order.unique()) # day starts at 1 instead of 0, so we get a weird 96"
   ]
  },
  {
   "cell_type": "code",
   "execution_count": 35,
   "metadata": {},
   "outputs": [],
   "source": [
    "df.order = df.order - 96"
   ]
  },
  {
   "cell_type": "code",
   "execution_count": 36,
   "metadata": {},
   "outputs": [
    {
     "data": {
      "text/plain": [
       "(5847, 5855, 0)"
      ]
     },
     "execution_count": 36,
     "metadata": {},
     "output_type": "execute_result"
    }
   ],
   "source": [
    "len(df.order.unique()), np.max(df.order.unique()), np.min(df.order.unique())"
   ]
  },
  {
   "cell_type": "code",
   "execution_count": 37,
   "metadata": {},
   "outputs": [
    {
     "data": {
      "text/plain": [
       "61"
      ]
     },
     "execution_count": 37,
     "metadata": {},
     "output_type": "execute_result"
    }
   ],
   "source": [
    "np.max(df.day)"
   ]
  },
  {
   "cell_type": "code",
   "execution_count": 38,
   "metadata": {},
   "outputs": [
    {
     "data": {
      "text/plain": [
       "5856"
      ]
     },
     "execution_count": 38,
     "metadata": {},
     "output_type": "execute_result"
    }
   ],
   "source": [
    "61 * 96"
   ]
  },
  {
   "cell_type": "code",
   "execution_count": 39,
   "metadata": {},
   "outputs": [],
   "source": [
    "df.to_csv('./data/training_with_order.csv', index=False)"
   ]
  },
  {
   "cell_type": "code",
   "execution_count": null,
   "metadata": {},
   "outputs": [],
   "source": []
  },
  {
   "cell_type": "code",
   "execution_count": null,
   "metadata": {},
   "outputs": [],
   "source": [
    "t_df[t_df.day == 1].sort_values(by=['order']).plot(x='order', y='demand')"
   ]
  },
  {
   "cell_type": "code",
   "execution_count": null,
   "metadata": {},
   "outputs": [],
   "source": [
    "t_df[t_df.day == 41].sort_values(by=['order']).plot(x='order', y='demand')"
   ]
  },
  {
   "cell_type": "code",
   "execution_count": 19,
   "metadata": {},
   "outputs": [
    {
     "data": {
      "text/plain": [
       "<matplotlib.axes._subplots.AxesSubplot at 0x11be2ec18>"
      ]
     },
     "execution_count": 19,
     "metadata": {},
     "output_type": "execute_result"
    },
    {
     "data": {
      "image/png": "[encoded data removed]",
      "text/plain": [
       "<Figure size 432x288 with 1 Axes>"
      ]
     },
     "metadata": {
      "needs_background": "light"
     },
     "output_type": "display_data"
    }
   ],
   "source": [
    "t_df[t_df.day == 60].sort_values(by=['order']).plot(x='order', y='demand')"
   ]
  },
  {
   "cell_type": "code",
   "execution_count": 20,
   "metadata": {},
   "outputs": [
    {
     "data": {
      "text/plain": [
       "<matplotlib.axes._subplots.AxesSubplot at 0x11bf9bef0>"
      ]
     },
     "execution_count": 20,
     "metadata": {},
     "output_type": "execute_result"
    },
    {
     "data": {
      "image/png": "[encoded data removed]",
      "text/plain": [
       "<Figure size 432x288 with 1 Axes>"
      ]
     },
     "metadata": {
      "needs_background": "light"
     },
     "output_type": "display_data"
    }
   ],
   "source": [
    "t_df[t_df.day == 61].sort_values(by=['order']).plot(x='order', y='demand')"
   ]
  },
  {
   "cell_type": "code",
   "execution_count": 21,
   "metadata": {},
   "outputs": [
    {
     "data": {
      "text/plain": [
       "<matplotlib.axes._subplots.AxesSubplot at 0x11bf44588>"
      ]
     },
     "execution_count": 21,
     "metadata": {},
     "output_type": "execute_result"
    },
    {
     "data": {
      "image/png": "[encoded data removed]",
      "text/plain": [
       "<Figure size 432x288 with 1 Axes>"
      ]
     },
     "metadata": {
      "needs_background": "light"
     },
     "output_type": "display_data"
    }
   ],
   "source": [
    "t_df[t_df.day == 43].sort_values(by=['order']).plot(x='order', y='demand')"
   ]
  },
  {
   "cell_type": "code",
   "execution_count": 22,
   "metadata": {},
   "outputs": [
    {
     "data": {
      "text/plain": [
       "<matplotlib.axes._subplots.AxesSubplot at 0x11c15def0>"
      ]
     },
     "execution_count": 22,
     "metadata": {},
     "output_type": "execute_result"
    },
    {
     "data": {
      "image/png": "[encoded data removed]",
      "text/plain": [
       "<Figure size 432x288 with 1 Axes>"
      ]
     },
     "metadata": {
      "needs_background": "light"
     },
     "output_type": "display_data"
    }
   ],
   "source": [
    "t_df[t_df.day == 44].sort_values(by=['order']).plot(x='order', y='demand')"
   ]
  },
  {
   "cell_type": "code",
   "execution_count": 23,
   "metadata": {},
   "outputs": [
    {
     "data": {
      "text/plain": [
       "<matplotlib.axes._subplots.AxesSubplot at 0x11c05f5c0>"
      ]
     },
     "execution_count": 23,
     "metadata": {},
     "output_type": "execute_result"
    },
    {
     "data": {
      "image/png": "[encoded data removed]",
      "text/plain": [
       "<Figure size 1800x360 with 1 Axes>"
      ]
     },
     "metadata": {
      "needs_background": "light"
     },
     "output_type": "display_data"
    }
   ],
   "source": [
    "t_df.sort_values(by=['order']).plot(x='order', y='demand', figsize=(25,5))"
   ]
  },
  {
   "cell_type": "code",
   "execution_count": 24,
   "metadata": {},
   "outputs": [
    {
     "data": {
      "text/plain": [
       "<matplotlib.axes._subplots.AxesSubplot at 0x11c203438>"
      ]
     },
     "execution_count": 24,
     "metadata": {},
     "output_type": "execute_result"
    },
    {
     "data": {
      "image/png": "[encoded data removed]",
      "text/plain": [
       "<Figure size 1800x360 with 1 Axes>"
      ]
     },
     "metadata": {
      "needs_background": "light"
     },
     "output_type": "display_data"
    }
   ],
   "source": [
    "t_df[t_df.day == 1].sort_values(by=['order']).plot(x='order', y='demand', figsize=(25,5))"
   ]
  },
  {
   "cell_type": "code",
   "execution_count": 25,
   "metadata": {},
   "outputs": [
    {
     "data": {
      "text/plain": [
       "<matplotlib.axes._subplots.AxesSubplot at 0x11c8ad0b8>"
      ]
     },
     "execution_count": 25,
     "metadata": {},
     "output_type": "execute_result"
    },
    {
     "data": {
      "image/png": "[encoded data removed]",
      "text/plain": [
       "<Figure size 1800x360 with 1 Axes>"
      ]
     },
     "metadata": {
      "needs_background": "light"
     },
     "output_type": "display_data"
    }
   ],
   "source": [
    "t_df[t_df.day == 2].sort_values(by=['order']).plot(x='order', y='demand', figsize=(25,5))"
   ]
  },
  {
   "cell_type": "code",
   "execution_count": 26,
   "metadata": {},
   "outputs": [
    {
     "data": {
      "text/plain": [
       "<matplotlib.axes._subplots.AxesSubplot at 0x11c8ea278>"
      ]
     },
     "execution_count": 26,
     "metadata": {},
     "output_type": "execute_result"
    },
    {
     "data": {
      "image/png": "[encoded data removed]",
      "text/plain": [
       "<Figure size 1800x360 with 1 Axes>"
      ]
     },
     "metadata": {
      "needs_background": "light"
     },
     "output_type": "display_data"
    }
   ],
   "source": [
    "t_df[t_df.day == 3].sort_values(by=['order']).plot(x='order', y='demand', figsize=(25,5))"
   ]
  },
  {
   "cell_type": "code",
   "execution_count": 27,
   "metadata": {},
   "outputs": [
    {
     "data": {
      "text/plain": [
       "<matplotlib.axes._subplots.AxesSubplot at 0x11ccf1f98>"
      ]
     },
     "execution_count": 27,
     "metadata": {},
     "output_type": "execute_result"
    },
    {
     "data": {
      "image/png": "[encoded data removed]",
      "text/plain": [
       "<Figure size 1800x360 with 1 Axes>"
      ]
     },
     "metadata": {
      "needs_background": "light"
     },
     "output_type": "display_data"
    }
   ],
   "source": [
    "t_df[t_df.day == 4].sort_values(by=['order']).plot(x='order', y='demand', figsize=(25,5))"
   ]
  },
  {
   "cell_type": "code",
   "execution_count": 28,
   "metadata": {},
   "outputs": [
    {
     "data": {
      "text/plain": [
       "<matplotlib.axes._subplots.AxesSubplot at 0x11cf06748>"
      ]
     },
     "execution_count": 28,
     "metadata": {},
     "output_type": "execute_result"
    },
    {
     "data": {
      "image/png": "[encoded data removed]",
      "text/plain": [
       "<Figure size 1800x360 with 1 Axes>"
      ]
     },
     "metadata": {
      "needs_background": "light"
     },
     "output_type": "display_data"
    }
   ],
   "source": [
    "t_df[t_df.day == 5].sort_values(by=['order']).plot(x='order', y='demand', figsize=(25,5))"
   ]
  },
  {
   "cell_type": "code",
   "execution_count": 29,
   "metadata": {},
   "outputs": [
    {
     "data": {
      "text/plain": [
       "<matplotlib.axes._subplots.AxesSubplot at 0x11d13fba8>"
      ]
     },
     "execution_count": 29,
     "metadata": {},
     "output_type": "execute_result"
    },
    {
     "data": {
      "image/png": "[encoded data removed]",
      "text/plain": [
       "<Figure size 1800x360 with 1 Axes>"
      ]
     },
     "metadata": {
      "needs_background": "light"
     },
     "output_type": "display_data"
    }
   ],
   "source": [
    "t_df[t_df.day == 6].sort_values(by=['order']).plot(x='order', y='demand', figsize=(25,5))"
   ]
  },
  {
   "cell_type": "code",
   "execution_count": 30,
   "metadata": {},
   "outputs": [
    {
     "data": {
      "text/plain": [
       "<matplotlib.axes._subplots.AxesSubplot at 0x11d35cb38>"
      ]
     },
     "execution_count": 30,
     "metadata": {},
     "output_type": "execute_result"
    },
    {
     "data": {
      "image/png": "[encoded data removed]",
      "text/plain": [
       "<Figure size 1800x360 with 1 Axes>"
      ]
     },
     "metadata": {
      "needs_background": "light"
     },
     "output_type": "display_data"
    }
   ],
   "source": [
    "t_df[t_df.day == 7].sort_values(by=['order']).plot(x='order', y='demand', figsize=(25,5))"
   ]
  },
  {
   "cell_type": "code",
   "execution_count": 31,
   "metadata": {},
   "outputs": [
    {
     "data": {
      "text/plain": [
       "<matplotlib.axes._subplots.AxesSubplot at 0x11d57f978>"
      ]
     },
     "execution_count": 31,
     "metadata": {},
     "output_type": "execute_result"
    },
    {
     "data": {
      "image/png": "[encoded data removed]",
      "text/plain": [
       "<Figure size 1800x360 with 1 Axes>"
      ]
     },
     "metadata": {
      "needs_background": "light"
     },
     "output_type": "display_data"
    }
   ],
   "source": [
    "t_df[t_df.day == 8].sort_values(by=['order']).plot(x='order', y='demand', figsize=(25,5))"
   ]
  },
  {
   "cell_type": "code",
   "execution_count": 32,
   "metadata": {},
   "outputs": [
    {
     "data": {
      "text/plain": [
       "array(['qp03wc', 'qp03pn', 'qp09sw', ..., 'qp03yn', 'qp09v9', 'qp0d45'],\n",
       "      dtype=object)"
      ]
     },
     "execution_count": 32,
     "metadata": {},
     "output_type": "execute_result"
    }
   ],
   "source": [
    "df.geohash6.unique()"
   ]
  },
  {
   "cell_type": "code",
   "execution_count": 33,
   "metadata": {},
   "outputs": [
    {
     "data": {
      "text/plain": [
       "<matplotlib.axes._subplots.AxesSubplot at 0x11d79e978>"
      ]
     },
     "execution_count": 33,
     "metadata": {},
     "output_type": "execute_result"
    },
    {
     "data": {
      "image/png": "[encoded data removed]",
      "text/plain": [
       "<Figure size 1800x360 with 1 Axes>"
      ]
     },
     "metadata": {
      "needs_background": "light"
     },
     "output_type": "display_data"
    }
   ],
   "source": [
    "t_df = df[df.geohash6 == 'qp09sw']\n",
    "t_df.sort_values(by=['order']).plot(x='order', y='demand', figsize=(25,5))"
   ]
  },
  {
   "cell_type": "code",
   "execution_count": 34,
   "metadata": {},
   "outputs": [
    {
     "data": {
      "text/plain": [
       "<matplotlib.axes._subplots.AxesSubplot at 0x11ddbb940>"
      ]
     },
     "execution_count": 34,
     "metadata": {},
     "output_type": "execute_result"
    },
    {
     "data": {
      "image/png": "[encoded data removed]",
      "text/plain": [
       "<Figure size 1800x360 with 1 Axes>"
      ]
     },
     "metadata": {
      "needs_background": "light"
     },
     "output_type": "display_data"
    }
   ],
   "source": [
    "t_df[t_df.day == 7].sort_values(by=['order']).plot(x='order', y='demand', figsize=(25,5))"
   ]
  },
  {
   "cell_type": "code",
   "execution_count": 35,
   "metadata": {},
   "outputs": [
    {
     "data": {
      "text/plain": [
       "<matplotlib.axes._subplots.AxesSubplot at 0x11e2b3eb8>"
      ]
     },
     "execution_count": 35,
     "metadata": {},
     "output_type": "execute_result"
    },
    {
     "data": {
      "image/png": "[encoded data removed]",
      "text/plain": [
       "<Figure size 1800x360 with 1 Axes>"
      ]
     },
     "metadata": {
      "needs_background": "light"
     },
     "output_type": "display_data"
    }
   ],
   "source": [
    "t_df[t_df.day == 5].sort_values(by=['order']).plot(x='order', y='demand', figsize=(25,5))"
   ]
  },
  {
   "cell_type": "code",
   "execution_count": null,
   "metadata": {},
   "outputs": [],
   "source": []
  },
  {
   "cell_type": "code",
   "execution_count": null,
   "metadata": {},
   "outputs": [],
   "source": []
  },
  {
   "cell_type": "code",
   "execution_count": null,
   "metadata": {},
   "outputs": [],
   "source": []
  },
  {
   "cell_type": "code",
   "execution_count": null,
   "metadata": {},
   "outputs": [],
   "source": []
  },
  {
   "cell_type": "code",
   "execution_count": null,
   "metadata": {},
   "outputs": [],
   "source": []
  },
  {
   "cell_type": "code",
   "execution_count": null,
   "metadata": {},
   "outputs": [],
   "source": []
  },
  {
   "cell_type": "code",
   "execution_count": null,
   "metadata": {},
   "outputs": [],
   "source": []
  },
  {
   "cell_type": "code",
   "execution_count": null,
   "metadata": {},
   "outputs": [],
   "source": []
  },
  {
   "cell_type": "code",
   "execution_count": null,
   "metadata": {},
   "outputs": [],
   "source": []
  },
  {
   "cell_type": "code",
   "execution_count": null,
   "metadata": {},
   "outputs": [],
   "source": []
  },
  {
   "cell_type": "code",
   "execution_count": null,
   "metadata": {},
   "outputs": [],
   "source": [
    "for i in range(1, 62):\n",
    "    t_df_tmp = t_df[t_df.day == i].sort_values(by=['order'])\n",
    "    if t_df_tmp.shape[0] != 96:\n",
    "        print(i, t_df_tmp.shape)"
   ]
  },
  {
   "cell_type": "code",
   "execution_count": null,
   "metadata": {},
   "outputs": [],
   "source": []
  },
  {
   "cell_type": "code",
   "execution_count": null,
   "metadata": {},
   "outputs": [],
   "source": [
    "t_df_tmp.plot(x='order', y='demand')"
   ]
  },
  {
   "cell_type": "code",
   "execution_count": null,
   "metadata": {},
   "outputs": [],
   "source": [
    "np.max(t_df_tmp.order.values), np.min(t_df_tmp.order.values)"
   ]
  },
  {
   "cell_type": "code",
   "execution_count": null,
   "metadata": {},
   "outputs": [],
   "source": [
    "for i in range(5856, 5951+1):\n",
    "    if i not in t_df_tmp.order.values:\n",
    "        print(i)"
   ]
  },
  {
   "cell_type": "code",
   "execution_count": null,
   "metadata": {},
   "outputs": [],
   "source": []
  },
  {
   "cell_type": "code",
   "execution_count": null,
   "metadata": {},
   "outputs": [],
   "source": [
    "for loc in df.geohash6.unique():\n",
    "    loc_df = df[df.geohash6 == loc]\n",
    "    if len(loc_df.day.unique()) != 61:\n",
    "        print(loc)"
   ]
  },
  {
   "cell_type": "code",
   "execution_count": null,
   "metadata": {},
   "outputs": [],
   "source": [
    "df.geohash6.unique().shape"
   ]
  },
  {
   "cell_type": "code",
   "execution_count": null,
   "metadata": {},
   "outputs": [],
   "source": [
    "df.timestamp.unique()"
   ]
  },
  {
   "cell_type": "code",
   "execution_count": 36,
   "metadata": {},
   "outputs": [],
   "source": [
    "df.sort_values(by=['geohash6', 'order'], inplace=True)"
   ]
  },
  {
   "cell_type": "code",
   "execution_count": 38,
   "metadata": {},
   "outputs": [
    {
     "data": {
      "text/plain": [
       "(5855, 0)"
      ]
     },
     "execution_count": 38,
     "metadata": {},
     "output_type": "execute_result"
    }
   ],
   "source": [
    "np.max(df.order.unique()), np.min(df.order.unique())"
   ]
  },
  {
   "cell_type": "code",
   "execution_count": 40,
   "metadata": {},
   "outputs": [],
   "source": [
    "# foreach geohash6, we need to have order 0 to 5855\n",
    "# fill missing order by 0\n",
    "# the easiest way i can think of is convert back to dict"
   ]
  },
  {
   "cell_type": "code",
   "execution_count": 102,
   "metadata": {},
   "outputs": [],
   "source": [
    "temp_df = df[df.geohash6 == 'qp03ms']"
   ]
  },
  {
   "cell_type": "code",
   "execution_count": 103,
   "metadata": {},
   "outputs": [
    {
     "data": {
      "text/plain": [
       "(4187, 5)"
      ]
     },
     "execution_count": 103,
     "metadata": {},
     "output_type": "execute_result"
    }
   ],
   "source": [
    "temp_df.shape"
   ]
  },
  {
   "cell_type": "code",
   "execution_count": 104,
   "metadata": {},
   "outputs": [],
   "source": [
    "# temp_df"
   ]
  },
  {
   "cell_type": "code",
   "execution_count": 110,
   "metadata": {},
   "outputs": [],
   "source": [
    "temp_df = temp_df.set_index('order') # just dont do inplace now"
   ]
  },
  {
   "cell_type": "code",
   "execution_count": 111,
   "metadata": {},
   "outputs": [],
   "source": [
    "temp_dict = temp_df.to_dict('index')"
   ]
  },
  {
   "cell_type": "code",
   "execution_count": 113,
   "metadata": {},
   "outputs": [],
   "source": [
    "# temp_dict"
   ]
  },
  {
   "cell_type": "code",
   "execution_count": 131,
   "metadata": {},
   "outputs": [],
   "source": [
    "MAX_ORDER = 5856\n",
    "GEOHASH_LIST = df.geohash6.unique()"
   ]
  },
  {
   "cell_type": "code",
   "execution_count": 159,
   "metadata": {},
   "outputs": [],
   "source": [
    "formatted_dict = {}\n",
    "for i, gh in enumerate(GEOHASH_LIST):\n",
    "    temp_df = df[df.geohash6 == gh]\n",
    "    temp_df.set_index('order', inplace=True)\n",
    "    temp_dict = temp_df.to_dict('index')\n",
    "    for order in range(MAX_ORDER):\n",
    "        # how should each column look like?\n",
    "        # index: \n",
    "        # order, geohash6, hour, minute, demand\n",
    "        hour, minute = order_to_time(order)\n",
    "        if order not in temp_dict:\n",
    "            demand = 0.0\n",
    "        else:\n",
    "            demand = temp_dict[order]['demand']\n",
    "        formatted_dict[order + i*MAX_ORDER] = {\n",
    "            'order': order,\n",
    "            'geohash6': gh,\n",
    "            'hour': hour,\n",
    "            'minute': minute,\n",
    "            'demand': demand,\n",
    "        }"
   ]
  },
  {
   "cell_type": "code",
   "execution_count": 160,
   "metadata": {},
   "outputs": [
    {
     "data": {
      "text/plain": [
       "7782624"
      ]
     },
     "execution_count": 160,
     "metadata": {},
     "output_type": "execute_result"
    }
   ],
   "source": [
    "len(formatted_dict.keys())"
   ]
  },
  {
   "cell_type": "code",
   "execution_count": 162,
   "metadata": {},
   "outputs": [],
   "source": [
    "formatted_df = pd.DataFrame.from_dict(formatted_dict, orient='index')"
   ]
  },
  {
   "cell_type": "code",
   "execution_count": 163,
   "metadata": {},
   "outputs": [
    {
     "data": {
      "text/html": [
       "<div>\n",
       "<style scoped>\n",
       "    .dataframe tbody tr th:only-of-type {\n",
       "        vertical-align: middle;\n",
       "    }\n",
       "\n",
       "    .dataframe tbody tr th {\n",
       "        vertical-align: top;\n",
       "    }\n",
       "\n",
       "    .dataframe thead th {\n",
       "        text-align: right;\n",
       "    }\n",
       "</style>\n",
       "<table border=\"1\" class=\"dataframe\">\n",
       "  <thead>\n",
       "    <tr style=\"text-align: right;\">\n",
       "      <th></th>\n",
       "      <th>order</th>\n",
       "      <th>geohash6</th>\n",
       "      <th>hour</th>\n",
       "      <th>minute</th>\n",
       "      <th>demand</th>\n",
       "    </tr>\n",
       "  </thead>\n",
       "  <tbody>\n",
       "    <tr>\n",
       "      <th>0</th>\n",
       "      <td>0</td>\n",
       "      <td>qp02yc</td>\n",
       "      <td>0</td>\n",
       "      <td>0</td>\n",
       "      <td>0.0</td>\n",
       "    </tr>\n",
       "    <tr>\n",
       "      <th>1</th>\n",
       "      <td>1</td>\n",
       "      <td>qp02yc</td>\n",
       "      <td>0</td>\n",
       "      <td>15</td>\n",
       "      <td>0.0</td>\n",
       "    </tr>\n",
       "    <tr>\n",
       "      <th>2</th>\n",
       "      <td>2</td>\n",
       "      <td>qp02yc</td>\n",
       "      <td>0</td>\n",
       "      <td>30</td>\n",
       "      <td>0.0</td>\n",
       "    </tr>\n",
       "    <tr>\n",
       "      <th>3</th>\n",
       "      <td>3</td>\n",
       "      <td>qp02yc</td>\n",
       "      <td>0</td>\n",
       "      <td>45</td>\n",
       "      <td>0.0</td>\n",
       "    </tr>\n",
       "    <tr>\n",
       "      <th>4</th>\n",
       "      <td>4</td>\n",
       "      <td>qp02yc</td>\n",
       "      <td>1</td>\n",
       "      <td>0</td>\n",
       "      <td>0.0</td>\n",
       "    </tr>\n",
       "  </tbody>\n",
       "</table>\n",
       "</div>"
      ],
      "text/plain": [
       "   order geohash6  hour  minute  demand\n",
       "0      0   qp02yc     0       0     0.0\n",
       "1      1   qp02yc     0      15     0.0\n",
       "2      2   qp02yc     0      30     0.0\n",
       "3      3   qp02yc     0      45     0.0\n",
       "4      4   qp02yc     1       0     0.0"
      ]
     },
     "execution_count": 163,
     "metadata": {},
     "output_type": "execute_result"
    }
   ],
   "source": [
    "formatted_df.head()"
   ]
  },
  {
   "cell_type": "code",
   "execution_count": 165,
   "metadata": {},
   "outputs": [],
   "source": [
    "formatted_df.to_csv('data/formatted_data.csv', index=False)"
   ]
  },
  {
   "cell_type": "code",
   "execution_count": 166,
   "metadata": {},
   "outputs": [
    {
     "data": {
      "text/html": [
       "<div>\n",
       "<style scoped>\n",
       "    .dataframe tbody tr th:only-of-type {\n",
       "        vertical-align: middle;\n",
       "    }\n",
       "\n",
       "    .dataframe tbody tr th {\n",
       "        vertical-align: top;\n",
       "    }\n",
       "\n",
       "    .dataframe thead th {\n",
       "        text-align: right;\n",
       "    }\n",
       "</style>\n",
       "<table border=\"1\" class=\"dataframe\">\n",
       "  <thead>\n",
       "    <tr style=\"text-align: right;\">\n",
       "      <th></th>\n",
       "      <th>order</th>\n",
       "      <th>geohash6</th>\n",
       "      <th>hour</th>\n",
       "      <th>minute</th>\n",
       "      <th>demand</th>\n",
       "    </tr>\n",
       "  </thead>\n",
       "  <tbody>\n",
       "    <tr>\n",
       "      <th>0</th>\n",
       "      <td>0</td>\n",
       "      <td>qp02yc</td>\n",
       "      <td>0</td>\n",
       "      <td>0</td>\n",
       "      <td>0.000000</td>\n",
       "    </tr>\n",
       "    <tr>\n",
       "      <th>1</th>\n",
       "      <td>1</td>\n",
       "      <td>qp02yc</td>\n",
       "      <td>0</td>\n",
       "      <td>15</td>\n",
       "      <td>0.000000</td>\n",
       "    </tr>\n",
       "    <tr>\n",
       "      <th>2</th>\n",
       "      <td>2</td>\n",
       "      <td>qp02yc</td>\n",
       "      <td>0</td>\n",
       "      <td>30</td>\n",
       "      <td>0.000000</td>\n",
       "    </tr>\n",
       "    <tr>\n",
       "      <th>3</th>\n",
       "      <td>3</td>\n",
       "      <td>qp02yc</td>\n",
       "      <td>0</td>\n",
       "      <td>45</td>\n",
       "      <td>0.000000</td>\n",
       "    </tr>\n",
       "    <tr>\n",
       "      <th>4</th>\n",
       "      <td>4</td>\n",
       "      <td>qp02yc</td>\n",
       "      <td>1</td>\n",
       "      <td>0</td>\n",
       "      <td>0.000000</td>\n",
       "    </tr>\n",
       "    <tr>\n",
       "      <th>5</th>\n",
       "      <td>5</td>\n",
       "      <td>qp02yc</td>\n",
       "      <td>1</td>\n",
       "      <td>15</td>\n",
       "      <td>0.000000</td>\n",
       "    </tr>\n",
       "    <tr>\n",
       "      <th>6</th>\n",
       "      <td>6</td>\n",
       "      <td>qp02yc</td>\n",
       "      <td>1</td>\n",
       "      <td>30</td>\n",
       "      <td>0.000000</td>\n",
       "    </tr>\n",
       "    <tr>\n",
       "      <th>7</th>\n",
       "      <td>7</td>\n",
       "      <td>qp02yc</td>\n",
       "      <td>1</td>\n",
       "      <td>45</td>\n",
       "      <td>0.000000</td>\n",
       "    </tr>\n",
       "    <tr>\n",
       "      <th>8</th>\n",
       "      <td>8</td>\n",
       "      <td>qp02yc</td>\n",
       "      <td>2</td>\n",
       "      <td>0</td>\n",
       "      <td>0.000000</td>\n",
       "    </tr>\n",
       "    <tr>\n",
       "      <th>9</th>\n",
       "      <td>9</td>\n",
       "      <td>qp02yc</td>\n",
       "      <td>2</td>\n",
       "      <td>15</td>\n",
       "      <td>0.000000</td>\n",
       "    </tr>\n",
       "    <tr>\n",
       "      <th>10</th>\n",
       "      <td>10</td>\n",
       "      <td>qp02yc</td>\n",
       "      <td>2</td>\n",
       "      <td>30</td>\n",
       "      <td>0.000000</td>\n",
       "    </tr>\n",
       "    <tr>\n",
       "      <th>11</th>\n",
       "      <td>11</td>\n",
       "      <td>qp02yc</td>\n",
       "      <td>2</td>\n",
       "      <td>45</td>\n",
       "      <td>0.020592</td>\n",
       "    </tr>\n",
       "    <tr>\n",
       "      <th>12</th>\n",
       "      <td>12</td>\n",
       "      <td>qp02yc</td>\n",
       "      <td>3</td>\n",
       "      <td>0</td>\n",
       "      <td>0.010292</td>\n",
       "    </tr>\n",
       "    <tr>\n",
       "      <th>13</th>\n",
       "      <td>13</td>\n",
       "      <td>qp02yc</td>\n",
       "      <td>3</td>\n",
       "      <td>15</td>\n",
       "      <td>0.000000</td>\n",
       "    </tr>\n",
       "    <tr>\n",
       "      <th>14</th>\n",
       "      <td>14</td>\n",
       "      <td>qp02yc</td>\n",
       "      <td>3</td>\n",
       "      <td>30</td>\n",
       "      <td>0.000000</td>\n",
       "    </tr>\n",
       "    <tr>\n",
       "      <th>15</th>\n",
       "      <td>15</td>\n",
       "      <td>qp02yc</td>\n",
       "      <td>3</td>\n",
       "      <td>45</td>\n",
       "      <td>0.000000</td>\n",
       "    </tr>\n",
       "    <tr>\n",
       "      <th>16</th>\n",
       "      <td>16</td>\n",
       "      <td>qp02yc</td>\n",
       "      <td>4</td>\n",
       "      <td>0</td>\n",
       "      <td>0.006676</td>\n",
       "    </tr>\n",
       "    <tr>\n",
       "      <th>17</th>\n",
       "      <td>17</td>\n",
       "      <td>qp02yc</td>\n",
       "      <td>4</td>\n",
       "      <td>15</td>\n",
       "      <td>0.000000</td>\n",
       "    </tr>\n",
       "    <tr>\n",
       "      <th>18</th>\n",
       "      <td>18</td>\n",
       "      <td>qp02yc</td>\n",
       "      <td>4</td>\n",
       "      <td>30</td>\n",
       "      <td>0.003822</td>\n",
       "    </tr>\n",
       "    <tr>\n",
       "      <th>19</th>\n",
       "      <td>19</td>\n",
       "      <td>qp02yc</td>\n",
       "      <td>4</td>\n",
       "      <td>45</td>\n",
       "      <td>0.000000</td>\n",
       "    </tr>\n",
       "    <tr>\n",
       "      <th>20</th>\n",
       "      <td>20</td>\n",
       "      <td>qp02yc</td>\n",
       "      <td>5</td>\n",
       "      <td>0</td>\n",
       "      <td>0.000000</td>\n",
       "    </tr>\n",
       "    <tr>\n",
       "      <th>21</th>\n",
       "      <td>21</td>\n",
       "      <td>qp02yc</td>\n",
       "      <td>5</td>\n",
       "      <td>15</td>\n",
       "      <td>0.000000</td>\n",
       "    </tr>\n",
       "    <tr>\n",
       "      <th>22</th>\n",
       "      <td>22</td>\n",
       "      <td>qp02yc</td>\n",
       "      <td>5</td>\n",
       "      <td>30</td>\n",
       "      <td>0.000000</td>\n",
       "    </tr>\n",
       "    <tr>\n",
       "      <th>23</th>\n",
       "      <td>23</td>\n",
       "      <td>qp02yc</td>\n",
       "      <td>5</td>\n",
       "      <td>45</td>\n",
       "      <td>0.000000</td>\n",
       "    </tr>\n",
       "    <tr>\n",
       "      <th>24</th>\n",
       "      <td>24</td>\n",
       "      <td>qp02yc</td>\n",
       "      <td>6</td>\n",
       "      <td>0</td>\n",
       "      <td>0.000000</td>\n",
       "    </tr>\n",
       "    <tr>\n",
       "      <th>25</th>\n",
       "      <td>25</td>\n",
       "      <td>qp02yc</td>\n",
       "      <td>6</td>\n",
       "      <td>15</td>\n",
       "      <td>0.000000</td>\n",
       "    </tr>\n",
       "    <tr>\n",
       "      <th>26</th>\n",
       "      <td>26</td>\n",
       "      <td>qp02yc</td>\n",
       "      <td>6</td>\n",
       "      <td>30</td>\n",
       "      <td>0.000000</td>\n",
       "    </tr>\n",
       "    <tr>\n",
       "      <th>27</th>\n",
       "      <td>27</td>\n",
       "      <td>qp02yc</td>\n",
       "      <td>6</td>\n",
       "      <td>45</td>\n",
       "      <td>0.011131</td>\n",
       "    </tr>\n",
       "    <tr>\n",
       "      <th>28</th>\n",
       "      <td>28</td>\n",
       "      <td>qp02yc</td>\n",
       "      <td>7</td>\n",
       "      <td>0</td>\n",
       "      <td>0.000000</td>\n",
       "    </tr>\n",
       "    <tr>\n",
       "      <th>29</th>\n",
       "      <td>29</td>\n",
       "      <td>qp02yc</td>\n",
       "      <td>7</td>\n",
       "      <td>15</td>\n",
       "      <td>0.000000</td>\n",
       "    </tr>\n",
       "    <tr>\n",
       "      <th>...</th>\n",
       "      <td>...</td>\n",
       "      <td>...</td>\n",
       "      <td>...</td>\n",
       "      <td>...</td>\n",
       "      <td>...</td>\n",
       "    </tr>\n",
       "    <tr>\n",
       "      <th>7782594</th>\n",
       "      <td>5826</td>\n",
       "      <td>qp0dnn</td>\n",
       "      <td>16</td>\n",
       "      <td>30</td>\n",
       "      <td>0.000000</td>\n",
       "    </tr>\n",
       "    <tr>\n",
       "      <th>7782595</th>\n",
       "      <td>5827</td>\n",
       "      <td>qp0dnn</td>\n",
       "      <td>16</td>\n",
       "      <td>45</td>\n",
       "      <td>0.000000</td>\n",
       "    </tr>\n",
       "    <tr>\n",
       "      <th>7782596</th>\n",
       "      <td>5828</td>\n",
       "      <td>qp0dnn</td>\n",
       "      <td>17</td>\n",
       "      <td>0</td>\n",
       "      <td>0.000000</td>\n",
       "    </tr>\n",
       "    <tr>\n",
       "      <th>7782597</th>\n",
       "      <td>5829</td>\n",
       "      <td>qp0dnn</td>\n",
       "      <td>17</td>\n",
       "      <td>15</td>\n",
       "      <td>0.000000</td>\n",
       "    </tr>\n",
       "    <tr>\n",
       "      <th>7782598</th>\n",
       "      <td>5830</td>\n",
       "      <td>qp0dnn</td>\n",
       "      <td>17</td>\n",
       "      <td>30</td>\n",
       "      <td>0.000000</td>\n",
       "    </tr>\n",
       "    <tr>\n",
       "      <th>7782599</th>\n",
       "      <td>5831</td>\n",
       "      <td>qp0dnn</td>\n",
       "      <td>17</td>\n",
       "      <td>45</td>\n",
       "      <td>0.000000</td>\n",
       "    </tr>\n",
       "    <tr>\n",
       "      <th>7782600</th>\n",
       "      <td>5832</td>\n",
       "      <td>qp0dnn</td>\n",
       "      <td>18</td>\n",
       "      <td>0</td>\n",
       "      <td>0.000000</td>\n",
       "    </tr>\n",
       "    <tr>\n",
       "      <th>7782601</th>\n",
       "      <td>5833</td>\n",
       "      <td>qp0dnn</td>\n",
       "      <td>18</td>\n",
       "      <td>15</td>\n",
       "      <td>0.000000</td>\n",
       "    </tr>\n",
       "    <tr>\n",
       "      <th>7782602</th>\n",
       "      <td>5834</td>\n",
       "      <td>qp0dnn</td>\n",
       "      <td>18</td>\n",
       "      <td>30</td>\n",
       "      <td>0.000000</td>\n",
       "    </tr>\n",
       "    <tr>\n",
       "      <th>7782603</th>\n",
       "      <td>5835</td>\n",
       "      <td>qp0dnn</td>\n",
       "      <td>18</td>\n",
       "      <td>45</td>\n",
       "      <td>0.000000</td>\n",
       "    </tr>\n",
       "    <tr>\n",
       "      <th>7782604</th>\n",
       "      <td>5836</td>\n",
       "      <td>qp0dnn</td>\n",
       "      <td>19</td>\n",
       "      <td>0</td>\n",
       "      <td>0.000000</td>\n",
       "    </tr>\n",
       "    <tr>\n",
       "      <th>7782605</th>\n",
       "      <td>5837</td>\n",
       "      <td>qp0dnn</td>\n",
       "      <td>19</td>\n",
       "      <td>15</td>\n",
       "      <td>0.000000</td>\n",
       "    </tr>\n",
       "    <tr>\n",
       "      <th>7782606</th>\n",
       "      <td>5838</td>\n",
       "      <td>qp0dnn</td>\n",
       "      <td>19</td>\n",
       "      <td>30</td>\n",
       "      <td>0.000000</td>\n",
       "    </tr>\n",
       "    <tr>\n",
       "      <th>7782607</th>\n",
       "      <td>5839</td>\n",
       "      <td>qp0dnn</td>\n",
       "      <td>19</td>\n",
       "      <td>45</td>\n",
       "      <td>0.000000</td>\n",
       "    </tr>\n",
       "    <tr>\n",
       "      <th>7782608</th>\n",
       "      <td>5840</td>\n",
       "      <td>qp0dnn</td>\n",
       "      <td>20</td>\n",
       "      <td>0</td>\n",
       "      <td>0.000000</td>\n",
       "    </tr>\n",
       "    <tr>\n",
       "      <th>7782609</th>\n",
       "      <td>5841</td>\n",
       "      <td>qp0dnn</td>\n",
       "      <td>20</td>\n",
       "      <td>15</td>\n",
       "      <td>0.000000</td>\n",
       "    </tr>\n",
       "    <tr>\n",
       "      <th>7782610</th>\n",
       "      <td>5842</td>\n",
       "      <td>qp0dnn</td>\n",
       "      <td>20</td>\n",
       "      <td>30</td>\n",
       "      <td>0.000000</td>\n",
       "    </tr>\n",
       "    <tr>\n",
       "      <th>7782611</th>\n",
       "      <td>5843</td>\n",
       "      <td>qp0dnn</td>\n",
       "      <td>20</td>\n",
       "      <td>45</td>\n",
       "      <td>0.000000</td>\n",
       "    </tr>\n",
       "    <tr>\n",
       "      <th>7782612</th>\n",
       "      <td>5844</td>\n",
       "      <td>qp0dnn</td>\n",
       "      <td>21</td>\n",
       "      <td>0</td>\n",
       "      <td>0.000000</td>\n",
       "    </tr>\n",
       "    <tr>\n",
       "      <th>7782613</th>\n",
       "      <td>5845</td>\n",
       "      <td>qp0dnn</td>\n",
       "      <td>21</td>\n",
       "      <td>15</td>\n",
       "      <td>0.000000</td>\n",
       "    </tr>\n",
       "    <tr>\n",
       "      <th>7782614</th>\n",
       "      <td>5846</td>\n",
       "      <td>qp0dnn</td>\n",
       "      <td>21</td>\n",
       "      <td>30</td>\n",
       "      <td>0.000000</td>\n",
       "    </tr>\n",
       "    <tr>\n",
       "      <th>7782615</th>\n",
       "      <td>5847</td>\n",
       "      <td>qp0dnn</td>\n",
       "      <td>21</td>\n",
       "      <td>45</td>\n",
       "      <td>0.000000</td>\n",
       "    </tr>\n",
       "    <tr>\n",
       "      <th>7782616</th>\n",
       "      <td>5848</td>\n",
       "      <td>qp0dnn</td>\n",
       "      <td>22</td>\n",
       "      <td>0</td>\n",
       "      <td>0.000000</td>\n",
       "    </tr>\n",
       "    <tr>\n",
       "      <th>7782617</th>\n",
       "      <td>5849</td>\n",
       "      <td>qp0dnn</td>\n",
       "      <td>22</td>\n",
       "      <td>15</td>\n",
       "      <td>0.000000</td>\n",
       "    </tr>\n",
       "    <tr>\n",
       "      <th>7782618</th>\n",
       "      <td>5850</td>\n",
       "      <td>qp0dnn</td>\n",
       "      <td>22</td>\n",
       "      <td>30</td>\n",
       "      <td>0.000000</td>\n",
       "    </tr>\n",
       "    <tr>\n",
       "      <th>7782619</th>\n",
       "      <td>5851</td>\n",
       "      <td>qp0dnn</td>\n",
       "      <td>22</td>\n",
       "      <td>45</td>\n",
       "      <td>0.000000</td>\n",
       "    </tr>\n",
       "    <tr>\n",
       "      <th>7782620</th>\n",
       "      <td>5852</td>\n",
       "      <td>qp0dnn</td>\n",
       "      <td>23</td>\n",
       "      <td>0</td>\n",
       "      <td>0.000000</td>\n",
       "    </tr>\n",
       "    <tr>\n",
       "      <th>7782621</th>\n",
       "      <td>5853</td>\n",
       "      <td>qp0dnn</td>\n",
       "      <td>23</td>\n",
       "      <td>15</td>\n",
       "      <td>0.000000</td>\n",
       "    </tr>\n",
       "    <tr>\n",
       "      <th>7782622</th>\n",
       "      <td>5854</td>\n",
       "      <td>qp0dnn</td>\n",
       "      <td>23</td>\n",
       "      <td>30</td>\n",
       "      <td>0.000000</td>\n",
       "    </tr>\n",
       "    <tr>\n",
       "      <th>7782623</th>\n",
       "      <td>5855</td>\n",
       "      <td>qp0dnn</td>\n",
       "      <td>23</td>\n",
       "      <td>45</td>\n",
       "      <td>0.000000</td>\n",
       "    </tr>\n",
       "  </tbody>\n",
       "</table>\n",
       "<p>7782624 rows × 5 columns</p>\n",
       "</div>"
      ],
      "text/plain": [
       "         order geohash6  hour  minute    demand\n",
       "0            0   qp02yc     0       0  0.000000\n",
       "1            1   qp02yc     0      15  0.000000\n",
       "2            2   qp02yc     0      30  0.000000\n",
       "3            3   qp02yc     0      45  0.000000\n",
       "4            4   qp02yc     1       0  0.000000\n",
       "5            5   qp02yc     1      15  0.000000\n",
       "6            6   qp02yc     1      30  0.000000\n",
       "7            7   qp02yc     1      45  0.000000\n",
       "8            8   qp02yc     2       0  0.000000\n",
       "9            9   qp02yc     2      15  0.000000\n",
       "10          10   qp02yc     2      30  0.000000\n",
       "11          11   qp02yc     2      45  0.020592\n",
       "12          12   qp02yc     3       0  0.010292\n",
       "13          13   qp02yc     3      15  0.000000\n",
       "14          14   qp02yc     3      30  0.000000\n",
       "15          15   qp02yc     3      45  0.000000\n",
       "16          16   qp02yc     4       0  0.006676\n",
       "17          17   qp02yc     4      15  0.000000\n",
       "18          18   qp02yc     4      30  0.003822\n",
       "19          19   qp02yc     4      45  0.000000\n",
       "20          20   qp02yc     5       0  0.000000\n",
       "21          21   qp02yc     5      15  0.000000\n",
       "22          22   qp02yc     5      30  0.000000\n",
       "23          23   qp02yc     5      45  0.000000\n",
       "24          24   qp02yc     6       0  0.000000\n",
       "25          25   qp02yc     6      15  0.000000\n",
       "26          26   qp02yc     6      30  0.000000\n",
       "27          27   qp02yc     6      45  0.011131\n",
       "28          28   qp02yc     7       0  0.000000\n",
       "29          29   qp02yc     7      15  0.000000\n",
       "...        ...      ...   ...     ...       ...\n",
       "7782594   5826   qp0dnn    16      30  0.000000\n",
       "7782595   5827   qp0dnn    16      45  0.000000\n",
       "7782596   5828   qp0dnn    17       0  0.000000\n",
       "7782597   5829   qp0dnn    17      15  0.000000\n",
       "7782598   5830   qp0dnn    17      30  0.000000\n",
       "7782599   5831   qp0dnn    17      45  0.000000\n",
       "7782600   5832   qp0dnn    18       0  0.000000\n",
       "7782601   5833   qp0dnn    18      15  0.000000\n",
       "7782602   5834   qp0dnn    18      30  0.000000\n",
       "7782603   5835   qp0dnn    18      45  0.000000\n",
       "7782604   5836   qp0dnn    19       0  0.000000\n",
       "7782605   5837   qp0dnn    19      15  0.000000\n",
       "7782606   5838   qp0dnn    19      30  0.000000\n",
       "7782607   5839   qp0dnn    19      45  0.000000\n",
       "7782608   5840   qp0dnn    20       0  0.000000\n",
       "7782609   5841   qp0dnn    20      15  0.000000\n",
       "7782610   5842   qp0dnn    20      30  0.000000\n",
       "7782611   5843   qp0dnn    20      45  0.000000\n",
       "7782612   5844   qp0dnn    21       0  0.000000\n",
       "7782613   5845   qp0dnn    21      15  0.000000\n",
       "7782614   5846   qp0dnn    21      30  0.000000\n",
       "7782615   5847   qp0dnn    21      45  0.000000\n",
       "7782616   5848   qp0dnn    22       0  0.000000\n",
       "7782617   5849   qp0dnn    22      15  0.000000\n",
       "7782618   5850   qp0dnn    22      30  0.000000\n",
       "7782619   5851   qp0dnn    22      45  0.000000\n",
       "7782620   5852   qp0dnn    23       0  0.000000\n",
       "7782621   5853   qp0dnn    23      15  0.000000\n",
       "7782622   5854   qp0dnn    23      30  0.000000\n",
       "7782623   5855   qp0dnn    23      45  0.000000\n",
       "\n",
       "[7782624 rows x 5 columns]"
      ]
     },
     "execution_count": 166,
     "metadata": {},
     "output_type": "execute_result"
    }
   ],
   "source": [
    "formatted_df"
   ]
  },
  {
   "cell_type": "code",
   "execution_count": 142,
   "metadata": {},
   "outputs": [],
   "source": [
    "def timestamp_to_hour_minute(timestamp):\n",
    "    timestamp = timestamp.split(':')\n",
    "    return int(timestamp[0]), int(timestamp[1])"
   ]
  },
  {
   "cell_type": "code",
   "execution_count": 146,
   "metadata": {},
   "outputs": [],
   "source": [
    "def order_to_time(order):\n",
    "    '''we dont actually need day, just timestamp enough'''\n",
    "    order = order % 96\n",
    "    return order//4, order%4 * 15"
   ]
  },
  {
   "cell_type": "code",
   "execution_count": 152,
   "metadata": {},
   "outputs": [
    {
     "data": {
      "text/plain": [
       "((1, 30), (23, 45))"
      ]
     },
     "execution_count": 152,
     "metadata": {},
     "output_type": "execute_result"
    }
   ],
   "source": [
    "order_to_time(6), order_to_time(95)"
   ]
  },
  {
   "cell_type": "code",
   "execution_count": 72,
   "metadata": {},
   "outputs": [],
   "source": [
    "for i in range(5856):\n",
    "    if i not in temp_dict:\n",
    "        temp_dict[i] = {\n",
    "            'geohash6': 'qp03ms',\n",
    "            'day': 0,\n",
    "            'timestamp': '0:0',\n",
    "            'demand': 0,\n",
    "        }"
   ]
  },
  {
   "cell_type": "code",
   "execution_count": 125,
   "metadata": {},
   "outputs": [],
   "source": [
    "# pd.DataFrame.from_dict(temp_dict, orient='index')"
   ]
  },
  {
   "cell_type": "code",
   "execution_count": null,
   "metadata": {},
   "outputs": [],
   "source": []
  },
  {
   "cell_type": "code",
   "execution_count": 47,
   "metadata": {},
   "outputs": [],
   "source": [
    "# for k in df.geohash6.unique():\n",
    "#     print(k)"
   ]
  },
  {
   "cell_type": "code",
   "execution_count": null,
   "metadata": {},
   "outputs": [],
   "source": []
  },
  {
   "cell_type": "code",
   "execution_count": null,
   "metadata": {},
   "outputs": [],
   "source": []
  },
  {
   "cell_type": "code",
   "execution_count": null,
   "metadata": {},
   "outputs": [],
   "source": []
  },
  {
   "cell_type": "code",
   "execution_count": null,
   "metadata": {},
   "outputs": [],
   "source": []
  },
  {
   "cell_type": "code",
   "execution_count": 39,
   "metadata": {},
   "outputs": [
    {
     "data": {
      "text/plain": [
       "(1329,)"
      ]
     },
     "execution_count": 39,
     "metadata": {},
     "output_type": "execute_result"
    }
   ],
   "source": [
    "df.geohash6.unique().shape"
   ]
  },
  {
   "cell_type": "code",
   "execution_count": null,
   "metadata": {},
   "outputs": [],
   "source": []
  },
  {
   "cell_type": "code",
   "execution_count": null,
   "metadata": {},
   "outputs": [],
   "source": []
  },
  {
   "cell_type": "code",
   "execution_count": null,
   "metadata": {},
   "outputs": [],
   "source": []
  },
  {
   "cell_type": "code",
   "execution_count": 2,
   "metadata": {},
   "outputs": [],
   "source": [
    "df = pd.read_csv('./data/formatted_data.csv')"
   ]
  },
  {
   "cell_type": "code",
   "execution_count": 3,
   "metadata": {},
   "outputs": [
    {
     "data": {
      "text/html": [
       "<div>\n",
       "<style scoped>\n",
       "    .dataframe tbody tr th:only-of-type {\n",
       "        vertical-align: middle;\n",
       "    }\n",
       "\n",
       "    .dataframe tbody tr th {\n",
       "        vertical-align: top;\n",
       "    }\n",
       "\n",
       "    .dataframe thead th {\n",
       "        text-align: right;\n",
       "    }\n",
       "</style>\n",
       "<table border=\"1\" class=\"dataframe\">\n",
       "  <thead>\n",
       "    <tr style=\"text-align: right;\">\n",
       "      <th></th>\n",
       "      <th>order</th>\n",
       "      <th>geohash6</th>\n",
       "      <th>hour</th>\n",
       "      <th>minute</th>\n",
       "      <th>demand</th>\n",
       "    </tr>\n",
       "  </thead>\n",
       "  <tbody>\n",
       "    <tr>\n",
       "      <th>0</th>\n",
       "      <td>0</td>\n",
       "      <td>qp02yc</td>\n",
       "      <td>0</td>\n",
       "      <td>0</td>\n",
       "      <td>0.0</td>\n",
       "    </tr>\n",
       "    <tr>\n",
       "      <th>1</th>\n",
       "      <td>1</td>\n",
       "      <td>qp02yc</td>\n",
       "      <td>0</td>\n",
       "      <td>15</td>\n",
       "      <td>0.0</td>\n",
       "    </tr>\n",
       "    <tr>\n",
       "      <th>2</th>\n",
       "      <td>2</td>\n",
       "      <td>qp02yc</td>\n",
       "      <td>0</td>\n",
       "      <td>30</td>\n",
       "      <td>0.0</td>\n",
       "    </tr>\n",
       "    <tr>\n",
       "      <th>3</th>\n",
       "      <td>3</td>\n",
       "      <td>qp02yc</td>\n",
       "      <td>0</td>\n",
       "      <td>45</td>\n",
       "      <td>0.0</td>\n",
       "    </tr>\n",
       "    <tr>\n",
       "      <th>4</th>\n",
       "      <td>4</td>\n",
       "      <td>qp02yc</td>\n",
       "      <td>1</td>\n",
       "      <td>0</td>\n",
       "      <td>0.0</td>\n",
       "    </tr>\n",
       "  </tbody>\n",
       "</table>\n",
       "</div>"
      ],
      "text/plain": [
       "   order geohash6  hour  minute  demand\n",
       "0      0   qp02yc     0       0     0.0\n",
       "1      1   qp02yc     0      15     0.0\n",
       "2      2   qp02yc     0      30     0.0\n",
       "3      3   qp02yc     0      45     0.0\n",
       "4      4   qp02yc     1       0     0.0"
      ]
     },
     "execution_count": 3,
     "metadata": {},
     "output_type": "execute_result"
    }
   ],
   "source": [
    "df.head()"
   ]
  },
  {
   "cell_type": "code",
   "execution_count": 23,
   "metadata": {},
   "outputs": [
    {
     "data": {
      "text/html": [
       "<div>\n",
       "<style scoped>\n",
       "    .dataframe tbody tr th:only-of-type {\n",
       "        vertical-align: middle;\n",
       "    }\n",
       "\n",
       "    .dataframe tbody tr th {\n",
       "        vertical-align: top;\n",
       "    }\n",
       "\n",
       "    .dataframe thead th {\n",
       "        text-align: right;\n",
       "    }\n",
       "</style>\n",
       "<table border=\"1\" class=\"dataframe\">\n",
       "  <thead>\n",
       "    <tr style=\"text-align: right;\">\n",
       "      <th></th>\n",
       "      <th>order</th>\n",
       "      <th>hour</th>\n",
       "      <th>minute</th>\n",
       "      <th>demand</th>\n",
       "    </tr>\n",
       "  </thead>\n",
       "  <tbody>\n",
       "    <tr>\n",
       "      <th>count</th>\n",
       "      <td>7.782624e+06</td>\n",
       "      <td>7.782624e+06</td>\n",
       "      <td>7.782624e+06</td>\n",
       "      <td>7.782624e+06</td>\n",
       "    </tr>\n",
       "    <tr>\n",
       "      <th>mean</th>\n",
       "      <td>2.927500e+03</td>\n",
       "      <td>1.150000e+01</td>\n",
       "      <td>2.250000e+01</td>\n",
       "      <td>5.679899e-02</td>\n",
       "    </tr>\n",
       "    <tr>\n",
       "      <th>std</th>\n",
       "      <td>1.690482e+03</td>\n",
       "      <td>6.922187e+00</td>\n",
       "      <td>1.677051e+01</td>\n",
       "      <td>1.282667e-01</td>\n",
       "    </tr>\n",
       "    <tr>\n",
       "      <th>min</th>\n",
       "      <td>0.000000e+00</td>\n",
       "      <td>0.000000e+00</td>\n",
       "      <td>0.000000e+00</td>\n",
       "      <td>0.000000e+00</td>\n",
       "    </tr>\n",
       "    <tr>\n",
       "      <th>25%</th>\n",
       "      <td>1.463750e+03</td>\n",
       "      <td>5.750000e+00</td>\n",
       "      <td>1.125000e+01</td>\n",
       "      <td>0.000000e+00</td>\n",
       "    </tr>\n",
       "    <tr>\n",
       "      <th>50%</th>\n",
       "      <td>2.927500e+03</td>\n",
       "      <td>1.150000e+01</td>\n",
       "      <td>2.250000e+01</td>\n",
       "      <td>4.852900e-03</td>\n",
       "    </tr>\n",
       "    <tr>\n",
       "      <th>75%</th>\n",
       "      <td>4.391250e+03</td>\n",
       "      <td>1.725000e+01</td>\n",
       "      <td>3.375000e+01</td>\n",
       "      <td>5.735766e-02</td>\n",
       "    </tr>\n",
       "    <tr>\n",
       "      <th>max</th>\n",
       "      <td>5.855000e+03</td>\n",
       "      <td>2.300000e+01</td>\n",
       "      <td>4.500000e+01</td>\n",
       "      <td>1.000000e+00</td>\n",
       "    </tr>\n",
       "  </tbody>\n",
       "</table>\n",
       "</div>"
      ],
      "text/plain": [
       "              order          hour        minute        demand\n",
       "count  7.782624e+06  7.782624e+06  7.782624e+06  7.782624e+06\n",
       "mean   2.927500e+03  1.150000e+01  2.250000e+01  5.679899e-02\n",
       "std    1.690482e+03  6.922187e+00  1.677051e+01  1.282667e-01\n",
       "min    0.000000e+00  0.000000e+00  0.000000e+00  0.000000e+00\n",
       "25%    1.463750e+03  5.750000e+00  1.125000e+01  0.000000e+00\n",
       "50%    2.927500e+03  1.150000e+01  2.250000e+01  4.852900e-03\n",
       "75%    4.391250e+03  1.725000e+01  3.375000e+01  5.735766e-02\n",
       "max    5.855000e+03  2.300000e+01  4.500000e+01  1.000000e+00"
      ]
     },
     "execution_count": 23,
     "metadata": {},
     "output_type": "execute_result"
    }
   ],
   "source": [
    "df.describe()"
   ]
  },
  {
   "cell_type": "code",
   "execution_count": 24,
   "metadata": {},
   "outputs": [],
   "source": [
    "## TRANSFORM INTO\n",
    "## geohash6, hour@T, minute@T, order(T-x), order(T-x+1), ... order(T), order(T+1), ... order(T+5)"
   ]
  },
  {
   "cell_type": "code",
   "execution_count": 25,
   "metadata": {},
   "outputs": [],
   "source": [
    "MAX_ORDER = 5856\n",
    "INPUT_OFFSET = 5 # (T-x)\n",
    "OUTPUT_OFFSET = 5 # (T+5)\n",
    "GEOHASH_LIST = df.geohash6.unique()"
   ]
  },
  {
   "cell_type": "code",
   "execution_count": 26,
   "metadata": {},
   "outputs": [],
   "source": [
    "def order_to_time(order):\n",
    "    '''we dont actually need day, just timestamp enough'''\n",
    "    order = order % 96\n",
    "    return order//4, order%4 * 15"
   ]
  },
  {
   "cell_type": "code",
   "execution_count": 50,
   "metadata": {},
   "outputs": [
    {
     "name": "stdout",
     "output_type": "stream",
     "text": [
      "0 1329\n",
      "1 1329\n",
      "2 1329\n",
      "3 1329\n",
      "4 1329\n",
      "5 1329\n",
      "6 1329\n",
      "7 1329\n",
      "8 1329\n",
      "9 1329\n",
      "10 1329\n",
      "11 1329\n",
      "12 1329\n",
      "13 1329\n",
      "14 1329\n",
      "15 1329\n",
      "16 1329\n",
      "17 1329\n",
      "18 1329\n",
      "19 1329\n",
      "20 1329\n",
      "21 1329\n",
      "22 1329\n",
      "23 1329\n",
      "24 1329\n",
      "25 1329\n",
      "26 1329\n",
      "27 1329\n",
      "28 1329\n",
      "29 1329\n",
      "30 1329\n",
      "31 1329\n",
      "32 1329\n",
      "33 1329\n",
      "34 1329\n",
      "35 1329\n",
      "36 1329\n",
      "37 1329\n",
      "38 1329\n",
      "39 1329\n",
      "40 1329\n",
      "41 1329\n",
      "42 1329\n",
      "43 1329\n",
      "44 1329\n",
      "45 1329\n",
      "46 1329\n",
      "47 1329\n",
      "48 1329\n",
      "49 1329\n",
      "50 1329\n",
      "51 1329\n",
      "52 1329\n",
      "53 1329\n",
      "54 1329\n",
      "55 1329\n",
      "56 1329\n",
      "57 1329\n",
      "58 1329\n",
      "59 1329\n",
      "60 1329\n",
      "61 1329\n",
      "62 1329\n",
      "63 1329\n",
      "64 1329\n",
      "65 1329\n",
      "66 1329\n",
      "67 1329\n",
      "68 1329\n",
      "69 1329\n",
      "70 1329\n",
      "71 1329\n",
      "72 1329\n",
      "73 1329\n",
      "74 1329\n",
      "75 1329\n",
      "76 1329\n",
      "77 1329\n",
      "78 1329\n",
      "79 1329\n",
      "80 1329\n",
      "81 1329\n",
      "82 1329\n",
      "83 1329\n",
      "84 1329\n",
      "85 1329\n",
      "86 1329\n",
      "87 1329\n",
      "88 1329\n",
      "89 1329\n",
      "90 1329\n",
      "91 1329\n",
      "92 1329\n",
      "93 1329\n",
      "94 1329\n",
      "95 1329\n",
      "96 1329\n",
      "97 1329\n",
      "98 1329\n",
      "99 1329\n",
      "100 1329\n",
      "101 1329\n",
      "102 1329\n",
      "103 1329\n",
      "104 1329\n",
      "105 1329\n",
      "106 1329\n",
      "107 1329\n",
      "108 1329\n",
      "109 1329\n",
      "110 1329\n",
      "111 1329\n",
      "112 1329\n",
      "113 1329\n",
      "114 1329\n",
      "115 1329\n",
      "116 1329\n",
      "117 1329\n",
      "118 1329\n",
      "119 1329\n",
      "120 1329\n",
      "121 1329\n",
      "122 1329\n",
      "123 1329\n",
      "124 1329\n",
      "125 1329\n",
      "126 1329\n",
      "127 1329\n",
      "128 1329\n",
      "129 1329\n",
      "130 1329\n",
      "131 1329\n",
      "132 1329\n",
      "133 1329\n",
      "134 1329\n",
      "135 1329\n",
      "136 1329\n",
      "137 1329\n",
      "138 1329\n",
      "139 1329\n",
      "140 1329\n",
      "141 1329\n",
      "142 1329\n",
      "143 1329\n",
      "144 1329\n",
      "145 1329\n",
      "146 1329\n",
      "147 1329\n",
      "148 1329\n",
      "149 1329\n",
      "150 1329\n",
      "151 1329\n",
      "152 1329\n",
      "153 1329\n",
      "154 1329\n",
      "155 1329\n",
      "156 1329\n",
      "157 1329\n",
      "158 1329\n",
      "159 1329\n",
      "160 1329\n",
      "161 1329\n",
      "162 1329\n",
      "163 1329\n",
      "164 1329\n",
      "165 1329\n",
      "166 1329\n",
      "167 1329\n",
      "168 1329\n",
      "169 1329\n",
      "170 1329\n",
      "171 1329\n",
      "172 1329\n",
      "173 1329\n",
      "174 1329\n",
      "175 1329\n",
      "176 1329\n",
      "177 1329\n",
      "178 1329\n",
      "179 1329\n",
      "180 1329\n",
      "181 1329\n",
      "182 1329\n",
      "183 1329\n",
      "184 1329\n",
      "185 1329\n",
      "186 1329\n",
      "187 1329\n",
      "188 1329\n",
      "189 1329\n",
      "190 1329\n",
      "191 1329\n",
      "192 1329\n",
      "193 1329\n",
      "194 1329\n",
      "195 1329\n",
      "196 1329\n",
      "197 1329\n",
      "198 1329\n",
      "199 1329\n",
      "200 1329\n",
      "201 1329\n",
      "202 1329\n",
      "203 1329\n",
      "204 1329\n",
      "205 1329\n",
      "206 1329\n",
      "207 1329\n",
      "208 1329\n",
      "209 1329\n",
      "210 1329\n",
      "211 1329\n",
      "212 1329\n",
      "213 1329\n",
      "214 1329\n",
      "215 1329\n",
      "216 1329\n",
      "217 1329\n",
      "218 1329\n",
      "219 1329\n",
      "220 1329\n",
      "221 1329\n",
      "222 1329\n",
      "223 1329\n",
      "224 1329\n",
      "225 1329\n",
      "226 1329\n",
      "227 1329\n",
      "228 1329\n",
      "229 1329\n",
      "230 1329\n",
      "231 1329\n",
      "232 1329\n",
      "233 1329\n",
      "234 1329\n",
      "235 1329\n",
      "236 1329\n",
      "237 1329\n",
      "238 1329\n",
      "239 1329\n",
      "240 1329\n",
      "241 1329\n",
      "242 1329\n",
      "243 1329\n",
      "244 1329\n",
      "245 1329\n",
      "246 1329\n",
      "247 1329\n",
      "248 1329\n",
      "249 1329\n",
      "250 1329\n",
      "251 1329\n",
      "252 1329\n",
      "253 1329\n",
      "254 1329\n",
      "255 1329\n",
      "256 1329\n",
      "257 1329\n",
      "258 1329\n",
      "259 1329\n",
      "260 1329\n",
      "261 1329\n",
      "262 1329\n",
      "263 1329\n",
      "264 1329\n",
      "265 1329\n",
      "266 1329\n",
      "267 1329\n",
      "268 1329\n",
      "269 1329\n",
      "270 1329\n",
      "271 1329\n",
      "272 1329\n",
      "273 1329\n",
      "274 1329\n",
      "275 1329\n",
      "276 1329\n",
      "277 1329\n",
      "278 1329\n",
      "279 1329\n",
      "280 1329\n",
      "281 1329\n",
      "282 1329\n",
      "283 1329\n",
      "284 1329\n",
      "285 1329\n",
      "286 1329\n",
      "287 1329\n",
      "288 1329\n",
      "289 1329\n",
      "290 1329\n",
      "291 1329\n",
      "292 1329\n",
      "293 1329\n",
      "294 1329\n",
      "295 1329\n",
      "296 1329\n",
      "297 1329\n",
      "298 1329\n",
      "299 1329\n",
      "300 1329\n",
      "301 1329\n",
      "302 1329\n",
      "303 1329\n",
      "304 1329\n",
      "305 1329\n",
      "306 1329\n",
      "307 1329\n",
      "308 1329\n",
      "309 1329\n",
      "310 1329\n",
      "311 1329\n",
      "312 1329\n",
      "313 1329\n",
      "314 1329\n",
      "315 1329\n",
      "316 1329\n",
      "317 1329\n",
      "318 1329\n",
      "319 1329\n",
      "320 1329\n",
      "321 1329\n",
      "322 1329\n",
      "323 1329\n",
      "324 1329\n",
      "325 1329\n",
      "326 1329\n",
      "327 1329\n",
      "328 1329\n",
      "329 1329\n",
      "330 1329\n",
      "331 1329\n",
      "332 1329\n",
      "333 1329\n",
      "334 1329\n",
      "335 1329\n",
      "336 1329\n",
      "337 1329\n",
      "338 1329\n",
      "339 1329\n",
      "340 1329\n",
      "341 1329\n",
      "342 1329\n",
      "343 1329\n",
      "344 1329\n",
      "345 1329\n",
      "346 1329\n",
      "347 1329\n",
      "348 1329\n",
      "349 1329\n",
      "350 1329\n",
      "351 1329\n",
      "352 1329\n",
      "353 1329\n",
      "354 1329\n",
      "355 1329\n",
      "356 1329\n",
      "357 1329\n",
      "358 1329\n",
      "359 1329\n",
      "360 1329\n",
      "361 1329\n",
      "362 1329\n",
      "363 1329\n",
      "364 1329\n",
      "365 1329\n",
      "366 1329\n",
      "367 1329\n",
      "368 1329\n",
      "369 1329\n",
      "370 1329\n",
      "371 1329\n",
      "372 1329\n",
      "373 1329\n",
      "374 1329\n",
      "375 1329\n",
      "376 1329\n",
      "377 1329\n",
      "378 1329\n",
      "379 1329\n",
      "380 1329\n",
      "381 1329\n",
      "382 1329\n",
      "383 1329\n",
      "384 1329\n",
      "385 1329\n",
      "386 1329\n",
      "387 1329\n",
      "388 1329\n",
      "389 1329\n",
      "390 1329\n",
      "391 1329\n",
      "392 1329\n",
      "393 1329\n",
      "394 1329\n",
      "395 1329\n",
      "396 1329\n",
      "397 1329\n",
      "398 1329\n",
      "399 1329\n",
      "400 1329\n",
      "401 1329\n",
      "402 1329\n",
      "403 1329\n",
      "404 1329\n",
      "405 1329\n",
      "406 1329\n",
      "407 1329\n",
      "408 1329\n",
      "409 1329\n",
      "410 1329\n",
      "411 1329\n",
      "412 1329\n",
      "413 1329\n",
      "414 1329\n",
      "415 1329\n",
      "416 1329\n",
      "417 1329\n",
      "418 1329\n",
      "419 1329\n",
      "420 1329\n",
      "421 1329\n",
      "422 1329\n",
      "423 1329\n",
      "424 1329\n",
      "425 1329\n",
      "426 1329\n",
      "427 1329\n",
      "428 1329\n",
      "429 1329\n",
      "430 1329\n",
      "431 1329\n",
      "432 1329\n",
      "433 1329\n",
      "434 1329\n",
      "435 1329\n",
      "436 1329\n",
      "437 1329\n",
      "438 1329\n",
      "439 1329\n",
      "440 1329\n",
      "441 1329\n",
      "442 1329\n",
      "443 1329\n",
      "444 1329\n",
      "445 1329\n",
      "446 1329\n",
      "447 1329\n",
      "448 1329\n",
      "449 1329\n",
      "450 1329\n",
      "451 1329\n",
      "452 1329\n",
      "453 1329\n",
      "454 1329\n",
      "455 1329\n",
      "456 1329\n",
      "457 1329\n",
      "458 1329\n",
      "459 1329\n",
      "460 1329\n",
      "461 1329\n",
      "462 1329\n",
      "463 1329\n",
      "464 1329\n",
      "465 1329\n",
      "466 1329\n",
      "467 1329\n",
      "468 1329\n",
      "469 1329\n",
      "470 1329\n",
      "471 1329\n",
      "472 1329\n",
      "473 1329\n",
      "474 1329\n",
      "475 1329\n",
      "476 1329\n",
      "477 1329\n",
      "478 1329\n",
      "479 1329\n",
      "480 1329\n",
      "481 1329\n",
      "482 1329\n",
      "483 1329\n",
      "484 1329\n",
      "485 1329\n",
      "486 1329\n",
      "487 1329\n",
      "488 1329\n",
      "489 1329\n",
      "490 1329\n",
      "491 1329\n",
      "492 1329\n",
      "493 1329\n",
      "494 1329\n",
      "495 1329\n",
      "496 1329\n",
      "497 1329\n",
      "498 1329\n",
      "499 1329\n",
      "500 1329\n",
      "501 1329\n",
      "502 1329\n",
      "503 1329\n",
      "504 1329\n",
      "505 1329\n",
      "506 1329\n",
      "507 1329\n",
      "508 1329\n",
      "509 1329\n",
      "510 1329\n",
      "511 1329\n",
      "512 1329\n",
      "513 1329\n",
      "514 1329\n",
      "515 1329\n",
      "516 1329\n",
      "517 1329\n",
      "518 1329\n",
      "519 1329\n",
      "520 1329\n",
      "521 1329\n",
      "522 1329\n",
      "523 1329\n",
      "524 1329\n",
      "525 1329\n",
      "526 1329\n",
      "527 1329\n",
      "528 1329\n",
      "529 1329\n",
      "530 1329\n",
      "531 1329\n",
      "532 1329\n",
      "533 1329\n",
      "534 1329\n",
      "535 1329\n",
      "536 1329\n",
      "537 1329\n",
      "538 1329\n",
      "539 1329\n",
      "540 1329\n",
      "541 1329\n",
      "542 1329\n",
      "543 1329\n",
      "544 1329\n",
      "545 1329\n",
      "546 1329\n",
      "547 1329\n",
      "548 1329\n",
      "549 1329\n",
      "550 1329\n",
      "551 1329\n",
      "552 1329\n",
      "553 1329\n",
      "554 1329\n",
      "555 1329\n",
      "556 1329\n",
      "557 1329\n",
      "558 1329\n",
      "559 1329\n",
      "560 1329\n",
      "561 1329\n",
      "562 1329\n",
      "563 1329\n",
      "564 1329\n",
      "565 1329\n",
      "566 1329\n",
      "567 1329\n",
      "568 1329\n",
      "569 1329\n",
      "570 1329\n",
      "571 1329\n",
      "572 1329\n",
      "573 1329\n",
      "574 1329\n",
      "575 1329\n",
      "576 1329\n",
      "577 1329\n",
      "578 1329\n",
      "579 1329\n",
      "580 1329\n",
      "581 1329\n",
      "582 1329\n",
      "583 1329\n",
      "584 1329\n",
      "585 1329\n",
      "586 1329\n",
      "587 1329\n",
      "588 1329\n",
      "589 1329\n",
      "590 1329\n",
      "591 1329\n",
      "592 1329\n",
      "593 1329\n",
      "594 1329\n",
      "595 1329\n",
      "596 1329\n",
      "597 1329\n",
      "598 1329\n",
      "599 1329\n",
      "600 1329\n",
      "601 1329\n",
      "602 1329\n",
      "603 1329\n",
      "604 1329\n",
      "605 1329\n",
      "606 1329\n",
      "607 1329\n",
      "608 1329\n",
      "609 1329\n",
      "610 1329\n",
      "611 1329\n",
      "612 1329\n",
      "613 1329\n",
      "614 1329\n",
      "615 1329\n",
      "616 1329\n",
      "617 1329\n",
      "618 1329\n",
      "619 1329\n",
      "620 1329\n",
      "621 1329\n",
      "622 1329\n",
      "623 1329\n",
      "624 1329\n",
      "625 1329\n",
      "626 1329\n",
      "627 1329\n",
      "628 1329\n",
      "629 1329\n",
      "630 1329\n",
      "631 1329\n",
      "632 1329\n",
      "633 1329\n",
      "634 1329\n",
      "635 1329\n",
      "636 1329\n",
      "637 1329\n",
      "638 1329\n",
      "639 1329\n",
      "640 1329\n",
      "641 1329\n",
      "642 1329\n",
      "643 1329\n",
      "644 1329\n",
      "645 1329\n",
      "646 1329\n",
      "647 1329\n",
      "648 1329\n",
      "649 1329\n",
      "650 1329\n",
      "651 1329\n",
      "652 1329\n",
      "653 1329\n",
      "654 1329\n",
      "655 1329\n",
      "656 1329\n",
      "657 1329\n",
      "658 1329\n",
      "659 1329\n",
      "660 1329\n",
      "661 1329\n",
      "662 1329\n",
      "663 1329\n",
      "664 1329\n",
      "665 1329\n",
      "666 1329\n",
      "667 1329\n",
      "668 1329\n",
      "669 1329\n",
      "670 1329\n",
      "671 1329\n",
      "672 1329\n",
      "673 1329\n",
      "674 1329\n",
      "675 1329\n",
      "676 1329\n",
      "677 1329\n",
      "678 1329\n",
      "679 1329\n",
      "680 1329\n",
      "681 1329\n",
      "682 1329\n",
      "683 1329\n",
      "684 1329\n",
      "685 1329\n",
      "686 1329\n",
      "687 1329\n",
      "688 1329\n",
      "689 1329\n",
      "690 1329\n",
      "691 1329\n",
      "692 1329\n",
      "693 1329\n",
      "694 1329\n",
      "695 1329\n",
      "696 1329\n",
      "697 1329\n",
      "698 1329\n",
      "699 1329\n",
      "700 1329\n",
      "701 1329\n",
      "702 1329\n",
      "703 1329\n",
      "704 1329\n",
      "705 1329\n",
      "706 1329\n",
      "707 1329\n",
      "708 1329\n",
      "709 1329\n",
      "710 1329\n",
      "711 1329\n",
      "712 1329\n",
      "713 1329\n",
      "714 1329\n",
      "715 1329\n",
      "716 1329\n",
      "717 1329\n",
      "718 1329\n",
      "719 1329\n",
      "720 1329\n",
      "721 1329\n",
      "722 1329\n",
      "723 1329\n",
      "724 1329\n",
      "725 1329\n",
      "726 1329\n",
      "727 1329\n",
      "728 1329\n",
      "729 1329\n",
      "730 1329\n",
      "731 1329\n",
      "732 1329\n",
      "733 1329\n",
      "734 1329\n",
      "735 1329\n",
      "736 1329\n",
      "737 1329\n",
      "738 1329\n",
      "739 1329\n",
      "740 1329\n",
      "741 1329\n",
      "742 1329\n",
      "743 1329\n",
      "744 1329\n",
      "745 1329\n",
      "746 1329\n",
      "747 1329\n",
      "748 1329\n",
      "749 1329\n",
      "750 1329\n",
      "751 1329\n",
      "752 1329\n",
      "753 1329\n",
      "754 1329\n",
      "755 1329\n",
      "756 1329\n",
      "757 1329\n",
      "758 1329\n",
      "759 1329\n",
      "760 1329\n",
      "761 1329\n",
      "762 1329\n",
      "763 1329\n",
      "764 1329\n",
      "765 1329\n",
      "766 1329\n",
      "767 1329\n",
      "768 1329\n",
      "769 1329\n",
      "770 1329\n",
      "771 1329\n",
      "772 1329\n",
      "773 1329\n",
      "774 1329\n",
      "775 1329\n",
      "776 1329\n",
      "777 1329\n",
      "778 1329\n",
      "779 1329\n",
      "780 1329\n",
      "781 1329\n",
      "782 1329\n",
      "783 1329\n",
      "784 1329\n",
      "785 1329\n",
      "786 1329\n",
      "787 1329\n",
      "788 1329\n",
      "789 1329\n",
      "790 1329\n",
      "791 1329\n",
      "792 1329\n",
      "793 1329\n",
      "794 1329\n",
      "795 1329\n",
      "796 1329\n",
      "797 1329\n",
      "798 1329\n",
      "799 1329\n",
      "800 1329\n",
      "801 1329\n",
      "802 1329\n",
      "803 1329\n",
      "804 1329\n",
      "805 1329\n",
      "806 1329\n",
      "807 1329\n",
      "808 1329\n",
      "809 1329\n",
      "810 1329\n",
      "811 1329\n",
      "812 1329\n",
      "813 1329\n",
      "814 1329\n",
      "815 1329\n",
      "816 1329\n",
      "817 1329\n",
      "818 1329\n",
      "819 1329\n",
      "820 1329\n",
      "821 1329\n",
      "822 1329\n",
      "823 1329\n",
      "824 1329\n",
      "825 1329\n",
      "826 1329\n",
      "827 1329\n",
      "828 1329\n",
      "829 1329\n",
      "830 1329\n",
      "831 1329\n",
      "832 1329\n",
      "833 1329\n",
      "834 1329\n",
      "835 1329\n",
      "836 1329\n",
      "837 1329\n",
      "838 1329\n",
      "839 1329\n",
      "840 1329\n",
      "841 1329\n",
      "842 1329\n",
      "843 1329\n",
      "844 1329\n",
      "845 1329\n",
      "846 1329\n",
      "847 1329\n",
      "848 1329\n",
      "849 1329\n",
      "850 1329\n",
      "851 1329\n",
      "852 1329\n",
      "853 1329\n",
      "854 1329\n",
      "855 1329\n",
      "856 1329\n",
      "857 1329\n",
      "858 1329\n",
      "859 1329\n",
      "860 1329\n",
      "861 1329\n",
      "862 1329\n",
      "863 1329\n",
      "864 1329\n",
      "865 1329\n",
      "866 1329\n",
      "867 1329\n",
      "868 1329\n",
      "869 1329\n",
      "870 1329\n",
      "871 1329\n",
      "872 1329\n",
      "873 1329\n",
      "874 1329\n",
      "875 1329\n",
      "876 1329\n",
      "877 1329\n",
      "878 1329\n",
      "879 1329\n",
      "880 1329\n",
      "881 1329\n",
      "882 1329\n",
      "883 1329\n",
      "884 1329\n",
      "885 1329\n",
      "886 1329\n",
      "887 1329\n",
      "888 1329\n",
      "889 1329\n",
      "890 1329\n",
      "891 1329\n",
      "892 1329\n",
      "893 1329\n",
      "894 1329\n",
      "895 1329\n",
      "896 1329\n",
      "897 1329\n",
      "898 1329\n",
      "899 1329\n",
      "900 1329\n",
      "901 1329\n",
      "902 1329\n",
      "903 1329\n",
      "904 1329\n",
      "905 1329\n",
      "906 1329\n",
      "907 1329\n",
      "908 1329\n",
      "909 1329\n",
      "910 1329\n",
      "911 1329\n",
      "912 1329\n",
      "913 1329\n",
      "914 1329\n",
      "915 1329\n",
      "916 1329\n",
      "917 1329\n",
      "918 1329\n",
      "919 1329\n",
      "920 1329\n",
      "921 1329\n",
      "922 1329\n",
      "923 1329\n",
      "924 1329\n",
      "925 1329\n",
      "926 1329\n",
      "927 1329\n",
      "928 1329\n",
      "929 1329\n",
      "930 1329\n",
      "931 1329\n",
      "932 1329\n",
      "933 1329\n",
      "934 1329\n",
      "935 1329\n",
      "936 1329\n",
      "937 1329\n",
      "938 1329\n",
      "939 1329\n",
      "940 1329\n",
      "941 1329\n",
      "942 1329\n",
      "943 1329\n",
      "944 1329\n",
      "945 1329\n",
      "946 1329\n",
      "947 1329\n",
      "948 1329\n",
      "949 1329\n",
      "950 1329\n",
      "951 1329\n",
      "952 1329\n",
      "953 1329\n",
      "954 1329\n",
      "955 1329\n",
      "956 1329\n",
      "957 1329\n",
      "958 1329\n",
      "959 1329\n",
      "960 1329\n",
      "961 1329\n",
      "962 1329\n",
      "963 1329\n",
      "964 1329\n",
      "965 1329\n",
      "966 1329\n",
      "967 1329\n",
      "968 1329\n",
      "969 1329\n",
      "970 1329\n",
      "971 1329\n",
      "972 1329\n",
      "973 1329\n",
      "974 1329\n",
      "975 1329\n",
      "976 1329\n",
      "977 1329\n",
      "978 1329\n",
      "979 1329\n",
      "980 1329\n",
      "981 1329\n",
      "982 1329\n",
      "983 1329\n",
      "984 1329\n",
      "985 1329\n",
      "986 1329\n",
      "987 1329\n",
      "988 1329\n",
      "989 1329\n",
      "990 1329\n",
      "991 1329\n",
      "992 1329\n",
      "993 1329\n",
      "994 1329\n",
      "995 1329\n",
      "996 1329\n",
      "997 1329\n",
      "998 1329\n",
      "999 1329\n",
      "1000 1329\n",
      "1001 1329\n",
      "1002 1329\n",
      "1003 1329\n",
      "1004 1329\n",
      "1005 1329\n",
      "1006 1329\n",
      "1007 1329\n",
      "1008 1329\n",
      "1009 1329\n",
      "1010 1329\n",
      "1011 1329\n",
      "1012 1329\n",
      "1013 1329\n",
      "1014 1329\n",
      "1015 1329\n",
      "1016 1329\n",
      "1017 1329\n",
      "1018 1329\n",
      "1019 1329\n",
      "1020 1329\n",
      "1021 1329\n",
      "1022 1329\n",
      "1023 1329\n",
      "1024 1329\n",
      "1025 1329\n",
      "1026 1329\n",
      "1027 1329\n",
      "1028 1329\n",
      "1029 1329\n",
      "1030 1329\n",
      "1031 1329\n",
      "1032 1329\n",
      "1033 1329\n",
      "1034 1329\n",
      "1035 1329\n",
      "1036 1329\n",
      "1037 1329\n",
      "1038 1329\n",
      "1039 1329\n",
      "1040 1329\n",
      "1041 1329\n",
      "1042 1329\n",
      "1043 1329\n",
      "1044 1329\n",
      "1045 1329\n",
      "1046 1329\n",
      "1047 1329\n",
      "1048 1329\n",
      "1049 1329\n",
      "1050 1329\n",
      "1051 1329\n",
      "1052 1329\n",
      "1053 1329\n",
      "1054 1329\n",
      "1055 1329\n",
      "1056 1329\n",
      "1057 1329\n",
      "1058 1329\n",
      "1059 1329\n",
      "1060 1329\n",
      "1061 1329\n",
      "1062 1329\n",
      "1063 1329\n",
      "1064 1329\n",
      "1065 1329\n",
      "1066 1329\n",
      "1067 1329\n",
      "1068 1329\n",
      "1069 1329\n",
      "1070 1329\n",
      "1071 1329\n",
      "1072 1329\n",
      "1073 1329\n",
      "1074 1329\n",
      "1075 1329\n",
      "1076 1329\n",
      "1077 1329\n",
      "1078 1329\n",
      "1079 1329\n",
      "1080 1329\n",
      "1081 1329\n",
      "1082 1329\n",
      "1083 1329\n",
      "1084 1329\n",
      "1085 1329\n",
      "1086 1329\n",
      "1087 1329\n",
      "1088 1329\n",
      "1089 1329\n",
      "1090 1329\n",
      "1091 1329\n",
      "1092 1329\n",
      "1093 1329\n",
      "1094 1329\n",
      "1095 1329\n",
      "1096 1329\n",
      "1097 1329\n",
      "1098 1329\n",
      "1099 1329\n",
      "1100 1329\n",
      "1101 1329\n",
      "1102 1329\n",
      "1103 1329\n",
      "1104 1329\n",
      "1105 1329\n",
      "1106 1329\n",
      "1107 1329\n",
      "1108 1329\n",
      "1109 1329\n",
      "1110 1329\n",
      "1111 1329\n",
      "1112 1329\n",
      "1113 1329\n",
      "1114 1329\n",
      "1115 1329\n",
      "1116 1329\n",
      "1117 1329\n",
      "1118 1329\n",
      "1119 1329\n",
      "1120 1329\n",
      "1121 1329\n",
      "1122 1329\n",
      "1123 1329\n",
      "1124 1329\n",
      "1125 1329\n",
      "1126 1329\n",
      "1127 1329\n",
      "1128 1329\n",
      "1129 1329\n",
      "1130 1329\n",
      "1131 1329\n",
      "1132 1329\n",
      "1133 1329\n",
      "1134 1329\n",
      "1135 1329\n",
      "1136 1329\n",
      "1137 1329\n",
      "1138 1329\n",
      "1139 1329\n",
      "1140 1329\n",
      "1141 1329\n",
      "1142 1329\n",
      "1143 1329\n",
      "1144 1329\n",
      "1145 1329\n",
      "1146 1329\n",
      "1147 1329\n",
      "1148 1329\n",
      "1149 1329\n",
      "1150 1329\n",
      "1151 1329\n",
      "1152 1329\n",
      "1153 1329\n",
      "1154 1329\n",
      "1155 1329\n",
      "1156 1329\n",
      "1157 1329\n",
      "1158 1329\n",
      "1159 1329\n",
      "1160 1329\n",
      "1161 1329\n",
      "1162 1329\n",
      "1163 1329\n",
      "1164 1329\n",
      "1165 1329\n",
      "1166 1329\n",
      "1167 1329\n",
      "1168 1329\n",
      "1169 1329\n",
      "1170 1329\n",
      "1171 1329\n",
      "1172 1329\n",
      "1173 1329\n",
      "1174 1329\n",
      "1175 1329\n",
      "1176 1329\n",
      "1177 1329\n",
      "1178 1329\n",
      "1179 1329\n",
      "1180 1329\n",
      "1181 1329\n",
      "1182 1329\n",
      "1183 1329\n",
      "1184 1329\n",
      "1185 1329\n",
      "1186 1329\n",
      "1187 1329\n",
      "1188 1329\n",
      "1189 1329\n",
      "1190 1329\n",
      "1191 1329\n",
      "1192 1329\n",
      "1193 1329\n",
      "1194 1329\n",
      "1195 1329\n",
      "1196 1329\n",
      "1197 1329\n",
      "1198 1329\n",
      "1199 1329\n",
      "1200 1329\n",
      "1201 1329\n",
      "1202 1329\n",
      "1203 1329\n",
      "1204 1329\n",
      "1205 1329\n",
      "1206 1329\n",
      "1207 1329\n",
      "1208 1329\n",
      "1209 1329\n",
      "1210 1329\n",
      "1211 1329\n",
      "1212 1329\n",
      "1213 1329\n",
      "1214 1329\n",
      "1215 1329\n",
      "1216 1329\n",
      "1217 1329\n",
      "1218 1329\n",
      "1219 1329\n",
      "1220 1329\n",
      "1221 1329\n",
      "1222 1329\n",
      "1223 1329\n",
      "1224 1329\n",
      "1225 1329\n",
      "1226 1329\n",
      "1227 1329\n",
      "1228 1329\n",
      "1229 1329\n",
      "1230 1329\n",
      "1231 1329\n",
      "1232 1329\n",
      "1233 1329\n",
      "1234 1329\n",
      "1235 1329\n",
      "1236 1329\n",
      "1237 1329\n",
      "1238 1329\n",
      "1239 1329\n",
      "1240 1329\n",
      "1241 1329\n",
      "1242 1329\n",
      "1243 1329\n",
      "1244 1329\n",
      "1245 1329\n",
      "1246 1329\n",
      "1247 1329\n",
      "1248 1329\n",
      "1249 1329\n",
      "1250 1329\n",
      "1251 1329\n",
      "1252 1329\n",
      "1253 1329\n",
      "1254 1329\n",
      "1255 1329\n",
      "1256 1329\n",
      "1257 1329\n",
      "1258 1329\n",
      "1259 1329\n",
      "1260 1329\n",
      "1261 1329\n",
      "1262 1329\n",
      "1263 1329\n",
      "1264 1329\n",
      "1265 1329\n",
      "1266 1329\n",
      "1267 1329\n",
      "1268 1329\n",
      "1269 1329\n",
      "1270 1329\n",
      "1271 1329\n",
      "1272 1329\n",
      "1273 1329\n",
      "1274 1329\n",
      "1275 1329\n",
      "1276 1329\n",
      "1277 1329\n",
      "1278 1329\n",
      "1279 1329\n",
      "1280 1329\n",
      "1281 1329\n",
      "1282 1329\n",
      "1283 1329\n",
      "1284 1329\n",
      "1285 1329\n",
      "1286 1329\n",
      "1287 1329\n",
      "1288 1329\n",
      "1289 1329\n",
      "1290 1329\n",
      "1291 1329\n",
      "1292 1329\n",
      "1293 1329\n",
      "1294 1329\n",
      "1295 1329\n",
      "1296 1329\n",
      "1297 1329\n",
      "1298 1329\n",
      "1299 1329\n",
      "1300 1329\n",
      "1301 1329\n",
      "1302 1329\n",
      "1303 1329\n",
      "1304 1329\n",
      "1305 1329\n",
      "1306 1329\n",
      "1307 1329\n",
      "1308 1329\n",
      "1309 1329\n",
      "1310 1329\n",
      "1311 1329\n",
      "1312 1329\n",
      "1313 1329\n",
      "1314 1329\n",
      "1315 1329\n",
      "1316 1329\n",
      "1317 1329\n",
      "1318 1329\n",
      "1319 1329\n",
      "1320 1329\n",
      "1321 1329\n",
      "1322 1329\n",
      "1323 1329\n",
      "1324 1329\n",
      "1325 1329\n",
      "1326 1329\n",
      "1327 1329\n",
      "1328 1329\n"
     ]
    }
   ],
   "source": [
    "formatted_dict = {}\n",
    "index = 0\n",
    "for i, gh in enumerate(GEOHASH_LIST):\n",
    "    print(i, len(GEOHASH_LIST))\n",
    "    temp_df = df[df.geohash6 == gh]\n",
    "    temp_df.set_index('order', inplace=True)\n",
    "    temp_dict = temp_df.to_dict('index')\n",
    "    temp_formatted_dict = {}\n",
    "    for order in range(INPUT_OFFSET-1, MAX_ORDER-OUTPUT_OFFSET):\n",
    "        # how should each column look like?\n",
    "        # index:\n",
    "        # geohash6, hour@T, minute@T, order(T-x), order(T-x+1), ... order(T), order(T+1), ... order(T+5)\n",
    "        hour, minute = order_to_time(order)\n",
    "        formatted_dict[index] = {}\n",
    "        formatted_dict[index]['geohash6'] = gh\n",
    "        formatted_dict[index]['hour'] = hour\n",
    "        formatted_dict[index]['minute'] = minute\n",
    "        \n",
    "        for in_off in range(INPUT_OFFSET):\n",
    "            formatted_dict[index]['demand_t_in_' + str(in_off)] = temp_dict[order - in_off]['demand']\n",
    "        for out_off in range(1, OUTPUT_OFFSET+1):\n",
    "            formatted_dict[index]['demand_t_out_' + str(out_off)] = temp_dict[order + out_off]['demand']\n",
    "            \n",
    "        index += 1"
   ]
  },
  {
   "cell_type": "code",
   "execution_count": 51,
   "metadata": {},
   "outputs": [],
   "source": [
    "formatted_df = pd.DataFrame.from_dict(formatted_dict, orient='index')"
   ]
  },
  {
   "cell_type": "code",
   "execution_count": 52,
   "metadata": {},
   "outputs": [
    {
     "data": {
      "text/plain": [
       "(7770663, 13)"
      ]
     },
     "execution_count": 52,
     "metadata": {},
     "output_type": "execute_result"
    }
   ],
   "source": [
    "formatted_df.shape"
   ]
  },
  {
   "cell_type": "code",
   "execution_count": 53,
   "metadata": {},
   "outputs": [
    {
     "data": {
      "text/html": [
       "<div>\n",
       "<style scoped>\n",
       "    .dataframe tbody tr th:only-of-type {\n",
       "        vertical-align: middle;\n",
       "    }\n",
       "\n",
       "    .dataframe tbody tr th {\n",
       "        vertical-align: top;\n",
       "    }\n",
       "\n",
       "    .dataframe thead th {\n",
       "        text-align: right;\n",
       "    }\n",
       "</style>\n",
       "<table border=\"1\" class=\"dataframe\">\n",
       "  <thead>\n",
       "    <tr style=\"text-align: right;\">\n",
       "      <th></th>\n",
       "      <th>geohash6</th>\n",
       "      <th>hour</th>\n",
       "      <th>minute</th>\n",
       "      <th>demand_t_in_0</th>\n",
       "      <th>demand_t_in_1</th>\n",
       "      <th>demand_t_in_2</th>\n",
       "      <th>demand_t_in_3</th>\n",
       "      <th>demand_t_in_4</th>\n",
       "      <th>demand_t_out_1</th>\n",
       "      <th>demand_t_out_2</th>\n",
       "      <th>demand_t_out_3</th>\n",
       "      <th>demand_t_out_4</th>\n",
       "      <th>demand_t_out_5</th>\n",
       "    </tr>\n",
       "  </thead>\n",
       "  <tbody>\n",
       "    <tr>\n",
       "      <th>0</th>\n",
       "      <td>qp02yc</td>\n",
       "      <td>1</td>\n",
       "      <td>0</td>\n",
       "      <td>0.0</td>\n",
       "      <td>0.0</td>\n",
       "      <td>0.0</td>\n",
       "      <td>0.0</td>\n",
       "      <td>0.0</td>\n",
       "      <td>0.0</td>\n",
       "      <td>0.0</td>\n",
       "      <td>0.000000</td>\n",
       "      <td>0.000000</td>\n",
       "      <td>0.000000</td>\n",
       "    </tr>\n",
       "    <tr>\n",
       "      <th>1</th>\n",
       "      <td>qp02yc</td>\n",
       "      <td>1</td>\n",
       "      <td>15</td>\n",
       "      <td>0.0</td>\n",
       "      <td>0.0</td>\n",
       "      <td>0.0</td>\n",
       "      <td>0.0</td>\n",
       "      <td>0.0</td>\n",
       "      <td>0.0</td>\n",
       "      <td>0.0</td>\n",
       "      <td>0.000000</td>\n",
       "      <td>0.000000</td>\n",
       "      <td>0.000000</td>\n",
       "    </tr>\n",
       "    <tr>\n",
       "      <th>2</th>\n",
       "      <td>qp02yc</td>\n",
       "      <td>1</td>\n",
       "      <td>30</td>\n",
       "      <td>0.0</td>\n",
       "      <td>0.0</td>\n",
       "      <td>0.0</td>\n",
       "      <td>0.0</td>\n",
       "      <td>0.0</td>\n",
       "      <td>0.0</td>\n",
       "      <td>0.0</td>\n",
       "      <td>0.000000</td>\n",
       "      <td>0.000000</td>\n",
       "      <td>0.020592</td>\n",
       "    </tr>\n",
       "    <tr>\n",
       "      <th>3</th>\n",
       "      <td>qp02yc</td>\n",
       "      <td>1</td>\n",
       "      <td>45</td>\n",
       "      <td>0.0</td>\n",
       "      <td>0.0</td>\n",
       "      <td>0.0</td>\n",
       "      <td>0.0</td>\n",
       "      <td>0.0</td>\n",
       "      <td>0.0</td>\n",
       "      <td>0.0</td>\n",
       "      <td>0.000000</td>\n",
       "      <td>0.020592</td>\n",
       "      <td>0.010292</td>\n",
       "    </tr>\n",
       "    <tr>\n",
       "      <th>4</th>\n",
       "      <td>qp02yc</td>\n",
       "      <td>2</td>\n",
       "      <td>0</td>\n",
       "      <td>0.0</td>\n",
       "      <td>0.0</td>\n",
       "      <td>0.0</td>\n",
       "      <td>0.0</td>\n",
       "      <td>0.0</td>\n",
       "      <td>0.0</td>\n",
       "      <td>0.0</td>\n",
       "      <td>0.020592</td>\n",
       "      <td>0.010292</td>\n",
       "      <td>0.000000</td>\n",
       "    </tr>\n",
       "  </tbody>\n",
       "</table>\n",
       "</div>"
      ],
      "text/plain": [
       "  geohash6  hour  minute  demand_t_in_0  demand_t_in_1  demand_t_in_2  \\\n",
       "0   qp02yc     1       0            0.0            0.0            0.0   \n",
       "1   qp02yc     1      15            0.0            0.0            0.0   \n",
       "2   qp02yc     1      30            0.0            0.0            0.0   \n",
       "3   qp02yc     1      45            0.0            0.0            0.0   \n",
       "4   qp02yc     2       0            0.0            0.0            0.0   \n",
       "\n",
       "   demand_t_in_3  demand_t_in_4  demand_t_out_1  demand_t_out_2  \\\n",
       "0            0.0            0.0             0.0             0.0   \n",
       "1            0.0            0.0             0.0             0.0   \n",
       "2            0.0            0.0             0.0             0.0   \n",
       "3            0.0            0.0             0.0             0.0   \n",
       "4            0.0            0.0             0.0             0.0   \n",
       "\n",
       "   demand_t_out_3  demand_t_out_4  demand_t_out_5  \n",
       "0        0.000000        0.000000        0.000000  \n",
       "1        0.000000        0.000000        0.000000  \n",
       "2        0.000000        0.000000        0.020592  \n",
       "3        0.000000        0.020592        0.010292  \n",
       "4        0.020592        0.010292        0.000000  "
      ]
     },
     "execution_count": 53,
     "metadata": {},
     "output_type": "execute_result"
    }
   ],
   "source": [
    "formatted_df.head()"
   ]
  },
  {
   "cell_type": "code",
   "execution_count": 54,
   "metadata": {},
   "outputs": [],
   "source": [
    "formatted_df.to_csv('data/formatted_time_series_data.csv', index=False)"
   ]
  },
  {
   "cell_type": "code",
   "execution_count": null,
   "metadata": {},
   "outputs": [],
   "source": []
  },
  {
   "cell_type": "code",
   "execution_count": null,
   "metadata": {},
   "outputs": [],
   "source": []
  },
  {
   "cell_type": "code",
   "execution_count": 56,
   "metadata": {},
   "outputs": [],
   "source": [
    "from fastai import *\n",
    "from fastai.tabular import *"
   ]
  },
  {
   "cell_type": "code",
   "execution_count": 79,
   "metadata": {},
   "outputs": [],
   "source": [
    "cont_names = ['demand_t_in_0', 'demand_t_in_1', 'demand_t_in_2', 'demand_t_in_3', 'demand_t_in_4'] \n",
    "cat_names = ['geohash6', 'hour'] # hour and minute to be fucking categorical as well\n",
    "dep_var = ['demand_t_out_1']\n",
    "procs = [FillMissing, Categorify, Normalize]"
   ]
  },
  {
   "cell_type": "code",
   "execution_count": 80,
   "metadata": {},
   "outputs": [],
   "source": [
    "# Lets not split and do a stupid training first"
   ]
  },
  {
   "cell_type": "code",
   "execution_count": 96,
   "metadata": {},
   "outputs": [],
   "source": [
    "data = (TabularList.from_df(formatted_df.sample(frac=0.1, random_state=2019), cat_names=cat_names, cont_names=cont_names, procs=procs)\n",
    "        .split_none()\n",
    "        .label_from_df(cols=dep_var)\n",
    "        .databunch())"
   ]
  },
  {
   "cell_type": "code",
   "execution_count": 97,
   "metadata": {},
   "outputs": [
    {
     "data": {
      "text/html": [
       "<table border=\"1\" class=\"dataframe\">\n",
       "  <thead>\n",
       "    <tr style=\"text-align: right;\">\n",
       "      <th>geohash6</th>\n",
       "      <th>hour</th>\n",
       "      <th>demand_t_in_0</th>\n",
       "      <th>demand_t_in_1</th>\n",
       "      <th>demand_t_in_2</th>\n",
       "      <th>demand_t_in_3</th>\n",
       "      <th>demand_t_in_4</th>\n",
       "      <th>target</th>\n",
       "    </tr>\n",
       "  </thead>\n",
       "  <tbody>\n",
       "    <tr>\n",
       "      <td>qp09hm</td>\n",
       "      <td>19</td>\n",
       "      <td>-0.4430</td>\n",
       "      <td>-0.4429</td>\n",
       "      <td>-0.4429</td>\n",
       "      <td>-0.3335</td>\n",
       "      <td>-0.4429</td>\n",
       "      <td>0.0</td>\n",
       "    </tr>\n",
       "    <tr>\n",
       "      <td>qp0958</td>\n",
       "      <td>14</td>\n",
       "      <td>-0.4430</td>\n",
       "      <td>-0.4429</td>\n",
       "      <td>-0.3989</td>\n",
       "      <td>-0.4082</td>\n",
       "      <td>-0.4429</td>\n",
       "      <td>0.0</td>\n",
       "    </tr>\n",
       "    <tr>\n",
       "      <td>qp09un</td>\n",
       "      <td>6</td>\n",
       "      <td>-0.3714</td>\n",
       "      <td>-0.4294</td>\n",
       "      <td>-0.4429</td>\n",
       "      <td>-0.2229</td>\n",
       "      <td>-0.3243</td>\n",
       "      <td>0.0</td>\n",
       "    </tr>\n",
       "    <tr>\n",
       "      <td>qp03zh</td>\n",
       "      <td>11</td>\n",
       "      <td>-0.1164</td>\n",
       "      <td>-0.1713</td>\n",
       "      <td>-0.0968</td>\n",
       "      <td>-0.3265</td>\n",
       "      <td>-0.2606</td>\n",
       "      <td>0.029124266</td>\n",
       "    </tr>\n",
       "    <tr>\n",
       "      <td>qp09et</td>\n",
       "      <td>9</td>\n",
       "      <td>0.3972</td>\n",
       "      <td>0.6077</td>\n",
       "      <td>1.0526</td>\n",
       "      <td>1.3388</td>\n",
       "      <td>0.5974</td>\n",
       "      <td>0.13282228</td>\n",
       "    </tr>\n",
       "    <tr>\n",
       "      <td>qp091j</td>\n",
       "      <td>20</td>\n",
       "      <td>-0.4430</td>\n",
       "      <td>-0.4429</td>\n",
       "      <td>-0.4429</td>\n",
       "      <td>-0.4428</td>\n",
       "      <td>-0.4429</td>\n",
       "      <td>0.0</td>\n",
       "    </tr>\n",
       "    <tr>\n",
       "      <td>qp0dj3</td>\n",
       "      <td>16</td>\n",
       "      <td>-0.4430</td>\n",
       "      <td>-0.4429</td>\n",
       "      <td>-0.4429</td>\n",
       "      <td>-0.4428</td>\n",
       "      <td>-0.4429</td>\n",
       "      <td>0.0</td>\n",
       "    </tr>\n",
       "    <tr>\n",
       "      <td>qp03xz</td>\n",
       "      <td>3</td>\n",
       "      <td>1.7711</td>\n",
       "      <td>1.6961</td>\n",
       "      <td>1.9233</td>\n",
       "      <td>1.6668</td>\n",
       "      <td>1.3474</td>\n",
       "      <td>0.33306682</td>\n",
       "    </tr>\n",
       "    <tr>\n",
       "      <td>qp03xe</td>\n",
       "      <td>2</td>\n",
       "      <td>0.3312</td>\n",
       "      <td>0.1870</td>\n",
       "      <td>0.2107</td>\n",
       "      <td>0.2092</td>\n",
       "      <td>0.1286</td>\n",
       "      <td>0.11220206</td>\n",
       "    </tr>\n",
       "    <tr>\n",
       "      <td>qp096w</td>\n",
       "      <td>21</td>\n",
       "      <td>-0.0783</td>\n",
       "      <td>-0.1777</td>\n",
       "      <td>0.0527</td>\n",
       "      <td>-0.0414</td>\n",
       "      <td>-0.1648</td>\n",
       "      <td>0.050928157</td>\n",
       "    </tr>\n",
       "  </tbody>\n",
       "</table>"
      ],
      "text/plain": [
       "<IPython.core.display.HTML object>"
      ]
     },
     "metadata": {},
     "output_type": "display_data"
    }
   ],
   "source": [
    "data.show_batch(10)"
   ]
  },
  {
   "cell_type": "code",
   "execution_count": 103,
   "metadata": {},
   "outputs": [],
   "source": [
    "learn = tabular_learner(data, layers=[200,100], metrics=root_mean_squared_error, y_range=[0,1])"
   ]
  },
  {
   "cell_type": "code",
   "execution_count": 99,
   "metadata": {},
   "outputs": [
    {
     "data": {
      "text/html": [
       "Total time: 02:11 <p><table border=\"1\" class=\"dataframe\">\n",
       "  <thead>\n",
       "    <tr style=\"text-align: left;\">\n",
       "      <th>epoch</th>\n",
       "      <th>train_loss</th>\n",
       "      <th>valid_loss</th>\n",
       "      <th>root_mean_squared_error</th>\n",
       "      <th>time</th>\n",
       "    </tr>\n",
       "  </thead>\n",
       "  <tbody>\n",
       "    <tr>\n",
       "      <td>0</td>\n",
       "      <td>0.017297</td>\n",
       "      <td>#na#</td>\n",
       "      <td>02:11</td>\n",
       "    </tr>\n",
       "  </tbody>\n",
       "</table>"
      ],
      "text/plain": [
       "<IPython.core.display.HTML object>"
      ]
     },
     "metadata": {},
     "output_type": "display_data"
    }
   ],
   "source": [
    "learn.fit_one_cycle(1, 1e-1)"
   ]
  },
  {
   "cell_type": "code",
   "execution_count": 106,
   "metadata": {},
   "outputs": [
    {
     "data": {
      "text/html": [],
      "text/plain": [
       "<IPython.core.display.HTML object>"
      ]
     },
     "metadata": {},
     "output_type": "display_data"
    },
    {
     "name": "stdout",
     "output_type": "stream",
     "text": [
      "LR Finder is complete, type {learner_name}.recorder.plot() to see the graph.\n"
     ]
    },
    {
     "data": {
      "image/png": "[encoded data removed]",
      "text/plain": [
       "<Figure size 432x288 with 1 Axes>"
      ]
     },
     "metadata": {
      "needs_background": "light"
     },
     "output_type": "display_data"
    }
   ],
   "source": [
    "learn.lr_find() # find learning rate\n",
    "learn.recorder.plot()"
   ]
  },
  {
   "cell_type": "code",
   "execution_count": 105,
   "metadata": {},
   "outputs": [
    {
     "data": {
      "image/png": "[encoded data removed]",
      "text/plain": [
       "<Figure size 432x288 with 1 Axes>"
      ]
     },
     "metadata": {
      "needs_background": "light"
     },
     "output_type": "display_data"
    }
   ],
   "source": [
    "learn.recorder.plot_losses()"
   ]
  },
  {
   "cell_type": "code",
   "execution_count": 95,
   "metadata": {},
   "outputs": [
    {
     "data": {
      "text/plain": [
       "Learner(data=TabularDataBunch;\n",
       "\n",
       "Train: LabelList (7770663 items)\n",
       "x: TabularList\n",
       "geohash6 qp02yc; hour 1; demand_t_in_0 -0.4430; demand_t_in_1 -0.4430; demand_t_in_2 -0.4430; demand_t_in_3 -0.4430; demand_t_in_4 -0.4430; ,geohash6 qp02yc; hour 1; demand_t_in_0 -0.4430; demand_t_in_1 -0.4430; demand_t_in_2 -0.4430; demand_t_in_3 -0.4430; demand_t_in_4 -0.4430; ,geohash6 qp02yc; hour 1; demand_t_in_0 -0.4430; demand_t_in_1 -0.4430; demand_t_in_2 -0.4430; demand_t_in_3 -0.4430; demand_t_in_4 -0.4430; ,geohash6 qp02yc; hour 1; demand_t_in_0 -0.4430; demand_t_in_1 -0.4430; demand_t_in_2 -0.4430; demand_t_in_3 -0.4430; demand_t_in_4 -0.4430; ,geohash6 qp02yc; hour 2; demand_t_in_0 -0.4430; demand_t_in_1 -0.4430; demand_t_in_2 -0.4430; demand_t_in_3 -0.4430; demand_t_in_4 -0.4430; \n",
       "y: FloatList\n",
       "0.0,0.0,0.0,0.0,0.0\n",
       "Path: .;\n",
       "\n",
       "Valid: LabelList (0 items)\n",
       "x: TabularList\n",
       "\n",
       "y: FloatList\n",
       "\n",
       "Path: .;\n",
       "\n",
       "Test: None, model=TabularModel(\n",
       "  (embeds): ModuleList(\n",
       "    (0): Embedding(1330, 90)\n",
       "    (1): Embedding(25, 10)\n",
       "  )\n",
       "  (emb_drop): Dropout(p=0.0)\n",
       "  (bn_cont): BatchNorm1d(5, eps=1e-05, momentum=0.1, affine=True, track_running_stats=True)\n",
       "  (layers): Sequential(\n",
       "    (0): Linear(in_features=105, out_features=200, bias=True)\n",
       "    (1): ReLU(inplace)\n",
       "    (2): BatchNorm1d(200, eps=1e-05, momentum=0.1, affine=True, track_running_stats=True)\n",
       "    (3): Linear(in_features=200, out_features=100, bias=True)\n",
       "    (4): ReLU(inplace)\n",
       "    (5): BatchNorm1d(100, eps=1e-05, momentum=0.1, affine=True, track_running_stats=True)\n",
       "    (6): Linear(in_features=100, out_features=1, bias=True)\n",
       "  )\n",
       "), opt_func=functools.partial(<class 'torch.optim.adam.Adam'>, betas=(0.9, 0.99)), loss_func=FlattenedLoss of MSELoss(), metrics=[<function root_mean_squared_error at 0x2c9083950>], true_wd=True, bn_wd=True, wd=0.01, train_bn=True, path=PosixPath('.'), model_dir='models', callback_fns=[functools.partial(<class 'fastai.basic_train.Recorder'>, add_time=True)], callbacks=[], layer_groups=[Sequential(\n",
       "  (0): Embedding(1330, 90)\n",
       "  (1): Embedding(25, 10)\n",
       "  (2): Dropout(p=0.0)\n",
       "  (3): BatchNorm1d(5, eps=1e-05, momentum=0.1, affine=True, track_running_stats=True)\n",
       "  (4): Linear(in_features=105, out_features=200, bias=True)\n",
       "  (5): ReLU(inplace)\n",
       "  (6): BatchNorm1d(200, eps=1e-05, momentum=0.1, affine=True, track_running_stats=True)\n",
       "  (7): Linear(in_features=200, out_features=100, bias=True)\n",
       "  (8): BatchNorm1d(100, eps=1e-05, momentum=0.1, affine=True, track_running_stats=True)\n",
       "  (9): Linear(in_features=100, out_features=1, bias=True)\n",
       ")], add_time=True)"
      ]
     },
     "execution_count": 95,
     "metadata": {},
     "output_type": "execute_result"
    }
   ],
   "source": [
    "learn"
   ]
  },
  {
   "cell_type": "code",
   "execution_count": null,
   "metadata": {},
   "outputs": [],
   "source": []
  },
  {
   "cell_type": "code",
   "execution_count": null,
   "metadata": {},
   "outputs": [],
   "source": []
  },
  {
   "cell_type": "code",
   "execution_count": null,
   "metadata": {},
   "outputs": [],
   "source": []
  },
  {
   "cell_type": "code",
   "execution_count": null,
   "metadata": {},
   "outputs": [],
   "source": []
  },
  {
   "cell_type": "code",
   "execution_count": null,
   "metadata": {},
   "outputs": [],
   "source": []
  },
  {
   "cell_type": "code",
   "execution_count": null,
   "metadata": {},
   "outputs": [],
   "source": []
  },
  {
   "cell_type": "code",
   "execution_count": null,
   "metadata": {},
   "outputs": [],
   "source": []
  },
  {
   "cell_type": "code",
   "execution_count": null,
   "metadata": {},
   "outputs": [],
   "source": []
  },
  {
   "cell_type": "code",
   "execution_count": null,
   "metadata": {},
   "outputs": [],
   "source": []
  },
  {
   "cell_type": "code",
   "execution_count": null,
   "metadata": {},
   "outputs": [],
   "source": []
  },
  {
   "cell_type": "code",
   "execution_count": null,
   "metadata": {},
   "outputs": [],
   "source": []
  },
  {
   "cell_type": "code",
   "execution_count": null,
   "metadata": {},
   "outputs": [],
   "source": []
  },
  {
   "cell_type": "code",
   "execution_count": null,
   "metadata": {},
   "outputs": [],
   "source": []
  },
  {
   "cell_type": "code",
   "execution_count": null,
   "metadata": {},
   "outputs": [],
   "source": []
  },
  {
   "cell_type": "code",
   "execution_count": 19,
   "metadata": {},
   "outputs": [],
   "source": [
    "# df = pd.read_csv('./data/formatted_data.csv')\n",
    "df = pd.read_csv('./data/training.csv')"
   ]
  },
  {
   "cell_type": "code",
   "execution_count": 20,
   "metadata": {},
   "outputs": [],
   "source": [
    "temp_df = df[df.geohash6 == 'qp02yc']"
   ]
  },
  {
   "cell_type": "code",
   "execution_count": 21,
   "metadata": {},
   "outputs": [
    {
     "data": {
      "text/plain": [
       "(577, 4)"
      ]
     },
     "execution_count": 21,
     "metadata": {},
     "output_type": "execute_result"
    }
   ],
   "source": [
    "temp_df.shape"
   ]
  },
  {
   "cell_type": "code",
   "execution_count": null,
   "metadata": {},
   "outputs": [],
   "source": [
    "temp_df.plot(x='order', y='demand', figsize=(25,5))"
   ]
  },
  {
   "cell_type": "code",
   "execution_count": null,
   "metadata": {},
   "outputs": [],
   "source": []
  },
  {
   "cell_type": "code",
   "execution_count": null,
   "metadata": {},
   "outputs": [],
   "source": []
  },
  {
   "cell_type": "code",
   "execution_count": null,
   "metadata": {},
   "outputs": [],
   "source": []
  },
  {
   "cell_type": "code",
   "execution_count": null,
   "metadata": {},
   "outputs": [],
   "source": []
  },
  {
   "cell_type": "code",
   "execution_count": null,
   "metadata": {},
   "outputs": [],
   "source": []
  },
  {
   "cell_type": "code",
   "execution_count": null,
   "metadata": {},
   "outputs": [],
   "source": []
  },
  {
   "cell_type": "code",
   "execution_count": null,
   "metadata": {},
   "outputs": [],
   "source": []
  },
  {
   "cell_type": "code",
   "execution_count": 27,
   "metadata": {},
   "outputs": [],
   "source": [
    "import numpy as np\n",
    "import pandas as pd\n",
    "from sklearn.ensemble import RandomForestRegressor\n",
    "from sklearn.model_selection import train_test_split\n",
    "from sklearn.multioutput import MultiOutputRegressor\n",
    "from sklearn.preprocessing import OneHotEncoder"
   ]
  },
  {
   "cell_type": "code",
   "execution_count": 28,
   "metadata": {},
   "outputs": [],
   "source": [
    "df = pd.read_csv('./data/formatted_time_series_data.csv')"
   ]
  },
  {
   "cell_type": "code",
   "execution_count": 29,
   "metadata": {},
   "outputs": [],
   "source": [
    "geohash6_ohe = pd.get_dummies(df.geohash6)\n",
    "df.drop('geohash6', axis=1, inplace=True)\n",
    "df = df.join(geohash6_ohe)\n",
    "hour_ohe = pd.get_dummies(df.hour)\n",
    "df = df.join(hour_ohe) # cat hour is better"
   ]
  },
  {
   "cell_type": "code",
   "execution_count": 30,
   "metadata": {},
   "outputs": [
    {
     "data": {
      "text/plain": [
       "(7770663, 1365)"
      ]
     },
     "execution_count": 30,
     "metadata": {},
     "output_type": "execute_result"
    }
   ],
   "source": [
    "df.shape"
   ]
  },
  {
   "cell_type": "code",
   "execution_count": 31,
   "metadata": {},
   "outputs": [],
   "source": [
    "df.to_csv('./data/formatted_time_series_ohe_data.csv', index=False)"
   ]
  },
  {
   "cell_type": "code",
   "execution_count": 14,
   "metadata": {},
   "outputs": [],
   "source": [
    "ohe = OneHotEncoder() \n",
    "geohash6_ohe = ohe.fit_transform(df.geohash6.values.reshape(-1,1)).toarray() # It returns an numpy array"
   ]
  },
  {
   "cell_type": "code",
   "execution_count": 16,
   "metadata": {},
   "outputs": [
    {
     "data": {
      "text/plain": [
       "(7770663, 1329)"
      ]
     },
     "execution_count": 16,
     "metadata": {},
     "output_type": "execute_result"
    }
   ],
   "source": [
    "geohash6_ohe.shape"
   ]
  },
  {
   "cell_type": "code",
   "execution_count": null,
   "metadata": {},
   "outputs": [],
   "source": []
  },
  {
   "cell_type": "code",
   "execution_count": 4,
   "metadata": {},
   "outputs": [
    {
     "ename": "NameError",
     "evalue": "name 'X' is not defined",
     "output_type": "error",
     "traceback": [
      "\u001b[0;31m---------------------------------------------------------------------------\u001b[0m",
      "\u001b[0;31mNameError\u001b[0m                                 Traceback (most recent call last)",
      "\u001b[0;32m<ipython-input-4-46cc0b2b8753>\u001b[0m in \u001b[0;36m<module>\u001b[0;34m\u001b[0m\n\u001b[0;32m----> 1\u001b[0;31m \u001b[0mX_train\u001b[0m\u001b[0;34m,\u001b[0m \u001b[0mX_test\u001b[0m\u001b[0;34m,\u001b[0m \u001b[0my_train\u001b[0m\u001b[0;34m,\u001b[0m \u001b[0my_test\u001b[0m \u001b[0;34m=\u001b[0m \u001b[0mtrain_test_split\u001b[0m\u001b[0;34m(\u001b[0m\u001b[0mX\u001b[0m\u001b[0;34m,\u001b[0m \u001b[0my\u001b[0m\u001b[0;34m,\u001b[0m \u001b[0mtrain_size\u001b[0m\u001b[0;34m=\u001b[0m\u001b[0;36m400\u001b[0m\u001b[0;34m,\u001b[0m \u001b[0mtest_size\u001b[0m\u001b[0;34m=\u001b[0m\u001b[0;36m200\u001b[0m\u001b[0;34m,\u001b[0m \u001b[0mrandom_state\u001b[0m\u001b[0;34m=\u001b[0m\u001b[0;36m2019\u001b[0m\u001b[0;34m)\u001b[0m\u001b[0;34m\u001b[0m\u001b[0;34m\u001b[0m\u001b[0m\n\u001b[0m",
      "\u001b[0;31mNameError\u001b[0m: name 'X' is not defined"
     ]
    }
   ],
   "source": [
    "X_train, X_test, y_train, y_test = train_test_split(X, y, train_size=400, test_size=200, random_state=2019)"
   ]
  },
  {
   "cell_type": "code",
   "execution_count": 32,
   "metadata": {},
   "outputs": [
    {
     "name": "stdout",
     "output_type": "stream",
     "text": [
      "README.md          \u001b[1m\u001b[34mcb_model\u001b[m\u001b[m/          formatter.ipynb    playground.ipynb\n",
      "\u001b[1m\u001b[34mcatboost_info\u001b[m\u001b[m/     \u001b[1m\u001b[34mdata\u001b[m\u001b[m/              \u001b[1m\u001b[34mmodels\u001b[m\u001b[m/            playground2.ipynb\n"
     ]
    }
   ],
   "source": [
    "ls"
   ]
  },
  {
   "cell_type": "code",
   "execution_count": 3,
   "metadata": {},
   "outputs": [
    {
     "name": "stdout",
     "output_type": "stream",
     "text": [
      "formatted_data.csv                 train_time_series_data.csv\r\n",
      "formatted_time_series_data.csv     \u001b[1m\u001b[31mtraining.csv\u001b[m\u001b[m\r\n",
      "formatted_time_series_ohe_data.csv training_with_order.csv\r\n",
      "test_time_series_data.csv\r\n"
     ]
    }
   ],
   "source": [
    "!ls data"
   ]
  },
  {
   "cell_type": "code",
   "execution_count": 4,
   "metadata": {},
   "outputs": [],
   "source": [
    "df = pd.read_csv('./data/formatted_time_series_data.csv')"
   ]
  },
  {
   "cell_type": "code",
   "execution_count": 5,
   "metadata": {},
   "outputs": [
    {
     "data": {
      "text/html": [
       "<div>\n",
       "<style scoped>\n",
       "    .dataframe tbody tr th:only-of-type {\n",
       "        vertical-align: middle;\n",
       "    }\n",
       "\n",
       "    .dataframe tbody tr th {\n",
       "        vertical-align: top;\n",
       "    }\n",
       "\n",
       "    .dataframe thead th {\n",
       "        text-align: right;\n",
       "    }\n",
       "</style>\n",
       "<table border=\"1\" class=\"dataframe\">\n",
       "  <thead>\n",
       "    <tr style=\"text-align: right;\">\n",
       "      <th></th>\n",
       "      <th>geohash6</th>\n",
       "      <th>hour</th>\n",
       "      <th>minute</th>\n",
       "      <th>demand_t_in_0</th>\n",
       "      <th>demand_t_in_1</th>\n",
       "      <th>demand_t_in_2</th>\n",
       "      <th>demand_t_in_3</th>\n",
       "      <th>demand_t_in_4</th>\n",
       "      <th>demand_t_out_1</th>\n",
       "      <th>demand_t_out_2</th>\n",
       "      <th>demand_t_out_3</th>\n",
       "      <th>demand_t_out_4</th>\n",
       "      <th>demand_t_out_5</th>\n",
       "    </tr>\n",
       "  </thead>\n",
       "  <tbody>\n",
       "    <tr>\n",
       "      <th>0</th>\n",
       "      <td>qp02yc</td>\n",
       "      <td>1</td>\n",
       "      <td>0</td>\n",
       "      <td>0.0</td>\n",
       "      <td>0.0</td>\n",
       "      <td>0.0</td>\n",
       "      <td>0.0</td>\n",
       "      <td>0.0</td>\n",
       "      <td>0.0</td>\n",
       "      <td>0.0</td>\n",
       "      <td>0.000000</td>\n",
       "      <td>0.000000</td>\n",
       "      <td>0.000000</td>\n",
       "    </tr>\n",
       "    <tr>\n",
       "      <th>1</th>\n",
       "      <td>qp02yc</td>\n",
       "      <td>1</td>\n",
       "      <td>15</td>\n",
       "      <td>0.0</td>\n",
       "      <td>0.0</td>\n",
       "      <td>0.0</td>\n",
       "      <td>0.0</td>\n",
       "      <td>0.0</td>\n",
       "      <td>0.0</td>\n",
       "      <td>0.0</td>\n",
       "      <td>0.000000</td>\n",
       "      <td>0.000000</td>\n",
       "      <td>0.000000</td>\n",
       "    </tr>\n",
       "    <tr>\n",
       "      <th>2</th>\n",
       "      <td>qp02yc</td>\n",
       "      <td>1</td>\n",
       "      <td>30</td>\n",
       "      <td>0.0</td>\n",
       "      <td>0.0</td>\n",
       "      <td>0.0</td>\n",
       "      <td>0.0</td>\n",
       "      <td>0.0</td>\n",
       "      <td>0.0</td>\n",
       "      <td>0.0</td>\n",
       "      <td>0.000000</td>\n",
       "      <td>0.000000</td>\n",
       "      <td>0.020592</td>\n",
       "    </tr>\n",
       "    <tr>\n",
       "      <th>3</th>\n",
       "      <td>qp02yc</td>\n",
       "      <td>1</td>\n",
       "      <td>45</td>\n",
       "      <td>0.0</td>\n",
       "      <td>0.0</td>\n",
       "      <td>0.0</td>\n",
       "      <td>0.0</td>\n",
       "      <td>0.0</td>\n",
       "      <td>0.0</td>\n",
       "      <td>0.0</td>\n",
       "      <td>0.000000</td>\n",
       "      <td>0.020592</td>\n",
       "      <td>0.010292</td>\n",
       "    </tr>\n",
       "    <tr>\n",
       "      <th>4</th>\n",
       "      <td>qp02yc</td>\n",
       "      <td>2</td>\n",
       "      <td>0</td>\n",
       "      <td>0.0</td>\n",
       "      <td>0.0</td>\n",
       "      <td>0.0</td>\n",
       "      <td>0.0</td>\n",
       "      <td>0.0</td>\n",
       "      <td>0.0</td>\n",
       "      <td>0.0</td>\n",
       "      <td>0.020592</td>\n",
       "      <td>0.010292</td>\n",
       "      <td>0.000000</td>\n",
       "    </tr>\n",
       "  </tbody>\n",
       "</table>\n",
       "</div>"
      ],
      "text/plain": [
       "  geohash6  hour  minute  demand_t_in_0  demand_t_in_1  demand_t_in_2  \\\n",
       "0   qp02yc     1       0            0.0            0.0            0.0   \n",
       "1   qp02yc     1      15            0.0            0.0            0.0   \n",
       "2   qp02yc     1      30            0.0            0.0            0.0   \n",
       "3   qp02yc     1      45            0.0            0.0            0.0   \n",
       "4   qp02yc     2       0            0.0            0.0            0.0   \n",
       "\n",
       "   demand_t_in_3  demand_t_in_4  demand_t_out_1  demand_t_out_2  \\\n",
       "0            0.0            0.0             0.0             0.0   \n",
       "1            0.0            0.0             0.0             0.0   \n",
       "2            0.0            0.0             0.0             0.0   \n",
       "3            0.0            0.0             0.0             0.0   \n",
       "4            0.0            0.0             0.0             0.0   \n",
       "\n",
       "   demand_t_out_3  demand_t_out_4  demand_t_out_5  \n",
       "0        0.000000        0.000000        0.000000  \n",
       "1        0.000000        0.000000        0.000000  \n",
       "2        0.000000        0.000000        0.020592  \n",
       "3        0.000000        0.020592        0.010292  \n",
       "4        0.020592        0.010292        0.000000  "
      ]
     },
     "execution_count": 5,
     "metadata": {},
     "output_type": "execute_result"
    }
   ],
   "source": [
    "df.head()"
   ]
  },
  {
   "cell_type": "code",
   "execution_count": 2,
   "metadata": {},
   "outputs": [],
   "source": [
    "from sklearn.preprocessing import LabelEncoder"
   ]
  },
  {
   "cell_type": "code",
   "execution_count": null,
   "metadata": {},
   "outputs": [],
   "source": [
    "le = LabelEncoder()"
   ]
  },
  {
   "cell_type": "code",
   "execution_count": null,
   "metadata": {},
   "outputs": [],
   "source": []
  },
  {
   "cell_type": "code",
   "execution_count": null,
   "metadata": {},
   "outputs": [],
   "source": []
  },
  {
   "cell_type": "code",
   "execution_count": null,
   "metadata": {},
   "outputs": [],
   "source": []
  },
  {
   "cell_type": "code",
   "execution_count": null,
   "metadata": {},
   "outputs": [],
   "source": []
  },
  {
   "cell_type": "code",
   "execution_count": null,
   "metadata": {},
   "outputs": [],
   "source": []
  }
 ],
 "metadata": {
  "kernelspec": {
   "display_name": "Python 3",
   "language": "python",
   "name": "python3"
  },
  "language_info": {
   "codemirror_mode": {
    "name": "ipython",
    "version": 3
   },
   "file_extension": ".py",
   "mimetype": "text/x-python",
   "name": "python",
   "nbconvert_exporter": "python",
   "pygments_lexer": "ipython3",
   "version": "3.7.1"
  }
 },
 "nbformat": 4,
 "nbformat_minor": 2
}
