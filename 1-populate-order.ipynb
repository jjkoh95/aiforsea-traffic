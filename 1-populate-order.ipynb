{
 "cells": [
  {
   "cell_type": "code",
   "execution_count": 1,
   "metadata": {},
   "outputs": [],
   "source": [
    "import numpy as np\n",
    "import pandas as pd"
   ]
  },
  {
   "cell_type": "code",
   "execution_count": 2,
   "metadata": {},
   "outputs": [],
   "source": [
    "DATA_LOC = './data/training.csv'\n",
    "df = pd.read_csv(DATA_LOC)"
   ]
  },
  {
   "cell_type": "code",
   "execution_count": 3,
   "metadata": {},
   "outputs": [],
   "source": [
    "def order_to_time(order):\n",
    "    '''we dont actually need day, just timestamp enough'''\n",
    "    order = order % 96\n",
    "    return order//4, order%4 * 15\n",
    "\n",
    "def format_order(row):\n",
    "    return row['day']*96 + get_timestamp_order(row['timestamp'])\n",
    "\n",
    "def get_timestamp_order(ts):\n",
    "    ts = ts.split(':')\n",
    "    return int(ts[0])*4 + int(ts[1])//15\n",
    "\n",
    "def timestamp_to_hour_minute(timestamp):\n",
    "    timestamp = timestamp.split(':')\n",
    "    return int(timestamp[0]), int(timestamp[1])"
   ]
  },
  {
   "cell_type": "code",
   "execution_count": 4,
   "metadata": {},
   "outputs": [],
   "source": [
    "df['order'] = df.apply(format_order, axis=1)"
   ]
  },
  {
   "cell_type": "code",
   "execution_count": 16,
   "metadata": {},
   "outputs": [],
   "source": [
    "formatted_dict = {}\n",
    "GEOHASH_LIST = df.geohash6.unique()\n",
    "MAX_ORDER = np.max(df.order.unique())\n",
    "for i, gh in enumerate(GEOHASH_LIST):\n",
    "    temp_df = df[df.geohash6 == gh]\n",
    "    temp_df.set_index('order', inplace=True)\n",
    "    temp_dict = temp_df.to_dict('index')\n",
    "    for order in range(MAX_ORDER):\n",
    "        hour, minute = order_to_time(order)\n",
    "        day = order // 96\n",
    "        if order not in temp_dict:\n",
    "            demand = 0.0\n",
    "        else:\n",
    "            demand = temp_dict[order]['demand']\n",
    "        formatted_dict[order + i*MAX_ORDER] = {\n",
    "            'order': order,\n",
    "            'geohash6': gh,\n",
    "            'timestamp': '{0}:{1}'.format(hour, minute),\n",
    "            'day': day,\n",
    "            'demand': demand,\n",
    "        }"
   ]
  },
  {
   "cell_type": "code",
   "execution_count": 17,
   "metadata": {},
   "outputs": [
    {
     "data": {
      "text/html": [
       "<div>\n",
       "<style scoped>\n",
       "    .dataframe tbody tr th:only-of-type {\n",
       "        vertical-align: middle;\n",
       "    }\n",
       "\n",
       "    .dataframe tbody tr th {\n",
       "        vertical-align: top;\n",
       "    }\n",
       "\n",
       "    .dataframe thead th {\n",
       "        text-align: right;\n",
       "    }\n",
       "</style>\n",
       "<table border=\"1\" class=\"dataframe\">\n",
       "  <thead>\n",
       "    <tr style=\"text-align: right;\">\n",
       "      <th></th>\n",
       "      <th>order</th>\n",
       "      <th>geohash6</th>\n",
       "      <th>timestamp</th>\n",
       "      <th>day</th>\n",
       "      <th>demand</th>\n",
       "    </tr>\n",
       "  </thead>\n",
       "  <tbody>\n",
       "    <tr>\n",
       "      <th>0</th>\n",
       "      <td>0</td>\n",
       "      <td>qp03wc</td>\n",
       "      <td>0:0</td>\n",
       "      <td>0</td>\n",
       "      <td>0.054858</td>\n",
       "    </tr>\n",
       "    <tr>\n",
       "      <th>1</th>\n",
       "      <td>1</td>\n",
       "      <td>qp03wc</td>\n",
       "      <td>0:15</td>\n",
       "      <td>0</td>\n",
       "      <td>0.086209</td>\n",
       "    </tr>\n",
       "    <tr>\n",
       "      <th>2</th>\n",
       "      <td>2</td>\n",
       "      <td>qp03wc</td>\n",
       "      <td>0:30</td>\n",
       "      <td>0</td>\n",
       "      <td>0.050739</td>\n",
       "    </tr>\n",
       "    <tr>\n",
       "      <th>3</th>\n",
       "      <td>3</td>\n",
       "      <td>qp03wc</td>\n",
       "      <td>0:45</td>\n",
       "      <td>0</td>\n",
       "      <td>0.075174</td>\n",
       "    </tr>\n",
       "    <tr>\n",
       "      <th>4</th>\n",
       "      <td>4</td>\n",
       "      <td>qp03wc</td>\n",
       "      <td>1:0</td>\n",
       "      <td>0</td>\n",
       "      <td>0.062867</td>\n",
       "    </tr>\n",
       "  </tbody>\n",
       "</table>\n",
       "</div>"
      ],
      "text/plain": [
       "   order geohash6 timestamp  day    demand\n",
       "0      0   qp03wc       0:0    0  0.054858\n",
       "1      1   qp03wc      0:15    0  0.086209\n",
       "2      2   qp03wc      0:30    0  0.050739\n",
       "3      3   qp03wc      0:45    0  0.075174\n",
       "4      4   qp03wc       1:0    0  0.062867"
      ]
     },
     "execution_count": 17,
     "metadata": {},
     "output_type": "execute_result"
    }
   ],
   "source": [
    "df = pd.DataFrame.from_dict(formatted_dict, orient='index')\n",
    "df.head()"
   ]
  },
  {
   "cell_type": "code",
   "execution_count": null,
   "metadata": {},
   "outputs": [],
   "source": [
    "train_df = df[df.day <= 50]\n",
    "eval_df = df[df.day > 50]"
   ]
  },
  {
   "cell_type": "code",
   "execution_count": 32,
   "metadata": {},
   "outputs": [],
   "source": [
    "train_df.to_pickle('./data/train_df.pkl')\n",
    "eval_df.to_pickle('./data/eval_df.pkl')\n",
    "df.to_pickle('./data/df.pkl')"
   ]
  }
 ],
 "metadata": {
  "kernelspec": {
   "display_name": "Python 3",
   "language": "python",
   "name": "python3"
  },
  "language_info": {
   "codemirror_mode": {
    "name": "ipython",
    "version": 3
   },
   "file_extension": ".py",
   "mimetype": "text/x-python",
   "name": "python",
   "nbconvert_exporter": "python",
   "pygments_lexer": "ipython3",
   "version": "3.7.3"
  }
 },
 "nbformat": 4,
 "nbformat_minor": 2
}
