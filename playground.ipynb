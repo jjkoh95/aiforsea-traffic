{
 "cells": [
  {
   "cell_type": "code",
   "execution_count": 1,
   "metadata": {},
   "outputs": [],
   "source": [
    "import numpy as np\n",
    "import pandas as pd"
   ]
  },
  {
   "cell_type": "code",
   "execution_count": 2,
   "metadata": {},
   "outputs": [],
   "source": [
    "DATA_LOC = './data/training.csv'"
   ]
  },
  {
   "cell_type": "code",
   "execution_count": 3,
   "metadata": {},
   "outputs": [],
   "source": [
    "df = pd.read_csv(DATA_LOC)"
   ]
  },
  {
   "cell_type": "code",
   "execution_count": 4,
   "metadata": {},
   "outputs": [
    {
     "data": {
      "text/html": [
       "<div>\n",
       "<style scoped>\n",
       "    .dataframe tbody tr th:only-of-type {\n",
       "        vertical-align: middle;\n",
       "    }\n",
       "\n",
       "    .dataframe tbody tr th {\n",
       "        vertical-align: top;\n",
       "    }\n",
       "\n",
       "    .dataframe thead th {\n",
       "        text-align: right;\n",
       "    }\n",
       "</style>\n",
       "<table border=\"1\" class=\"dataframe\">\n",
       "  <thead>\n",
       "    <tr style=\"text-align: right;\">\n",
       "      <th></th>\n",
       "      <th>geohash6</th>\n",
       "      <th>day</th>\n",
       "      <th>timestamp</th>\n",
       "      <th>demand</th>\n",
       "    </tr>\n",
       "  </thead>\n",
       "  <tbody>\n",
       "    <tr>\n",
       "      <th>0</th>\n",
       "      <td>qp03wc</td>\n",
       "      <td>18</td>\n",
       "      <td>20:0</td>\n",
       "      <td>0.020072</td>\n",
       "    </tr>\n",
       "    <tr>\n",
       "      <th>1</th>\n",
       "      <td>qp03pn</td>\n",
       "      <td>10</td>\n",
       "      <td>14:30</td>\n",
       "      <td>0.024721</td>\n",
       "    </tr>\n",
       "    <tr>\n",
       "      <th>2</th>\n",
       "      <td>qp09sw</td>\n",
       "      <td>9</td>\n",
       "      <td>6:15</td>\n",
       "      <td>0.102821</td>\n",
       "    </tr>\n",
       "    <tr>\n",
       "      <th>3</th>\n",
       "      <td>qp0991</td>\n",
       "      <td>32</td>\n",
       "      <td>5:0</td>\n",
       "      <td>0.088755</td>\n",
       "    </tr>\n",
       "    <tr>\n",
       "      <th>4</th>\n",
       "      <td>qp090q</td>\n",
       "      <td>15</td>\n",
       "      <td>4:0</td>\n",
       "      <td>0.074468</td>\n",
       "    </tr>\n",
       "  </tbody>\n",
       "</table>\n",
       "</div>"
      ],
      "text/plain": [
       "  geohash6  day timestamp    demand\n",
       "0   qp03wc   18      20:0  0.020072\n",
       "1   qp03pn   10     14:30  0.024721\n",
       "2   qp09sw    9      6:15  0.102821\n",
       "3   qp0991   32       5:0  0.088755\n",
       "4   qp090q   15       4:0  0.074468"
      ]
     },
     "execution_count": 4,
     "metadata": {},
     "output_type": "execute_result"
    }
   ],
   "source": [
    "df.head()"
   ]
  },
  {
   "cell_type": "code",
   "execution_count": 5,
   "metadata": {},
   "outputs": [
    {
     "data": {
      "text/html": [
       "<div>\n",
       "<style scoped>\n",
       "    .dataframe tbody tr th:only-of-type {\n",
       "        vertical-align: middle;\n",
       "    }\n",
       "\n",
       "    .dataframe tbody tr th {\n",
       "        vertical-align: top;\n",
       "    }\n",
       "\n",
       "    .dataframe thead th {\n",
       "        text-align: right;\n",
       "    }\n",
       "</style>\n",
       "<table border=\"1\" class=\"dataframe\">\n",
       "  <thead>\n",
       "    <tr style=\"text-align: right;\">\n",
       "      <th></th>\n",
       "      <th>day</th>\n",
       "      <th>demand</th>\n",
       "    </tr>\n",
       "  </thead>\n",
       "  <tbody>\n",
       "    <tr>\n",
       "      <th>count</th>\n",
       "      <td>4.206321e+06</td>\n",
       "      <td>4.206321e+06</td>\n",
       "    </tr>\n",
       "    <tr>\n",
       "      <th>mean</th>\n",
       "      <td>3.145299e+01</td>\n",
       "      <td>1.050907e-01</td>\n",
       "    </tr>\n",
       "    <tr>\n",
       "      <th>std</th>\n",
       "      <td>1.768278e+01</td>\n",
       "      <td>1.592655e-01</td>\n",
       "    </tr>\n",
       "    <tr>\n",
       "      <th>min</th>\n",
       "      <td>1.000000e+00</td>\n",
       "      <td>3.092217e-09</td>\n",
       "    </tr>\n",
       "    <tr>\n",
       "      <th>25%</th>\n",
       "      <td>1.600000e+01</td>\n",
       "      <td>1.867379e-02</td>\n",
       "    </tr>\n",
       "    <tr>\n",
       "      <th>50%</th>\n",
       "      <td>3.200000e+01</td>\n",
       "      <td>5.043463e-02</td>\n",
       "    </tr>\n",
       "    <tr>\n",
       "      <th>75%</th>\n",
       "      <td>4.700000e+01</td>\n",
       "      <td>1.208644e-01</td>\n",
       "    </tr>\n",
       "    <tr>\n",
       "      <th>max</th>\n",
       "      <td>6.100000e+01</td>\n",
       "      <td>1.000000e+00</td>\n",
       "    </tr>\n",
       "  </tbody>\n",
       "</table>\n",
       "</div>"
      ],
      "text/plain": [
       "                day        demand\n",
       "count  4.206321e+06  4.206321e+06\n",
       "mean   3.145299e+01  1.050907e-01\n",
       "std    1.768278e+01  1.592655e-01\n",
       "min    1.000000e+00  3.092217e-09\n",
       "25%    1.600000e+01  1.867379e-02\n",
       "50%    3.200000e+01  5.043463e-02\n",
       "75%    4.700000e+01  1.208644e-01\n",
       "max    6.100000e+01  1.000000e+00"
      ]
     },
     "execution_count": 5,
     "metadata": {},
     "output_type": "execute_result"
    }
   ],
   "source": [
    "df.describe()"
   ]
  },
  {
   "cell_type": "code",
   "execution_count": 6,
   "metadata": {},
   "outputs": [
    {
     "data": {
      "text/plain": [
       "geohash6     0\n",
       "day          0\n",
       "timestamp    0\n",
       "demand       0\n",
       "dtype: int64"
      ]
     },
     "execution_count": 6,
     "metadata": {},
     "output_type": "execute_result"
    }
   ],
   "source": [
    "df.isnull().sum()"
   ]
  },
  {
   "cell_type": "code",
   "execution_count": 14,
   "metadata": {},
   "outputs": [
    {
     "data": {
      "text/plain": [
       "(1329, 61, 96)"
      ]
     },
     "execution_count": 14,
     "metadata": {},
     "output_type": "execute_result"
    }
   ],
   "source": [
    "len(df.geohash6.unique()), len(df.day.unique()), len(df.timestamp.unique())"
   ]
  },
  {
   "cell_type": "code",
   "execution_count": 15,
   "metadata": {},
   "outputs": [
    {
     "data": {
      "text/plain": [
       "array(['20:0', '14:30', '6:15', '5:0', '4:0', '12:15', '3:30', '20:45',\n",
       "       '22:15', '9:15', '11:45', '14:45', '2:30', '23:45', '11:30',\n",
       "       '10:0', '11:0', '18:30', '6:0', '13:0', '4:30', '15:30', '4:15',\n",
       "       '9:0', '0:15', '21:15', '4:45', '12:30', '12:0', '14:15', '9:30',\n",
       "       '5:15', '3:15', '16:30', '8:0', '11:15', '18:45', '16:0', '2:15',\n",
       "       '7:0', '18:0', '3:0', '15:0', '22:45', '20:30', '0:30', '13:30',\n",
       "       '22:0', '5:30', '9:45', '10:30', '17:0', '5:45', '6:30', '23:30',\n",
       "       '1:15', '0:45', '1:30', '13:45', '12:45', '2:45', '19:15', '14:0',\n",
       "       '13:15', '15:45', '8:45', '23:15', '16:15', '19:30', '21:30',\n",
       "       '10:45', '7:15', '7:30', '16:45', '17:15', '23:0', '6:45', '18:15',\n",
       "       '1:0', '8:15', '17:45', '22:30', '2:0', '1:45', '7:45', '10:15',\n",
       "       '3:45', '8:30', '15:15', '21:0', '21:45', '19:45', '19:0', '0:0',\n",
       "       '17:30', '20:15'], dtype=object)"
      ]
     },
     "execution_count": 15,
     "metadata": {},
     "output_type": "execute_result"
    }
   ],
   "source": [
    "df.timestamp.unique() # 24 * 4 = 96, each is of 15mins gap"
   ]
  },
  {
   "cell_type": "code",
   "execution_count": 17,
   "metadata": {},
   "outputs": [
    {
     "data": {
      "text/plain": [
       "array(['qp03wc', 'qp03pn', 'qp09sw', ..., 'qp03yn', 'qp09v9', 'qp0d45'],\n",
       "      dtype=object)"
      ]
     },
     "execution_count": 17,
     "metadata": {},
     "output_type": "execute_result"
    }
   ],
   "source": [
    "df.geohash6.unique()"
   ]
  },
  {
   "cell_type": "code",
   "execution_count": 18,
   "metadata": {},
   "outputs": [],
   "source": [
    "a_df = df[df.geohash6 == 'qp03wc']"
   ]
  },
  {
   "cell_type": "code",
   "execution_count": 22,
   "metadata": {},
   "outputs": [
    {
     "data": {
      "text/plain": [
       "5815"
      ]
     },
     "execution_count": 22,
     "metadata": {},
     "output_type": "execute_result"
    }
   ],
   "source": [
    "a_df.shape[0]"
   ]
  },
  {
   "cell_type": "code",
   "execution_count": 27,
   "metadata": {},
   "outputs": [
    {
     "data": {
      "text/plain": [
       "60.572916666666664"
      ]
     },
     "execution_count": 27,
     "metadata": {},
     "output_type": "execute_result"
    }
   ],
   "source": [
    "a_df.shape[0]/96"
   ]
  },
  {
   "cell_type": "code",
   "execution_count": 33,
   "metadata": {},
   "outputs": [
    {
     "name": "stdout",
     "output_type": "stream",
     "text": [
      "[ 1  2  3  4  5  6  7  8  9 10 11 12 13 14 15 16 17 18 19 20 21 22 23 24\n",
      " 25 26 27 28 29 30 31 32 33 34 35 36 37 38 39 40 41 42 43 44 45 46 47 48\n",
      " 49 50 51 52 53 54 55 56 57 58 59 60 61]\n"
     ]
    }
   ],
   "source": [
    "print(np.sort(a_df.day.unique()))"
   ]
  },
  {
   "cell_type": "code",
   "execution_count": 34,
   "metadata": {},
   "outputs": [
    {
     "data": {
      "text/plain": [
       "4159"
      ]
     },
     "execution_count": 34,
     "metadata": {},
     "output_type": "execute_result"
    }
   ],
   "source": [
    "b_df = df[df.geohash6 == 'qp03pn']\n",
    "b_df.shape[0]"
   ]
  },
  {
   "cell_type": "code",
   "execution_count": 35,
   "metadata": {},
   "outputs": [
    {
     "name": "stdout",
     "output_type": "stream",
     "text": [
      "[ 1  2  3  4  5  6  7  8  9 10 11 12 13 14 15 16 17 18 19 20 21 22 23 24\n",
      " 25 26 27 28 29 30 31 32 33 34 35 36 37 38 39 40 41 42 43 44 45 46 47 48\n",
      " 49 50 51 52 53 54 55 56 57 58 59 60 61]\n"
     ]
    }
   ],
   "source": [
    "print(np.sort(b_df.day.unique()))"
   ]
  },
  {
   "cell_type": "code",
   "execution_count": 37,
   "metadata": {},
   "outputs": [],
   "source": [
    "everyday_length = {}\n",
    "for k in np.sort(b_df.day.unique()):\n",
    "    everyday_length[k] = b_df[b_df.day == k].shape"
   ]
  },
  {
   "cell_type": "code",
   "execution_count": 38,
   "metadata": {},
   "outputs": [
    {
     "data": {
      "text/plain": [
       "{1: (60, 4),\n",
       " 2: (73, 4),\n",
       " 3: (71, 4),\n",
       " 4: (67, 4),\n",
       " 5: (61, 4),\n",
       " 6: (65, 4),\n",
       " 7: (71, 4),\n",
       " 8: (71, 4),\n",
       " 9: (71, 4),\n",
       " 10: (77, 4),\n",
       " 11: (73, 4),\n",
       " 12: (65, 4),\n",
       " 13: (59, 4),\n",
       " 14: (56, 4),\n",
       " 15: (71, 4),\n",
       " 16: (70, 4),\n",
       " 17: (73, 4),\n",
       " 18: (53, 4),\n",
       " 19: (65, 4),\n",
       " 20: (62, 4),\n",
       " 21: (73, 4),\n",
       " 22: (71, 4),\n",
       " 23: (68, 4),\n",
       " 24: (73, 4),\n",
       " 25: (68, 4),\n",
       " 26: (59, 4),\n",
       " 27: (65, 4),\n",
       " 28: (69, 4),\n",
       " 29: (75, 4),\n",
       " 30: (71, 4),\n",
       " 31: (70, 4),\n",
       " 32: (73, 4),\n",
       " 33: (61, 4),\n",
       " 34: (62, 4),\n",
       " 35: (69, 4),\n",
       " 36: (69, 4),\n",
       " 37: (80, 4),\n",
       " 38: (72, 4),\n",
       " 39: (80, 4),\n",
       " 40: (69, 4),\n",
       " 41: (54, 4),\n",
       " 42: (67, 4),\n",
       " 43: (62, 4),\n",
       " 44: (74, 4),\n",
       " 45: (70, 4),\n",
       " 46: (65, 4),\n",
       " 47: (63, 4),\n",
       " 48: (62, 4),\n",
       " 49: (74, 4),\n",
       " 50: (76, 4),\n",
       " 51: (70, 4),\n",
       " 52: (73, 4),\n",
       " 53: (71, 4),\n",
       " 54: (66, 4),\n",
       " 55: (65, 4),\n",
       " 56: (67, 4),\n",
       " 57: (69, 4),\n",
       " 58: (72, 4),\n",
       " 59: (73, 4),\n",
       " 60: (71, 4),\n",
       " 61: (64, 4)}"
      ]
     },
     "execution_count": 38,
     "metadata": {},
     "output_type": "execute_result"
    }
   ],
   "source": [
    "everyday_length"
   ]
  },
  {
   "cell_type": "code",
   "execution_count": 39,
   "metadata": {},
   "outputs": [],
   "source": [
    "b1_df = b_df[b_df.day == 1]"
   ]
  },
  {
   "cell_type": "code",
   "execution_count": 44,
   "metadata": {},
   "outputs": [
    {
     "data": {
      "text/plain": [
       "array(['15:15', '13:30', '2:15', '13:15', '10:15', '8:30', '1:45', '9:45',\n",
       "       '7:45', '2:0', '12:0', '0:15', '1:15', '9:30', '7:15', '9:0',\n",
       "       '11:30', '14:0', '9:15', '6:15', '5:30', '0:45', '8:15', '6:45',\n",
       "       '13:45', '3:15', '15:30', '6:30', '23:45', '11:15', '10:0', '4:30',\n",
       "       '3:30', '13:0', '8:0', '22:45', '15:45', '11:0', '6:0', '2:30',\n",
       "       '1:30', '4:15', '5:15', '12:15', '3:45', '14:15', '8:45', '4:45',\n",
       "       '14:45', '3:0', '4:0', '5:45', '10:30', '1:0', '7:30', '23:30',\n",
       "       '0:30', '23:0', '11:45', '15:0'], dtype=object)"
      ]
     },
     "execution_count": 44,
     "metadata": {},
     "output_type": "execute_result"
    }
   ],
   "source": [
    "b1_df.timestamp.unique()"
   ]
  },
  {
   "cell_type": "code",
   "execution_count": 45,
   "metadata": {},
   "outputs": [
    {
     "data": {
      "text/plain": [
       "60"
      ]
     },
     "execution_count": 45,
     "metadata": {},
     "output_type": "execute_result"
    }
   ],
   "source": [
    "len(b1_df.timestamp.unique())"
   ]
  },
  {
   "cell_type": "code",
   "execution_count": 46,
   "metadata": {},
   "outputs": [
    {
     "name": "stdout",
     "output_type": "stream",
     "text": [
      "20:0\n",
      "14:30\n",
      "5:0\n",
      "20:45\n",
      "22:15\n",
      "18:30\n",
      "21:15\n",
      "12:30\n",
      "16:30\n",
      "18:45\n",
      "16:0\n",
      "7:0\n",
      "18:0\n",
      "20:30\n",
      "22:0\n",
      "17:0\n",
      "12:45\n",
      "2:45\n",
      "19:15\n",
      "23:15\n",
      "16:15\n",
      "19:30\n",
      "21:30\n",
      "10:45\n",
      "16:45\n",
      "17:15\n",
      "18:15\n",
      "17:45\n",
      "22:30\n",
      "21:0\n",
      "21:45\n",
      "19:45\n",
      "19:0\n",
      "0:0\n",
      "17:30\n",
      "20:15\n"
     ]
    }
   ],
   "source": [
    "for k in df.timestamp.unique():\n",
    "    if k not in b1_df.timestamp.unique():\n",
    "        print(k)"
   ]
  },
  {
   "cell_type": "code",
   "execution_count": 49,
   "metadata": {},
   "outputs": [
    {
     "data": {
      "text/plain": [
       "count    4.206321e+06\n",
       "mean     1.050907e-01\n",
       "std      1.592655e-01\n",
       "min      3.092217e-09\n",
       "25%      1.867379e-02\n",
       "50%      5.043463e-02\n",
       "75%      1.208644e-01\n",
       "max      1.000000e+00\n",
       "Name: demand, dtype: float64"
      ]
     },
     "execution_count": 49,
     "metadata": {},
     "output_type": "execute_result"
    }
   ],
   "source": [
    "df.demand.describe()"
   ]
  },
  {
   "cell_type": "code",
   "execution_count": 57,
   "metadata": {},
   "outputs": [
    {
     "data": {
      "text/plain": [
       "105"
      ]
     },
     "execution_count": 57,
     "metadata": {},
     "output_type": "execute_result"
    }
   ],
   "source": [
    "len(df[df.demand == 1].geohash6.unique())"
   ]
  },
  {
   "cell_type": "code",
   "execution_count": 65,
   "metadata": {},
   "outputs": [
    {
     "data": {
      "text/plain": [
       "array([0.00996424])"
      ]
     },
     "execution_count": 65,
     "metadata": {},
     "output_type": "execute_result"
    }
   ],
   "source": [
    "b1_df[b1_df.timestamp == '15:45'].demand.values"
   ]
  },
  {
   "cell_type": "code",
   "execution_count": 67,
   "metadata": {},
   "outputs": [
    {
     "data": {
      "text/plain": [
       "array([0.01186857])"
      ]
     },
     "execution_count": 67,
     "metadata": {},
     "output_type": "execute_result"
    }
   ],
   "source": [
    "b1_df[b1_df.timestamp == '22:45'].demand.values"
   ]
  },
  {
   "cell_type": "code",
   "execution_count": 70,
   "metadata": {},
   "outputs": [
    {
     "data": {
      "text/plain": [
       "<matplotlib.axes._subplots.AxesSubplot at 0x122d24a58>"
      ]
     },
     "execution_count": 70,
     "metadata": {},
     "output_type": "execute_result"
    },
    {
     "data": {
      "image/png": "[encoded data removed]",
      "text/plain": [
       "<Figure size 432x288 with 1 Axes>"
      ]
     },
     "metadata": {
      "needs_background": "light"
     },
     "output_type": "display_data"
    }
   ],
   "source": [
    "b1_df.plot(x='timestamp', y='demand')"
   ]
  },
  {
   "cell_type": "code",
   "execution_count": null,
   "metadata": {},
   "outputs": [],
   "source": []
  }
 ],
 "metadata": {
  "kernelspec": {
   "display_name": "Python 3",
   "language": "python",
   "name": "python3"
  },
  "language_info": {
   "codemirror_mode": {
    "name": "ipython",
    "version": 3
   },
   "file_extension": ".py",
   "mimetype": "text/x-python",
   "name": "python",
   "nbconvert_exporter": "python",
   "pygments_lexer": "ipython3",
   "version": "3.7.1"
  }
 },
 "nbformat": 4,
 "nbformat_minor": 2
}
