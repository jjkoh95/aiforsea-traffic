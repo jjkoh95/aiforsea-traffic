{
 "cells": [
  {
   "cell_type": "code",
   "execution_count": 32,
   "metadata": {},
   "outputs": [
    {
     "name": "stdout",
     "output_type": "stream",
     "text": [
      "1.14.1-dev20190607\n"
     ]
    }
   ],
   "source": [
    "import numpy as np\n",
    "import pandas as pd\n",
    "import geohash\n",
    "import gc\n",
    "from geopy import distance\n",
    "\n",
    "from keras.models import *\n",
    "from keras.layers import *\n",
    "from keras.activations import *\n",
    "from keras.optimizers import *\n",
    "from keras.losses import *\n",
    "import tensorflow as tf\n",
    "print(tf.__version__)"
   ]
  },
  {
   "cell_type": "code",
   "execution_count": 6,
   "metadata": {},
   "outputs": [],
   "source": [
    "df = pd.read_csv('./data/formatted_time_series_2.csv')\n",
    "df.to_pickle('./data/raw_df.pkl')\n",
    "train_df = df[df.order <= 50*96]\n",
    "train_df.to_pickle('./data/train_df.pkl')\n",
    "eval_df = df[df.order > 50*96]\n",
    "eval_df.to_pickle('./data/eval_df.pkl')"
   ]
  },
  {
   "cell_type": "code",
   "execution_count": 6,
   "metadata": {},
   "outputs": [],
   "source": [
    "PREV_DAY = 7 # use previous 7 days data\n",
    "PREV_DAY_PRE_OFFSET = 7 # 2 hours\n",
    "PREV_DAY_POST_OFFSET = 8 # 2 hours\n",
    "RNN_OFFSET = 11 # 3 hours gap\n",
    "LABELS_OFFSET = 5 # (T+5)\n",
    "MIN_ORDER_VAL = PREV_DAY_PRE_OFFSET + PREV_DAY*96\n",
    "MAX_ORDER_VAL = MAX_ORDER - LABELS_OFFSET\n",
    "POI_GEOHASH = ['qp09d8', 'qp03xx', 'qp03wf']"
   ]
  },
  {
   "cell_type": "code",
   "execution_count": 17,
   "metadata": {},
   "outputs": [],
   "source": [
    "def get_distance_by_gh(gh1, gh2):\n",
    "    coor1 = geohash.decode(gh1)\n",
    "    coor2 = geohash.decode(gh2)\n",
    "    return distance.distance(coor1, coor2).km"
   ]
  },
  {
   "cell_type": "code",
   "execution_count": 27,
   "metadata": {},
   "outputs": [],
   "source": [
    "train_df['distance_from_qp09d8'] = train_df.geohash6.apply(lambda x: get_distance_by_gh(x, 'qp09d8'))\n",
    "train_df['distance_from_qp03xx'] = train_df.geohash6.apply(lambda x: get_distance_by_gh(x, 'qp03xx'))\n",
    "train_df['distance_from_qp03wf'] = train_df.geohash6.apply(lambda x: get_distance_by_gh(x, 'qp03wf'))"
   ]
  },
  {
   "cell_type": "code",
   "execution_count": 28,
   "metadata": {},
   "outputs": [],
   "source": [
    "eval_df['distance_from_qp09d8'] = eval_df.geohash6.apply(lambda x: get_distance_by_gh(x, 'qp09d8'))\n",
    "eval_df['distance_from_qp03xx'] = eval_df.geohash6.apply(lambda x: get_distance_by_gh(x, 'qp03xx'))\n",
    "eval_df['distance_from_qp03wf'] = eval_df.geohash6.apply(lambda x: get_distance_by_gh(x, 'qp03wf'))"
   ]
  },
  {
   "cell_type": "code",
   "execution_count": 38,
   "metadata": {},
   "outputs": [],
   "source": [
    "train_df.to_pickle('./data/train_df_with_poi_distance.pkl')\n",
    "eval_df.to_pickle('./data/eval_df_with_poi_distance.pkl')"
   ]
  },
  {
   "cell_type": "code",
   "execution_count": 39,
   "metadata": {},
   "outputs": [
    {
     "data": {
      "text/plain": [
       "185"
      ]
     },
     "execution_count": 39,
     "metadata": {},
     "output_type": "execute_result"
    }
   ],
   "source": [
    "del train_df\n",
    "del eval_df\n",
    "gc.collect()"
   ]
  },
  {
   "cell_type": "code",
   "execution_count": 2,
   "metadata": {},
   "outputs": [],
   "source": [
    "train_df = pd.read_pickle('./data/train_df_with_poi_distance.pkl')\n",
    "eval_df = pd.read_pickle('./data/eval_df_with_poi_distance.pkl')"
   ]
  },
  {
   "cell_type": "code",
   "execution_count": 13,
   "metadata": {},
   "outputs": [],
   "source": [
    "from keras import backend as K\n",
    "\n",
    "def root_mean_squared_error(y_true, y_pred):\n",
    "    return K.sqrt(K.mean(K.square(y_pred - y_true))) \n",
    "\n",
    "def count_rmse(predictions, targets):\n",
    "    return np.sqrt(np.mean((predictions-targets)**2))"
   ]
  },
  {
   "cell_type": "code",
   "execution_count": null,
   "metadata": {},
   "outputs": [],
   "source": []
  },
  {
   "cell_type": "code",
   "execution_count": 14,
   "metadata": {},
   "outputs": [],
   "source": [
    "# RAW DNN\n",
    "target_labels = []\n",
    "day = 0\n",
    "for out_off in range(1, LABELS_OFFSET+1):\n",
    "    target_labels.append('demand@({0}+{1})'.format(day, out_off))\n",
    "\n",
    "to_drop = target_labels + ['geohash6'] + ['order']\n",
    "X_train = train_df.drop(columns=to_drop)\n",
    "X_eval = eval_df.drop(columns=to_drop)\n",
    "Y_train = train_df[target_labels]\n",
    "Y_eval = eval_df[target_labels]\n",
    "\n",
    "dnn_features = X_train.columns"
   ]
  },
  {
   "cell_type": "code",
   "execution_count": 23,
   "metadata": {},
   "outputs": [
    {
     "name": "stdout",
     "output_type": "stream",
     "text": [
      "_________________________________________________________________\n",
      "Layer (type)                 Output Shape              Param #   \n",
      "=================================================================\n",
      "input_4 (InputLayer)         (None, 199)               0         \n",
      "_________________________________________________________________\n",
      "dense_16 (Dense)             (None, 256)               51200     \n",
      "_________________________________________________________________\n",
      "dense_17 (Dense)             (None, 128)               32896     \n",
      "_________________________________________________________________\n",
      "dense_18 (Dense)             (None, 64)                8256      \n",
      "_________________________________________________________________\n",
      "dense_19 (Dense)             (None, 32)                2080      \n",
      "_________________________________________________________________\n",
      "dense_20 (Dense)             (None, 5)                 165       \n",
      "=================================================================\n",
      "Total params: 94,597\n",
      "Trainable params: 94,597\n",
      "Non-trainable params: 0\n",
      "_________________________________________________________________\n"
     ]
    }
   ],
   "source": [
    "dnn_inputs = Input(shape=(len(dnn_features),))\n",
    "\n",
    "dnn = Dense(256, activation=relu)(dnn_inputs)\n",
    "dnn = Dense(128, activation=relu)(dnn)\n",
    "dnn = Dense(64, activation=relu)(dnn)\n",
    "dnn = Dense(32, activation=relu)(dnn)\n",
    "dnn = Dense(5, activation=hard_sigmoid)(dnn)\n",
    "\n",
    "dnn = Model(inputs=dnn_inputs, outputs=dnn)\n",
    "\n",
    "dnn.summary()"
   ]
  },
  {
   "cell_type": "code",
   "execution_count": 24,
   "metadata": {},
   "outputs": [
    {
     "name": "stdout",
     "output_type": "stream",
     "text": [
      "Train on 5478138 samples, validate on 1395450 samples\n",
      "Epoch 1/1\n",
      "5478138/5478138 [==============================] - 353s 64us/step - loss: 0.0013 - root_mean_squared_error: 0.0339 - val_loss: 9.9305e-04 - val_root_mean_squared_error: 0.0244\n",
      "Train on 5478138 samples, validate on 1395450 samples\n",
      "Epoch 1/1\n",
      "5478138/5478138 [==============================] - 358s 65us/step - loss: 8.3386e-04 - root_mean_squared_error: 0.0286 - val_loss: 9.3835e-04 - val_root_mean_squared_error: 0.0235\n",
      "Train on 5478138 samples, validate on 1395450 samples\n",
      "Epoch 1/2\n",
      "5478138/5478138 [==============================] - 262s 48us/step - loss: 0.0010 - root_mean_squared_error: 0.0295 - val_loss: 9.1514e-04 - val_root_mean_squared_error: 0.0232\n",
      "Epoch 2/2\n",
      "5478138/5478138 [==============================] - 91s 17us/step - loss: 7.7217e-04 - root_mean_squared_error: 0.0276 - val_loss: 9.0097e-04 - val_root_mean_squared_error: 0.0229\n",
      "Train on 5478138 samples, validate on 1395450 samples\n",
      "Epoch 1/1\n",
      "5478138/5478138 [==============================] - 320s 58us/step - loss: 7.5463e-04 - root_mean_squared_error: 0.0272 - val_loss: 8.9173e-04 - val_root_mean_squared_error: 0.0229\n",
      "Train on 5478138 samples, validate on 1395450 samples\n",
      "Epoch 1/2\n",
      "5478138/5478138 [==============================] - 266s 49us/step - loss: 7.4229e-04 - root_mean_squared_error: 0.0270 - val_loss: 8.8334e-04 - val_root_mean_squared_error: 0.0227\n",
      "Epoch 2/2\n",
      "5478138/5478138 [==============================] - 90s 17us/step - loss: 7.3664e-04 - root_mean_squared_error: 0.0269 - val_loss: 8.8410e-04 - val_root_mean_squared_error: 0.0227\n",
      "Train on 5478138 samples, validate on 1395450 samples\n",
      "Epoch 1/2\n",
      "5478138/5478138 [==============================] - 311s 57us/step - loss: 7.3461e-04 - root_mean_squared_error: 0.0269 - val_loss: 8.8108e-04 - val_root_mean_squared_error: 0.0227\n",
      "Epoch 2/2\n",
      "5478138/5478138 [==============================] - 91s 17us/step - loss: 7.3357e-04 - root_mean_squared_error: 0.0269 - val_loss: 8.8007e-04 - val_root_mean_squared_error: 0.0227\n"
     ]
    }
   ],
   "source": [
    "hp = [(0.003, 1),(0.001, 1),(0.005, 2),(0.001, 1),(0.0005, 2),(0.0001, 2)]\n",
    "\n",
    "for lr, ep in hp:\n",
    "    dnn.compile(optimizer=Adagrad(lr=lr),loss=mean_squared_error,metrics=[root_mean_squared_error],)\n",
    "    dnn.fit(X_train,Y_train,batch_size=512,epochs=ep,validation_data=(X_eval, Y_eval))"
   ]
  },
  {
   "cell_type": "code",
   "execution_count": 25,
   "metadata": {},
   "outputs": [],
   "source": [
    "preds = dnn.predict(X_eval)"
   ]
  },
  {
   "cell_type": "code",
   "execution_count": 26,
   "metadata": {},
   "outputs": [
    {
     "data": {
      "text/plain": [
       "demand@(0+1)    0.024521\n",
       "demand@(0+2)    0.028006\n",
       "demand@(0+3)    0.030147\n",
       "demand@(0+4)    0.031731\n",
       "demand@(0+5)    0.033152\n",
       "dtype: float64"
      ]
     },
     "execution_count": 26,
     "metadata": {},
     "output_type": "execute_result"
    }
   ],
   "source": [
    "count_rmse(preds, Y_eval)"
   ]
  },
  {
   "cell_type": "code",
   "execution_count": null,
   "metadata": {},
   "outputs": [],
   "source": []
  },
  {
   "cell_type": "code",
   "execution_count": 28,
   "metadata": {},
   "outputs": [],
   "source": [
    "prev_six_days_feat = []\n",
    "for day in range(1, PREV_DAY):\n",
    "    for cnn_off in range(PREV_DAY_PRE_OFFSET, -1, -1):\n",
    "        prev_six_days_feat.append('demand@({0}-{1})'.format(day, cnn_off))\n",
    "    for cnn_off in range(1, LABELS_OFFSET + PREV_DAY_POST_OFFSET + 1):\n",
    "        prev_six_days_feat.append('demand@({0}+{1})'.format(day, cnn_off))\n",
    "X_train_six_day = train_df[prev_six_days_feat]\n",
    "X_eval_six_day = eval_df[prev_six_days_feat]"
   ]
  },
  {
   "cell_type": "code",
   "execution_count": 29,
   "metadata": {},
   "outputs": [],
   "source": [
    "last_week_feat = [] # this also acts as a `attention` features\n",
    "for day in range(PREV_DAY, PREV_DAY+1):\n",
    "    for cnn_off in range(PREV_DAY_PRE_OFFSET, -1, -1):\n",
    "        last_week_feat.append('demand@({0}-{1})'.format(day, cnn_off))\n",
    "    for cnn_off in range(1, LABELS_OFFSET + PREV_DAY_POST_OFFSET + 1):\n",
    "        last_week_feat.append('demand@({0}+{1})'.format(day, cnn_off))\n",
    "X_train_last_week = train_df[last_week_feat]\n",
    "X_eval_last_week = eval_df[last_week_feat]"
   ]
  },
  {
   "cell_type": "code",
   "execution_count": 30,
   "metadata": {},
   "outputs": [],
   "source": [
    "prev_two_hours_feat = []\n",
    "for day in range(1): # day = 0\n",
    "    for rnn_off in range(RNN_OFFSET, -1, -1):\n",
    "        prev_two_hours_feat.append('demand@({0}-{1})'.format(day, rnn_off))\n",
    "        for poi_gh in POI_GEOHASH:\n",
    "            prev_two_hours_feat.append('demand@({0}-{1}-{2})'.format(day, rnn_off, poi_gh))\n",
    "X_train_two_hour = train_df[prev_two_hours_feat]\n",
    "X_eval_two_hour = eval_df[prev_two_hours_feat]"
   ]
  },
  {
   "cell_type": "code",
   "execution_count": 31,
   "metadata": {},
   "outputs": [],
   "source": [
    "time_independent_feat = ['hour', 'distance_from_qp09d8', 'distance_from_qp03xx', 'distance_from_qp03wf']\n",
    "X_train_time_independent = train_df[time_independent_feat]\n",
    "X_eval_time_independent = eval_df[time_independent_feat]"
   ]
  },
  {
   "cell_type": "code",
   "execution_count": 35,
   "metadata": {},
   "outputs": [
    {
     "data": {
      "text/plain": [
       "147"
      ]
     },
     "execution_count": 35,
     "metadata": {},
     "output_type": "execute_result"
    }
   ],
   "source": [
    "len(prev_six_days_feat) + len(last_week_feat)"
   ]
  },
  {
   "cell_type": "code",
   "execution_count": 48,
   "metadata": {},
   "outputs": [
    {
     "name": "stdout",
     "output_type": "stream",
     "text": [
      "__________________________________________________________________________________________________\n",
      "Layer (type)                    Output Shape         Param #     Connected to                     \n",
      "==================================================================================================\n",
      "input_33 (InputLayer)           (None, 126)          0                                            \n",
      "__________________________________________________________________________________________________\n",
      "input_34 (InputLayer)           (None, 21)           0                                            \n",
      "__________________________________________________________________________________________________\n",
      "concatenate_12 (Concatenate)    (None, 147)          0           input_33[0][0]                   \n",
      "                                                                 input_34[0][0]                   \n",
      "__________________________________________________________________________________________________\n",
      "input_35 (InputLayer)           (None, 48)           0                                            \n",
      "__________________________________________________________________________________________________\n",
      "reshape_13 (Reshape)            (None, 7, 21)        0           concatenate_12[0][0]             \n",
      "__________________________________________________________________________________________________\n",
      "reshape_14 (Reshape)            (None, 12, 4)        0           input_35[0][0]                   \n",
      "__________________________________________________________________________________________________\n",
      "conv1d_19 (Conv1D)              (None, 7, 16)        1696        reshape_13[0][0]                 \n",
      "__________________________________________________________________________________________________\n",
      "conv1d_21 (Conv1D)              (None, 12, 8)        104         reshape_14[0][0]                 \n",
      "__________________________________________________________________________________________________\n",
      "max_pooling1d_10 (MaxPooling1D) (None, 4, 16)        0           conv1d_19[0][0]                  \n",
      "__________________________________________________________________________________________________\n",
      "max_pooling1d_11 (MaxPooling1D) (None, 6, 8)         0           conv1d_21[0][0]                  \n",
      "__________________________________________________________________________________________________\n",
      "conv1d_20 (Conv1D)              (None, 4, 16)        784         max_pooling1d_10[0][0]           \n",
      "__________________________________________________________________________________________________\n",
      "conv1d_22 (Conv1D)              (None, 6, 16)        272         max_pooling1d_11[0][0]           \n",
      "__________________________________________________________________________________________________\n",
      "flatten_10 (Flatten)            (None, 64)           0           conv1d_20[0][0]                  \n",
      "__________________________________________________________________________________________________\n",
      "flatten_11 (Flatten)            (None, 96)           0           conv1d_22[0][0]                  \n",
      "__________________________________________________________________________________________________\n",
      "input_36 (InputLayer)           (None, 4)            0                                            \n",
      "__________________________________________________________________________________________________\n",
      "concatenate_13 (Concatenate)    (None, 185)          0           flatten_10[0][0]                 \n",
      "                                                                 flatten_11[0][0]                 \n",
      "                                                                 input_34[0][0]                   \n",
      "                                                                 input_36[0][0]                   \n",
      "__________________________________________________________________________________________________\n",
      "dense_28 (Dense)                (None, 256)          47616       concatenate_13[0][0]             \n",
      "__________________________________________________________________________________________________\n",
      "dense_29 (Dense)                (None, 128)          32896       dense_28[0][0]                   \n",
      "__________________________________________________________________________________________________\n",
      "dense_30 (Dense)                (None, 32)           4128        dense_29[0][0]                   \n",
      "__________________________________________________________________________________________________\n",
      "dense_31 (Dense)                (None, 5)            165         dense_30[0][0]                   \n",
      "==================================================================================================\n",
      "Total params: 87,661\n",
      "Trainable params: 87,661\n",
      "Non-trainable params: 0\n",
      "__________________________________________________________________________________________________\n"
     ]
    }
   ],
   "source": [
    "six_day_inputs = Input(shape=(len(prev_six_days_feat),))\n",
    "last_week_inputs = Input(shape=(len(last_week_feat),))\n",
    "two_hour_inputs = Input(shape=(len(prev_two_hours_feat),))\n",
    "time_independent_inputs = Input(shape=(len(time_independent_feat),))\n",
    "\n",
    "daily_cnn = concatenate([six_day_inputs, last_week_inputs])\n",
    "daily_cnn = Reshape((PREV_DAY, PREV_DAY_PRE_OFFSET + LABELS_OFFSET + PREV_DAY_POST_OFFSET + 1))(daily_cnn)\n",
    "daily_cnn = Conv1D(16, 5, activation=relu, padding='same')(daily_cnn)\n",
    "daily_cnn = MaxPool1D(2, 2, padding='same')(daily_cnn)\n",
    "daily_cnn = Conv1D(16, 3, activation=relu, padding='same')(daily_cnn)\n",
    "daily_cnn = Flatten()(daily_cnn)\n",
    "daily_cnn = Model(inputs=[six_day_inputs, last_week_inputs], outputs=daily_cnn)\n",
    "\n",
    "hourly_cnn = Reshape((RNN_OFFSET+1, len(POI_GEOHASH)+1))(two_hour_inputs)\n",
    "hourly_cnn = Conv1D(8, 3, activation=relu, padding='same')(hourly_cnn)\n",
    "hourly_cnn = MaxPool1D(2, 2, padding='same')(hourly_cnn)\n",
    "hourly_cnn = Conv1D(16, 2, activation=relu, padding='same')(hourly_cnn)\n",
    "hourly_cnn = Flatten()(hourly_cnn)\n",
    "hourly_cnn = Model(inputs=two_hour_inputs, outputs=hourly_cnn)\n",
    "\n",
    "stacked = concatenate([daily_cnn.output, hourly_cnn.output, last_week_inputs, time_independent_inputs])\n",
    "\n",
    "stacked = Dense(256, activation=relu)(stacked)\n",
    "stacked = Dense(128, activation=relu)(stacked)\n",
    "stacked = Dense(32, activation=relu)(stacked)\n",
    "stacked = Dense(5, activation=relu)(stacked)\n",
    "stacked = Model(inputs=[last_week_inputs, six_day_inputs, two_hour_inputs, time_independent_inputs], outputs=stacked)\n",
    "\n",
    "stacked.summary()"
   ]
  },
  {
   "cell_type": "code",
   "execution_count": 49,
   "metadata": {},
   "outputs": [
    {
     "name": "stdout",
     "output_type": "stream",
     "text": [
      "Train on 5478138 samples, validate on 1395450 samples\n",
      "Epoch 1/1\n",
      "3040256/5478138 [===============>..............] - ETA: 1:04 - loss: 0.0094 - root_mean_squared_error: 0.0947"
     ]
    },
    {
     "ename": "KeyboardInterrupt",
     "evalue": "",
     "output_type": "error",
     "traceback": [
      "\u001b[0;31m---------------------------------------------------------------------------\u001b[0m",
      "\u001b[0;31mKeyboardInterrupt\u001b[0m                         Traceback (most recent call last)",
      "\u001b[0;32m<ipython-input-49-8a17fd0a4cdd>\u001b[0m in \u001b[0;36m<module>\u001b[0;34m\u001b[0m\n\u001b[1;32m     12\u001b[0m     \u001b[0mbatch_size\u001b[0m\u001b[0;34m=\u001b[0m\u001b[0;36m512\u001b[0m\u001b[0;34m,\u001b[0m\u001b[0;34m\u001b[0m\u001b[0;34m\u001b[0m\u001b[0m\n\u001b[1;32m     13\u001b[0m     \u001b[0mepochs\u001b[0m\u001b[0;34m=\u001b[0m\u001b[0mep\u001b[0m\u001b[0;34m,\u001b[0m\u001b[0;34m\u001b[0m\u001b[0;34m\u001b[0m\u001b[0m\n\u001b[0;32m---> 14\u001b[0;31m     \u001b[0mvalidation_data\u001b[0m\u001b[0;34m=\u001b[0m\u001b[0;34m(\u001b[0m\u001b[0;34m[\u001b[0m\u001b[0mX_eval_last_week\u001b[0m\u001b[0;34m,\u001b[0m \u001b[0mX_eval_six_day\u001b[0m\u001b[0;34m,\u001b[0m \u001b[0mX_eval_two_hour\u001b[0m\u001b[0;34m,\u001b[0m \u001b[0mX_eval_time_independent\u001b[0m\u001b[0;34m]\u001b[0m\u001b[0;34m,\u001b[0m \u001b[0mY_eval\u001b[0m\u001b[0;34m)\u001b[0m\u001b[0;34m,\u001b[0m\u001b[0;34m\u001b[0m\u001b[0;34m\u001b[0m\u001b[0m\n\u001b[0m\u001b[1;32m     15\u001b[0m )\n",
      "\u001b[0;32m/anaconda3/envs/grab/lib/python3.7/site-packages/keras/engine/training.py\u001b[0m in \u001b[0;36mfit\u001b[0;34m(self, x, y, batch_size, epochs, verbose, callbacks, validation_split, validation_data, shuffle, class_weight, sample_weight, initial_epoch, steps_per_epoch, validation_steps, **kwargs)\u001b[0m\n\u001b[1;32m   1037\u001b[0m                                         \u001b[0minitial_epoch\u001b[0m\u001b[0;34m=\u001b[0m\u001b[0minitial_epoch\u001b[0m\u001b[0;34m,\u001b[0m\u001b[0;34m\u001b[0m\u001b[0;34m\u001b[0m\u001b[0m\n\u001b[1;32m   1038\u001b[0m                                         \u001b[0msteps_per_epoch\u001b[0m\u001b[0;34m=\u001b[0m\u001b[0msteps_per_epoch\u001b[0m\u001b[0;34m,\u001b[0m\u001b[0;34m\u001b[0m\u001b[0;34m\u001b[0m\u001b[0m\n\u001b[0;32m-> 1039\u001b[0;31m                                         validation_steps=validation_steps)\n\u001b[0m\u001b[1;32m   1040\u001b[0m \u001b[0;34m\u001b[0m\u001b[0m\n\u001b[1;32m   1041\u001b[0m     def evaluate(self, x=None, y=None,\n",
      "\u001b[0;32m/anaconda3/envs/grab/lib/python3.7/site-packages/keras/engine/training_arrays.py\u001b[0m in \u001b[0;36mfit_loop\u001b[0;34m(model, f, ins, out_labels, batch_size, epochs, verbose, callbacks, val_f, val_ins, shuffle, callback_metrics, initial_epoch, steps_per_epoch, validation_steps)\u001b[0m\n\u001b[1;32m    185\u001b[0m                             ins[:-1], batch_ids) + [ins[-1]]\n\u001b[1;32m    186\u001b[0m                     \u001b[0;32melse\u001b[0m\u001b[0;34m:\u001b[0m\u001b[0;34m\u001b[0m\u001b[0;34m\u001b[0m\u001b[0m\n\u001b[0;32m--> 187\u001b[0;31m                         \u001b[0mins_batch\u001b[0m \u001b[0;34m=\u001b[0m \u001b[0mslice_arrays\u001b[0m\u001b[0;34m(\u001b[0m\u001b[0mins\u001b[0m\u001b[0;34m,\u001b[0m \u001b[0mbatch_ids\u001b[0m\u001b[0;34m)\u001b[0m\u001b[0;34m\u001b[0m\u001b[0;34m\u001b[0m\u001b[0m\n\u001b[0m\u001b[1;32m    188\u001b[0m                 \u001b[0;32mexcept\u001b[0m \u001b[0mTypeError\u001b[0m\u001b[0;34m:\u001b[0m\u001b[0;34m\u001b[0m\u001b[0;34m\u001b[0m\u001b[0m\n\u001b[1;32m    189\u001b[0m                     raise TypeError('TypeError while preparing batch. '\n",
      "\u001b[0;32m/anaconda3/envs/grab/lib/python3.7/site-packages/keras/utils/generic_utils.py\u001b[0m in \u001b[0;36mslice_arrays\u001b[0;34m(arrays, start, stop)\u001b[0m\n\u001b[1;32m    524\u001b[0m             \u001b[0;32mif\u001b[0m \u001b[0mhasattr\u001b[0m\u001b[0;34m(\u001b[0m\u001b[0mstart\u001b[0m\u001b[0;34m,\u001b[0m \u001b[0;34m'shape'\u001b[0m\u001b[0;34m)\u001b[0m\u001b[0;34m:\u001b[0m\u001b[0;34m\u001b[0m\u001b[0;34m\u001b[0m\u001b[0m\n\u001b[1;32m    525\u001b[0m                 \u001b[0mstart\u001b[0m \u001b[0;34m=\u001b[0m \u001b[0mstart\u001b[0m\u001b[0;34m.\u001b[0m\u001b[0mtolist\u001b[0m\u001b[0;34m(\u001b[0m\u001b[0;34m)\u001b[0m\u001b[0;34m\u001b[0m\u001b[0;34m\u001b[0m\u001b[0m\n\u001b[0;32m--> 526\u001b[0;31m             \u001b[0;32mreturn\u001b[0m \u001b[0;34m[\u001b[0m\u001b[0;32mNone\u001b[0m \u001b[0;32mif\u001b[0m \u001b[0mx\u001b[0m \u001b[0;32mis\u001b[0m \u001b[0;32mNone\u001b[0m \u001b[0;32melse\u001b[0m \u001b[0mx\u001b[0m\u001b[0;34m[\u001b[0m\u001b[0mstart\u001b[0m\u001b[0;34m]\u001b[0m \u001b[0;32mfor\u001b[0m \u001b[0mx\u001b[0m \u001b[0;32min\u001b[0m \u001b[0marrays\u001b[0m\u001b[0;34m]\u001b[0m\u001b[0;34m\u001b[0m\u001b[0;34m\u001b[0m\u001b[0m\n\u001b[0m\u001b[1;32m    527\u001b[0m         \u001b[0;32melse\u001b[0m\u001b[0;34m:\u001b[0m\u001b[0;34m\u001b[0m\u001b[0;34m\u001b[0m\u001b[0m\n\u001b[1;32m    528\u001b[0m             \u001b[0;32mreturn\u001b[0m \u001b[0;34m[\u001b[0m\u001b[0;32mNone\u001b[0m \u001b[0;32mif\u001b[0m \u001b[0mx\u001b[0m \u001b[0;32mis\u001b[0m \u001b[0;32mNone\u001b[0m \u001b[0;32melse\u001b[0m \u001b[0mx\u001b[0m\u001b[0;34m[\u001b[0m\u001b[0mstart\u001b[0m\u001b[0;34m:\u001b[0m\u001b[0mstop\u001b[0m\u001b[0;34m]\u001b[0m \u001b[0;32mfor\u001b[0m \u001b[0mx\u001b[0m \u001b[0;32min\u001b[0m \u001b[0marrays\u001b[0m\u001b[0;34m]\u001b[0m\u001b[0;34m\u001b[0m\u001b[0;34m\u001b[0m\u001b[0m\n",
      "\u001b[0;32m/anaconda3/envs/grab/lib/python3.7/site-packages/keras/utils/generic_utils.py\u001b[0m in \u001b[0;36m<listcomp>\u001b[0;34m(.0)\u001b[0m\n\u001b[1;32m    524\u001b[0m             \u001b[0;32mif\u001b[0m \u001b[0mhasattr\u001b[0m\u001b[0;34m(\u001b[0m\u001b[0mstart\u001b[0m\u001b[0;34m,\u001b[0m \u001b[0;34m'shape'\u001b[0m\u001b[0;34m)\u001b[0m\u001b[0;34m:\u001b[0m\u001b[0;34m\u001b[0m\u001b[0;34m\u001b[0m\u001b[0m\n\u001b[1;32m    525\u001b[0m                 \u001b[0mstart\u001b[0m \u001b[0;34m=\u001b[0m \u001b[0mstart\u001b[0m\u001b[0;34m.\u001b[0m\u001b[0mtolist\u001b[0m\u001b[0;34m(\u001b[0m\u001b[0;34m)\u001b[0m\u001b[0;34m\u001b[0m\u001b[0;34m\u001b[0m\u001b[0m\n\u001b[0;32m--> 526\u001b[0;31m             \u001b[0;32mreturn\u001b[0m \u001b[0;34m[\u001b[0m\u001b[0;32mNone\u001b[0m \u001b[0;32mif\u001b[0m \u001b[0mx\u001b[0m \u001b[0;32mis\u001b[0m \u001b[0;32mNone\u001b[0m \u001b[0;32melse\u001b[0m \u001b[0mx\u001b[0m\u001b[0;34m[\u001b[0m\u001b[0mstart\u001b[0m\u001b[0;34m]\u001b[0m \u001b[0;32mfor\u001b[0m \u001b[0mx\u001b[0m \u001b[0;32min\u001b[0m \u001b[0marrays\u001b[0m\u001b[0;34m]\u001b[0m\u001b[0;34m\u001b[0m\u001b[0;34m\u001b[0m\u001b[0m\n\u001b[0m\u001b[1;32m    527\u001b[0m         \u001b[0;32melse\u001b[0m\u001b[0;34m:\u001b[0m\u001b[0;34m\u001b[0m\u001b[0;34m\u001b[0m\u001b[0m\n\u001b[1;32m    528\u001b[0m             \u001b[0;32mreturn\u001b[0m \u001b[0;34m[\u001b[0m\u001b[0;32mNone\u001b[0m \u001b[0;32mif\u001b[0m \u001b[0mx\u001b[0m \u001b[0;32mis\u001b[0m \u001b[0;32mNone\u001b[0m \u001b[0;32melse\u001b[0m \u001b[0mx\u001b[0m\u001b[0;34m[\u001b[0m\u001b[0mstart\u001b[0m\u001b[0;34m:\u001b[0m\u001b[0mstop\u001b[0m\u001b[0;34m]\u001b[0m \u001b[0;32mfor\u001b[0m \u001b[0mx\u001b[0m \u001b[0;32min\u001b[0m \u001b[0marrays\u001b[0m\u001b[0;34m]\u001b[0m\u001b[0;34m\u001b[0m\u001b[0;34m\u001b[0m\u001b[0m\n",
      "\u001b[0;31mKeyboardInterrupt\u001b[0m: "
     ]
    }
   ],
   "source": [
    "lr = 0.0005\n",
    "ep = 1\n",
    "stacked.compile(\n",
    "    optimizer=Adagrad(lr=lr),\n",
    "    loss=mean_squared_error,\n",
    "    metrics=[root_mean_squared_error],\n",
    ")\n",
    "\n",
    "stacked.fit(\n",
    "    [X_train_last_week, X_train_six_day, X_train_two_hour, X_train_time_independent],\n",
    "    Y_train,\n",
    "    batch_size=512,\n",
    "    epochs=ep,\n",
    "    validation_data=([X_eval_last_week, X_eval_six_day, X_eval_two_hour, X_eval_time_independent], Y_eval),\n",
    ")"
   ]
  },
  {
   "cell_type": "code",
   "execution_count": 45,
   "metadata": {},
   "outputs": [
    {
     "data": {
      "text/plain": [
       "demand@(0+1)    0.038151\n",
       "demand@(0+2)    0.038989\n",
       "demand@(0+3)    0.040197\n",
       "demand@(0+4)    0.040909\n",
       "demand@(0+5)    0.041560\n",
       "dtype: float64"
      ]
     },
     "execution_count": 45,
     "metadata": {},
     "output_type": "execute_result"
    }
   ],
   "source": [
    "preds = stacked.predict([X_eval_last_week, X_eval_six_day, X_eval_two_hour, X_eval_time_independent])\n",
    "count_rmse(preds, Y_eval)"
   ]
  },
  {
   "cell_type": "code",
   "execution_count": 60,
   "metadata": {},
   "outputs": [],
   "source": [
    "x = X_eval_two_hour['demand@(0-0)'].values\n",
    "y1 = Y_eval['demand@(0+1)'].values\n",
    "y2 = Y_eval['demand@(0+2)'].values\n",
    "y3 = Y_eval['demand@(0+3)'].values\n",
    "y4 = Y_eval['demand@(0+4)'].values\n",
    "y5 = Y_eval['demand@(0+5)'].values"
   ]
  },
  {
   "cell_type": "code",
   "execution_count": 57,
   "metadata": {},
   "outputs": [
    {
     "data": {
      "text/plain": [
       "(1395450,)"
      ]
     },
     "execution_count": 57,
     "metadata": {},
     "output_type": "execute_result"
    }
   ],
   "source": [
    "x.shape"
   ]
  },
  {
   "cell_type": "code",
   "execution_count": 61,
   "metadata": {},
   "outputs": [],
   "source": [
    "def custom_rmse(x,y):\n",
    "    return np.sum(np.absolute(x - y))/x.shape[0]"
   ]
  },
  {
   "cell_type": "code",
   "execution_count": 62,
   "metadata": {},
   "outputs": [
    {
     "data": {
      "text/plain": [
       "(0.01383062145355777,\n",
       " 0.01687970719439127,\n",
       " 0.01896614094473233,\n",
       " 0.020823411228895264,\n",
       " 0.02271628480319483)"
      ]
     },
     "execution_count": 62,
     "metadata": {},
     "output_type": "execute_result"
    }
   ],
   "source": [
    "custom_rmse(x, y1), custom_rmse(x, y2), custom_rmse(x, y3), custom_rmse(x, y4), custom_rmse(x, y5)"
   ]
  },
  {
   "cell_type": "code",
   "execution_count": null,
   "metadata": {},
   "outputs": [],
   "source": []
  },
  {
   "cell_type": "code",
   "execution_count": null,
   "metadata": {},
   "outputs": [],
   "source": []
  },
  {
   "cell_type": "code",
   "execution_count": null,
   "metadata": {},
   "outputs": [],
   "source": []
  },
  {
   "cell_type": "code",
   "execution_count": null,
   "metadata": {},
   "outputs": [],
   "source": []
  },
  {
   "cell_type": "code",
   "execution_count": null,
   "metadata": {},
   "outputs": [],
   "source": []
  },
  {
   "cell_type": "code",
   "execution_count": null,
   "metadata": {},
   "outputs": [],
   "source": []
  },
  {
   "cell_type": "code",
   "execution_count": null,
   "metadata": {},
   "outputs": [],
   "source": []
  },
  {
   "cell_type": "code",
   "execution_count": null,
   "metadata": {},
   "outputs": [],
   "source": []
  },
  {
   "cell_type": "code",
   "execution_count": null,
   "metadata": {},
   "outputs": [],
   "source": []
  },
  {
   "cell_type": "code",
   "execution_count": null,
   "metadata": {},
   "outputs": [],
   "source": []
  },
  {
   "cell_type": "code",
   "execution_count": 21,
   "metadata": {},
   "outputs": [
    {
     "data": {
      "text/plain": [
       "array([[0., 0., 0., 0., 0.],\n",
       "       [0., 0., 0., 0., 0.],\n",
       "       [0., 0., 0., 0., 0.],\n",
       "       [0., 0., 0., 0., 0.],\n",
       "       [0., 0., 0., 0., 0.],\n",
       "       [0., 0., 0., 0., 0.],\n",
       "       [0., 0., 0., 0., 0.],\n",
       "       [0., 0., 0., 0., 0.],\n",
       "       [0., 0., 0., 0., 0.],\n",
       "       [0., 0., 0., 0., 0.],\n",
       "       [0., 0., 0., 0., 0.],\n",
       "       [0., 0., 0., 0., 0.],\n",
       "       [0., 0., 0., 0., 0.],\n",
       "       [0., 0., 0., 0., 0.],\n",
       "       [0., 0., 0., 0., 0.],\n",
       "       [0., 0., 0., 0., 0.],\n",
       "       [0., 0., 0., 0., 0.],\n",
       "       [0., 0., 0., 0., 0.],\n",
       "       [0., 0., 0., 0., 0.],\n",
       "       [0., 0., 0., 0., 0.]], dtype=float32)"
      ]
     },
     "execution_count": 21,
     "metadata": {},
     "output_type": "execute_result"
    }
   ],
   "source": [
    "preds[:20]"
   ]
  },
  {
   "cell_type": "code",
   "execution_count": 22,
   "metadata": {},
   "outputs": [
    {
     "data": {
      "text/html": [
       "<div>\n",
       "<style scoped>\n",
       "    .dataframe tbody tr th:only-of-type {\n",
       "        vertical-align: middle;\n",
       "    }\n",
       "\n",
       "    .dataframe tbody tr th {\n",
       "        vertical-align: top;\n",
       "    }\n",
       "\n",
       "    .dataframe thead th {\n",
       "        text-align: right;\n",
       "    }\n",
       "</style>\n",
       "<table border=\"1\" class=\"dataframe\">\n",
       "  <thead>\n",
       "    <tr style=\"text-align: right;\">\n",
       "      <th></th>\n",
       "      <th>demand@(0+1)</th>\n",
       "      <th>demand@(0+2)</th>\n",
       "      <th>demand@(0+3)</th>\n",
       "      <th>demand@(0+4)</th>\n",
       "      <th>demand@(0+5)</th>\n",
       "    </tr>\n",
       "  </thead>\n",
       "  <tbody>\n",
       "    <tr>\n",
       "      <th>4122</th>\n",
       "      <td>0.184645</td>\n",
       "      <td>0.206627</td>\n",
       "      <td>0.232386</td>\n",
       "      <td>0.255655</td>\n",
       "      <td>0.247960</td>\n",
       "    </tr>\n",
       "    <tr>\n",
       "      <th>4123</th>\n",
       "      <td>0.206627</td>\n",
       "      <td>0.232386</td>\n",
       "      <td>0.255655</td>\n",
       "      <td>0.247960</td>\n",
       "      <td>0.275323</td>\n",
       "    </tr>\n",
       "    <tr>\n",
       "      <th>4124</th>\n",
       "      <td>0.232386</td>\n",
       "      <td>0.255655</td>\n",
       "      <td>0.247960</td>\n",
       "      <td>0.275323</td>\n",
       "      <td>0.238671</td>\n",
       "    </tr>\n",
       "    <tr>\n",
       "      <th>4125</th>\n",
       "      <td>0.255655</td>\n",
       "      <td>0.247960</td>\n",
       "      <td>0.275323</td>\n",
       "      <td>0.238671</td>\n",
       "      <td>0.179991</td>\n",
       "    </tr>\n",
       "    <tr>\n",
       "      <th>4126</th>\n",
       "      <td>0.247960</td>\n",
       "      <td>0.275323</td>\n",
       "      <td>0.238671</td>\n",
       "      <td>0.179991</td>\n",
       "      <td>0.191984</td>\n",
       "    </tr>\n",
       "    <tr>\n",
       "      <th>4127</th>\n",
       "      <td>0.275323</td>\n",
       "      <td>0.238671</td>\n",
       "      <td>0.179991</td>\n",
       "      <td>0.191984</td>\n",
       "      <td>0.243441</td>\n",
       "    </tr>\n",
       "    <tr>\n",
       "      <th>4128</th>\n",
       "      <td>0.238671</td>\n",
       "      <td>0.179991</td>\n",
       "      <td>0.191984</td>\n",
       "      <td>0.243441</td>\n",
       "      <td>0.269081</td>\n",
       "    </tr>\n",
       "    <tr>\n",
       "      <th>4129</th>\n",
       "      <td>0.179991</td>\n",
       "      <td>0.191984</td>\n",
       "      <td>0.243441</td>\n",
       "      <td>0.269081</td>\n",
       "      <td>0.207029</td>\n",
       "    </tr>\n",
       "    <tr>\n",
       "      <th>4130</th>\n",
       "      <td>0.191984</td>\n",
       "      <td>0.243441</td>\n",
       "      <td>0.269081</td>\n",
       "      <td>0.207029</td>\n",
       "      <td>0.245731</td>\n",
       "    </tr>\n",
       "    <tr>\n",
       "      <th>4131</th>\n",
       "      <td>0.243441</td>\n",
       "      <td>0.269081</td>\n",
       "      <td>0.207029</td>\n",
       "      <td>0.245731</td>\n",
       "      <td>0.256975</td>\n",
       "    </tr>\n",
       "    <tr>\n",
       "      <th>4132</th>\n",
       "      <td>0.269081</td>\n",
       "      <td>0.207029</td>\n",
       "      <td>0.245731</td>\n",
       "      <td>0.256975</td>\n",
       "      <td>0.282395</td>\n",
       "    </tr>\n",
       "    <tr>\n",
       "      <th>4133</th>\n",
       "      <td>0.207029</td>\n",
       "      <td>0.245731</td>\n",
       "      <td>0.256975</td>\n",
       "      <td>0.282395</td>\n",
       "      <td>0.283599</td>\n",
       "    </tr>\n",
       "    <tr>\n",
       "      <th>4134</th>\n",
       "      <td>0.245731</td>\n",
       "      <td>0.256975</td>\n",
       "      <td>0.282395</td>\n",
       "      <td>0.283599</td>\n",
       "      <td>0.281235</td>\n",
       "    </tr>\n",
       "    <tr>\n",
       "      <th>4135</th>\n",
       "      <td>0.256975</td>\n",
       "      <td>0.282395</td>\n",
       "      <td>0.283599</td>\n",
       "      <td>0.281235</td>\n",
       "      <td>0.318613</td>\n",
       "    </tr>\n",
       "    <tr>\n",
       "      <th>4136</th>\n",
       "      <td>0.282395</td>\n",
       "      <td>0.283599</td>\n",
       "      <td>0.281235</td>\n",
       "      <td>0.318613</td>\n",
       "      <td>0.293713</td>\n",
       "    </tr>\n",
       "    <tr>\n",
       "      <th>4137</th>\n",
       "      <td>0.283599</td>\n",
       "      <td>0.281235</td>\n",
       "      <td>0.318613</td>\n",
       "      <td>0.293713</td>\n",
       "      <td>0.277147</td>\n",
       "    </tr>\n",
       "    <tr>\n",
       "      <th>4138</th>\n",
       "      <td>0.281235</td>\n",
       "      <td>0.318613</td>\n",
       "      <td>0.293713</td>\n",
       "      <td>0.277147</td>\n",
       "      <td>0.329102</td>\n",
       "    </tr>\n",
       "    <tr>\n",
       "      <th>4139</th>\n",
       "      <td>0.318613</td>\n",
       "      <td>0.293713</td>\n",
       "      <td>0.277147</td>\n",
       "      <td>0.329102</td>\n",
       "      <td>0.308377</td>\n",
       "    </tr>\n",
       "    <tr>\n",
       "      <th>4140</th>\n",
       "      <td>0.293713</td>\n",
       "      <td>0.277147</td>\n",
       "      <td>0.329102</td>\n",
       "      <td>0.308377</td>\n",
       "      <td>0.368274</td>\n",
       "    </tr>\n",
       "    <tr>\n",
       "      <th>4141</th>\n",
       "      <td>0.277147</td>\n",
       "      <td>0.329102</td>\n",
       "      <td>0.308377</td>\n",
       "      <td>0.368274</td>\n",
       "      <td>0.387573</td>\n",
       "    </tr>\n",
       "  </tbody>\n",
       "</table>\n",
       "</div>"
      ],
      "text/plain": [
       "      demand@(0+1)  demand@(0+2)  demand@(0+3)  demand@(0+4)  demand@(0+5)\n",
       "4122      0.184645      0.206627      0.232386      0.255655      0.247960\n",
       "4123      0.206627      0.232386      0.255655      0.247960      0.275323\n",
       "4124      0.232386      0.255655      0.247960      0.275323      0.238671\n",
       "4125      0.255655      0.247960      0.275323      0.238671      0.179991\n",
       "4126      0.247960      0.275323      0.238671      0.179991      0.191984\n",
       "4127      0.275323      0.238671      0.179991      0.191984      0.243441\n",
       "4128      0.238671      0.179991      0.191984      0.243441      0.269081\n",
       "4129      0.179991      0.191984      0.243441      0.269081      0.207029\n",
       "4130      0.191984      0.243441      0.269081      0.207029      0.245731\n",
       "4131      0.243441      0.269081      0.207029      0.245731      0.256975\n",
       "4132      0.269081      0.207029      0.245731      0.256975      0.282395\n",
       "4133      0.207029      0.245731      0.256975      0.282395      0.283599\n",
       "4134      0.245731      0.256975      0.282395      0.283599      0.281235\n",
       "4135      0.256975      0.282395      0.283599      0.281235      0.318613\n",
       "4136      0.282395      0.283599      0.281235      0.318613      0.293713\n",
       "4137      0.283599      0.281235      0.318613      0.293713      0.277147\n",
       "4138      0.281235      0.318613      0.293713      0.277147      0.329102\n",
       "4139      0.318613      0.293713      0.277147      0.329102      0.308377\n",
       "4140      0.293713      0.277147      0.329102      0.308377      0.368274\n",
       "4141      0.277147      0.329102      0.308377      0.368274      0.387573"
      ]
     },
     "execution_count": 22,
     "metadata": {},
     "output_type": "execute_result"
    }
   ],
   "source": [
    "Y_eval.iloc[:20]"
   ]
  },
  {
   "cell_type": "code",
   "execution_count": null,
   "metadata": {},
   "outputs": [],
   "source": []
  },
  {
   "cell_type": "code",
   "execution_count": null,
   "metadata": {},
   "outputs": [],
   "source": [
    "# train_df = df[df.order <= 50*96]\n",
    "# eval_df = df[df.order > 50*96]"
   ]
  },
  {
   "cell_type": "code",
   "execution_count": null,
   "metadata": {},
   "outputs": [],
   "source": [
    "cnn_inputs = Input(shape=(len(cnn_features),))\n",
    "dnn_inputs = Input(shape=(len(dnn_features),))\n",
    "rnn_inputs = Input(shape=(len(rnn_features),))\n",
    "\n",
    "cnn = Reshape((PREV_DAY, CNN_OFFSET*2+1, ))(cnn_inputs)\n",
    "'''depending on how you view your data, i prefer it to be (batch, steps, features)'''\n",
    "cnn = Conv1D(16, 5, activation=relu, padding='same')(cnn)\n",
    "cnn = MaxPool1D(2, 2, padding='same')(cnn)\n",
    "cnn = Conv1D(8, 3, activation=relu, padding='same')(cnn)\n",
    "cnn = MaxPool1D(2, 2, padding='same')(cnn)\n",
    "cnn = Flatten()(cnn)\n",
    "cnn = Model(inputs=cnn_inputs, outputs=cnn)\n",
    "\n",
    "rnn2 = Reshape((PREV_DAY, CNN_OFFSET*2 + 1, ))(cnn_inputs)\n",
    "rnn2 = GRU(32, return_sequences=True)(rnn2)\n",
    "rnn2 = GRU(16)(rnn2)\n",
    "rnn2 = Model(inputs=cnn_inputs, outputs=rnn2)\n",
    "\n",
    "dnn = Dense(32, activation=relu)(dnn_inputs)\n",
    "# dnn = Dropout(rate=0.2)(dnn)\n",
    "dnn = Dense(16, activation=relu)(dnn)\n",
    "dnn = Model(inputs=dnn_inputs, outputs=dnn)\n",
    "\n",
    "rnn = Reshape((len(rnn_features), 1, ))(rnn_inputs) # i have only one feature to feed into RNN\n",
    "rnn = GRU(32, return_sequences=True)(rnn)\n",
    "rnn = GRU(16)(rnn)\n",
    "rnn = Model(inputs=rnn_inputs, outputs=rnn)\n",
    "\n",
    "stacked = concatenate([cnn.output, dnn.output, rnn.output, rnn2.output])\n",
    "\n",
    "# stacked = BatchNormalization()(stacked)\n",
    "stacked = Dense(64, activation=relu)(stacked)\n",
    "# stacked = Dropout(rate=0.4)(stacked)\n",
    "stacked = Dense(32, activation=relu)(stacked)\n",
    "# stacked = Dropout(rate=0.3)(stacked)\n",
    "stacked = Dense(16, activation=relu)(stacked)\n",
    "\n",
    "'''Linear vs clipped relu vs sigmoid vs hard_sigmoid'''\n",
    "# stacked = Dense(5, activation=linear)(stacked)\n",
    "# this is nice, it is linear clipped, but i don't know how to make it work\n",
    "# stacked = Dense(5, activation=clipped_relu)(stacked)\n",
    "# stacked = Dense(5, activation=sigmoid)(stacked)\n",
    "stacked = Dense(5, activation=hard_sigmoid)(stacked)\n",
    "\n",
    "stacked = Model(inputs=[cnn.input, dnn.input, rnn.input], outputs=stacked)"
   ]
  }
 ],
 "metadata": {
  "kernelspec": {
   "display_name": "Python 3",
   "language": "python",
   "name": "python3"
  },
  "language_info": {
   "codemirror_mode": {
    "name": "ipython",
    "version": 3
   },
   "file_extension": ".py",
   "mimetype": "text/x-python",
   "name": "python",
   "nbconvert_exporter": "python",
   "pygments_lexer": "ipython3",
   "version": "3.7.3"
  }
 },
 "nbformat": 4,
 "nbformat_minor": 2
}
