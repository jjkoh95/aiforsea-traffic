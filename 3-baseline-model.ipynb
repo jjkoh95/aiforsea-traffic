{
 "cells": [
  {
   "cell_type": "code",
   "execution_count": 1,
   "metadata": {},
   "outputs": [],
   "source": [
    "import numpy as np\n",
    "import pandas as pd"
   ]
  },
  {
   "cell_type": "code",
   "execution_count": 4,
   "metadata": {},
   "outputs": [],
   "source": [
    "train_df = pd.read_pickle('./data/train_df.pkl')\n",
    "eval_df = pd.read_pickle('./data/eval_df.pkl')"
   ]
  },
  {
   "cell_type": "code",
   "execution_count": 14,
   "metadata": {},
   "outputs": [],
   "source": [
    "def calculate_rmse(x, y):\n",
    "    return np.sum(np.absolute(x - y))/x.shape[0]"
   ]
  },
  {
   "cell_type": "code",
   "execution_count": 35,
   "metadata": {},
   "outputs": [],
   "source": [
    "def calculate_smape(y_true, y_pred):\n",
    "    denominator = (np.abs(y_true) + np.abs(y_pred)) / 200.0\n",
    "    diff = np.abs(y_true - y_pred) / denominator\n",
    "    diff[denominator == 0] = 0.0\n",
    "    return np.nanmean(diff)"
   ]
  },
  {
   "cell_type": "code",
   "execution_count": 13,
   "metadata": {},
   "outputs": [
    {
     "data": {
      "text/plain": [
       "array([1, 2])"
      ]
     },
     "execution_count": 13,
     "metadata": {},
     "output_type": "execute_result"
    }
   ],
   "source": [
    "np.array([1,2,3])[:-1]"
   ]
  },
  {
   "cell_type": "code",
   "execution_count": 36,
   "metadata": {},
   "outputs": [
    {
     "name": "stderr",
     "output_type": "stream",
     "text": [
      "/anaconda3/envs/grab/lib/python3.7/site-packages/ipykernel_launcher.py:3: RuntimeWarning: invalid value encountered in true_divide\n",
      "  This is separate from the ipykernel package so we can avoid doing imports until\n"
     ]
    }
   ],
   "source": [
    "# USE PREVIOUS DATAPOINT AS PREDICT VAL\n",
    "baseline_rmse = []\n",
    "for gh in eval_df.geohash6.unique():\n",
    "    demand = eval_df[eval_df.geohash6 == gh].demand.values\n",
    "    \n",
    "    rmse_t_1 = calculate_rmse(demand[:-5], demand[1:-4])\n",
    "    rmse_t_2 = calculate_rmse(demand[:-5], demand[2:-3])\n",
    "    rmse_t_3 = calculate_rmse(demand[:-5], demand[3:-2])\n",
    "    rmse_t_4 = calculate_rmse(demand[:-5], demand[4:-1])\n",
    "    rmse_t_5 = calculate_rmse(demand[:-5], demand[5:])\n",
    "    \n",
    "    smape_t_1 = calculate_smape(demand[:-5], demand[1:-4])\n",
    "    smape_t_2 = calculate_smape(demand[:-5], demand[2:-3])\n",
    "    smape_t_3 = calculate_smape(demand[:-5], demand[3:-2])\n",
    "    smape_t_4 = calculate_smape(demand[:-5], demand[4:-1])\n",
    "    smape_t_5 = calculate_smape(demand[:-5], demand[5:])\n",
    "    \n",
    "    baseline_rmse.append({\n",
    "        'geohash6': gh,\n",
    "        'rmse(t+1)': rmse_t_1,\n",
    "        'rmse(t+2)': rmse_t_2,\n",
    "        'rmse(t+3)': rmse_t_3,\n",
    "        'rmse(t+4)': rmse_t_4,\n",
    "        'rmse(t+5)': rmse_t_5,\n",
    "        'smape(t+1)': smape_t_1,\n",
    "        'smape(t+2)': smape_t_2,\n",
    "        'smape(t+3)': smape_t_3,\n",
    "        'smape(t+4)': smape_t_4,\n",
    "        'smape(t+5)': smape_t_5,\n",
    "    })"
   ]
  },
  {
   "cell_type": "code",
   "execution_count": 37,
   "metadata": {},
   "outputs": [],
   "source": [
    "baseline_rmse_df = pd.DataFrame(baseline_rmse)"
   ]
  },
  {
   "cell_type": "code",
   "execution_count": 38,
   "metadata": {},
   "outputs": [
    {
     "data": {
      "text/html": [
       "<div>\n",
       "<style scoped>\n",
       "    .dataframe tbody tr th:only-of-type {\n",
       "        vertical-align: middle;\n",
       "    }\n",
       "\n",
       "    .dataframe tbody tr th {\n",
       "        vertical-align: top;\n",
       "    }\n",
       "\n",
       "    .dataframe thead th {\n",
       "        text-align: right;\n",
       "    }\n",
       "</style>\n",
       "<table border=\"1\" class=\"dataframe\">\n",
       "  <thead>\n",
       "    <tr style=\"text-align: right;\">\n",
       "      <th></th>\n",
       "      <th>rmse(t+1)</th>\n",
       "      <th>rmse(t+2)</th>\n",
       "      <th>rmse(t+3)</th>\n",
       "      <th>rmse(t+4)</th>\n",
       "      <th>rmse(t+5)</th>\n",
       "      <th>smape(t+1)</th>\n",
       "      <th>smape(t+2)</th>\n",
       "      <th>smape(t+3)</th>\n",
       "      <th>smape(t+4)</th>\n",
       "      <th>smape(t+5)</th>\n",
       "    </tr>\n",
       "  </thead>\n",
       "  <tbody>\n",
       "    <tr>\n",
       "      <th>count</th>\n",
       "      <td>1329.000000</td>\n",
       "      <td>1329.000000</td>\n",
       "      <td>1329.000000</td>\n",
       "      <td>1329.000000</td>\n",
       "      <td>1329.000000</td>\n",
       "      <td>1329.000000</td>\n",
       "      <td>1329.000000</td>\n",
       "      <td>1329.000000</td>\n",
       "      <td>1329.000000</td>\n",
       "      <td>1329.000000</td>\n",
       "    </tr>\n",
       "    <tr>\n",
       "      <th>mean</th>\n",
       "      <td>0.013839</td>\n",
       "      <td>0.016873</td>\n",
       "      <td>0.018943</td>\n",
       "      <td>0.020778</td>\n",
       "      <td>0.022645</td>\n",
       "      <td>42.125687</td>\n",
       "      <td>47.338836</td>\n",
       "      <td>50.168430</td>\n",
       "      <td>52.528390</td>\n",
       "      <td>54.806699</td>\n",
       "    </tr>\n",
       "    <tr>\n",
       "      <th>std</th>\n",
       "      <td>0.012497</td>\n",
       "      <td>0.015914</td>\n",
       "      <td>0.018763</td>\n",
       "      <td>0.021544</td>\n",
       "      <td>0.024461</td>\n",
       "      <td>22.128115</td>\n",
       "      <td>24.171733</td>\n",
       "      <td>24.997878</td>\n",
       "      <td>25.658239</td>\n",
       "      <td>26.226822</td>\n",
       "    </tr>\n",
       "    <tr>\n",
       "      <th>min</th>\n",
       "      <td>0.000000</td>\n",
       "      <td>0.000000</td>\n",
       "      <td>0.000000</td>\n",
       "      <td>0.000000</td>\n",
       "      <td>0.000000</td>\n",
       "      <td>0.000000</td>\n",
       "      <td>0.000000</td>\n",
       "      <td>0.000000</td>\n",
       "      <td>0.000000</td>\n",
       "      <td>0.000000</td>\n",
       "    </tr>\n",
       "    <tr>\n",
       "      <th>25%</th>\n",
       "      <td>0.003566</td>\n",
       "      <td>0.004060</td>\n",
       "      <td>0.004247</td>\n",
       "      <td>0.004377</td>\n",
       "      <td>0.004524</td>\n",
       "      <td>26.400613</td>\n",
       "      <td>30.849301</td>\n",
       "      <td>32.858724</td>\n",
       "      <td>34.984050</td>\n",
       "      <td>37.107088</td>\n",
       "    </tr>\n",
       "    <tr>\n",
       "      <th>50%</th>\n",
       "      <td>0.011341</td>\n",
       "      <td>0.013122</td>\n",
       "      <td>0.014106</td>\n",
       "      <td>0.014763</td>\n",
       "      <td>0.015361</td>\n",
       "      <td>43.932744</td>\n",
       "      <td>50.104985</td>\n",
       "      <td>53.953105</td>\n",
       "      <td>57.626416</td>\n",
       "      <td>61.319348</td>\n",
       "    </tr>\n",
       "    <tr>\n",
       "      <th>75%</th>\n",
       "      <td>0.020943</td>\n",
       "      <td>0.025077</td>\n",
       "      <td>0.027514</td>\n",
       "      <td>0.029703</td>\n",
       "      <td>0.032105</td>\n",
       "      <td>59.748340</td>\n",
       "      <td>66.397953</td>\n",
       "      <td>69.274069</td>\n",
       "      <td>71.613339</td>\n",
       "      <td>74.366964</td>\n",
       "    </tr>\n",
       "    <tr>\n",
       "      <th>max</th>\n",
       "      <td>0.066992</td>\n",
       "      <td>0.084902</td>\n",
       "      <td>0.103579</td>\n",
       "      <td>0.121470</td>\n",
       "      <td>0.140604</td>\n",
       "      <td>97.258248</td>\n",
       "      <td>104.714888</td>\n",
       "      <td>105.229671</td>\n",
       "      <td>111.130097</td>\n",
       "      <td>113.517759</td>\n",
       "    </tr>\n",
       "  </tbody>\n",
       "</table>\n",
       "</div>"
      ],
      "text/plain": [
       "         rmse(t+1)    rmse(t+2)    rmse(t+3)    rmse(t+4)    rmse(t+5)  \\\n",
       "count  1329.000000  1329.000000  1329.000000  1329.000000  1329.000000   \n",
       "mean      0.013839     0.016873     0.018943     0.020778     0.022645   \n",
       "std       0.012497     0.015914     0.018763     0.021544     0.024461   \n",
       "min       0.000000     0.000000     0.000000     0.000000     0.000000   \n",
       "25%       0.003566     0.004060     0.004247     0.004377     0.004524   \n",
       "50%       0.011341     0.013122     0.014106     0.014763     0.015361   \n",
       "75%       0.020943     0.025077     0.027514     0.029703     0.032105   \n",
       "max       0.066992     0.084902     0.103579     0.121470     0.140604   \n",
       "\n",
       "        smape(t+1)   smape(t+2)   smape(t+3)   smape(t+4)   smape(t+5)  \n",
       "count  1329.000000  1329.000000  1329.000000  1329.000000  1329.000000  \n",
       "mean     42.125687    47.338836    50.168430    52.528390    54.806699  \n",
       "std      22.128115    24.171733    24.997878    25.658239    26.226822  \n",
       "min       0.000000     0.000000     0.000000     0.000000     0.000000  \n",
       "25%      26.400613    30.849301    32.858724    34.984050    37.107088  \n",
       "50%      43.932744    50.104985    53.953105    57.626416    61.319348  \n",
       "75%      59.748340    66.397953    69.274069    71.613339    74.366964  \n",
       "max      97.258248   104.714888   105.229671   111.130097   113.517759  "
      ]
     },
     "execution_count": 38,
     "metadata": {},
     "output_type": "execute_result"
    }
   ],
   "source": [
    "baseline_rmse_df.describe()"
   ]
  },
  {
   "cell_type": "code",
   "execution_count": 39,
   "metadata": {},
   "outputs": [],
   "source": [
    "baseline_rmse_df.to_csv('./baseline_using_prev_datapoint.csv', index=False)"
   ]
  },
  {
   "cell_type": "code",
   "execution_count": null,
   "metadata": {},
   "outputs": [],
   "source": []
  }
 ],
 "metadata": {
  "kernelspec": {
   "display_name": "Python 3",
   "language": "python",
   "name": "python3"
  },
  "language_info": {
   "codemirror_mode": {
    "name": "ipython",
    "version": 3
   },
   "file_extension": ".py",
   "mimetype": "text/x-python",
   "name": "python",
   "nbconvert_exporter": "python",
   "pygments_lexer": "ipython3",
   "version": "3.7.3"
  }
 },
 "nbformat": 4,
 "nbformat_minor": 2
}
