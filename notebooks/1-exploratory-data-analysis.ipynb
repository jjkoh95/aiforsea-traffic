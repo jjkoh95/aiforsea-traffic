{
 "cells": [
  {
   "cell_type": "markdown",
   "metadata": {},
   "source": [
    "# 1 - Exploratory data analysis (Optional)\n",
    "\n",
    "- ### Skip this if you are only looking to test model performance\n",
    "- This notebook will generate folders of images respect to geohash6/day/hour"
   ]
  },
  {
   "cell_type": "code",
   "execution_count": 1,
   "metadata": {},
   "outputs": [],
   "source": [
    "import numpy as np\n",
    "import pandas as pd\n",
    "\n",
    "import geohash\n",
    "import gc\n",
    "from geopy import distance\n",
    "from matplotlib.pyplot import figure\n",
    "import matplotlib.pyplot as plt\n",
    "from IPython.display import clear_output"
   ]
  },
  {
   "cell_type": "code",
   "execution_count": 2,
   "metadata": {},
   "outputs": [],
   "source": [
    "df = pd.read_pickle('../data/0-df.pkl')"
   ]
  },
  {
   "cell_type": "code",
   "execution_count": 3,
   "metadata": {},
   "outputs": [],
   "source": [
    "def order_to_time(order):\n",
    "    '''we dont actually need day, just timestamp enough'''\n",
    "    order = order % 96\n",
    "    return order//4, order%4 * 15\n",
    "\n",
    "def timestamp_to_hour_minute(timestamp):\n",
    "    timestamp = timestamp.split(':')\n",
    "    return int(timestamp[0]), int(timestamp[1])"
   ]
  },
  {
   "cell_type": "code",
   "execution_count": 4,
   "metadata": {},
   "outputs": [],
   "source": [
    "df['time'] = df.order.apply(order_to_time)\n",
    "df['lat'] = df.geohash6.apply(lambda x: geohash.decode(x)[0])\n",
    "df['long'] = df.geohash6.apply(lambda x: geohash.decode(x)[1])\n",
    "df['hour'] = df.timestamp.apply(lambda x: timestamp_to_hour_minute(x)[0])"
   ]
  },
  {
   "cell_type": "code",
   "execution_count": null,
   "metadata": {},
   "outputs": [],
   "source": [
    "!mkdir ../data/day_mean"
   ]
  },
  {
   "cell_type": "code",
   "execution_count": null,
   "metadata": {},
   "outputs": [],
   "source": [
    "for d in df.day.unique():\n",
    "    temp_df = df[df.day == d]\n",
    "    temp_df = temp_df.groupby('geohash6').mean()\n",
    "    figure(num=None, figsize=(8, 6))\n",
    "    plt.scatter(temp_df.lat.values, temp_df.long.values, c=temp_df.demand.values)\n",
    "    plt.colorbar()\n",
    "    plt.savefig('../data/day_mean/{0}.png'.format(d))\n",
    "    plt.close('all')"
   ]
  },
  {
   "cell_type": "code",
   "execution_count": null,
   "metadata": {},
   "outputs": [],
   "source": []
  },
  {
   "cell_type": "code",
   "execution_count": null,
   "metadata": {},
   "outputs": [],
   "source": []
  },
  {
   "cell_type": "code",
   "execution_count": null,
   "metadata": {},
   "outputs": [],
   "source": []
  }
 ],
 "metadata": {
  "kernelspec": {
   "display_name": "Python 3",
   "language": "python",
   "name": "python3"
  },
  "language_info": {
   "codemirror_mode": {
    "name": "ipython",
    "version": 3
   },
   "file_extension": ".py",
   "mimetype": "text/x-python",
   "name": "python",
   "nbconvert_exporter": "python",
   "pygments_lexer": "ipython3",
   "version": "3.7.3"
  }
 },
 "nbformat": 4,
 "nbformat_minor": 2
}
