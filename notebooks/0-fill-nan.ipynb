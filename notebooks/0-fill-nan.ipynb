{
 "cells": [
  {
   "cell_type": "markdown",
   "metadata": {},
   "source": [
    "# 0 - Fill missing values\n",
    "\n",
    "- import data\n",
    "- create custom metrics - order\n",
    "- fill in rows (by order)\n",
    "- export as pickle"
   ]
  },
  {
   "cell_type": "code",
   "execution_count": 2,
   "metadata": {},
   "outputs": [],
   "source": [
    "import numpy as np\n",
    "import pandas as pd"
   ]
  },
  {
   "cell_type": "code",
   "execution_count": 10,
   "metadata": {},
   "outputs": [],
   "source": [
    "def get_timestamp_order(ts):\n",
    "    '''timestamp to order'''\n",
    "    ts = ts.split(':')\n",
    "    return int(ts[0])*4 + int(ts[1])//15\n",
    "\n",
    "def timestamp_to_hour_minute(timestamp):\n",
    "    '''timestamp to hour, minute'''\n",
    "    timestamp = timestamp.split(':')\n",
    "    return int(timestamp[0]), int(timestamp[1])\n",
    "\n",
    "def format_order(row):\n",
    "    '''get order'''\n",
    "    return row['day']*96 + get_timestamp_order(row['timestamp'])\n",
    "\n",
    "def order_to_time(order):\n",
    "    '''order to hour, minute'''\n",
    "    order = order % 96\n",
    "    return order//4, order%4 * 15"
   ]
  },
  {
   "cell_type": "code",
   "execution_count": 4,
   "metadata": {},
   "outputs": [],
   "source": [
    "df = pd.read_csv('../data/training.csv')"
   ]
  },
  {
   "cell_type": "code",
   "execution_count": 6,
   "metadata": {},
   "outputs": [],
   "source": [
    "df['order'] = df.apply(format_order, axis=1)"
   ]
  },
  {
   "cell_type": "code",
   "execution_count": 11,
   "metadata": {},
   "outputs": [],
   "source": [
    "formatted_dict = {}\n",
    "GEOHASH_LIST = df.geohash6.unique()\n",
    "MIN_ORDER = np.min(df.order.unique())\n",
    "MAX_ORDER = np.max(df.order.unique())\n",
    "\n",
    "for i, gh in enumerate(GEOHASH_LIST):\n",
    "    temp_df = df[df.geohash6 == gh]\n",
    "    temp_df.set_index('order', inplace=True)\n",
    "    temp_dict = temp_df.to_dict('index')\n",
    "    for order in range(MIN_ORDER, MAX_ORDER+1):\n",
    "        hour, minute = order_to_time(order)\n",
    "        day = order // 96\n",
    "        if order not in temp_dict:\n",
    "            demand = 0.0\n",
    "        else:\n",
    "            demand = temp_dict[order]['demand']\n",
    "        formatted_dict[order + i*MAX_ORDER] = {\n",
    "            'order': order,\n",
    "            'geohash6': gh,\n",
    "            'timestamp': '{0}:{1}'.format(hour, minute),\n",
    "            'day': day,\n",
    "            'demand': demand,\n",
    "        }\n",
    "        \n",
    "df = pd.DataFrame.from_dict(formatted_dict, orient='index')\n",
    "df.to_pickle('../data/0-df.pkl')"
   ]
  },
  {
   "cell_type": "code",
   "execution_count": 23,
   "metadata": {},
   "outputs": [],
   "source": [
    "test_df = df[(df.day > 50) & (df.geohash6 == 'qp03wc')]\n",
    "test_df.to_csv('../data/test.csv', index=False)"
   ]
  },
  {
   "cell_type": "code",
   "execution_count": null,
   "metadata": {},
   "outputs": [],
   "source": []
  }
 ],
 "metadata": {
  "kernelspec": {
   "display_name": "Python 3",
   "language": "python",
   "name": "python3"
  },
  "language_info": {
   "codemirror_mode": {
    "name": "ipython",
    "version": 3
   },
   "file_extension": ".py",
   "mimetype": "text/x-python",
   "name": "python",
   "nbconvert_exporter": "python",
   "pygments_lexer": "ipython3",
   "version": "3.7.3"
  }
 },
 "nbformat": 4,
 "nbformat_minor": 2
}
